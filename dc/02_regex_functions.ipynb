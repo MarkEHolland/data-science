{
 "cells": [
  {
   "cell_type": "markdown",
   "id": "97e2a3fd-05c3-428e-bd63-21b9830810ce",
   "metadata": {},
   "source": [
    "### regex functions"
   ]
  },
  {
   "cell_type": "code",
   "execution_count": 1,
   "id": "d73f0665-08da-44c0-b472-21f117dbee46",
   "metadata": {
    "tags": []
   },
   "outputs": [],
   "source": [
    "import logging\n",
    "import re\n",
    "import pandas as pd\n",
    "import spacy\n",
    "nlp = spacy.load(\"/opt/conda/lib/python3.10/site-packages/en_core_web_lg/en_core_web_lg-3.8.0\")"
   ]
  },
  {
   "cell_type": "code",
   "execution_count": 2,
   "id": "5f96f678-2f93-43a2-acf7-f9e29f92fe2c",
   "metadata": {
    "tags": []
   },
   "outputs": [],
   "source": [
    "def newline(text:str):\n",
    "    \"\"\"replace 'ZZZZZZ' with '\\n'\"\"\"\n",
    "    try:\n",
    "        newlineRegex = re.compile(r'ZZZZZZ', re.VERBOSE)\n",
    "        outputText = newlineRegex.sub('\\\\n', text)\n",
    "    except:\n",
    "        logging.debug(f'newline function error')\n",
    "    return outputText"
   ]
  },
  {
   "cell_type": "code",
   "execution_count": 3,
   "id": "a737a696-d0a8-47b9-88b2-127c01f9c404",
   "metadata": {
    "tags": []
   },
   "outputs": [],
   "source": [
    "def appointment(text:str):\n",
    "    \"\"\"replace 'Appointment Reference: FF or SS followed by 10 digits' with '[APPOINTMENT]'\"\"\"\n",
    "    try:\n",
    "        appointmentRegex = re.compile(r'Appointment\\sReference:\\s(SS|FF)(\\d){10}', re.IGNORECASE|re.VERBOSE)\n",
    "        outputText = appointmentRegex.sub('[APPOINTMENT]', text)\n",
    "    except:\n",
    "        logging.debug(f'appointment function error')\n",
    "    return outputText"
   ]
  },
  {
   "cell_type": "code",
   "execution_count": 4,
   "id": "0000a209-06af-419f-b5b5-24af192cab37",
   "metadata": {
    "tags": []
   },
   "outputs": [],
   "source": [
    "def contact(text:str):\n",
    "    \"\"\"replace 'Contact Name: name' with '[CONTACT]'\"\"\"\n",
    "    try:\n",
    "        contactRegex = re.compile(r'''Contact\\sName:\\s\\w*''', re.IGNORECASE|re.VERBOSE)\n",
    "        outputText = contactRegex.sub('[CONTACT]', text)  \n",
    "    except:\n",
    "        logging.debug(f'appointment function error')\n",
    "    return outputText"
   ]
  },
  {
   "cell_type": "code",
   "execution_count": 5,
   "id": "de492030-ca59-4d6c-949e-7c75500df2cd",
   "metadata": {
    "tags": []
   },
   "outputs": [],
   "source": [
    "def phone(text:str):\n",
    "    \"\"\"replace 'phone numbers (with or without UK country code)' with '<PHONE-NUMBER>'\"\"\"\n",
    "    try:\n",
    "        phoneRegex = re.compile(r'''(\n",
    "            (44|\\+44)?                    # optional country code\n",
    "            (\\s|-|\\.)?                    # optional separator\n",
    "            (\\d{3,5}|\\(\\d{3,5}\\))         # first 3 to 5 digits (or 3 to 5 digits in brackets)\n",
    "            (\\s|-|\\.)?                    # optional separator\n",
    "            \\d{3,4}                       # 3 to 4 digits\n",
    "            (\\s|-|\\.)?                    # optional separator\n",
    "            \\d{3,5}                       # last 3 to 5 digits\n",
    "            (\\s*(ext|x|ext.)\\s*\\d{2,5})?  # optional extension\n",
    "            )''',  re.IGNORECASE|re.VERBOSE)\n",
    "        outputText = phoneRegex.sub('[PHONE]',text)\n",
    "    except:\n",
    "        logging.debug(f'phone function error')\n",
    "    return outputText"
   ]
  },
  {
   "cell_type": "code",
   "execution_count": 6,
   "id": "97ded292-e714-4a68-8ca7-a27d3f0aab46",
   "metadata": {
    "tags": []
   },
   "outputs": [],
   "source": [
    "def email(text:str):\n",
    "    \"\"\"replace 'email address' with '[EMAIL]'\"\"\"\n",
    "    try:\n",
    "        emailRegex = re.compile(r'''(\n",
    "            [a-zA-Z0-9._%+-]+      # username\n",
    "            @                      # @ symbol\n",
    "            [a-zA-Z0-9.-]+         # domain name\n",
    "            (\\.[a-zA-Z]{2,4})      # dot-something\n",
    "            )''', re.VERBOSE)\n",
    "        outputText = emailRegex.sub('[EMAIL]',text)\n",
    "    except:\n",
    "        logging.debug(f'email function error')\n",
    "    return outputText"
   ]
  },
  {
   "cell_type": "code",
   "execution_count": 7,
   "id": "31cd6bea-c22c-4cd4-a4d9-2db3ab78fea5",
   "metadata": {
    "tags": []
   },
   "outputs": [],
   "source": [
    "def http(text:str):\n",
    "    \"\"\"replace 'http or http address' with '<HTTP-ADDRESS>'\"\"\"\n",
    "    try:\n",
    "        httpRegex = re.compile(r'''http[s]?://(?:[a-zA-Z]|[0-9]|[$-_@.&+]|[!*(),]|(?:%[0-9a-fA-F][0-9a-fA-F]))+''', re.IGNORECASE|re.VERBOSE)\n",
    "        outputText = httpRegex.sub('[HTTP]', text)\n",
    "    except:\n",
    "        logging.debug(f'http function error')\n",
    "    return outputText"
   ]
  },
  {
   "cell_type": "code",
   "execution_count": 8,
   "id": "b15b077b-4016-4859-836a-f5d406608e1a",
   "metadata": {},
   "outputs": [],
   "source": [
    "def cp_name(text:str):\n",
    "    \"\"\"replace 'Communications Provider Name:' with '<CP-NAME>'\"\"\"\n",
    "    try:\n",
    "        cpRegex = re.compile(r'''(\n",
    "            Communications\\sProvider\\sName:\\s\n",
    "            (([A-Z]{3,20})|(\\s+))* # between 3 & 20 uppercase letters, or, any number of spaces\n",
    "            )''', re.VERBOSE)\n",
    "        outputText = cpRegex.sub('[CP] ', text)\n",
    "    except:\n",
    "        logging.debug(f'cp function error')\n",
    "    return outputText"
   ]
  },
  {
   "cell_type": "code",
   "execution_count": 20,
   "id": "0a130772-a924-4308-9f54-f5530bc4d9e5",
   "metadata": {
    "tags": []
   },
   "outputs": [],
   "source": [
    "def scrub_pii_with_nlp(text:str):\n",
    "    \"\"\" use nlp to replace people names with [PERSON]\"\"\"\n",
    "    try:\n",
    "        nlp_doc = nlp(text)\n",
    "        final_text = text\n",
    "\n",
    "        for name in nlp_doc.ents:\n",
    "            if name.label_ == \"PERSON\":\n",
    "                final_text = re.sub(re.escape(name.text), \"[PERSON]\", final_text)\n",
    "        outputText = final_text\n",
    "    except:\n",
    "        logging.debug(f'cp function error')\n",
    "    return outputText"
   ]
  },
  {
   "cell_type": "code",
   "execution_count": 21,
   "id": "c34800fe-fecf-4eb6-ba7c-3ce8e8c503d9",
   "metadata": {
    "tags": []
   },
   "outputs": [],
   "source": [
    "def preprocess(inputText:str):\n",
    "    text1 = scrub_pii_with_nlp(inputText)\n",
    "    text2 = newline(text1)\n",
    "    text3 = appointment(text2)\n",
    "    text4 = contact(text3)\n",
    "    text5 = phone(text4)\n",
    "    text6 = email(text5)\n",
    "    text7 = cp_name(text6)\n",
    "    text8 = http(text7)\n",
    "    #print(f\"\"\"Input text:\\n{inputText}\\n\\nOutput text:\\n{text8}\"\"\")\n",
    "    return text8"
   ]
  },
  {
   "cell_type": "markdown",
   "id": "b812bce4-5a23-4f69-bf14-3c88416ab344",
   "metadata": {},
   "source": [
    "#### test"
   ]
  },
  {
   "cell_type": "code",
   "execution_count": 22,
   "id": "1c0a5748-f44d-40e7-8a65-f2b47f2d425e",
   "metadata": {
    "tags": []
   },
   "outputs": [],
   "source": [
    "df = pd.read_csv(\"/home/jupyter/projects/deemed-consent/input/unified_dc_notes_with_project_notes_context_7days.csv\")"
   ]
  },
  {
   "cell_type": "code",
   "execution_count": 23,
   "id": "db79d468-599b-4f3e-97ab-e5cc2b3fab7f",
   "metadata": {
    "tags": []
   },
   "outputs": [],
   "source": [
    "inputText= df.llm_context[861]"
   ]
  },
  {
   "cell_type": "code",
   "execution_count": 24,
   "id": "06e4586a-6dcd-483a-bac5-3690e41c588b",
   "metadata": {
    "tags": []
   },
   "outputs": [
    {
     "name": "stdout",
     "output_type": "stream",
     "text": [
      "2023-10-31 - General\n",
      "ONEA74953151 A L/WEL A END: 31/10/2023 Arrived Onsite at Approx. 10:30hrs at KING EDWARD VII HOSPITAL, 54 BEAUMONT STREET, LONDON, W1G 6DW.ONEA74953151 B L/WEL B-END: 31/10/2023 Arrived Onsite at Approx. 10:30hrs at KING EDWARD VII HOSPITAL, 5 10 BEAUMONT STREET, LONDON, W1G 6AA.Onsite Contact: [PERSON][PHONE] was onsite and in attendance for the SURVEY.SITE NOT READY. Onsite Contact: [PERSON][PHONE] has requested OPENREACH put both A END and B END orders on HOLD until their 2 new RESILENT RO2 Circuits: ONEA73955859 and ONEA[PHONE] have been installed and presented in the SECOND LEVEL BASEMENT CO[PERSON]S ROOM.2 new FIBRE TRAYS have been installed in the SECOND LEVEL BASEMENT CO[PERSON]S ROOM RACK and 2 new BFT4 CABLES have been run from the FIBRE TRAYS to 2 new FDP (FIBRE DISTRIBUTION POINTS) CSSP on the wall in the SECOND LEVEL BASEMENT CO[PERSON]S ROOM.The CUSTOMER has no INTAKE DUCT at present and are waiting for the OPENREACH CIVILS BUILT TEAM to lay a new INTAKE DUCT54 Service Pipe from the JBF104 BOX O/S 54 BEAUMONT STREET, LONDON, W1G 6DW to the BUILDING and to blow in the new FIBRES.Please put both A END and B END ORDERS on HOLD until the 2 new RESILENT RO2 Circuits: ONEA73955859 and ONEA[PHONE] have been installed.\n",
      "\n",
      "2023-11-01 - HOLDING FACTOR\n",
      "Holding factor 1666861 raised \n",
      "Fundamental Reason: Unexpected customer delay\n",
      "Clear Date: 11/03/2024 Time(HH:[PERSON]) 23:59\n",
      " Target Role: DEEMEDCONSENTDELAY\n",
      " Note: Customer site/network (Inc. external) not ready for installation Description of issue: OPENREACH CIVILS BUILT TEAM to lay a new INTAKE DUCT54 Service Pipe from the JBF104 BOX O/S 54 BEAUMONT STREET, LONDON, W1G 6DW to the BUILDING and to blow in the new FIBRES.Location of issue: street box to building basement comms roomAction Owner: (Openreach/CP) Action to resolve: (Expected action or necessary update required) [PERSON] team to lay a new intakeWhen do we expect resolution/next update: 02/01/23This delay will impact your CCD and we intend to apply Deemed Consent. The CCD impact will be confirmed when the delay is resolved\n",
      "\n",
      "2023-11-01 - Jeopardy\n",
      "Do Survey - A End has been set to priority 1 since it has missed its task milestone required by date.\n",
      "\n",
      "2023-11-01 - HOLDING FACTOR\n",
      "Holding factor 1666867 raised \n",
      "Fundamental Reason: Unexpected customer delay\n",
      "Clear Date: 11/03/2024 Time(HH:[PERSON]) 23:59\n",
      " Target Role: DEEMEDCONSENTDELAY\n",
      " Note: Customer site/network (Inc. external) not ready for installation Description of issue: OPENREACH CIVILS BUILT TEAM to lay a new INTAKE DUCT54 Service Pipe from the JBF104 BOX O/S 54 BEAUMONT STREET, LONDON, W1G 6DW to the BUILDING and to blow in the new FIBRES.Location of issue: street box to building basement comms roomAction Owner: (Openreach/CP) Action to resolve: (Expected action or necessary update required) [PERSON] team to lay a new intakeWhen do we expect resolution/next update: 02/01/23This delay will impact your CCD and we intend to apply Deemed Consent. The CCD impact will be confirmed when the delay is resolved\n",
      "\n",
      "2023-11-01 - Jeopardy\n",
      "Do Survey - B End has been set to priority 1 since it has missed its task milestone required by date.\n",
      "\n",
      "2023-11-01 - General\n",
      "*NSD survey*Call from surveyor received advising the onsite Contact [PERSON][PHONE] has requested  both A END and B END orders are put on hold until their 2 new RESILENT RO2 Circuits: ONEA73955859 and ONEA[PHONE] have been installed and presented in the second level basement comms room.delay added as per surveyor request on a end and b end\n",
      "\n",
      "2023-11-01 - Jeopardy\n",
      "Do Survey - A End has been set to priority 1 since it has missed its task milestone required by date.\n"
     ]
    }
   ],
   "source": [
    "print(preprocess(inputText))"
   ]
  },
  {
   "cell_type": "code",
   "execution_count": null,
   "id": "a75793ea-d82c-4349-a5da-249039e37b31",
   "metadata": {},
   "outputs": [],
   "source": []
  },
  {
   "cell_type": "code",
   "execution_count": null,
   "id": "24bab21b-f85b-4ccb-8e6b-96e06e1da768",
   "metadata": {},
   "outputs": [],
   "source": []
  }
 ],
 "metadata": {
  "environment": {
   "kernel": "conda-env-pytorch-pytorch",
   "name": "workbench-notebooks.m127",
   "type": "gcloud",
   "uri": "us-docker.pkg.dev/deeplearning-platform-release/gcr.io/workbench-notebooks:m127"
  },
  "kernelspec": {
   "display_name": "PyTorch 1-13",
   "language": "python",
   "name": "conda-env-pytorch-pytorch"
  },
  "language_info": {
   "codemirror_mode": {
    "name": "ipython",
    "version": 3
   },
   "file_extension": ".py",
   "mimetype": "text/x-python",
   "name": "python",
   "nbconvert_exporter": "python",
   "pygments_lexer": "ipython3",
   "version": "3.10.16"
  }
 },
 "nbformat": 4,
 "nbformat_minor": 5
}

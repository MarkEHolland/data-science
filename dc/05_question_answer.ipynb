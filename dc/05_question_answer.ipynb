{
 "cells": [
  {
   "cell_type": "markdown",
   "id": "0c0b50d6-f36e-4975-8d6b-9df160f551a9",
   "metadata": {},
   "source": [
    "### Question and Answering - with bert"
   ]
  },
  {
   "cell_type": "markdown",
   "id": "a282f4f7-a5da-449d-960d-be0415285178",
   "metadata": {},
   "source": [
    "#### bert qa setup"
   ]
  },
  {
   "cell_type": "code",
   "execution_count": 1,
   "id": "30fd9dd2-fa40-4f58-b9f4-1491e9fbe7a4",
   "metadata": {
    "tags": []
   },
   "outputs": [],
   "source": [
    "# https://medium.com/analytics-vidhya/question-answering-system-with-bert-ebe1130f8def#:~:text=Question%20Answering%20System%20using%20BERT&text=For%20the%20Question%20Answering%20System,embeddings%20and%20the%20segment%20embeddings.\n",
    "# qa_bert https://huggingface.co/google-bert/bert-large-uncased-whole-word-masking-finetuned-squad/tree/main"
   ]
  },
  {
   "cell_type": "code",
   "execution_count": 2,
   "id": "ca89575c-907b-442e-8e46-2ae3768e3184",
   "metadata": {
    "tags": []
   },
   "outputs": [],
   "source": [
    "import torch"
   ]
  },
  {
   "cell_type": "code",
   "execution_count": 3,
   "id": "337eb566-996d-4d80-aaba-319e7983625f",
   "metadata": {
    "tags": []
   },
   "outputs": [],
   "source": [
    "from transformers import BertForQuestionAnswering"
   ]
  },
  {
   "cell_type": "code",
   "execution_count": 4,
   "id": "7c66f7d6-8547-4047-a5ae-5c80c25f67d6",
   "metadata": {
    "tags": []
   },
   "outputs": [],
   "source": [
    "from transformers import BertTokenizer"
   ]
  },
  {
   "cell_type": "code",
   "execution_count": 5,
   "id": "e6bda013-e90a-4a39-b6d0-a2e165a32716",
   "metadata": {
    "tags": []
   },
   "outputs": [],
   "source": [
    "from transformers import pipeline"
   ]
  },
  {
   "cell_type": "code",
   "execution_count": 6,
   "id": "795d7b4f-5622-4cb7-85d1-5509238cc509",
   "metadata": {
    "tags": []
   },
   "outputs": [],
   "source": [
    "from pathlib import Path\n",
    "import pandas as pd"
   ]
  },
  {
   "cell_type": "markdown",
   "id": "0103d890-35bf-4b69-8061-415bed7d8bbf",
   "metadata": {
    "tags": []
   },
   "source": [
    "#### load clean dataset"
   ]
  },
  {
   "cell_type": "code",
   "execution_count": 7,
   "id": "d899a1a7-3c77-47df-b9e7-398602015d0e",
   "metadata": {
    "tags": []
   },
   "outputs": [],
   "source": [
    "base_path = Path(\"/home/jupyter/deemed_consent\")\n",
    "data_dir = Path(\"data\")\n",
    "input_notes_path = base_path / data_dir / \"clean_notes_context_7days.csv\"\n",
    "matrix_path = base_path / data_dir / \"scenario_matrix.csv\""
   ]
  },
  {
   "cell_type": "code",
   "execution_count": 8,
   "id": "a0f80e4f-c2c5-4b62-909f-a1fd63ac60e6",
   "metadata": {
    "tags": []
   },
   "outputs": [],
   "source": [
    "df = pd.read_csv(input_notes_path)"
   ]
  },
  {
   "cell_type": "code",
   "execution_count": 9,
   "id": "4e674d07-4ad5-4f9b-93e4-3d7af3512009",
   "metadata": {
    "tags": []
   },
   "outputs": [
    {
     "data": {
      "text/plain": [
       "project_id                                                               J5R2H\n",
       "siebel_order_number                                        OR013-1220026349626\n",
       "service_id                                                        ONEA74227797\n",
       "delay_id                                                               1661781\n",
       "reason_code                                                               2002\n",
       "reason_text                                           Insufficient Information\n",
       "event_type                                                         Delay Draft\n",
       "delay_status                                                             Draft\n",
       "delay_notes                  Reasonable assistance or information is requir...\n",
       "actual_delay_start_date                                                    NaN\n",
       "actual_delay_closure_date                                                  NaN\n",
       "event_author                                                         614400623\n",
       "event_timestamp                                 2023-10-25 19:52:42.000000 UTC\n",
       "order_type                                                             Provide\n",
       "order_sub_type                                                     Full Infill\n",
       "project_start_time                              2023-10-16 11:28:42.000000 UTC\n",
       "project_end_time                                2023-11-04 09:40:06.000000 UTC\n",
       "llm_context                  2023-10-19 - Appointment\\nFundamental reason: ...\n",
       "context                      2023-10-19 - Appointment\\nFundamental reason: ...\n",
       "expanded_llm_context         2023-10-19 - Appointment\\nFundamental reason: ...\n",
       "clean_llm_context            2023-10-19 - Appointment\\nFundamental reason: ...\n",
       "Name: 10, dtype: object"
      ]
     },
     "execution_count": 9,
     "metadata": {},
     "output_type": "execute_result"
    }
   ],
   "source": [
    "df.iloc[10]"
   ]
  },
  {
   "cell_type": "markdown",
   "id": "79ed858b-f172-40ee-8977-853529749749",
   "metadata": {},
   "source": [
    "#### pick observation #"
   ]
  },
  {
   "cell_type": "code",
   "execution_count": 10,
   "id": "43aa52cc-a067-499a-897e-459dd84bbaef",
   "metadata": {
    "tags": []
   },
   "outputs": [],
   "source": [
    "n = 5"
   ]
  },
  {
   "cell_type": "markdown",
   "id": "22940848-30cb-4cec-bbee-6d452dbf945b",
   "metadata": {},
   "source": [
    "#### question & context"
   ]
  },
  {
   "cell_type": "code",
   "execution_count": 11,
   "id": "5468724f-60d7-413f-b4a7-80cf67b55cc8",
   "metadata": {
    "tags": []
   },
   "outputs": [],
   "source": [
    "# question = \"Why is there a delay?\"\n",
    "# question = \"Why is there a delay to the provision of Ethernet services?\" ### for delay_notes\n",
    "question = \"What is the most recent reason for a delay to the provision of Ethernet services?\" ### for clean_llm_context"
   ]
  },
  {
   "cell_type": "code",
   "execution_count": 12,
   "id": "9a794272-05b1-444a-97c5-6d17a8dc8c6b",
   "metadata": {
    "tags": []
   },
   "outputs": [
    {
     "name": "stdout",
     "output_type": "stream",
     "text": [
      "2023-11-15 - General\n",
      "[PERSON]s ent to Bloomfield-Henderson,F,[PERSON] RHi [PERSON]I hope all is well.The Communications Provider has provided information to resolve delay below:Can you please book in and confirm fibre appointment and remove delay.Hi [PERSON],Can you use this code [PERSON] this doesnot required PO, Hope Appointment date confirmed for 21/11Many thanks,DivyaKind Regards [PERSON] Craig\n",
      "\n",
      "2023-11-15 - General\n",
      "SI Ref: C74755088 Case update CCT ID: ONEA11045549 - [CP] Vodafone Limited Case Update Good afternoon [PERSON] ,I hope all is well. I have received your query and have emailed the fibre coordinator of this order to please remove the delay and confirm an appointment for the fibre installation to go ahead.Please to allow three days for a response.Next update will be given by close of play: 20/11/23\n",
      "\n",
      "2023-11-17 - General\n",
      "[PERSON] received from <EMAIL> advising PO not required but to use code [PERSON] to get through the request. Done so and access has been submitted under Cellnex ref AUK.0225571.\n",
      "\n",
      "2023-11-17 - Appointment\n",
      "Fundamental reason: Appointment captured for relevant task\n",
      " TASK: Fibre Build and Fit and Test\n",
      " End identifier: B End\n",
      " Appointment Status: Booked\n",
      " [APPOINTMENT]\n",
      "[PERSON] appointment earliest available date: 21/11/2023 [PERSON] appointment earliest available time (HH:[PERSON]): 09:00 [PERSON] appointment earliest available slot: AM\n",
      "Agreed appointment date: 21/11/2023 Agreed appointment time (HH:[PERSON]): 09:00 Agreed appointment slot: AM\n",
      " Expected appointment duration: 1 day/s\n",
      " Appointment booked with: via cellnex agora\n",
      " Appointment agreed with: via cellnex agora\n",
      " Security Clearance confirmed: NA\n",
      "Charge to the Communications Provider for the appointment slot: N Number of hours to be charged: 0\n",
      " Site contact notified: Y\n",
      " Notes to CP: Access request submitted via cellnex agora with reference AUK.0225571. 21/11/23 requested which is the same date as the hoist is dealing. Waiting cellnex agreement, but booked in to secure the offered date and resource.\n",
      "\n",
      "\n",
      "2023-11-17 - General\n",
      "AUK.0225672 new access request as previous was cancelled by cellnex.\n",
      "\n",
      "2023-11-17 - Engineering Notes\n",
      "2023-11-17 08:38:30 [PERSON] progressed to Activity Sub Status AWI\n",
      "\n",
      "2023-11-17 - HOLDING FACTOR\n",
      "Holding factor 1677101 allocated to EMP_DELAY_CLOSURES\n",
      "\n",
      "2023-11-17 - Jeopardy\n",
      "Closure Jointing A End has been set to priority 1 since it has missed its task milestone required by date.\n",
      "\n",
      "2023-11-17 - HOLDING FACTOR\n",
      "Holding factor 1677101 cleared\n",
      "\n",
      "2023-11-17 - Appointment\n",
      "Fundamental reason: Appointment captured for relevant task\n",
      " TASK: Fibre Build and Fit and Test\n",
      " End identifier: B End\n",
      " Appointment Status: Amended\n",
      " [APPOINTMENT]\n",
      "[PERSON] appointment earliest available date: 20/11/2023 [PERSON] appointment earliest available time (HH:[PERSON]): 09:00 [PERSON] appointment earliest available slot: AM\n",
      "Agreed appointment date: 20/11/2023 Agreed appointment time (HH:[PERSON]): 09:00 Agreed appointment slot: AM\n",
      " Expected appointment duration: 1 day/s\n",
      " Appointment booked with: 24/7 Obass access\n",
      " Appointment agreed with: 24/7 Obass access\n",
      " Security Clearance confirmed: NA\n",
      "Charge to the Communications Provider for the appointment slot: N Number of hours to be charged: 0\n",
      " Site contact notified: Y\n",
      " Who initiated amend: [PERSON]\n",
      " Reason amended: Reason see notes field\n",
      " Notes to CP: Cellnex advised access is 24/7 Obass access so brought job forward to 20/11/23 after engineers came available.\n",
      "\n",
      "\n",
      "2023-11-17 - Appointment\n",
      "Fundamental reason: Appointment captured for relevant task\n",
      " TASK: Fibre Build Work\n",
      " End identifier: B End\n",
      " Appointment Status: Amended\n",
      " Appointment Reference: FB[PHONE]\n",
      "[PERSON] appointment earliest available date: 20/11/2023 [PERSON] appointment earliest available time (HH:[PERSON]): 09:00 [PERSON] appointment earliest available slot: AM\n",
      "Agreed appointment date: 20/11/2023 Agreed appointment time (HH:[PERSON]): 09:00 Agreed appointment slot: AM\n",
      " Expected appointment duration: 5 hour/s\n",
      " Appointment booked with: Na, external access to exchange wall only\n",
      " Appointment agreed with: Na, external access to exchange wall only\n",
      " Security Clearance confirmed: NA\n",
      "Charge to the Communications Provider for the appointment slot: N Number of hours to be charged: 0\n",
      " Site contact notified: N\n",
      " Who initiated amend: [PERSON]\n",
      " Reason amended: Reason see notes field\n",
      " Notes to CP: Hoist external access to exchange wall rescheduled for their next available date 20/11/23.\n",
      "\n",
      "\n",
      "2023-11-17 - Engineering Notes\n",
      "2023-11-17 15:12:29 [PERSON] progressed to Activity Sub Status AWI\n",
      "\n",
      "2023-11-20 - Engineering Notes\n",
      "2023-11-17 15:28:27 [PERSON] progressed to Activity Sub Status ISS\n",
      "\n",
      "2023-11-20 - Engineering Notes\n",
      "2023-11-20 06:16:21 [PERSON] progressed to Activity Sub Status EXC\n",
      "\n",
      "2023-11-20 - Engineering Notes\n",
      "2023-11-20 06:16:28 [PERSON] progressed to Activity Sub Status EXC\n",
      "\n",
      "2023-11-20 - Engineering Notes\n",
      "2023-11-20 15:21:30 [PERSON] progressed to Activity Sub Status EXC\n",
      "\n",
      "2023-11-20 - Engineering Notes\n",
      "NI6D +4 0 00:01,NI6E +2 0 00:01,NI6H +1 0 00:01,NI6K +1 0 00:01,NI6L +1 0 00:01,NI6N +3 0 00:01,NI6P +1 0 00:01,NI7X +5 0 00:01,NI9K +2 0 00:01\n",
      "\n",
      "2023-11-20 - Engineering Notes\n",
      "2023-11-20 17:00:14 [PERSON] progressed to Activity Sub Status ACT\n",
      "\n",
      "2023-11-20 - Engineering Notes\n",
      "2023-11-20 17:00:48 [PERSON] progressed to Activity Sub Status AWI\n",
      "\n",
      "2023-11-20 - Engineering Notes\n",
      "2023-11-20 17:01:58 [PERSON] progressed to Activity Sub Status ACT\n",
      "\n",
      "2023-11-21 - Engineering Notes\n",
      "2023-11-20 18:00:00 [PERSON] progressed to Activity Sub Status ISS\n",
      "\n",
      "2023-11-21 - Engineering Notes\n",
      "2023-11-21 05:52:31 [PERSON] progressed to Activity Sub Status EXC\n",
      "\n",
      "2023-11-21 - Engineering Notes\n",
      "NI6D +4 0 00:01,NI6E +2 0 00:01,NI6H +1 0 00:01,NI6K +1 0 00:01,NI6L +1 0 00:01,NI6N +3 0 00:01,NI6P +1 0 00:01,NI7X +5 0 00:01,NI9K +2 0 00:01to contact [PERSON], who you spoke to onsite.All work complete up to cab o n roof of [PERSON] exchange we couldn�t gain access with any of our mobile access keys we tried every set on the group I suggest this goes back as a Vodafone issue if they could sen d someone to site unlock the door. 2023-11-20 16:41:52 :Jumpers at Chalfont and [PERSON] compete along with tie cable and external up wall \n",
      "\n",
      "2023-11-21 - Engineering Notes\n",
      "2023-11-21 14:40:36 [PERSON] progressed to Activity Sub Status CAN\n",
      "\n",
      "2023-11-21 - HOLDING FACTOR\n",
      "Holding factor 1684317 raised \n",
      "Fundamental Reason: Unexpected customer delay\n",
      "Clear Date: 02/04/2024 Time(HH:[PERSON]) 23:59\n",
      " Target Role: DEEMEDCONSENTDELAY\n",
      " Note: Customer site/network (Inc. external) not ready for installation Description of issue:  Unable to gain access into customers cabinet.  All keys available do not turn the key barrel.Location of issue: Cell site roof top cabinetAction Owner: ( CP) Action to resolve:  Vodafone escort requested to attend on 29/11/23 to provide access into cabinet or determine whether the key barrel has broken. When do we expect resolution/next update: 29/11/23 This delay will impact your Customer Committed Date and we intend to apply Deemed Consent. The Customer Committed Date impact will be confirmed when the delay is resolved\n"
     ]
    }
   ],
   "source": [
    "#context = df.delay_notes[n] \n",
    "context = df.clean_llm_context[n]\n",
    "print(context)"
   ]
  },
  {
   "cell_type": "markdown",
   "id": "a0f12aec-5e20-4640-bd06-c89f6db366b2",
   "metadata": {},
   "source": [
    "#### model"
   ]
  },
  {
   "cell_type": "code",
   "execution_count": 13,
   "id": "7c5876f3-ff70-4adc-a7d0-e64dacf34a95",
   "metadata": {
    "tags": []
   },
   "outputs": [
    {
     "name": "stderr",
     "output_type": "stream",
     "text": [
      "Some weights of the model checkpoint at /home/jupyter/projects/deemed-consent/qa_bert were not used when initializing BertForQuestionAnswering: ['bert.pooler.dense.bias', 'bert.pooler.dense.weight']\n",
      "- This IS expected if you are initializing BertForQuestionAnswering from the checkpoint of a model trained on another task or with another architecture (e.g. initializing a BertForSequenceClassification model from a BertForPreTraining model).\n",
      "- This IS NOT expected if you are initializing BertForQuestionAnswering from the checkpoint of a model that you expect to be exactly identical (initializing a BertForSequenceClassification model from a BertForSequenceClassification model).\n"
     ]
    }
   ],
   "source": [
    "#Model\n",
    "model = BertForQuestionAnswering.from_pretrained('/home/jupyter/projects/deemed-consent/qa_bert')\n",
    "\n",
    "#Tokenizer\n",
    "tokenizer = BertTokenizer.from_pretrained('/home/jupyter/projects/deemed-consent/qa_bert')"
   ]
  },
  {
   "cell_type": "markdown",
   "id": "1f2682f4-68a9-4b13-a72f-2bcbb63ee6c7",
   "metadata": {},
   "source": [
    "#### answer"
   ]
  },
  {
   "cell_type": "code",
   "execution_count": 14,
   "id": "e6c332ed-df01-4da1-878b-431f5410b432",
   "metadata": {
    "tags": []
   },
   "outputs": [],
   "source": [
    "qa_model = pipeline(\"question-answering\", model=model,tokenizer=tokenizer)\n",
    "qa_ans = qa_model(question = question, context = context)"
   ]
  },
  {
   "cell_type": "code",
   "execution_count": 15,
   "id": "49efae6a-c0c9-437a-af7b-4019a471210d",
   "metadata": {
    "tags": []
   },
   "outputs": [
    {
     "name": "stdout",
     "output_type": "stream",
     "text": [
      "Unexpected customer delay\n"
     ]
    }
   ],
   "source": [
    "answer = qa_ans['answer']\n",
    "print(answer)"
   ]
  },
  {
   "cell_type": "markdown",
   "id": "fc6cc3eb-5f82-495e-acd4-66104f050ed5",
   "metadata": {},
   "source": [
    "#### reason code - spaCy similarity"
   ]
  },
  {
   "cell_type": "code",
   "execution_count": 16,
   "id": "6cbb4a8b-47e6-4c67-9630-47c2b5eb9ed5",
   "metadata": {
    "tags": []
   },
   "outputs": [],
   "source": [
    "import spacy\n",
    "nlp = spacy.load(\"/opt/conda/lib/python3.10/site-packages/en_core_web_lg/en_core_web_lg-3.8.0\")"
   ]
  },
  {
   "cell_type": "code",
   "execution_count": 17,
   "id": "2d8c84c0-d9ba-4a74-9542-1b6bf3d822c4",
   "metadata": {
    "tags": []
   },
   "outputs": [],
   "source": [
    "scenario_df = pd.read_csv(matrix_path, na_filter = False,\n",
    "     dtype={\n",
    "        \"scenario_id\": \"string\",\n",
    "        \"scenario\": \"string\",\n",
    "        \"dc_code\": \"string\",\n",
    "        \"intention_template_row\": \"string\",\n",
    "        \"type\": \"string\",\n",
    "    }\n",
    ")"
   ]
  },
  {
   "cell_type": "code",
   "execution_count": 18,
   "id": "9adeeb44-4fbc-4be3-9066-0c17b54be946",
   "metadata": {
    "tags": []
   },
   "outputs": [],
   "source": [
    "# check the answer against each scenario\n",
    "doc2 = nlp(answer)\n",
    "results = []\n",
    "for index, row in scenario_df.iterrows():\n",
    "    scenario = row['scenario']\n",
    "    dc_code = row['dc_code']\n",
    "    doc1 = nlp(scenario)\n",
    "    # Similarity of two documents\n",
    "    similarity_score = doc1.similarity(doc2)\n",
    "    result = { 'scenario': scenario, 'similarity_score': similarity_score, 'dc_code': dc_code}\n",
    "    results.append(result)\n",
    "results_df = pd.DataFrame(results)"
   ]
  },
  {
   "cell_type": "markdown",
   "id": "07c2c018-4257-4578-8d79-e592908b3aa4",
   "metadata": {
    "tags": []
   },
   "source": [
    "#### pick the most similar scenario & compare to the reason"
   ]
  },
  {
   "cell_type": "code",
   "execution_count": 22,
   "id": "a009c070-fcc7-4ced-9ed4-cda67e6c1388",
   "metadata": {
    "tags": []
   },
   "outputs": [
    {
     "data": {
      "text/html": [
       "<div>\n",
       "<style scoped>\n",
       "    .dataframe tbody tr th:only-of-type {\n",
       "        vertical-align: middle;\n",
       "    }\n",
       "\n",
       "    .dataframe tbody tr th {\n",
       "        vertical-align: top;\n",
       "    }\n",
       "\n",
       "    .dataframe thead th {\n",
       "        text-align: right;\n",
       "    }\n",
       "</style>\n",
       "<table border=\"1\" class=\"dataframe\">\n",
       "  <thead>\n",
       "    <tr style=\"text-align: right;\">\n",
       "      <th></th>\n",
       "      <th>scenario</th>\n",
       "      <th>similarity_score</th>\n",
       "      <th>dc_code</th>\n",
       "    </tr>\n",
       "  </thead>\n",
       "  <tbody>\n",
       "    <tr>\n",
       "      <th>193</th>\n",
       "      <td>Special contractor requests required to progre...</td>\n",
       "      <td>0.696666</td>\n",
       "      <td>4002, 2002</td>\n",
       "    </tr>\n",
       "    <tr>\n",
       "      <th>61</th>\n",
       "      <td>Order is delayed awaiting newsites / BDUK infr...</td>\n",
       "      <td>0.688120</td>\n",
       "      <td>9582</td>\n",
       "    </tr>\n",
       "    <tr>\n",
       "      <th>57</th>\n",
       "      <td>The order requires downtime, but none supplied.</td>\n",
       "      <td>0.681349</td>\n",
       "      <td>3010</td>\n",
       "    </tr>\n",
       "    <tr>\n",
       "      <th>58</th>\n",
       "      <td>The planner issues a no survey required order ...</td>\n",
       "      <td>0.680110</td>\n",
       "      <td>2002</td>\n",
       "    </tr>\n",
       "    <tr>\n",
       "      <th>159</th>\n",
       "      <td>Order is delayed awaiting spine planning</td>\n",
       "      <td>0.677803</td>\n",
       "      <td>2042</td>\n",
       "    </tr>\n",
       "    <tr>\n",
       "      <th>68</th>\n",
       "      <td>There is no power for the NTE/ customer power ...</td>\n",
       "      <td>0.675258</td>\n",
       "      <td>9582</td>\n",
       "    </tr>\n",
       "    <tr>\n",
       "      <th>0</th>\n",
       "      <td>The customer contact does not know how to arra...</td>\n",
       "      <td>0.673727</td>\n",
       "      <td>2002</td>\n",
       "    </tr>\n",
       "    <tr>\n",
       "      <th>120</th>\n",
       "      <td>RO2 CCDs mis-aligned, circuit is delayed at ES...</td>\n",
       "      <td>0.670542</td>\n",
       "      <td>2042</td>\n",
       "    </tr>\n",
       "    <tr>\n",
       "      <th>21</th>\n",
       "      <td>Appointment cannot be booked as customer site ...</td>\n",
       "      <td>0.667430</td>\n",
       "      <td>2012</td>\n",
       "    </tr>\n",
       "    <tr>\n",
       "      <th>30</th>\n",
       "      <td>Modify order has missing details from previous...</td>\n",
       "      <td>0.665771</td>\n",
       "      <td>none</td>\n",
       "    </tr>\n",
       "  </tbody>\n",
       "</table>\n",
       "</div>"
      ],
      "text/plain": [
       "                                              scenario  similarity_score  \\\n",
       "193  Special contractor requests required to progre...          0.696666   \n",
       "61   Order is delayed awaiting newsites / BDUK infr...          0.688120   \n",
       "57     The order requires downtime, but none supplied.          0.681349   \n",
       "58   The planner issues a no survey required order ...          0.680110   \n",
       "159           Order is delayed awaiting spine planning          0.677803   \n",
       "68   There is no power for the NTE/ customer power ...          0.675258   \n",
       "0    The customer contact does not know how to arra...          0.673727   \n",
       "120  RO2 CCDs mis-aligned, circuit is delayed at ES...          0.670542   \n",
       "21   Appointment cannot be booked as customer site ...          0.667430   \n",
       "30   Modify order has missing details from previous...          0.665771   \n",
       "\n",
       "        dc_code  \n",
       "193  4002, 2002  \n",
       "61         9582  \n",
       "57         3010  \n",
       "58         2002  \n",
       "159        2042  \n",
       "68         9582  \n",
       "0          2002  \n",
       "120        2042  \n",
       "21         2012  \n",
       "30         none  "
      ]
     },
     "execution_count": 22,
     "metadata": {},
     "output_type": "execute_result"
    }
   ],
   "source": [
    "results_df.sort_values(by='similarity_score',ascending=False).head(10)"
   ]
  },
  {
   "cell_type": "code",
   "execution_count": 20,
   "id": "febe33a2-10a5-4f87-ba57-aae899d20fd1",
   "metadata": {
    "tags": []
   },
   "outputs": [
    {
     "data": {
      "text/plain": [
       "9582"
      ]
     },
     "execution_count": 20,
     "metadata": {},
     "output_type": "execute_result"
    }
   ],
   "source": [
    "df.reason_code[n]"
   ]
  },
  {
   "cell_type": "code",
   "execution_count": 21,
   "id": "50f3f0a4-f6f3-4e6b-bd12-2c32e5c704e8",
   "metadata": {
    "tags": []
   },
   "outputs": [
    {
     "data": {
      "text/plain": [
       "193    False\n",
       "Name: dc_code, dtype: bool"
      ]
     },
     "execution_count": 21,
     "metadata": {},
     "output_type": "execute_result"
    }
   ],
   "source": [
    "results_df.sort_values(by='similarity_score',ascending=False).head(1).dc_code == str(df.reason_code[n])"
   ]
  },
  {
   "cell_type": "markdown",
   "id": "476959bb-c6f4-4593-beff-ec0eedaafa40",
   "metadata": {},
   "source": [
    "#### qu: what % does bert q&a & spaCy similarity get right using either clean_llm_context or delay_note"
   ]
  },
  {
   "cell_type": "raw",
   "id": "55b24e74-f491-4e21-8777-5d95f9fa443d",
   "metadata": {},
   "source": [
    "- q: what causes the delay (most recent delay)\n",
    "- a: similarity of ans to scenario dc_code. metric: % it gets correct"
   ]
  },
  {
   "cell_type": "code",
   "execution_count": null,
   "id": "92782410-fe68-4b34-a114-ce70792a21b2",
   "metadata": {},
   "outputs": [],
   "source": []
  }
 ],
 "metadata": {
  "environment": {
   "kernel": "conda-env-pytorch-pytorch",
   "name": "workbench-notebooks.m127",
   "type": "gcloud",
   "uri": "us-docker.pkg.dev/deeplearning-platform-release/gcr.io/workbench-notebooks:m127"
  },
  "kernelspec": {
   "display_name": "PyTorch 1-13",
   "language": "python",
   "name": "conda-env-pytorch-pytorch"
  },
  "language_info": {
   "codemirror_mode": {
    "name": "ipython",
    "version": 3
   },
   "file_extension": ".py",
   "mimetype": "text/x-python",
   "name": "python",
   "nbconvert_exporter": "python",
   "pygments_lexer": "ipython3",
   "version": "3.10.16"
  }
 },
 "nbformat": 4,
 "nbformat_minor": 5
}

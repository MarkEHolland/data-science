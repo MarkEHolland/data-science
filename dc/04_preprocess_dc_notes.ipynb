{
 "cells": [
  {
   "cell_type": "markdown",
   "id": "387f0668-91f3-46df-82b0-035a180b7ba1",
   "metadata": {},
   "source": [
    "### deemed consent - preprocess project notes"
   ]
  },
  {
   "cell_type": "code",
   "execution_count": 1,
   "id": "a1ca9e64-7e23-4f95-a796-3e58ff96df9e",
   "metadata": {
    "tags": []
   },
   "outputs": [],
   "source": [
    "# regex that cleans notes from pii: newline, appointment reference, contact name, phone numbers, email address, http addresses."
   ]
  },
  {
   "cell_type": "markdown",
   "id": "7830c8dc-4ad7-45bc-9043-3d9634b1416c",
   "metadata": {
    "tags": []
   },
   "source": [
    "#### import packages"
   ]
  },
  {
   "cell_type": "code",
   "execution_count": 1,
   "id": "9bd3dcc6-599a-4b03-b24f-c529a3e09e26",
   "metadata": {
    "tags": []
   },
   "outputs": [],
   "source": [
    "import logging\n",
    "from pathlib import Path"
   ]
  },
  {
   "cell_type": "code",
   "execution_count": 2,
   "id": "36f17fc9-5409-4cdf-b106-9318de89de1b",
   "metadata": {
    "tags": []
   },
   "outputs": [],
   "source": [
    "logging.basicConfig(filename='log.txt',level=logging.DEBUG,format=' %asctime)s - %(levelname)s - %(message)s')\n",
    "logging.disable()\n",
    "#logging.info(f'Log created')\n",
    "#logging.debug('start of program')"
   ]
  },
  {
   "cell_type": "code",
   "execution_count": 3,
   "id": "90d76d4a-b2c6-4d8e-993c-3310c7682ec8",
   "metadata": {
    "tags": []
   },
   "outputs": [],
   "source": [
    "import pandas as pd\n",
    "pd.set_option('display.max_colwidth',300) \n",
    "import re\n",
    "#!python -V"
   ]
  },
  {
   "cell_type": "code",
   "execution_count": 4,
   "id": "03f96250-3a3f-47cc-8328-dfc6ac0e7699",
   "metadata": {
    "tags": []
   },
   "outputs": [],
   "source": [
    "import spacy"
   ]
  },
  {
   "cell_type": "code",
   "execution_count": 5,
   "id": "c1c57744-0dd3-40ea-9560-d361df83e74b",
   "metadata": {
    "tags": []
   },
   "outputs": [],
   "source": [
    "# load local version of spacy model\n",
    "nlp = spacy.load(\"/opt/conda/lib/python3.10/site-packages/en_core_web_lg/en_core_web_lg-3.8.0\")"
   ]
  },
  {
   "cell_type": "code",
   "execution_count": 7,
   "id": "d1106fe6-c1b3-434c-8d49-23069020e24f",
   "metadata": {
    "tags": []
   },
   "outputs": [],
   "source": [
    "#!pip list"
   ]
  },
  {
   "cell_type": "markdown",
   "id": "09c4ddaf-0213-42da-a22d-7a1a92cbbca8",
   "metadata": {},
   "source": [
    "#### notes file"
   ]
  },
  {
   "cell_type": "code",
   "execution_count": 8,
   "id": "e728b8c7-8e7b-4a99-a632-0d8fe599fab4",
   "metadata": {
    "tags": []
   },
   "outputs": [],
   "source": [
    "base_path = Path(\"/home/jupyter/deemed_consent\")\n",
    "data_dir = Path(\"data\")\n",
    "input_notes_path = base_path / data_dir / \"unified_dc_notes_with_project_notes_context_7days.csv\"\n",
    "abbreviation_dictionary_path = base_path / data_dir / \"DC_abbreviations.csv\"\n",
    "output_notes_path = base_path / data_dir / \"clean_notes_context_7days.csv\""
   ]
  },
  {
   "cell_type": "markdown",
   "id": "b99fd7a5-84b3-43ac-9e78-c67a5a17dd9d",
   "metadata": {},
   "source": [
    "#### load data"
   ]
  },
  {
   "cell_type": "markdown",
   "id": "4725a41f-cf8b-4d5a-a73c-258ab9aded97",
   "metadata": {
    "tags": []
   },
   "source": [
    "sql_query: - https://gitlab.agile.nat.bt.com/DCU/llm_projects/openreach/deemed_consent/-/blob/main/sql/unified_dc_notes_with_project_notes_7day_context.sql"
   ]
  },
  {
   "cell_type": "code",
   "execution_count": 9,
   "id": "5ec227ec-ff54-46d6-811d-dc829532f5c7",
   "metadata": {
    "tags": []
   },
   "outputs": [],
   "source": [
    "df = pd.read_csv(input_notes_path)"
   ]
  },
  {
   "cell_type": "code",
   "execution_count": 10,
   "id": "eaa41a5c-ff2a-4a9f-a619-dfa03210a74d",
   "metadata": {
    "tags": []
   },
   "outputs": [],
   "source": [
    "# Notes:\n",
    "# 1) llm_context - order notes from last 7 days. the last note includes the delay_notes (which is the referral submission).\n",
    "# 2) reason_code - the reason code\n",
    "# 3) reason_text - reason text\n",
    "# 4) delay_status - 'Draft' (remove blank,and,Delay Ref which is a new referral raised by the DC team)."
   ]
  },
  {
   "cell_type": "code",
   "execution_count": 11,
   "id": "080f54c8-664d-4636-adab-99b113664fa4",
   "metadata": {},
   "outputs": [
    {
     "data": {
      "text/plain": [
       "1610"
      ]
     },
     "execution_count": 11,
     "metadata": {},
     "output_type": "execute_result"
    }
   ],
   "source": [
    "len(df)"
   ]
  },
  {
   "cell_type": "markdown",
   "id": "3875bc3a-a24c-4679-8af8-49b2ff440d4c",
   "metadata": {},
   "source": [
    "#### filter to delay_status = \"Draft\""
   ]
  },
  {
   "cell_type": "code",
   "execution_count": 12,
   "id": "14b52dd0-ded9-48ec-9e18-0cbc015881b8",
   "metadata": {
    "tags": []
   },
   "outputs": [],
   "source": [
    "# N.b. \"Delay Draft\" are new referrals create by the DC team."
   ]
  },
  {
   "cell_type": "code",
   "execution_count": 13,
   "id": "1d67fe66-04bf-4dc3-90a4-4da69f5501e9",
   "metadata": {
    "tags": []
   },
   "outputs": [
    {
     "data": {
      "text/plain": [
       "1409"
      ]
     },
     "execution_count": 13,
     "metadata": {},
     "output_type": "execute_result"
    }
   ],
   "source": [
    "draft_df = df[df.delay_status == 'Draft'].reset_index(drop=True)\n",
    "len(draft_df)"
   ]
  },
  {
   "cell_type": "markdown",
   "id": "2c28ee91-6177-44bd-a18a-0a72060500ba",
   "metadata": {},
   "source": [
    "#### remove delay_notes from llm_context"
   ]
  },
  {
   "cell_type": "code",
   "execution_count": 14,
   "id": "24a41c6c-af02-4e04-8097-33a96d4c05d8",
   "metadata": {
    "tags": []
   },
   "outputs": [],
   "source": [
    "result = []\n",
    "for index, row in draft_df.iterrows():\n",
    "    try:\n",
    "        delayRegex = re.compile(r\"\"\"{row['delay_notes']}\"\"\", re.VERBOSE)\n",
    "        textString = delayRegex.sub('', row['llm_context'])\n",
    "        result.append(textString)\n",
    "    except:\n",
    "        logging.debug(f'appointment function error')     \n",
    "draft_df['context'] = result"
   ]
  },
  {
   "cell_type": "markdown",
   "id": "a133493c-c165-44a7-89bc-77f69392df23",
   "metadata": {},
   "source": [
    "#### expand terms"
   ]
  },
  {
   "cell_type": "code",
   "execution_count": 15,
   "id": "bf2e26c4-a29a-40b5-a1f7-0953c2744985",
   "metadata": {
    "tags": []
   },
   "outputs": [],
   "source": [
    "dc_abbreviations = pd.read_csv(abbreviation_dictionary_path)"
   ]
  },
  {
   "cell_type": "code",
   "execution_count": 16,
   "id": "d6b13e04-705e-4243-90f7-4ce5e3253863",
   "metadata": {
    "tags": []
   },
   "outputs": [],
   "source": [
    "dc_abbreviations['abbreviation_space'] = \" \" + dc_abbreviations['abbreviation'] + \" \"\n",
    "dc_abbreviations['term_space'] = \" \" + dc_abbreviations['term'] + \" \""
   ]
  },
  {
   "cell_type": "code",
   "execution_count": 17,
   "id": "54762cb8-60f9-42a2-9f80-09176c732fda",
   "metadata": {
    "tags": []
   },
   "outputs": [],
   "source": [
    "dc_dict = dc_abbreviations.set_index('abbreviation_space')['term_space'].to_dict()"
   ]
  },
  {
   "cell_type": "code",
   "execution_count": 18,
   "id": "8c6efca6-e5ea-4ebc-ac25-89b26d3c890a",
   "metadata": {
    "tags": []
   },
   "outputs": [],
   "source": [
    "scenario = draft_df.context\n",
    "expanded_llm_context = []\n",
    "draft_df['expanded_llm_context'] = \"\"\n",
    "for k in scenario:\n",
    "    for o_word, n_word in dc_dict.items():\n",
    "        k = k.replace(o_word, n_word)\n",
    "    expanded_llm_context.append(k)\n",
    "draft_df['expanded_llm_context'] = expanded_llm_context"
   ]
  },
  {
   "cell_type": "markdown",
   "id": "49dddc98-dd7e-4560-b6fd-f26179299b1d",
   "metadata": {
    "tags": []
   },
   "source": [
    "#### class to remove PPI"
   ]
  },
  {
   "cell_type": "code",
   "execution_count": 19,
   "id": "29b51c51-82a6-4513-b7fd-a124a7b6b58c",
   "metadata": {
    "tags": []
   },
   "outputs": [],
   "source": [
    "class Preprocess:\n",
    "    def __init__(self, textString):\n",
    "        self.textString=textString\n",
    "        \n",
    "    def __repr__(self):\n",
    "        return f\"{self.textString}\"\n",
    "    \n",
    "    def set_string(self,textString):\n",
    "        self.textString = textString\n",
    "    \n",
    "    def newline(self):\n",
    "        \"\"\"replace 'ZZZZZZ' with '\\n'\"\"\"\n",
    "        try:\n",
    "            newlineRegex = re.compile(r'ZZZZZZ', re.VERBOSE)\n",
    "            self.textString = newlineRegex.sub('\\\\n', self.textString)\n",
    "        except:\n",
    "            logging.debug(f'newline function error')\n",
    "\n",
    "    def appointment(self):\n",
    "        \"\"\"replace 'Appointment Reference: FF or SS followed by 10 digits' with '<APPOINTMENT-REFERENCE>'\"\"\"\n",
    "        try:\n",
    "            appointmentRegex = re.compile(r'Appointment\\sReference:\\s(SS|FF)(\\d){10}', re.IGNORECASE|re.VERBOSE)\n",
    "            self.textString = appointmentRegex.sub('[APPOINTMENT]', self.textString)\n",
    "        except:\n",
    "            logging.debug(f'appointment function error')\n",
    "\n",
    "    def contact(self):\n",
    "        \"\"\"replace 'Contact Name: name' with '<CONTACT>'\"\"\"\n",
    "        try:\n",
    "            contactRegex = re.compile(r'''Contact\\sName:\\s\\w*''', re.IGNORECASE|re.VERBOSE)\n",
    "            self.textString = contactRegex.sub('[CONTACT]', self.textString)\n",
    "        except:\n",
    "            logging.debug(f'appointment function error')\n",
    "\n",
    "    def phone(self):\n",
    "        \"\"\"replace 'phone numbers (with or without UK country code)' with '<PHONE-NUMBER>'\"\"\"\n",
    "        try:\n",
    "            phoneRegex = re.compile(r'''(\n",
    "                (44|\\+44)?                    # optional country code\n",
    "                (\\s|-|\\.)?                    # optional separator\n",
    "                (\\d{3,5}|\\(\\d{3,5}\\))         # first 3 to 5 digits (or 3 to 5 digits in brackets)\n",
    "                (\\s|-|\\.)?                    # optional separator\n",
    "                \\d{3,4}                       # 3 to 4 digits\n",
    "                (\\s|-|\\.)?                    # optional separator\n",
    "                \\d{3,5}                       # last 3 to 5 digits\n",
    "                (\\s*(ext|x|ext.)\\s*\\d{2,5})?  # optional extension\n",
    "                )''',  re.IGNORECASE|re.VERBOSE)\n",
    "            self.textString = phoneRegex.sub('[PHONE]',self.textString)\n",
    "        except:\n",
    "            logging.debug(f'phone function error')\n",
    "\n",
    "    def email(self):\n",
    "        \"\"\"replace 'email address' with '[EMAIL]'\"\"\"\n",
    "        try:\n",
    "            emailRegex = re.compile(r'''(\n",
    "                [a-zA-Z0-9._%+-]+      # username\n",
    "                @                      # @ symbol\n",
    "                [a-zA-Z0-9.-]+         # domain name\n",
    "                (\\.[a-zA-Z]{2,4})      # dot-something\n",
    "                )''', re.VERBOSE)\n",
    "            self.textString = emailRegex.sub('<EMAIL>',self.textString)\n",
    "        except:\n",
    "            logging.debug(f'email function error')\n",
    "\n",
    "    def http(self):\n",
    "        \"\"\"replace 'http or http address' with '[HTTP]'\"\"\"\n",
    "        try:\n",
    "            httpRegex = re.compile(r'''http[s]?://(?:[a-zA-Z]|[0-9]|[$-_@.&+]|[!*(),]|(?:%[0-9a-fA-F][0-9a-fA-F]))+''', re.IGNORECASE|re.VERBOSE)\n",
    "            self.textString = httpRegex.sub('[HTTP]', self.textString)\n",
    "        except:\n",
    "            logging.debug(f'http function error')\n",
    "\n",
    "    def cp_name(self):\n",
    "        \"\"\"replace 'Communications Provider Name:' with '[CP]'\"\"\"\n",
    "        try:\n",
    "            cpRegex = re.compile(r'''(\n",
    "                Communications\\sProvider\\sName:\\s\n",
    "                (([A-Z]{3,20})|(\\s+))* # between 3 & 20 uppercase letters, or, any number of spaces\n",
    "                )''', re.VERBOSE)\n",
    "            self.textString = cpRegex.sub('[CP] ', self.textString)\n",
    "        except:\n",
    "            logging.debug(f'cp function error')\n",
    "                  \n",
    "    def scrub_pii_with_nlp(self):\n",
    "        \"\"\" use nlp to replace people names with [PERSON]\"\"\"\n",
    "        try:\n",
    "            nlp_doc = nlp(self.textString)\n",
    "            final_text = self.textString\n",
    "\n",
    "            for name in nlp_doc.ents:\n",
    "                if name.label_ == \"PERSON\":\n",
    "                    final_text = re.sub(re.escape(name.text), \"[PERSON]\", final_text)\n",
    "            self.textString = final_text\n",
    "        except:\n",
    "            logging.debug(f'cp function error')"
   ]
  },
  {
   "cell_type": "code",
   "execution_count": 21,
   "id": "fc264126-68d9-4e3f-8d14-5e8e7dce834e",
   "metadata": {
    "tags": []
   },
   "outputs": [
    {
     "name": "stdout",
     "output_type": "stream",
     "text": [
      "2023-11-30 - General\n",
      "**FND SERVICE DESK**SI Ref: C74924223 Case resolved CCT ID: ONEA74912017 - [CP] UK LIMITED Case Update Good afternoon [PERSON], I hope you are well. Thank you for your enquiry regarding your appointment.I have looked into your order and I can now confirm the OSC has been forwarded and the appointment is confirmed for the 01/12/2023 at 9am. The appointment is expected to last a day. Please allow 3-5 working days for an update after the scheduled appointment date.Therefore I am pleased to say that this case is now resolved.  Your case will now be closed. For further updates please check the Openreach customer portal and follow the Business as usual process.Kind Regards,[PERSON]\n",
      "\n",
      "2023-11-30 - Engineering Notes\n",
      "2023-11-29 13:57:32 Task progressed to Activity Sub Status ACT\n",
      "\n",
      "2023-11-30 - Engineering Notes\n",
      "2023-11-30 17:37:07 Task progressed to Activity Sub Status AWI\n",
      "\n",
      "2023-12-01 - Engineering Notes\n",
      "2023-11-30 17:37:10 Task progressed to Activity Sub Status ISS\n",
      "\n",
      "2023-12-01 - Engineering Notes\n",
      "2023-12-01 06:53:26 Task progressed to Activity Sub Status EXC\n",
      "\n",
      "2023-12-01 - Engineering Notes\n",
      "NI1U +1 0 00:01,NI6D +4 0 00:01,NI6E +2 0 00:01,NI6H +1 0 00:01,NI6L +1 0 00:01,NI6M +1 0 00:01,NI6N +3 0 00:01,NI6P +1 0 00:01,NI6K +1 0 00:01,NI7X +1 0 00:01,NI9K +2 0 00:01,NI7Z +10 0 00:01\n",
      "\n",
      "2023-12-01 - Engineering Notes\n",
      "2023-12-01 15:57:56 Task progressed to Activity Sub Status CAN\n",
      "\n",
      "2023-12-01 - HOLDING FACTOR\n",
      "Holding factor 1693119 raised \n",
      "Fundamental Reason: Collapsed or damaged duct/manhole\n",
      "Clear Date: 11/12/2023 Time(HH:[PERSON]) 23:59\n",
      " Target Role: DEEMEDCONSENTDELAY\n",
      " Note: There is a collapsed, blocked (e.g. cement), or damaged duct/manhole What is the identified issue: Openreach engs unable to open box lids to underground chamber  lids jammed Required action to resolve: a55 submitted to dan team to raise civils est for poss box lid renewal. or jsv to open box lidsWhen do we expect resolution/next update: 12.12.23Additional information: the box lid is directly opp the cust site.  unable to be opened as jammed solid This delay will impact your Customer Committed Date and we intend to apply Deemed Consent. The Customer Committed Date impact will be confirmed when the delay is resolved\n",
      "\n",
      "2023-12-01 - Jeopardy\n",
      "Closure Jointing B End has been set to priority 1 since it has missed its task milestone required by date.\n",
      "\n",
      "2023-12-04 - General\n",
      "WAITING CIVILS TASK TO APPEAR ON GANT FOR BOX LID ISSUE\n",
      "\n",
      "2023-12-05 - HOLDING FACTOR\n",
      "Holding factor 1695130 raised \n",
      "Fundamental Reason: Unexpected customer delay\n",
      "Clear Date: 16/04/2024 Time(HH:[PERSON]) 23:59\n",
      " Target Role: DEEMEDCONSENTDELAY\n",
      " Note: Customer site/network (Inc. external) not ready for installation Description of issue:  Cust unable to open non standard boxes on their property to allow us to cable to site.Location of issue:  cust siteAction Owner: cp Action to resolve: cust to advise when they can open the non standard lids to the duct onsite When do we expect resolution/next update: 28.12.23This delay will impact your Customer Committed Date and we intend to apply Deemed Consent. The Customer Committed Date impact will be confirmed when the delay is resolved\n",
      "\n",
      "2023-12-05 - Jeopardy\n",
      "Closure Jointing B End has been set to priority 1 since it has missed its task milestone required by date.\n",
      "\n",
      "2023-12-06 - Jeopardy\n",
      "Closure Jointing B End has been set to priority 1 since it has missed its task milestone required by date.\n"
     ]
    }
   ],
   "source": [
    "# Create an object from the class - and then apply class methods\n",
    "p = Preprocess(draft_df.expanded_llm_context[20])\n",
    "p.cp_name()\n",
    "p.newline()\n",
    "p.appointment()\n",
    "p.contact()\n",
    "p.phone()\n",
    "p.email()\n",
    "p.http()\n",
    "p.scrub_pii_with_nlp()\n",
    "print(p.textString)"
   ]
  },
  {
   "cell_type": "markdown",
   "id": "bce1ab8a-79a1-48ec-8651-af1695b869ff",
   "metadata": {},
   "source": [
    "#### process input data"
   ]
  },
  {
   "cell_type": "code",
   "execution_count": 22,
   "id": "902dd929-6af1-4583-81f1-e428540bda9c",
   "metadata": {
    "tags": []
   },
   "outputs": [],
   "source": [
    "results = []\n",
    "for i in draft_df.expanded_llm_context:\n",
    "    p = Preprocess(i)\n",
    "    p.cp_name()\n",
    "    p.newline()\n",
    "    p.appointment()\n",
    "    p.contact()\n",
    "    p.phone()\n",
    "    p.email()\n",
    "    p.http()\n",
    "    p.scrub_pii_with_nlp()\n",
    "    results.append(p.textString)\n",
    "draft_df['clean_llm_context'] = results"
   ]
  },
  {
   "cell_type": "code",
   "execution_count": 23,
   "id": "96e1b047-b944-4f57-a9fc-e76b1bd62a42",
   "metadata": {
    "tags": []
   },
   "outputs": [
    {
     "data": {
      "text/html": [
       "<div>\n",
       "<style scoped>\n",
       "    .dataframe tbody tr th:only-of-type {\n",
       "        vertical-align: middle;\n",
       "    }\n",
       "\n",
       "    .dataframe tbody tr th {\n",
       "        vertical-align: top;\n",
       "    }\n",
       "\n",
       "    .dataframe thead th {\n",
       "        text-align: right;\n",
       "    }\n",
       "</style>\n",
       "<table border=\"1\" class=\"dataframe\">\n",
       "  <thead>\n",
       "    <tr style=\"text-align: right;\">\n",
       "      <th></th>\n",
       "      <th>project_id</th>\n",
       "      <th>siebel_order_number</th>\n",
       "      <th>service_id</th>\n",
       "      <th>delay_id</th>\n",
       "      <th>reason_code</th>\n",
       "      <th>reason_text</th>\n",
       "      <th>event_type</th>\n",
       "      <th>delay_status</th>\n",
       "      <th>delay_notes</th>\n",
       "      <th>actual_delay_start_date</th>\n",
       "      <th>...</th>\n",
       "      <th>event_author</th>\n",
       "      <th>event_timestamp</th>\n",
       "      <th>order_type</th>\n",
       "      <th>order_sub_type</th>\n",
       "      <th>project_start_time</th>\n",
       "      <th>project_end_time</th>\n",
       "      <th>llm_context</th>\n",
       "      <th>context</th>\n",
       "      <th>expanded_llm_context</th>\n",
       "      <th>clean_llm_context</th>\n",
       "    </tr>\n",
       "  </thead>\n",
       "  <tbody>\n",
       "    <tr>\n",
       "      <th>0</th>\n",
       "      <td>J5QVG</td>\n",
       "      <td>OR014-1218039862013</td>\n",
       "      <td>ONEA10475959</td>\n",
       "      <td>1656431</td>\n",
       "      <td>2002</td>\n",
       "      <td>Insufficient Information</td>\n",
       "      <td>Delay Draft</td>\n",
       "      <td>Draft</td>\n",
       "      <td>Reasonable assistance or information is required from the CP or end-user, including permits to work/dig Assistance or information required : land lords details for wayleave\\nAction Owner: building managing agent \\nAdditional information: n/a\\nWhen do we expect resolution/next update: (Date) \\nTh...</td>\n",
       "      <td>NaN</td>\n",
       "      <td>...</td>\n",
       "      <td>701219060</td>\n",
       "      <td>2023-10-19 07:39:47.000000 UTC</td>\n",
       "      <td>Provide</td>\n",
       "      <td>Full Infill</td>\n",
       "      <td>2023-10-16 11:08:15.000000 UTC</td>\n",
       "      <td>2024-08-13 18:56:34.000000 UTC</td>\n",
       "      <td>2023-10-12 - HOLDING FACTOR\\nHolding factor 1623903 allocated to EMP_DELAY_CLOSURES\\n\\n2023-10-12 - Jeopardy\\nComplete Site Survey - B end has been set to priority 1 since it has missed its task milestone required by date.\\n\\n2023-10-13 - Jeopardy\\nDelay 1623903 SI case C74689480 26/09/23 advisi...</td>\n",
       "      <td>2023-10-12 - HOLDING FACTOR\\nHolding factor 1623903 allocated to EMP_DELAY_CLOSURES\\n\\n2023-10-12 - Jeopardy\\nComplete Site Survey - B end has been set to priority 1 since it has missed its task milestone required by date.\\n\\n2023-10-13 - Jeopardy\\nDelay 1623903 SI case C74689480 26/09/23 advisi...</td>\n",
       "      <td>2023-10-12 - HOLDING FACTOR\\nHolding factor 1623903 allocated to EMP_DELAY_CLOSURES\\n\\n2023-10-12 - Jeopardy\\nComplete Site Survey - B end has been set to priority 1 since it has missed its task milestone required by date.\\n\\n2023-10-13 - Jeopardy\\nDelay 1623903 SI case C74689480 26/09/23 advisi...</td>\n",
       "      <td>2023-10-12 - HOLDING FACTOR\\nHolding factor 1623903 allocated to EMP_DELAY_CLOSURES\\n\\n2023-10-12 - Jeopardy\\nComplete Site Survey - B end has been set to priority 1 since it has missed its task milestone required by date.\\n\\n2023-10-13 - Jeopardy\\nDelay 1623903 SI case C74689480 26/09/23 advisi...</td>\n",
       "    </tr>\n",
       "    <tr>\n",
       "      <th>1</th>\n",
       "      <td>J5QYL</td>\n",
       "      <td>OR014-1218323050767</td>\n",
       "      <td>ONEA10775923</td>\n",
       "      <td>1654112</td>\n",
       "      <td>2002</td>\n",
       "      <td>Insufficient Information</td>\n",
       "      <td>Delay Draft</td>\n",
       "      <td>Draft</td>\n",
       "      <td>Reasonable assistance or information is required from the CP or end-user, including permits to work/dig Assistance or information required :Order delayed as the sister circuit ONEA10776555 is awaiting for the CP to AMEND for the reach option. \\nAction Owner: CP \\n\\nAdditional information: Order ...</td>\n",
       "      <td>NaN</td>\n",
       "      <td>...</td>\n",
       "      <td>612010220</td>\n",
       "      <td>2023-10-17 08:15:13.000000 UTC</td>\n",
       "      <td>Provide</td>\n",
       "      <td>New Provide</td>\n",
       "      <td>2023-10-16 11:16:07.000000 UTC</td>\n",
       "      <td>2023-11-03 17:20:01.000000 UTC</td>\n",
       "      <td>2023-10-13 - Amend\\nAmend Request received for:&lt;b&gt;CP Contact Details&lt;/b&gt; - From CONTACT NAME: B2B FULFILMENT TEAM B2B FULFILMENT TEAM, CONTACT NO: +448005426754, CONTACT EMAILID: b2bfulfilment.ttt@talktalkplc.com, NOTES: to CONTACT NAME: B2B FULFILMENT TEAM B2B FULFILMENT TEAM, CONTACT NO: +4480...</td>\n",
       "      <td>2023-10-13 - Amend\\nAmend Request received for:&lt;b&gt;CP Contact Details&lt;/b&gt; - From CONTACT NAME: B2B FULFILMENT TEAM B2B FULFILMENT TEAM, CONTACT NO: +448005426754, CONTACT EMAILID: b2bfulfilment.ttt@talktalkplc.com, NOTES: to CONTACT NAME: B2B FULFILMENT TEAM B2B FULFILMENT TEAM, CONTACT NO: +4480...</td>\n",
       "      <td>2023-10-13 - Amend\\nAmend Request received for:&lt;b&gt;CP Contact Details&lt;/b&gt; - From CONTACT NAME: B2B FULFILMENT TEAM B2B FULFILMENT TEAM, CONTACT NO: +448005426754, CONTACT EMAILID: b2bfulfilment.ttt@talktalkplc.com, NOTES: to CONTACT NAME: B2B FULFILMENT TEAM B2B FULFILMENT TEAM, CONTACT NO: +4480...</td>\n",
       "      <td>2023-10-13 - Amend\\nAmend Request received for:&lt;b&gt;CP Contact Details&lt;/b&gt; - From [CONTACT] FULFILMENT TEAM B2B FULFILMENT TEAM, CONTACT NO: [PHONE], CONTACT EMAILID: &lt;EMAIL&gt;, NOTES: to [CONTACT] FULFILMENT TEAM B2B FULFILMENT TEAM, CONTACT NO: [PHONE], CONTACT EMAILID: &lt;EMAIL&gt;, NOTES: , &lt;b&gt;Approv...</td>\n",
       "    </tr>\n",
       "    <tr>\n",
       "      <th>2</th>\n",
       "      <td>J5QYW</td>\n",
       "      <td>OR013-1220587805901</td>\n",
       "      <td>ONEA74787595</td>\n",
       "      <td>1653777</td>\n",
       "      <td>2002</td>\n",
       "      <td>Insufficient Information</td>\n",
       "      <td>Delay Draft</td>\n",
       "      <td>Draft</td>\n",
       "      <td>Reasonable assistance or information is required from the CP or end-user, including permits to work/dig Assistance or information required : Permission to work form needs to be signed and returned for Internal cabling ,duct and jointing work at customer site.\\nAction Owner: End user/CP\\nAddition...</td>\n",
       "      <td>NaN</td>\n",
       "      <td>...</td>\n",
       "      <td>614400647</td>\n",
       "      <td>2023-10-16 18:18:42.000000 UTC</td>\n",
       "      <td>Provide</td>\n",
       "      <td>Full Infill</td>\n",
       "      <td>2023-10-16 11:17:07.000000 UTC</td>\n",
       "      <td>2024-01-30 10:14:56.000000 UTC</td>\n",
       "      <td>2023-10-13 - Jeopardy\\nPre-Network Review - B end has been set to priority 1 since it has missed its task milestone required by date.\\n\\n2023-10-13 - Jeopardy\\nPre-Network Review - A end has been set to priority 1 since it has missed its task milestone required by date.\\n\\n2023-10-13 - General\\n...</td>\n",
       "      <td>2023-10-13 - Jeopardy\\nPre-Network Review - B end has been set to priority 1 since it has missed its task milestone required by date.\\n\\n2023-10-13 - Jeopardy\\nPre-Network Review - A end has been set to priority 1 since it has missed its task milestone required by date.\\n\\n2023-10-13 - General\\n...</td>\n",
       "      <td>2023-10-13 - Jeopardy\\nPre-Network Review - B end has been set to priority 1 since it has missed its task milestone required by date.\\n\\n2023-10-13 - Jeopardy\\nPre-Network Review - A end has been set to priority 1 since it has missed its task milestone required by date.\\n\\n2023-10-13 - General\\n...</td>\n",
       "      <td>2023-10-13 - Jeopardy\\nPre-Network Review - B end has been set to priority 1 since it has missed its task milestone required by date.\\n\\n2023-10-13 - Jeopardy\\nPre-Network Review - A end has been set to priority 1 since it has missed its task milestone required by date.\\n\\n2023-10-13 - General\\n...</td>\n",
       "    </tr>\n",
       "    <tr>\n",
       "      <th>3</th>\n",
       "      <td>J5QZZ</td>\n",
       "      <td>OR014-1218822248144</td>\n",
       "      <td>ONEA11271137</td>\n",
       "      <td>1669339</td>\n",
       "      <td>2002</td>\n",
       "      <td>Insufficient Information</td>\n",
       "      <td>Delay Draft</td>\n",
       "      <td>Draft</td>\n",
       "      <td>Reasonable assistance or information is required from the CP or end-user, including permits to work/dig Assistance or information required : Permission to work for duct onsite sent to amit.hargun@dwrcymru.com\\nAction Owner: CP\\nAdditional information: Please provide signed permission to work for...</td>\n",
       "      <td>NaN</td>\n",
       "      <td>...</td>\n",
       "      <td>602707925</td>\n",
       "      <td>2023-11-03 10:56:30.000000 UTC</td>\n",
       "      <td>Provide</td>\n",
       "      <td>Full Infill</td>\n",
       "      <td>2023-10-16 11:21:08.000000 UTC</td>\n",
       "      <td>2024-03-27 14:54:01.000000 UTC</td>\n",
       "      <td>2023-10-27 - General\\n*** email sent to Wayleave team: Mitchell,J,Jack,BNJC13 R regarding CP ask ***\\n\\n2023-10-27 - General\\nSI Ref: C74797824 Case Acceptance CCT ID: ONEA11271137 - CP Name: Vodafone Limited  We have reviewed your case and have detailed the next steps below. Case Update Current...</td>\n",
       "      <td>2023-10-27 - General\\n*** email sent to Wayleave team: Mitchell,J,Jack,BNJC13 R regarding CP ask ***\\n\\n2023-10-27 - General\\nSI Ref: C74797824 Case Acceptance CCT ID: ONEA11271137 - CP Name: Vodafone Limited  We have reviewed your case and have detailed the next steps below. Case Update Current...</td>\n",
       "      <td>2023-10-27 - General\\n*** email sent to Wayleave team: Mitchell,J,Jack,BNJC13 R regarding Communications Provider ask ***\\n\\n2023-10-27 - General\\nSI Ref: C74797824 Case Acceptance CCT ID: ONEA11271137 - Communications Provider Name: Vodafone Limited  We have reviewed your case and have detailed...</td>\n",
       "      <td>2023-10-27 - General\\n*** email sent to Wayleave team: [PERSON],J,[PERSON],BNJC13 R regarding Communications Provider ask ***\\n\\n2023-10-27 - General\\nSI Ref: C74797824 Case Acceptance CCT ID: ONEA11271137 - [CP] Vodafone Limited  We have reviewed your case and have detailed the next steps below...</td>\n",
       "    </tr>\n",
       "    <tr>\n",
       "      <th>4</th>\n",
       "      <td>J5R0Z</td>\n",
       "      <td>OR014-1218580552834</td>\n",
       "      <td>ONEA11045549</td>\n",
       "      <td>1677101</td>\n",
       "      <td>2002</td>\n",
       "      <td>Insufficient Information</td>\n",
       "      <td>Delay Draft</td>\n",
       "      <td>Draft</td>\n",
       "      <td>Reasonable assistance or information is required from the CP or end-user, including permits to work/dig Assistance or information required : PO number required from CP to cover 500pounds access charge to Cellnex.\\nAction Owner: CP\\nAdditional information: PO number required to be able to book ac...</td>\n",
       "      <td>NaN</td>\n",
       "      <td>...</td>\n",
       "      <td>601198243</td>\n",
       "      <td>2023-11-13 15:05:19.000000 UTC</td>\n",
       "      <td>Provide</td>\n",
       "      <td>Full Infill</td>\n",
       "      <td>2023-10-16 11:23:29.000000 UTC</td>\n",
       "      <td>2024-03-12 11:35:44.000000 UTC</td>\n",
       "      <td>2023-11-07 - General\\nThe hoist work has been issued as infill on 07/11/23.\\n\\n2023-11-07 - General\\nHoist platform not fixed yet but if its fixed between this afternoon and 10th, this hoist work will be attended.\\n\\n2023-11-07 - General\\nSI Ref: C74755088 Case update CCT ID: ONEA11045549 - CP N...</td>\n",
       "      <td>2023-11-07 - General\\nThe hoist work has been issued as infill on 07/11/23.\\n\\n2023-11-07 - General\\nHoist platform not fixed yet but if its fixed between this afternoon and 10th, this hoist work will be attended.\\n\\n2023-11-07 - General\\nSI Ref: C74755088 Case update CCT ID: ONEA11045549 - CP N...</td>\n",
       "      <td>2023-11-07 - General\\nThe hoist work has been issued as infill on 07/11/23.\\n\\n2023-11-07 - General\\nHoist platform not fixed yet but if its fixed between this afternoon and 10th, this hoist work will be attended.\\n\\n2023-11-07 - General\\nSI Ref: C74755088 Case update CCT ID: ONEA11045549 - Comm...</td>\n",
       "      <td>2023-11-07 - General\\nThe hoist work has been issued as infill on 07/11/23.\\n\\n2023-11-07 - General\\nHoist platform not fixed yet but if its fixed between this afternoon and 10th, this hoist work will be attended.\\n\\n2023-11-07 - General\\nSI Ref: C74755088 Case update CCT ID: ONEA11045549 - [CP]...</td>\n",
       "    </tr>\n",
       "  </tbody>\n",
       "</table>\n",
       "<p>5 rows × 21 columns</p>\n",
       "</div>"
      ],
      "text/plain": [
       "  project_id  siebel_order_number    service_id  delay_id  reason_code  \\\n",
       "0      J5QVG  OR014-1218039862013  ONEA10475959   1656431         2002   \n",
       "1      J5QYL  OR014-1218323050767  ONEA10775923   1654112         2002   \n",
       "2      J5QYW  OR013-1220587805901  ONEA74787595   1653777         2002   \n",
       "3      J5QZZ  OR014-1218822248144  ONEA11271137   1669339         2002   \n",
       "4      J5R0Z  OR014-1218580552834  ONEA11045549   1677101         2002   \n",
       "\n",
       "                reason_text   event_type delay_status  \\\n",
       "0  Insufficient Information  Delay Draft        Draft   \n",
       "1  Insufficient Information  Delay Draft        Draft   \n",
       "2  Insufficient Information  Delay Draft        Draft   \n",
       "3  Insufficient Information  Delay Draft        Draft   \n",
       "4  Insufficient Information  Delay Draft        Draft   \n",
       "\n",
       "                                                                                                                                                                                                                                                                                                   delay_notes  \\\n",
       "0  Reasonable assistance or information is required from the CP or end-user, including permits to work/dig Assistance or information required : land lords details for wayleave\\nAction Owner: building managing agent \\nAdditional information: n/a\\nWhen do we expect resolution/next update: (Date) \\nTh...   \n",
       "1  Reasonable assistance or information is required from the CP or end-user, including permits to work/dig Assistance or information required :Order delayed as the sister circuit ONEA10776555 is awaiting for the CP to AMEND for the reach option. \\nAction Owner: CP \\n\\nAdditional information: Order ...   \n",
       "2  Reasonable assistance or information is required from the CP or end-user, including permits to work/dig Assistance or information required : Permission to work form needs to be signed and returned for Internal cabling ,duct and jointing work at customer site.\\nAction Owner: End user/CP\\nAddition...   \n",
       "3  Reasonable assistance or information is required from the CP or end-user, including permits to work/dig Assistance or information required : Permission to work for duct onsite sent to amit.hargun@dwrcymru.com\\nAction Owner: CP\\nAdditional information: Please provide signed permission to work for...   \n",
       "4  Reasonable assistance or information is required from the CP or end-user, including permits to work/dig Assistance or information required : PO number required from CP to cover 500pounds access charge to Cellnex.\\nAction Owner: CP\\nAdditional information: PO number required to be able to book ac...   \n",
       "\n",
       "   actual_delay_start_date  ...  event_author                 event_timestamp  \\\n",
       "0                      NaN  ...     701219060  2023-10-19 07:39:47.000000 UTC   \n",
       "1                      NaN  ...     612010220  2023-10-17 08:15:13.000000 UTC   \n",
       "2                      NaN  ...     614400647  2023-10-16 18:18:42.000000 UTC   \n",
       "3                      NaN  ...     602707925  2023-11-03 10:56:30.000000 UTC   \n",
       "4                      NaN  ...     601198243  2023-11-13 15:05:19.000000 UTC   \n",
       "\n",
       "  order_type order_sub_type              project_start_time  \\\n",
       "0    Provide    Full Infill  2023-10-16 11:08:15.000000 UTC   \n",
       "1    Provide    New Provide  2023-10-16 11:16:07.000000 UTC   \n",
       "2    Provide    Full Infill  2023-10-16 11:17:07.000000 UTC   \n",
       "3    Provide    Full Infill  2023-10-16 11:21:08.000000 UTC   \n",
       "4    Provide    Full Infill  2023-10-16 11:23:29.000000 UTC   \n",
       "\n",
       "                 project_end_time  \\\n",
       "0  2024-08-13 18:56:34.000000 UTC   \n",
       "1  2023-11-03 17:20:01.000000 UTC   \n",
       "2  2024-01-30 10:14:56.000000 UTC   \n",
       "3  2024-03-27 14:54:01.000000 UTC   \n",
       "4  2024-03-12 11:35:44.000000 UTC   \n",
       "\n",
       "                                                                                                                                                                                                                                                                                                   llm_context  \\\n",
       "0  2023-10-12 - HOLDING FACTOR\\nHolding factor 1623903 allocated to EMP_DELAY_CLOSURES\\n\\n2023-10-12 - Jeopardy\\nComplete Site Survey - B end has been set to priority 1 since it has missed its task milestone required by date.\\n\\n2023-10-13 - Jeopardy\\nDelay 1623903 SI case C74689480 26/09/23 advisi...   \n",
       "1  2023-10-13 - Amend\\nAmend Request received for:<b>CP Contact Details</b> - From CONTACT NAME: B2B FULFILMENT TEAM B2B FULFILMENT TEAM, CONTACT NO: +448005426754, CONTACT EMAILID: b2bfulfilment.ttt@talktalkplc.com, NOTES: to CONTACT NAME: B2B FULFILMENT TEAM B2B FULFILMENT TEAM, CONTACT NO: +4480...   \n",
       "2  2023-10-13 - Jeopardy\\nPre-Network Review - B end has been set to priority 1 since it has missed its task milestone required by date.\\n\\n2023-10-13 - Jeopardy\\nPre-Network Review - A end has been set to priority 1 since it has missed its task milestone required by date.\\n\\n2023-10-13 - General\\n...   \n",
       "3  2023-10-27 - General\\n*** email sent to Wayleave team: Mitchell,J,Jack,BNJC13 R regarding CP ask ***\\n\\n2023-10-27 - General\\nSI Ref: C74797824 Case Acceptance CCT ID: ONEA11271137 - CP Name: Vodafone Limited  We have reviewed your case and have detailed the next steps below. Case Update Current...   \n",
       "4  2023-11-07 - General\\nThe hoist work has been issued as infill on 07/11/23.\\n\\n2023-11-07 - General\\nHoist platform not fixed yet but if its fixed between this afternoon and 10th, this hoist work will be attended.\\n\\n2023-11-07 - General\\nSI Ref: C74755088 Case update CCT ID: ONEA11045549 - CP N...   \n",
       "\n",
       "                                                                                                                                                                                                                                                                                                       context  \\\n",
       "0  2023-10-12 - HOLDING FACTOR\\nHolding factor 1623903 allocated to EMP_DELAY_CLOSURES\\n\\n2023-10-12 - Jeopardy\\nComplete Site Survey - B end has been set to priority 1 since it has missed its task milestone required by date.\\n\\n2023-10-13 - Jeopardy\\nDelay 1623903 SI case C74689480 26/09/23 advisi...   \n",
       "1  2023-10-13 - Amend\\nAmend Request received for:<b>CP Contact Details</b> - From CONTACT NAME: B2B FULFILMENT TEAM B2B FULFILMENT TEAM, CONTACT NO: +448005426754, CONTACT EMAILID: b2bfulfilment.ttt@talktalkplc.com, NOTES: to CONTACT NAME: B2B FULFILMENT TEAM B2B FULFILMENT TEAM, CONTACT NO: +4480...   \n",
       "2  2023-10-13 - Jeopardy\\nPre-Network Review - B end has been set to priority 1 since it has missed its task milestone required by date.\\n\\n2023-10-13 - Jeopardy\\nPre-Network Review - A end has been set to priority 1 since it has missed its task milestone required by date.\\n\\n2023-10-13 - General\\n...   \n",
       "3  2023-10-27 - General\\n*** email sent to Wayleave team: Mitchell,J,Jack,BNJC13 R regarding CP ask ***\\n\\n2023-10-27 - General\\nSI Ref: C74797824 Case Acceptance CCT ID: ONEA11271137 - CP Name: Vodafone Limited  We have reviewed your case and have detailed the next steps below. Case Update Current...   \n",
       "4  2023-11-07 - General\\nThe hoist work has been issued as infill on 07/11/23.\\n\\n2023-11-07 - General\\nHoist platform not fixed yet but if its fixed between this afternoon and 10th, this hoist work will be attended.\\n\\n2023-11-07 - General\\nSI Ref: C74755088 Case update CCT ID: ONEA11045549 - CP N...   \n",
       "\n",
       "                                                                                                                                                                                                                                                                                          expanded_llm_context  \\\n",
       "0  2023-10-12 - HOLDING FACTOR\\nHolding factor 1623903 allocated to EMP_DELAY_CLOSURES\\n\\n2023-10-12 - Jeopardy\\nComplete Site Survey - B end has been set to priority 1 since it has missed its task milestone required by date.\\n\\n2023-10-13 - Jeopardy\\nDelay 1623903 SI case C74689480 26/09/23 advisi...   \n",
       "1  2023-10-13 - Amend\\nAmend Request received for:<b>CP Contact Details</b> - From CONTACT NAME: B2B FULFILMENT TEAM B2B FULFILMENT TEAM, CONTACT NO: +448005426754, CONTACT EMAILID: b2bfulfilment.ttt@talktalkplc.com, NOTES: to CONTACT NAME: B2B FULFILMENT TEAM B2B FULFILMENT TEAM, CONTACT NO: +4480...   \n",
       "2  2023-10-13 - Jeopardy\\nPre-Network Review - B end has been set to priority 1 since it has missed its task milestone required by date.\\n\\n2023-10-13 - Jeopardy\\nPre-Network Review - A end has been set to priority 1 since it has missed its task milestone required by date.\\n\\n2023-10-13 - General\\n...   \n",
       "3  2023-10-27 - General\\n*** email sent to Wayleave team: Mitchell,J,Jack,BNJC13 R regarding Communications Provider ask ***\\n\\n2023-10-27 - General\\nSI Ref: C74797824 Case Acceptance CCT ID: ONEA11271137 - Communications Provider Name: Vodafone Limited  We have reviewed your case and have detailed...   \n",
       "4  2023-11-07 - General\\nThe hoist work has been issued as infill on 07/11/23.\\n\\n2023-11-07 - General\\nHoist platform not fixed yet but if its fixed between this afternoon and 10th, this hoist work will be attended.\\n\\n2023-11-07 - General\\nSI Ref: C74755088 Case update CCT ID: ONEA11045549 - Comm...   \n",
       "\n",
       "                                                                                                                                                                                                                                                                                             clean_llm_context  \n",
       "0  2023-10-12 - HOLDING FACTOR\\nHolding factor 1623903 allocated to EMP_DELAY_CLOSURES\\n\\n2023-10-12 - Jeopardy\\nComplete Site Survey - B end has been set to priority 1 since it has missed its task milestone required by date.\\n\\n2023-10-13 - Jeopardy\\nDelay 1623903 SI case C74689480 26/09/23 advisi...  \n",
       "1  2023-10-13 - Amend\\nAmend Request received for:<b>CP Contact Details</b> - From [CONTACT] FULFILMENT TEAM B2B FULFILMENT TEAM, CONTACT NO: [PHONE], CONTACT EMAILID: <EMAIL>, NOTES: to [CONTACT] FULFILMENT TEAM B2B FULFILMENT TEAM, CONTACT NO: [PHONE], CONTACT EMAILID: <EMAIL>, NOTES: , <b>Approv...  \n",
       "2  2023-10-13 - Jeopardy\\nPre-Network Review - B end has been set to priority 1 since it has missed its task milestone required by date.\\n\\n2023-10-13 - Jeopardy\\nPre-Network Review - A end has been set to priority 1 since it has missed its task milestone required by date.\\n\\n2023-10-13 - General\\n...  \n",
       "3  2023-10-27 - General\\n*** email sent to Wayleave team: [PERSON],J,[PERSON],BNJC13 R regarding Communications Provider ask ***\\n\\n2023-10-27 - General\\nSI Ref: C74797824 Case Acceptance CCT ID: ONEA11271137 - [CP] Vodafone Limited  We have reviewed your case and have detailed the next steps below...  \n",
       "4  2023-11-07 - General\\nThe hoist work has been issued as infill on 07/11/23.\\n\\n2023-11-07 - General\\nHoist platform not fixed yet but if its fixed between this afternoon and 10th, this hoist work will be attended.\\n\\n2023-11-07 - General\\nSI Ref: C74755088 Case update CCT ID: ONEA11045549 - [CP]...  \n",
       "\n",
       "[5 rows x 21 columns]"
      ]
     },
     "execution_count": 23,
     "metadata": {},
     "output_type": "execute_result"
    }
   ],
   "source": [
    "draft_df.head(5)"
   ]
  },
  {
   "cell_type": "markdown",
   "id": "18456039-74f0-4f76-ba78-a0fcdea0a55e",
   "metadata": {},
   "source": [
    "#### save the file"
   ]
  },
  {
   "cell_type": "code",
   "execution_count": 24,
   "id": "aebc2a88-9e6d-4a20-b124-344f75afdef3",
   "metadata": {
    "tags": []
   },
   "outputs": [],
   "source": [
    "draft_df.to_csv(output_notes_path,index=False)"
   ]
  }
 ],
 "metadata": {
  "environment": {
   "kernel": "conda-env-pytorch-pytorch",
   "name": "workbench-notebooks.m127",
   "type": "gcloud",
   "uri": "us-docker.pkg.dev/deeplearning-platform-release/gcr.io/workbench-notebooks:m127"
  },
  "kernelspec": {
   "display_name": "PyTorch 1-13",
   "language": "python",
   "name": "conda-env-pytorch-pytorch"
  },
  "language_info": {
   "codemirror_mode": {
    "name": "ipython",
    "version": 3
   },
   "file_extension": ".py",
   "mimetype": "text/x-python",
   "name": "python",
   "nbconvert_exporter": "python",
   "pygments_lexer": "ipython3",
   "version": "3.10.16"
  }
 },
 "nbformat": 4,
 "nbformat_minor": 5
}

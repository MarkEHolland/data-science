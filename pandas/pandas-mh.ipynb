{
 "cells": [
  {
   "cell_type": "markdown",
   "id": "da89589c-d1a9-4ea8-afcf-68ba894585cb",
   "metadata": {},
   "source": [
    "### pandas knowledge sharing - Aug 2022"
   ]
  },
  {
   "cell_type": "code",
   "execution_count": 15,
   "id": "fddeae6f-2b72-45a0-bcc1-f08967419464",
   "metadata": {},
   "outputs": [],
   "source": [
    "import pandas as pd\n",
    "import numpy as np\n",
    "from sklearn.datasets import make_blobs\n",
    "import pathlib"
   ]
  },
  {
   "cell_type": "markdown",
   "id": "07499232-65a4-47c1-b506-0ab80617cefc",
   "metadata": {},
   "source": [
    "Examples to help with large datasets:\n",
    "- Chunking - an approach for handling datasets larger than you can read\n",
    "- Sampling - pre-requisite to data exploration & modelling\n",
    "- Parquet files - good for 'big data' analytics (reduced storage and faster than csv)\n",
    "- Normalise column names - columns converted to lowercase with spaces converted to _"
   ]
  },
  {
   "cell_type": "markdown",
   "id": "24900289-a2e2-4c59-a11d-4055cd00a4aa",
   "metadata": {},
   "source": [
    "### Chunking"
   ]
  },
  {
   "cell_type": "code",
   "execution_count": 16,
   "id": "79d147d7-51c7-4875-b50c-5a30aea495b7",
   "metadata": {},
   "outputs": [],
   "source": [
    "# Create a very large file\n",
    "csv_filename = pathlib.Path(\"data\", \"largedatafile.csv\")"
   ]
  },
  {
   "cell_type": "code",
   "execution_count": 17,
   "id": "55537db2-a625-4e5b-a902-6cf5e4bfb135",
   "metadata": {},
   "outputs": [],
   "source": [
    "X, y = make_blobs(n_samples=10_000_000)\n",
    "np.savetxt(csv_filename, X, delimiter=',')"
   ]
  },
  {
   "cell_type": "code",
   "execution_count": 18,
   "id": "4baca2bc-b755-4355-ae46-b636d9b28cc8",
   "metadata": {},
   "outputs": [
    {
     "name": "stdout",
     "output_type": "stream",
     "text": [
      "total 516308\n",
      "drwxr-xr-x 5 root root      4096 Aug  5 12:08 .\n",
      "drwxr-xr-x 6 root root      4096 Aug  5 14:08 ..\n",
      "drwxr-xr-x 2 root root      4096 Aug  5 12:08 .ipynb_checkpoints\n",
      "drwxr-xr-x 2 root root      4096 Aug  4 13:53 2020DemocratConventionSpeeches\n",
      "drwxr-xr-x 2 root root      4096 Aug  4 13:46 2020RepublicanConventionSpeeches\n",
      "-rw-r--r-- 1 root root  15370240 Aug  4 14:47 en_core_web_sm-3.4.0.tar\n",
      "-rw-r--r-- 1 root root 513304627 Aug  5 14:08 largedatafile.csv\n"
     ]
    }
   ],
   "source": [
    "!ls ./data -al"
   ]
  },
  {
   "cell_type": "code",
   "execution_count": 19,
   "id": "b468b3f3-4245-4ea1-b549-aa63a37db9da",
   "metadata": {},
   "outputs": [],
   "source": [
    "# read the file in chunks"
   ]
  },
  {
   "cell_type": "code",
   "execution_count": 20,
   "id": "cc6959a9-cf30-429b-aa62-0034e47bbe85",
   "metadata": {},
   "outputs": [
    {
     "name": "stdout",
     "output_type": "stream",
     "text": [
      "4.44 s ± 41.2 ms per loop (mean ± std. dev. of 7 runs, 1 loop each)\n"
     ]
    }
   ],
   "source": [
    "%%timeit\n",
    "chunks = pd.read_csv(csv_filename, names=['col1', 'col2'], chunksize=1_000_000)\n",
    "for chunk in chunks:\n",
    "  chunk['product'] = chunk.col1 * chunk.col2"
   ]
  },
  {
   "cell_type": "code",
   "execution_count": 21,
   "id": "d04a4c2d-7406-4384-92cc-f1385571c4a3",
   "metadata": {},
   "outputs": [],
   "source": [
    "# compare to the traditional method to read the whole file"
   ]
  },
  {
   "cell_type": "code",
   "execution_count": 22,
   "id": "a009a769-77e4-40a7-8134-aae2b886271e",
   "metadata": {},
   "outputs": [
    {
     "name": "stdout",
     "output_type": "stream",
     "text": [
      "4.46 s ± 51.7 ms per loop (mean ± std. dev. of 7 runs, 1 loop each)\n"
     ]
    }
   ],
   "source": [
    "%%timeit\n",
    "df = pd.read_csv(csv_filename, names=['col1', 'col2'])\n",
    "df['product'] = df.col1 * df.col2"
   ]
  },
  {
   "cell_type": "markdown",
   "id": "d376c945-0736-41af-8376-a45b871f54fe",
   "metadata": {},
   "source": [
    "### Sampling"
   ]
  },
  {
   "cell_type": "code",
   "execution_count": 24,
   "id": "f6782736-05c8-4ac6-bc40-0319f3320838",
   "metadata": {},
   "outputs": [
    {
     "data": {
      "text/plain": [
       "(10000, 2)"
      ]
     },
     "execution_count": 24,
     "metadata": {},
     "output_type": "execute_result"
    }
   ],
   "source": [
    "ROWS = 1000\n",
    "df = pd.read_csv(csv_filename, \n",
    "                 names=['col1', 'col2'], \n",
    "                 skiprows=lambda i: i % ROWS != 0)\n",
    "df.shape"
   ]
  },
  {
   "cell_type": "markdown",
   "id": "7c6f1805-c652-4546-a1b9-ae061193a305",
   "metadata": {},
   "source": [
    "### Parquet"
   ]
  },
  {
   "cell_type": "code",
   "execution_count": 25,
   "id": "3216596b-5575-42f4-a444-769ee41468eb",
   "metadata": {},
   "outputs": [],
   "source": [
    "# Create filenames\n",
    "wide_csv_filename = pathlib.Path(\"data\", \"wide.csv\")\n",
    "wide_parquet_filename= pathlib.Path(\"data\", \"wide.parquet\")"
   ]
  },
  {
   "cell_type": "code",
   "execution_count": 26,
   "id": "389431a6-57e3-459a-995e-3b72e62fb969",
   "metadata": {},
   "outputs": [],
   "source": [
    "X, y = make_blobs(n_samples=1_000_000, n_features=20)\n",
    "df = pd.DataFrame(X)\n",
    "df.columns = [f'Col {x}' for x in range(len(df.columns))]\n",
    "df.to_csv(wide_csv_filename)\n",
    "df.to_parquet(wide_parquet_filename)"
   ]
  },
  {
   "cell_type": "code",
   "execution_count": 27,
   "id": "1a2464b9-64b7-40c9-9927-0c65c866527a",
   "metadata": {},
   "outputs": [
    {
     "name": "stdout",
     "output_type": "stream",
     "text": [
      "total 1048808\n",
      "drwxr-xr-x 5 root root      4096 Aug  5 14:10 .\n",
      "drwxr-xr-x 6 root root      4096 Aug  5 14:09 ..\n",
      "drwxr-xr-x 2 root root      4096 Aug  5 12:08 .ipynb_checkpoints\n",
      "drwxr-xr-x 2 root root      4096 Aug  4 13:53 2020DemocratConventionSpeeches\n",
      "drwxr-xr-x 2 root root      4096 Aug  4 13:46 2020RepublicanConventionSpeeches\n",
      "-rw-r--r-- 1 root root  15370240 Aug  4 14:47 en_core_web_sm-3.4.0.tar\n",
      "-rw-r--r-- 1 root root 513304627 Aug  5 14:08 largedatafile.csv\n",
      "-rw-r--r-- 1 root root 379670062 Aug  5 14:10 wide.csv\n",
      "-rw-r--r-- 1 root root 165609437 Aug  5 14:10 wide.parquet\n"
     ]
    }
   ],
   "source": [
    "!ls ./data -al"
   ]
  },
  {
   "cell_type": "markdown",
   "id": "8f7c86a6-462f-4033-a2ed-90eecf51f885",
   "metadata": {},
   "source": [
    "#### Timing reading data"
   ]
  },
  {
   "cell_type": "code",
   "execution_count": 28,
   "id": "853fe6b1-2da6-4f49-98e7-719516327d6f",
   "metadata": {},
   "outputs": [
    {
     "name": "stdout",
     "output_type": "stream",
     "text": [
      "5.04 s ± 28.8 ms per loop (mean ± std. dev. of 7 runs, 1 loop each)\n"
     ]
    }
   ],
   "source": [
    "%%timeit\n",
    "df = pd.read_csv(wide_csv_filename)"
   ]
  },
  {
   "cell_type": "code",
   "execution_count": 29,
   "id": "851b8c56-8378-4467-80ca-0b00579d933f",
   "metadata": {},
   "outputs": [
    {
     "name": "stdout",
     "output_type": "stream",
     "text": [
      "191 ms ± 30.7 ms per loop (mean ± std. dev. of 7 runs, 1 loop each)\n"
     ]
    }
   ],
   "source": [
    "%%timeit\n",
    "df = pd.read_parquet(wide_parquet_filename)"
   ]
  },
  {
   "cell_type": "markdown",
   "id": "2c3b1a06-34a1-43b0-bde9-3d3161e9beba",
   "metadata": {},
   "source": [
    "#### Timing read one column"
   ]
  },
  {
   "cell_type": "code",
   "execution_count": 31,
   "id": "17de6d38-67fb-43e4-8d8e-722cba31a794",
   "metadata": {},
   "outputs": [
    {
     "name": "stdout",
     "output_type": "stream",
     "text": [
      "1.96 s ± 12.5 ms per loop (mean ± std. dev. of 7 runs, 1 loop each)\n"
     ]
    }
   ],
   "source": [
    "%%timeit\n",
    "df = pd.read_csv(wide_csv_filename, usecols=['Col 4'])"
   ]
  },
  {
   "cell_type": "code",
   "execution_count": 32,
   "id": "b55a219d-93eb-4143-94fe-e302a669eece",
   "metadata": {},
   "outputs": [
    {
     "name": "stdout",
     "output_type": "stream",
     "text": [
      "13 ms ± 125 µs per loop (mean ± std. dev. of 7 runs, 100 loops each)\n"
     ]
    }
   ],
   "source": [
    "%%timeit\n",
    "df = pd.read_parquet(wide_parquet_filename, columns=['Col 4'])"
   ]
  },
  {
   "cell_type": "markdown",
   "id": "9a8db800-fa63-489c-86a8-0945f390e61b",
   "metadata": {},
   "source": [
    "### Normalise column names"
   ]
  },
  {
   "cell_type": "code",
   "execution_count": 33,
   "id": "f94084a9-ff60-479b-ad12-551addf16375",
   "metadata": {},
   "outputs": [],
   "source": [
    "df.columns = [col.lower().replace(' ', '_') for col in df.columns]"
   ]
  },
  {
   "cell_type": "code",
   "execution_count": 34,
   "id": "c140c17f-a1ab-4241-80c4-843e8acc3343",
   "metadata": {},
   "outputs": [
    {
     "data": {
      "text/plain": [
       "Index(['col_0', 'col_1', 'col_2', 'col_3', 'col_4', 'col_5', 'col_6', 'col_7',\n",
       "       'col_8', 'col_9', 'col_10', 'col_11', 'col_12', 'col_13', 'col_14',\n",
       "       'col_15', 'col_16', 'col_17', 'col_18', 'col_19'],\n",
       "      dtype='object')"
      ]
     },
     "execution_count": 34,
     "metadata": {},
     "output_type": "execute_result"
    }
   ],
   "source": [
    "df.columns"
   ]
  },
  {
   "cell_type": "code",
   "execution_count": null,
   "id": "1676afc4-a23a-4129-a158-18b7d324f889",
   "metadata": {},
   "outputs": [],
   "source": []
  }
 ],
 "metadata": {
  "kernelspec": {
   "display_name": "Python 3 (ipykernel)",
   "language": "python",
   "name": "python3"
  },
  "language_info": {
   "codemirror_mode": {
    "name": "ipython",
    "version": 3
   },
   "file_extension": ".py",
   "mimetype": "text/x-python",
   "name": "python",
   "nbconvert_exporter": "python",
   "pygments_lexer": "ipython3",
   "version": "3.7.12"
  }
 },
 "nbformat": 4,
 "nbformat_minor": 5
}

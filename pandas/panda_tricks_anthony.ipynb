{
 "cells": [
  {
   "cell_type": "markdown",
   "id": "515f37c2-f5e1-4f74-b586-bfe9d24d775a",
   "metadata": {
    "tags": []
   },
   "source": [
    "# Pandas tips and tricks - Efficient data manipulation"
   ]
  },
  {
   "cell_type": "code",
   "execution_count": 1,
   "id": "60a2faed-fa79-49b1-a38d-23811ce5ae32",
   "metadata": {},
   "outputs": [],
   "source": [
    "import pandas as pd\n",
    "import numpy as np"
   ]
  },
  {
   "cell_type": "code",
   "execution_count": 2,
   "id": "2fa608a0-3616-40c9-8a38-7e5c538e60cf",
   "metadata": {},
   "outputs": [],
   "source": [
    "size = 100000\n",
    "multipliers = {'A':1.1, 'B':1.5, 'C':1.8}\n",
    "cats = np.array(['A', 'B', 'C'])\n",
    "\n",
    "idx = np.random.randint(3, size=size)\n",
    "category = cats[idx]\n",
    "consumption = np.abs(np.random.randn(size)*10)\n",
    "\n",
    "data_original = pd.DataFrame({'category':category, 'consumption':consumption})\n",
    "data_original['final_cost'] = None\n",
    "data = data_original.copy()"
   ]
  },
  {
   "cell_type": "code",
   "execution_count": 3,
   "id": "6f67818c-8609-4708-bc15-499ac48729af",
   "metadata": {},
   "outputs": [
    {
     "name": "stdout",
     "output_type": "stream",
     "text": [
      "{'A': 1.1, 'B': 1.5, 'C': 1.8}\n"
     ]
    },
    {
     "data": {
      "text/html": [
       "<div>\n",
       "<style scoped>\n",
       "    .dataframe tbody tr th:only-of-type {\n",
       "        vertical-align: middle;\n",
       "    }\n",
       "\n",
       "    .dataframe tbody tr th {\n",
       "        vertical-align: top;\n",
       "    }\n",
       "\n",
       "    .dataframe thead th {\n",
       "        text-align: right;\n",
       "    }\n",
       "</style>\n",
       "<table border=\"1\" class=\"dataframe\">\n",
       "  <thead>\n",
       "    <tr style=\"text-align: right;\">\n",
       "      <th></th>\n",
       "      <th>category</th>\n",
       "      <th>consumption</th>\n",
       "      <th>final_cost</th>\n",
       "    </tr>\n",
       "  </thead>\n",
       "  <tbody>\n",
       "    <tr>\n",
       "      <th>0</th>\n",
       "      <td>C</td>\n",
       "      <td>0.444007</td>\n",
       "      <td>None</td>\n",
       "    </tr>\n",
       "    <tr>\n",
       "      <th>1</th>\n",
       "      <td>B</td>\n",
       "      <td>2.278810</td>\n",
       "      <td>None</td>\n",
       "    </tr>\n",
       "    <tr>\n",
       "      <th>2</th>\n",
       "      <td>C</td>\n",
       "      <td>7.353666</td>\n",
       "      <td>None</td>\n",
       "    </tr>\n",
       "    <tr>\n",
       "      <th>3</th>\n",
       "      <td>A</td>\n",
       "      <td>4.252215</td>\n",
       "      <td>None</td>\n",
       "    </tr>\n",
       "    <tr>\n",
       "      <th>4</th>\n",
       "      <td>C</td>\n",
       "      <td>0.508390</td>\n",
       "      <td>None</td>\n",
       "    </tr>\n",
       "    <tr>\n",
       "      <th>...</th>\n",
       "      <td>...</td>\n",
       "      <td>...</td>\n",
       "      <td>...</td>\n",
       "    </tr>\n",
       "    <tr>\n",
       "      <th>99995</th>\n",
       "      <td>A</td>\n",
       "      <td>21.751370</td>\n",
       "      <td>None</td>\n",
       "    </tr>\n",
       "    <tr>\n",
       "      <th>99996</th>\n",
       "      <td>C</td>\n",
       "      <td>1.721286</td>\n",
       "      <td>None</td>\n",
       "    </tr>\n",
       "    <tr>\n",
       "      <th>99997</th>\n",
       "      <td>A</td>\n",
       "      <td>5.354282</td>\n",
       "      <td>None</td>\n",
       "    </tr>\n",
       "    <tr>\n",
       "      <th>99998</th>\n",
       "      <td>C</td>\n",
       "      <td>13.814207</td>\n",
       "      <td>None</td>\n",
       "    </tr>\n",
       "    <tr>\n",
       "      <th>99999</th>\n",
       "      <td>C</td>\n",
       "      <td>20.733658</td>\n",
       "      <td>None</td>\n",
       "    </tr>\n",
       "  </tbody>\n",
       "</table>\n",
       "<p>100000 rows × 3 columns</p>\n",
       "</div>"
      ],
      "text/plain": [
       "      category  consumption final_cost\n",
       "0            C     0.444007       None\n",
       "1            B     2.278810       None\n",
       "2            C     7.353666       None\n",
       "3            A     4.252215       None\n",
       "4            C     0.508390       None\n",
       "...        ...          ...        ...\n",
       "99995        A    21.751370       None\n",
       "99996        C     1.721286       None\n",
       "99997        A     5.354282       None\n",
       "99998        C    13.814207       None\n",
       "99999        C    20.733658       None\n",
       "\n",
       "[100000 rows x 3 columns]"
      ]
     },
     "execution_count": 3,
     "metadata": {},
     "output_type": "execute_result"
    }
   ],
   "source": [
    "print(multipliers)\n",
    "data"
   ]
  },
  {
   "cell_type": "markdown",
   "id": "3d520e69-28c6-4e63-925e-ca9c63120b4d",
   "metadata": {},
   "source": [
    "# Explicit looping"
   ]
  },
  {
   "cell_type": "code",
   "execution_count": 4,
   "id": "bf5d81d7-f09e-4de8-b1a7-07286386ebb4",
   "metadata": {},
   "outputs": [],
   "source": [
    "data = data_original.copy()"
   ]
  },
  {
   "cell_type": "code",
   "execution_count": 5,
   "id": "9d655eac-abe7-4f05-8bcc-f6cc5a1b864f",
   "metadata": {},
   "outputs": [
    {
     "name": "stdout",
     "output_type": "stream",
     "text": [
      "2min 35s ± 1.38 s per loop (mean ± std. dev. of 7 runs, 1 loop each)\n"
     ]
    }
   ],
   "source": [
    "%%timeit\n",
    "for i in range(len(data)):\n",
    "    cat = data['category'].iloc[i]\n",
    "    con = data['consumption'].iloc[i]\n",
    "    data.loc[i, 'final_cost'] = multipliers[cat] * con"
   ]
  },
  {
   "cell_type": "code",
   "execution_count": 6,
   "id": "afa22fec-0d7f-4327-aa77-e31c560e2dfe",
   "metadata": {},
   "outputs": [
    {
     "data": {
      "text/html": [
       "<div>\n",
       "<style scoped>\n",
       "    .dataframe tbody tr th:only-of-type {\n",
       "        vertical-align: middle;\n",
       "    }\n",
       "\n",
       "    .dataframe tbody tr th {\n",
       "        vertical-align: top;\n",
       "    }\n",
       "\n",
       "    .dataframe thead th {\n",
       "        text-align: right;\n",
       "    }\n",
       "</style>\n",
       "<table border=\"1\" class=\"dataframe\">\n",
       "  <thead>\n",
       "    <tr style=\"text-align: right;\">\n",
       "      <th></th>\n",
       "      <th>category</th>\n",
       "      <th>consumption</th>\n",
       "      <th>final_cost</th>\n",
       "    </tr>\n",
       "  </thead>\n",
       "  <tbody>\n",
       "    <tr>\n",
       "      <th>0</th>\n",
       "      <td>C</td>\n",
       "      <td>0.444007</td>\n",
       "      <td>0.799213</td>\n",
       "    </tr>\n",
       "    <tr>\n",
       "      <th>1</th>\n",
       "      <td>B</td>\n",
       "      <td>2.278810</td>\n",
       "      <td>3.418215</td>\n",
       "    </tr>\n",
       "    <tr>\n",
       "      <th>2</th>\n",
       "      <td>C</td>\n",
       "      <td>7.353666</td>\n",
       "      <td>13.236599</td>\n",
       "    </tr>\n",
       "    <tr>\n",
       "      <th>3</th>\n",
       "      <td>A</td>\n",
       "      <td>4.252215</td>\n",
       "      <td>4.677437</td>\n",
       "    </tr>\n",
       "    <tr>\n",
       "      <th>4</th>\n",
       "      <td>C</td>\n",
       "      <td>0.508390</td>\n",
       "      <td>0.915102</td>\n",
       "    </tr>\n",
       "    <tr>\n",
       "      <th>...</th>\n",
       "      <td>...</td>\n",
       "      <td>...</td>\n",
       "      <td>...</td>\n",
       "    </tr>\n",
       "    <tr>\n",
       "      <th>99995</th>\n",
       "      <td>A</td>\n",
       "      <td>21.751370</td>\n",
       "      <td>23.926507</td>\n",
       "    </tr>\n",
       "    <tr>\n",
       "      <th>99996</th>\n",
       "      <td>C</td>\n",
       "      <td>1.721286</td>\n",
       "      <td>3.098315</td>\n",
       "    </tr>\n",
       "    <tr>\n",
       "      <th>99997</th>\n",
       "      <td>A</td>\n",
       "      <td>5.354282</td>\n",
       "      <td>5.88971</td>\n",
       "    </tr>\n",
       "    <tr>\n",
       "      <th>99998</th>\n",
       "      <td>C</td>\n",
       "      <td>13.814207</td>\n",
       "      <td>24.865572</td>\n",
       "    </tr>\n",
       "    <tr>\n",
       "      <th>99999</th>\n",
       "      <td>C</td>\n",
       "      <td>20.733658</td>\n",
       "      <td>37.320584</td>\n",
       "    </tr>\n",
       "  </tbody>\n",
       "</table>\n",
       "<p>100000 rows × 3 columns</p>\n",
       "</div>"
      ],
      "text/plain": [
       "      category  consumption final_cost\n",
       "0            C     0.444007   0.799213\n",
       "1            B     2.278810   3.418215\n",
       "2            C     7.353666  13.236599\n",
       "3            A     4.252215   4.677437\n",
       "4            C     0.508390   0.915102\n",
       "...        ...          ...        ...\n",
       "99995        A    21.751370  23.926507\n",
       "99996        C     1.721286   3.098315\n",
       "99997        A     5.354282    5.88971\n",
       "99998        C    13.814207  24.865572\n",
       "99999        C    20.733658  37.320584\n",
       "\n",
       "[100000 rows x 3 columns]"
      ]
     },
     "execution_count": 6,
     "metadata": {},
     "output_type": "execute_result"
    }
   ],
   "source": [
    "data"
   ]
  },
  {
   "cell_type": "markdown",
   "id": "c8605aa6-5ab7-48f6-aea7-15cccf2022ad",
   "metadata": {},
   "source": [
    "# Panda apply function on rows"
   ]
  },
  {
   "cell_type": "code",
   "execution_count": 7,
   "id": "bf8a174a-3971-40d9-b427-640efa3f7f38",
   "metadata": {},
   "outputs": [],
   "source": [
    "data = data_original.copy()"
   ]
  },
  {
   "cell_type": "code",
   "execution_count": 8,
   "id": "7b925a58-0e64-4f20-8696-695a2c8c515b",
   "metadata": {},
   "outputs": [],
   "source": [
    "def calculate_cost(x):\n",
    "    cat = x['category']\n",
    "    con = x['consumption']\n",
    "    return multipliers[cat] * con"
   ]
  },
  {
   "cell_type": "code",
   "execution_count": 9,
   "id": "ca5acf69-d0a4-4177-9d21-c97c7e267bad",
   "metadata": {
    "tags": []
   },
   "outputs": [
    {
     "name": "stdout",
     "output_type": "stream",
     "text": [
      "1.11 s ± 8.84 ms per loop (mean ± std. dev. of 7 runs, 1 loop each)\n"
     ]
    }
   ],
   "source": [
    "%%timeit\n",
    "data['final_cost'] = data.apply(calculate_cost, axis=1)"
   ]
  },
  {
   "cell_type": "code",
   "execution_count": 10,
   "id": "9f299add-f887-41dd-89b4-ec6fd5b446e5",
   "metadata": {},
   "outputs": [
    {
     "data": {
      "text/html": [
       "<div>\n",
       "<style scoped>\n",
       "    .dataframe tbody tr th:only-of-type {\n",
       "        vertical-align: middle;\n",
       "    }\n",
       "\n",
       "    .dataframe tbody tr th {\n",
       "        vertical-align: top;\n",
       "    }\n",
       "\n",
       "    .dataframe thead th {\n",
       "        text-align: right;\n",
       "    }\n",
       "</style>\n",
       "<table border=\"1\" class=\"dataframe\">\n",
       "  <thead>\n",
       "    <tr style=\"text-align: right;\">\n",
       "      <th></th>\n",
       "      <th>category</th>\n",
       "      <th>consumption</th>\n",
       "      <th>final_cost</th>\n",
       "    </tr>\n",
       "  </thead>\n",
       "  <tbody>\n",
       "    <tr>\n",
       "      <th>0</th>\n",
       "      <td>C</td>\n",
       "      <td>0.444007</td>\n",
       "      <td>0.799213</td>\n",
       "    </tr>\n",
       "    <tr>\n",
       "      <th>1</th>\n",
       "      <td>B</td>\n",
       "      <td>2.278810</td>\n",
       "      <td>3.418215</td>\n",
       "    </tr>\n",
       "    <tr>\n",
       "      <th>2</th>\n",
       "      <td>C</td>\n",
       "      <td>7.353666</td>\n",
       "      <td>13.236599</td>\n",
       "    </tr>\n",
       "    <tr>\n",
       "      <th>3</th>\n",
       "      <td>A</td>\n",
       "      <td>4.252215</td>\n",
       "      <td>4.677437</td>\n",
       "    </tr>\n",
       "    <tr>\n",
       "      <th>4</th>\n",
       "      <td>C</td>\n",
       "      <td>0.508390</td>\n",
       "      <td>0.915102</td>\n",
       "    </tr>\n",
       "    <tr>\n",
       "      <th>...</th>\n",
       "      <td>...</td>\n",
       "      <td>...</td>\n",
       "      <td>...</td>\n",
       "    </tr>\n",
       "    <tr>\n",
       "      <th>99995</th>\n",
       "      <td>A</td>\n",
       "      <td>21.751370</td>\n",
       "      <td>23.926507</td>\n",
       "    </tr>\n",
       "    <tr>\n",
       "      <th>99996</th>\n",
       "      <td>C</td>\n",
       "      <td>1.721286</td>\n",
       "      <td>3.098315</td>\n",
       "    </tr>\n",
       "    <tr>\n",
       "      <th>99997</th>\n",
       "      <td>A</td>\n",
       "      <td>5.354282</td>\n",
       "      <td>5.889710</td>\n",
       "    </tr>\n",
       "    <tr>\n",
       "      <th>99998</th>\n",
       "      <td>C</td>\n",
       "      <td>13.814207</td>\n",
       "      <td>24.865572</td>\n",
       "    </tr>\n",
       "    <tr>\n",
       "      <th>99999</th>\n",
       "      <td>C</td>\n",
       "      <td>20.733658</td>\n",
       "      <td>37.320584</td>\n",
       "    </tr>\n",
       "  </tbody>\n",
       "</table>\n",
       "<p>100000 rows × 3 columns</p>\n",
       "</div>"
      ],
      "text/plain": [
       "      category  consumption  final_cost\n",
       "0            C     0.444007    0.799213\n",
       "1            B     2.278810    3.418215\n",
       "2            C     7.353666   13.236599\n",
       "3            A     4.252215    4.677437\n",
       "4            C     0.508390    0.915102\n",
       "...        ...          ...         ...\n",
       "99995        A    21.751370   23.926507\n",
       "99996        C     1.721286    3.098315\n",
       "99997        A     5.354282    5.889710\n",
       "99998        C    13.814207   24.865572\n",
       "99999        C    20.733658   37.320584\n",
       "\n",
       "[100000 rows x 3 columns]"
      ]
     },
     "execution_count": 10,
     "metadata": {},
     "output_type": "execute_result"
    }
   ],
   "source": [
    "data"
   ]
  },
  {
   "cell_type": "markdown",
   "id": "c15cf104-96f4-4f66-87e0-21d2685fee1a",
   "metadata": {},
   "source": [
    "# Panda boolean indexing"
   ]
  },
  {
   "cell_type": "code",
   "execution_count": 11,
   "id": "89055a50-3403-4ab7-95cd-973bdd4de141",
   "metadata": {},
   "outputs": [],
   "source": [
    "data = data_original.copy()"
   ]
  },
  {
   "cell_type": "code",
   "execution_count": 12,
   "id": "16656038-c3f4-456e-86e8-e1817a48aece",
   "metadata": {},
   "outputs": [
    {
     "name": "stdout",
     "output_type": "stream",
     "text": [
      "44.4 ms ± 8.71 ms per loop (mean ± std. dev. of 7 runs, 10 loops each)\n"
     ]
    }
   ],
   "source": [
    "%%timeit\n",
    "idx_A = data['category'] == 'A'\n",
    "idx_B = data['category'] == 'B'\n",
    "idx_C = data['category'] == 'C'\n",
    "data.loc[idx_A, 'final_cost'] = data.loc[idx_A, 'consumption'] * multipliers['A']\n",
    "data.loc[idx_B, 'final_cost'] = data.loc[idx_B, 'consumption'] * multipliers['B']\n",
    "data.loc[idx_C, 'final_cost'] = data.loc[idx_C, 'consumption'] * multipliers['C']"
   ]
  },
  {
   "cell_type": "code",
   "execution_count": 13,
   "id": "f5220132-4ac7-4e2d-bbe6-9f0c45377122",
   "metadata": {},
   "outputs": [
    {
     "data": {
      "text/html": [
       "<div>\n",
       "<style scoped>\n",
       "    .dataframe tbody tr th:only-of-type {\n",
       "        vertical-align: middle;\n",
       "    }\n",
       "\n",
       "    .dataframe tbody tr th {\n",
       "        vertical-align: top;\n",
       "    }\n",
       "\n",
       "    .dataframe thead th {\n",
       "        text-align: right;\n",
       "    }\n",
       "</style>\n",
       "<table border=\"1\" class=\"dataframe\">\n",
       "  <thead>\n",
       "    <tr style=\"text-align: right;\">\n",
       "      <th></th>\n",
       "      <th>category</th>\n",
       "      <th>consumption</th>\n",
       "      <th>final_cost</th>\n",
       "    </tr>\n",
       "  </thead>\n",
       "  <tbody>\n",
       "    <tr>\n",
       "      <th>0</th>\n",
       "      <td>C</td>\n",
       "      <td>0.444007</td>\n",
       "      <td>0.799213</td>\n",
       "    </tr>\n",
       "    <tr>\n",
       "      <th>1</th>\n",
       "      <td>B</td>\n",
       "      <td>2.278810</td>\n",
       "      <td>3.418215</td>\n",
       "    </tr>\n",
       "    <tr>\n",
       "      <th>2</th>\n",
       "      <td>C</td>\n",
       "      <td>7.353666</td>\n",
       "      <td>13.236599</td>\n",
       "    </tr>\n",
       "    <tr>\n",
       "      <th>3</th>\n",
       "      <td>A</td>\n",
       "      <td>4.252215</td>\n",
       "      <td>4.677437</td>\n",
       "    </tr>\n",
       "    <tr>\n",
       "      <th>4</th>\n",
       "      <td>C</td>\n",
       "      <td>0.508390</td>\n",
       "      <td>0.915102</td>\n",
       "    </tr>\n",
       "    <tr>\n",
       "      <th>...</th>\n",
       "      <td>...</td>\n",
       "      <td>...</td>\n",
       "      <td>...</td>\n",
       "    </tr>\n",
       "    <tr>\n",
       "      <th>99995</th>\n",
       "      <td>A</td>\n",
       "      <td>21.751370</td>\n",
       "      <td>23.926507</td>\n",
       "    </tr>\n",
       "    <tr>\n",
       "      <th>99996</th>\n",
       "      <td>C</td>\n",
       "      <td>1.721286</td>\n",
       "      <td>3.098315</td>\n",
       "    </tr>\n",
       "    <tr>\n",
       "      <th>99997</th>\n",
       "      <td>A</td>\n",
       "      <td>5.354282</td>\n",
       "      <td>5.88971</td>\n",
       "    </tr>\n",
       "    <tr>\n",
       "      <th>99998</th>\n",
       "      <td>C</td>\n",
       "      <td>13.814207</td>\n",
       "      <td>24.865572</td>\n",
       "    </tr>\n",
       "    <tr>\n",
       "      <th>99999</th>\n",
       "      <td>C</td>\n",
       "      <td>20.733658</td>\n",
       "      <td>37.320584</td>\n",
       "    </tr>\n",
       "  </tbody>\n",
       "</table>\n",
       "<p>100000 rows × 3 columns</p>\n",
       "</div>"
      ],
      "text/plain": [
       "      category  consumption final_cost\n",
       "0            C     0.444007   0.799213\n",
       "1            B     2.278810   3.418215\n",
       "2            C     7.353666  13.236599\n",
       "3            A     4.252215   4.677437\n",
       "4            C     0.508390   0.915102\n",
       "...        ...          ...        ...\n",
       "99995        A    21.751370  23.926507\n",
       "99996        C     1.721286   3.098315\n",
       "99997        A     5.354282    5.88971\n",
       "99998        C    13.814207  24.865572\n",
       "99999        C    20.733658  37.320584\n",
       "\n",
       "[100000 rows x 3 columns]"
      ]
     },
     "execution_count": 13,
     "metadata": {},
     "output_type": "execute_result"
    }
   ],
   "source": [
    "data"
   ]
  },
  {
   "cell_type": "markdown",
   "id": "abb4ecc2-b4d0-4a17-a26f-c450cbd808f1",
   "metadata": {},
   "source": [
    "## Reference: https://realpython.com/fast-flexible-pandas/"
   ]
  },
  {
   "cell_type": "code",
   "execution_count": null,
   "id": "5bab626b-a849-4eaf-aa05-ce429d2855b4",
   "metadata": {},
   "outputs": [],
   "source": []
  }
 ],
 "metadata": {
  "environment": {
   "kernel": "python3",
   "name": "tf2-cpu.2-9.m94",
   "type": "gcloud",
   "uri": "gcr.io/deeplearning-platform-release/tf2-cpu.2-9:m94"
  },
  "kernelspec": {
   "display_name": "Python 3",
   "language": "python",
   "name": "python3"
  },
  "language_info": {
   "codemirror_mode": {
    "name": "ipython",
    "version": 3
   },
   "file_extension": ".py",
   "mimetype": "text/x-python",
   "name": "python",
   "nbconvert_exporter": "python",
   "pygments_lexer": "ipython3",
   "version": "3.7.12"
  }
 },
 "nbformat": 4,
 "nbformat_minor": 5
}

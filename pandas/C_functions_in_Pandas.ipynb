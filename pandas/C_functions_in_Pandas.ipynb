{
 "cells": [
  {
   "cell_type": "code",
   "execution_count": 1,
   "id": "53918526-547d-444c-8beb-c68b4b6cde71",
   "metadata": {},
   "outputs": [],
   "source": [
    "import os\n",
    "import ctypes\n",
    "import numpy as np\n",
    "import pandas as pd\n",
    "\n",
    "from numpy.ctypeslib import ndpointer"
   ]
  },
  {
   "cell_type": "code",
   "execution_count": 2,
   "id": "48616136-6275-4779-a457-1a5db791ade5",
   "metadata": {},
   "outputs": [],
   "source": [
    "!cc -fPIC -shared -o c_functions.so c_functions.c"
   ]
  },
  {
   "cell_type": "code",
   "execution_count": 3,
   "id": "839a2a33-4b55-493b-9ea1-a10c4d651353",
   "metadata": {},
   "outputs": [],
   "source": [
    "p =  os.path.abspath('.')\n",
    "lib = ctypes.cdll.LoadLibrary(os.path.join(p, \"c_functions.so\"))"
   ]
  },
  {
   "cell_type": "code",
   "execution_count": 4,
   "id": "f54d5dcb-127c-4658-aa43-cd9b6d1aad16",
   "metadata": {},
   "outputs": [],
   "source": [
    "c_rolling = lib.c_rolling\n",
    "c_rolling.restype = None\n",
    "c_rolling.argtypes = [ndpointer(ctypes.c_double, flags=\"C_CONTIGUOUS\"), ctypes.c_int, ctypes.c_int, ndpointer(ctypes.c_double, flags=\"C_CONTIGUOUS\")]"
   ]
  },
  {
   "cell_type": "code",
   "execution_count": 5,
   "id": "eb240455-b05f-436b-9996-988ffe12b552",
   "metadata": {},
   "outputs": [],
   "source": [
    "def rolling_average(series: pd.Series, window_length: int=3):\n",
    "    indata = series.to_numpy(dtype=np.float64)\n",
    "    nrows = series.shape[0]\n",
    "    outdata = np.zeros([nrows], dtype=np.float64)\n",
    "    c_rolling(indata, nrows, window_length, outdata)\n",
    "    outdata[:(window_length - 1)] = np.NaN\n",
    "    return pd.Series(outdata)"
   ]
  },
  {
   "cell_type": "code",
   "execution_count": 6,
   "id": "95023179-694a-461b-8a95-73103c3668b4",
   "metadata": {},
   "outputs": [],
   "source": [
    "series = pd.Series([1, 2, 3, 4, 5, 6, 7, 8, 9, 10])"
   ]
  },
  {
   "cell_type": "code",
   "execution_count": 7,
   "id": "d7ba0ccd-2bf9-4eb7-90f3-4425f4693f9f",
   "metadata": {},
   "outputs": [
    {
     "data": {
      "text/plain": [
       "0    NaN\n",
       "1    NaN\n",
       "2    2.0\n",
       "3    3.0\n",
       "4    4.0\n",
       "5    5.0\n",
       "6    6.0\n",
       "7    7.0\n",
       "8    8.0\n",
       "9    9.0\n",
       "dtype: float64"
      ]
     },
     "execution_count": 7,
     "metadata": {},
     "output_type": "execute_result"
    }
   ],
   "source": [
    "rolling_average(series, 3)"
   ]
  },
  {
   "cell_type": "code",
   "execution_count": 8,
   "id": "fd5e0bb0-be73-4aef-acc5-91fe364c5861",
   "metadata": {},
   "outputs": [
    {
     "data": {
      "text/plain": [
       "0    NaN\n",
       "1    NaN\n",
       "2    NaN\n",
       "3    2.5\n",
       "4    3.5\n",
       "5    4.5\n",
       "6    5.5\n",
       "7    6.5\n",
       "8    7.5\n",
       "9    8.5\n",
       "dtype: float64"
      ]
     },
     "execution_count": 8,
     "metadata": {},
     "output_type": "execute_result"
    }
   ],
   "source": [
    "rolling_average(series, 4)"
   ]
  }
 ],
 "metadata": {
  "environment": {
   "kernel": "propensity-to-buy",
   "name": "tf2-cpu.2-8.m89",
   "type": "gcloud",
   "uri": "gcr.io/deeplearning-platform-release/tf2-cpu.2-8:m89"
  },
  "kernelspec": {
   "display_name": "propensity-to-buy",
   "language": "python",
   "name": "propensity-to-buy"
  },
  "language_info": {
   "codemirror_mode": {
    "name": "ipython",
    "version": 3
   },
   "file_extension": ".py",
   "mimetype": "text/x-python",
   "name": "python",
   "nbconvert_exporter": "python",
   "pygments_lexer": "ipython3",
   "version": "3.7.12"
  }
 },
 "nbformat": 4,
 "nbformat_minor": 5
}

{
  "nbformat": 4,
  "nbformat_minor": 0,
  "metadata": {
    "colab": {
      "name": "pandas tips and tricks.ipynb",
      "provenance": []
    },
    "kernelspec": {
      "name": "python3",
      "display_name": "Python 3"
    },
    "language_info": {
      "name": "python"
    }
  },
  "cells": [
    {
      "cell_type": "code",
      "execution_count": 1,
      "metadata": {
        "id": "lJH-ZsuDXg1a"
      },
      "outputs": [],
      "source": [
        "import pandas as pd\n",
        "from pathlib import Path\n",
        "import numpy as np\n",
        "import datetime"
      ]
    },
    {
      "cell_type": "markdown",
      "source": [
        "Get a largish dataset to demo (Wikidata9M dataset is the whole revision history of wikidata for the last ~9 years in the form of triples, the unzipped file is ~300MB in size)"
      ],
      "metadata": {
        "id": "HgatzzKBdsj4"
      }
    },
    {
      "cell_type": "code",
      "source": [
        "!wget https://github.com/rlafraie/Wikidata9M/raw/main/Wikidata9M.txt.bz2 && bzip2 -d  Wikidata9M.txt.bz2"
      ],
      "metadata": {
        "colab": {
          "base_uri": "https://localhost:8080/"
        },
        "id": "2o-ZHnh_dqt-",
        "outputId": "5af7559b-a91a-45cb-e049-05dc2604a931"
      },
      "execution_count": null,
      "outputs": [
        {
          "output_type": "stream",
          "name": "stdout",
          "text": [
            "--2022-08-06 20:41:02--  https://github.com/rlafraie/Wikidata9M/raw/main/Wikidata9M.txt.bz2\n",
            "Resolving github.com (github.com)... 140.82.113.4\n",
            "Connecting to github.com (github.com)|140.82.113.4|:443... connected.\n",
            "HTTP request sent, awaiting response... 302 Found\n",
            "Location: https://raw.githubusercontent.com/rlafraie/Wikidata9M/main/Wikidata9M.txt.bz2 [following]\n",
            "--2022-08-06 20:41:03--  https://raw.githubusercontent.com/rlafraie/Wikidata9M/main/Wikidata9M.txt.bz2\n",
            "Resolving raw.githubusercontent.com (raw.githubusercontent.com)... 185.199.108.133, 185.199.110.133, 185.199.109.133, ...\n",
            "Connecting to raw.githubusercontent.com (raw.githubusercontent.com)|185.199.108.133|:443... connected.\n",
            "HTTP request sent, awaiting response... 200 OK\n",
            "Length: 63283797 (60M) [application/octet-stream]\n",
            "Saving to: ‘Wikidata9M.txt.bz2’\n",
            "\n",
            "Wikidata9M.txt.bz2  100%[===================>]  60.35M  95.8MB/s    in 0.6s    \n",
            "\n",
            "2022-08-06 20:41:04 (95.8 MB/s) - ‘Wikidata9M.txt.bz2’ saved [63283797/63283797]\n",
            "\n",
            "bzip2: Output file Wikidata9M.txt already exists.\n"
          ]
        }
      ]
    },
    {
      "cell_type": "code",
      "source": [
        "!ls -l --block-size=M"
      ],
      "metadata": {
        "colab": {
          "base_uri": "https://localhost:8080/"
        },
        "id": "5C8lzqjFd6iD",
        "outputId": "39d7af9b-b032-4b8f-def5-18761e9f8ac8"
      },
      "execution_count": null,
      "outputs": [
        {
          "output_type": "stream",
          "name": "stdout",
          "text": [
            "total 423M\n",
            "drwxr-xr-x 1 root root   1M Aug  3 20:21 sample_data\n",
            "-rw-r--r-- 1 root root 363M Aug  6 18:41 Wikidata9M.txt\n",
            "-rw-r--r-- 1 root root  61M Aug  6 20:41 Wikidata9M.txt.bz2\n"
          ]
        }
      ]
    },
    {
      "cell_type": "markdown",
      "source": [
        "Separators for loading csv files: \n",
        "\n",
        "The file also has unconventional separator (it's a space, not tab or comma)"
      ],
      "metadata": {
        "id": "K6mxl6CNeu6f"
      }
    },
    {
      "cell_type": "code",
      "source": [
        "!head Wikidata9M.txt"
      ],
      "metadata": {
        "colab": {
          "base_uri": "https://localhost:8080/"
        },
        "id": "DT_mjBagepHw",
        "outputId": "1b92e478-e347-400b-a165-d4103632e5e8"
      },
      "execution_count": null,
      "outputs": [
        {
          "output_type": "stream",
          "name": "stdout",
          "text": [
            "60 607 6 + 2013-02-04T19:22:48Z\n",
            "220 463130 6 + 2013-02-04T19:25:58Z\n",
            "648 228977 6 + 2013-02-04T19:35:04Z\n",
            "220 38 17 + 2013-02-04T19:44:51Z\n",
            "2135 16 17 + 2013-02-04T19:45:13Z\n",
            "90 142 17 + 2013-02-04T19:46:08Z\n",
            "90 256294 6 + 2013-02-04T19:46:48Z\n",
            "1948 16 17 + 2013-02-04T19:47:33Z\n",
            "84 145 17 + 2013-02-04T19:49:23Z\n",
            "1384 30 17 + 2013-02-04T19:50:20Z\n"
          ]
        }
      ]
    },
    {
      "cell_type": "markdown",
      "source": [
        "For example, if you try to use the tab as separator:"
      ],
      "metadata": {
        "id": "sb0sDDhmfWQX"
      }
    },
    {
      "cell_type": "code",
      "source": [
        "try:\n",
        "    df = pd.read_csv('Wikidata9M.txt', header=None, names =['subject', 'object', 'predicate', 'change', 'timestamp'], sep='\\t')\n",
        "except Exception as e:\n",
        "    print(f'error: {e}')"
      ],
      "metadata": {
        "id": "ATX00uLIe3d-"
      },
      "execution_count": null,
      "outputs": []
    },
    {
      "cell_type": "code",
      "source": [
        "df.head()"
      ],
      "metadata": {
        "colab": {
          "base_uri": "https://localhost:8080/",
          "height": 206
        },
        "id": "glW_jt92dJs1",
        "outputId": "c4a63988-5c1b-41d4-9b75-88029a4c759e"
      },
      "execution_count": null,
      "outputs": [
        {
          "output_type": "execute_result",
          "data": {
            "text/plain": [
              "                               subject  object  predicate  change  timestamp\n",
              "0      60 607 6 + 2013-02-04T19:22:48Z     NaN        NaN     NaN        NaN\n",
              "1  220 463130 6 + 2013-02-04T19:25:58Z     NaN        NaN     NaN        NaN\n",
              "2  648 228977 6 + 2013-02-04T19:35:04Z     NaN        NaN     NaN        NaN\n",
              "3     220 38 17 + 2013-02-04T19:44:51Z     NaN        NaN     NaN        NaN\n",
              "4    2135 16 17 + 2013-02-04T19:45:13Z     NaN        NaN     NaN        NaN"
            ],
            "text/html": [
              "\n",
              "  <div id=\"df-e10d953a-fcfe-4bdf-baaf-afcd6fbecce1\">\n",
              "    <div class=\"colab-df-container\">\n",
              "      <div>\n",
              "<style scoped>\n",
              "    .dataframe tbody tr th:only-of-type {\n",
              "        vertical-align: middle;\n",
              "    }\n",
              "\n",
              "    .dataframe tbody tr th {\n",
              "        vertical-align: top;\n",
              "    }\n",
              "\n",
              "    .dataframe thead th {\n",
              "        text-align: right;\n",
              "    }\n",
              "</style>\n",
              "<table border=\"1\" class=\"dataframe\">\n",
              "  <thead>\n",
              "    <tr style=\"text-align: right;\">\n",
              "      <th></th>\n",
              "      <th>subject</th>\n",
              "      <th>object</th>\n",
              "      <th>predicate</th>\n",
              "      <th>change</th>\n",
              "      <th>timestamp</th>\n",
              "    </tr>\n",
              "  </thead>\n",
              "  <tbody>\n",
              "    <tr>\n",
              "      <th>0</th>\n",
              "      <td>60 607 6 + 2013-02-04T19:22:48Z</td>\n",
              "      <td>NaN</td>\n",
              "      <td>NaN</td>\n",
              "      <td>NaN</td>\n",
              "      <td>NaN</td>\n",
              "    </tr>\n",
              "    <tr>\n",
              "      <th>1</th>\n",
              "      <td>220 463130 6 + 2013-02-04T19:25:58Z</td>\n",
              "      <td>NaN</td>\n",
              "      <td>NaN</td>\n",
              "      <td>NaN</td>\n",
              "      <td>NaN</td>\n",
              "    </tr>\n",
              "    <tr>\n",
              "      <th>2</th>\n",
              "      <td>648 228977 6 + 2013-02-04T19:35:04Z</td>\n",
              "      <td>NaN</td>\n",
              "      <td>NaN</td>\n",
              "      <td>NaN</td>\n",
              "      <td>NaN</td>\n",
              "    </tr>\n",
              "    <tr>\n",
              "      <th>3</th>\n",
              "      <td>220 38 17 + 2013-02-04T19:44:51Z</td>\n",
              "      <td>NaN</td>\n",
              "      <td>NaN</td>\n",
              "      <td>NaN</td>\n",
              "      <td>NaN</td>\n",
              "    </tr>\n",
              "    <tr>\n",
              "      <th>4</th>\n",
              "      <td>2135 16 17 + 2013-02-04T19:45:13Z</td>\n",
              "      <td>NaN</td>\n",
              "      <td>NaN</td>\n",
              "      <td>NaN</td>\n",
              "      <td>NaN</td>\n",
              "    </tr>\n",
              "  </tbody>\n",
              "</table>\n",
              "</div>\n",
              "      <button class=\"colab-df-convert\" onclick=\"convertToInteractive('df-e10d953a-fcfe-4bdf-baaf-afcd6fbecce1')\"\n",
              "              title=\"Convert this dataframe to an interactive table.\"\n",
              "              style=\"display:none;\">\n",
              "        \n",
              "  <svg xmlns=\"http://www.w3.org/2000/svg\" height=\"24px\"viewBox=\"0 0 24 24\"\n",
              "       width=\"24px\">\n",
              "    <path d=\"M0 0h24v24H0V0z\" fill=\"none\"/>\n",
              "    <path d=\"M18.56 5.44l.94 2.06.94-2.06 2.06-.94-2.06-.94-.94-2.06-.94 2.06-2.06.94zm-11 1L8.5 8.5l.94-2.06 2.06-.94-2.06-.94L8.5 2.5l-.94 2.06-2.06.94zm10 10l.94 2.06.94-2.06 2.06-.94-2.06-.94-.94-2.06-.94 2.06-2.06.94z\"/><path d=\"M17.41 7.96l-1.37-1.37c-.4-.4-.92-.59-1.43-.59-.52 0-1.04.2-1.43.59L10.3 9.45l-7.72 7.72c-.78.78-.78 2.05 0 2.83L4 21.41c.39.39.9.59 1.41.59.51 0 1.02-.2 1.41-.59l7.78-7.78 2.81-2.81c.8-.78.8-2.07 0-2.86zM5.41 20L4 18.59l7.72-7.72 1.47 1.35L5.41 20z\"/>\n",
              "  </svg>\n",
              "      </button>\n",
              "      \n",
              "  <style>\n",
              "    .colab-df-container {\n",
              "      display:flex;\n",
              "      flex-wrap:wrap;\n",
              "      gap: 12px;\n",
              "    }\n",
              "\n",
              "    .colab-df-convert {\n",
              "      background-color: #E8F0FE;\n",
              "      border: none;\n",
              "      border-radius: 50%;\n",
              "      cursor: pointer;\n",
              "      display: none;\n",
              "      fill: #1967D2;\n",
              "      height: 32px;\n",
              "      padding: 0 0 0 0;\n",
              "      width: 32px;\n",
              "    }\n",
              "\n",
              "    .colab-df-convert:hover {\n",
              "      background-color: #E2EBFA;\n",
              "      box-shadow: 0px 1px 2px rgba(60, 64, 67, 0.3), 0px 1px 3px 1px rgba(60, 64, 67, 0.15);\n",
              "      fill: #174EA6;\n",
              "    }\n",
              "\n",
              "    [theme=dark] .colab-df-convert {\n",
              "      background-color: #3B4455;\n",
              "      fill: #D2E3FC;\n",
              "    }\n",
              "\n",
              "    [theme=dark] .colab-df-convert:hover {\n",
              "      background-color: #434B5C;\n",
              "      box-shadow: 0px 1px 3px 1px rgba(0, 0, 0, 0.15);\n",
              "      filter: drop-shadow(0px 1px 2px rgba(0, 0, 0, 0.3));\n",
              "      fill: #FFFFFF;\n",
              "    }\n",
              "  </style>\n",
              "\n",
              "      <script>\n",
              "        const buttonEl =\n",
              "          document.querySelector('#df-e10d953a-fcfe-4bdf-baaf-afcd6fbecce1 button.colab-df-convert');\n",
              "        buttonEl.style.display =\n",
              "          google.colab.kernel.accessAllowed ? 'block' : 'none';\n",
              "\n",
              "        async function convertToInteractive(key) {\n",
              "          const element = document.querySelector('#df-e10d953a-fcfe-4bdf-baaf-afcd6fbecce1');\n",
              "          const dataTable =\n",
              "            await google.colab.kernel.invokeFunction('convertToInteractive',\n",
              "                                                     [key], {});\n",
              "          if (!dataTable) return;\n",
              "\n",
              "          const docLinkHtml = 'Like what you see? Visit the ' +\n",
              "            '<a target=\"_blank\" href=https://colab.research.google.com/notebooks/data_table.ipynb>data table notebook</a>'\n",
              "            + ' to learn more about interactive tables.';\n",
              "          element.innerHTML = '';\n",
              "          dataTable['output_type'] = 'display_data';\n",
              "          await google.colab.output.renderOutput(dataTable, element);\n",
              "          const docLink = document.createElement('div');\n",
              "          docLink.innerHTML = docLinkHtml;\n",
              "          element.appendChild(docLink);\n",
              "        }\n",
              "      </script>\n",
              "    </div>\n",
              "  </div>\n",
              "  "
            ]
          },
          "metadata": {},
          "execution_count": 42
        }
      ]
    },
    {
      "cell_type": "markdown",
      "source": [
        "But you can use `\\s+` to use a space as separator"
      ],
      "metadata": {
        "id": "HWC1ZxmWfZ2H"
      }
    },
    {
      "cell_type": "code",
      "source": [
        "try:\n",
        "    df = pd.read_csv('Wikidata9M.txt', header=None, names =['subject', 'object', 'predicate', 'change', 'timestamp'], sep='\\s+')\n",
        "except Exception as e:\n",
        "    print(f'error: {e}')\n",
        "df.head()"
      ],
      "metadata": {
        "colab": {
          "base_uri": "https://localhost:8080/",
          "height": 206
        },
        "id": "Esi0VZPDdLEz",
        "outputId": "8cb94a08-95a7-4772-a610-453be1c15c44"
      },
      "execution_count": null,
      "outputs": [
        {
          "output_type": "execute_result",
          "data": {
            "text/plain": [
              "   subject  object  predicate change             timestamp\n",
              "0       60     607          6      +  2013-02-04T19:22:48Z\n",
              "1      220  463130          6      +  2013-02-04T19:25:58Z\n",
              "2      648  228977          6      +  2013-02-04T19:35:04Z\n",
              "3      220      38         17      +  2013-02-04T19:44:51Z\n",
              "4     2135      16         17      +  2013-02-04T19:45:13Z"
            ],
            "text/html": [
              "\n",
              "  <div id=\"df-40117496-010e-450b-8d6f-c6615cea167f\">\n",
              "    <div class=\"colab-df-container\">\n",
              "      <div>\n",
              "<style scoped>\n",
              "    .dataframe tbody tr th:only-of-type {\n",
              "        vertical-align: middle;\n",
              "    }\n",
              "\n",
              "    .dataframe tbody tr th {\n",
              "        vertical-align: top;\n",
              "    }\n",
              "\n",
              "    .dataframe thead th {\n",
              "        text-align: right;\n",
              "    }\n",
              "</style>\n",
              "<table border=\"1\" class=\"dataframe\">\n",
              "  <thead>\n",
              "    <tr style=\"text-align: right;\">\n",
              "      <th></th>\n",
              "      <th>subject</th>\n",
              "      <th>object</th>\n",
              "      <th>predicate</th>\n",
              "      <th>change</th>\n",
              "      <th>timestamp</th>\n",
              "    </tr>\n",
              "  </thead>\n",
              "  <tbody>\n",
              "    <tr>\n",
              "      <th>0</th>\n",
              "      <td>60</td>\n",
              "      <td>607</td>\n",
              "      <td>6</td>\n",
              "      <td>+</td>\n",
              "      <td>2013-02-04T19:22:48Z</td>\n",
              "    </tr>\n",
              "    <tr>\n",
              "      <th>1</th>\n",
              "      <td>220</td>\n",
              "      <td>463130</td>\n",
              "      <td>6</td>\n",
              "      <td>+</td>\n",
              "      <td>2013-02-04T19:25:58Z</td>\n",
              "    </tr>\n",
              "    <tr>\n",
              "      <th>2</th>\n",
              "      <td>648</td>\n",
              "      <td>228977</td>\n",
              "      <td>6</td>\n",
              "      <td>+</td>\n",
              "      <td>2013-02-04T19:35:04Z</td>\n",
              "    </tr>\n",
              "    <tr>\n",
              "      <th>3</th>\n",
              "      <td>220</td>\n",
              "      <td>38</td>\n",
              "      <td>17</td>\n",
              "      <td>+</td>\n",
              "      <td>2013-02-04T19:44:51Z</td>\n",
              "    </tr>\n",
              "    <tr>\n",
              "      <th>4</th>\n",
              "      <td>2135</td>\n",
              "      <td>16</td>\n",
              "      <td>17</td>\n",
              "      <td>+</td>\n",
              "      <td>2013-02-04T19:45:13Z</td>\n",
              "    </tr>\n",
              "  </tbody>\n",
              "</table>\n",
              "</div>\n",
              "      <button class=\"colab-df-convert\" onclick=\"convertToInteractive('df-40117496-010e-450b-8d6f-c6615cea167f')\"\n",
              "              title=\"Convert this dataframe to an interactive table.\"\n",
              "              style=\"display:none;\">\n",
              "        \n",
              "  <svg xmlns=\"http://www.w3.org/2000/svg\" height=\"24px\"viewBox=\"0 0 24 24\"\n",
              "       width=\"24px\">\n",
              "    <path d=\"M0 0h24v24H0V0z\" fill=\"none\"/>\n",
              "    <path d=\"M18.56 5.44l.94 2.06.94-2.06 2.06-.94-2.06-.94-.94-2.06-.94 2.06-2.06.94zm-11 1L8.5 8.5l.94-2.06 2.06-.94-2.06-.94L8.5 2.5l-.94 2.06-2.06.94zm10 10l.94 2.06.94-2.06 2.06-.94-2.06-.94-.94-2.06-.94 2.06-2.06.94z\"/><path d=\"M17.41 7.96l-1.37-1.37c-.4-.4-.92-.59-1.43-.59-.52 0-1.04.2-1.43.59L10.3 9.45l-7.72 7.72c-.78.78-.78 2.05 0 2.83L4 21.41c.39.39.9.59 1.41.59.51 0 1.02-.2 1.41-.59l7.78-7.78 2.81-2.81c.8-.78.8-2.07 0-2.86zM5.41 20L4 18.59l7.72-7.72 1.47 1.35L5.41 20z\"/>\n",
              "  </svg>\n",
              "      </button>\n",
              "      \n",
              "  <style>\n",
              "    .colab-df-container {\n",
              "      display:flex;\n",
              "      flex-wrap:wrap;\n",
              "      gap: 12px;\n",
              "    }\n",
              "\n",
              "    .colab-df-convert {\n",
              "      background-color: #E8F0FE;\n",
              "      border: none;\n",
              "      border-radius: 50%;\n",
              "      cursor: pointer;\n",
              "      display: none;\n",
              "      fill: #1967D2;\n",
              "      height: 32px;\n",
              "      padding: 0 0 0 0;\n",
              "      width: 32px;\n",
              "    }\n",
              "\n",
              "    .colab-df-convert:hover {\n",
              "      background-color: #E2EBFA;\n",
              "      box-shadow: 0px 1px 2px rgba(60, 64, 67, 0.3), 0px 1px 3px 1px rgba(60, 64, 67, 0.15);\n",
              "      fill: #174EA6;\n",
              "    }\n",
              "\n",
              "    [theme=dark] .colab-df-convert {\n",
              "      background-color: #3B4455;\n",
              "      fill: #D2E3FC;\n",
              "    }\n",
              "\n",
              "    [theme=dark] .colab-df-convert:hover {\n",
              "      background-color: #434B5C;\n",
              "      box-shadow: 0px 1px 3px 1px rgba(0, 0, 0, 0.15);\n",
              "      filter: drop-shadow(0px 1px 2px rgba(0, 0, 0, 0.3));\n",
              "      fill: #FFFFFF;\n",
              "    }\n",
              "  </style>\n",
              "\n",
              "      <script>\n",
              "        const buttonEl =\n",
              "          document.querySelector('#df-40117496-010e-450b-8d6f-c6615cea167f button.colab-df-convert');\n",
              "        buttonEl.style.display =\n",
              "          google.colab.kernel.accessAllowed ? 'block' : 'none';\n",
              "\n",
              "        async function convertToInteractive(key) {\n",
              "          const element = document.querySelector('#df-40117496-010e-450b-8d6f-c6615cea167f');\n",
              "          const dataTable =\n",
              "            await google.colab.kernel.invokeFunction('convertToInteractive',\n",
              "                                                     [key], {});\n",
              "          if (!dataTable) return;\n",
              "\n",
              "          const docLinkHtml = 'Like what you see? Visit the ' +\n",
              "            '<a target=\"_blank\" href=https://colab.research.google.com/notebooks/data_table.ipynb>data table notebook</a>'\n",
              "            + ' to learn more about interactive tables.';\n",
              "          element.innerHTML = '';\n",
              "          dataTable['output_type'] = 'display_data';\n",
              "          await google.colab.output.renderOutput(dataTable, element);\n",
              "          const docLink = document.createElement('div');\n",
              "          docLink.innerHTML = docLinkHtml;\n",
              "          element.appendChild(docLink);\n",
              "        }\n",
              "      </script>\n",
              "    </div>\n",
              "  </div>\n",
              "  "
            ]
          },
          "metadata": {},
          "execution_count": 43
        }
      ]
    },
    {
      "cell_type": "markdown",
      "source": [
        "If you know a column is a categorical value, you can shrink memory usage by converting it to categorical column (you can see that we have saved ~100MB) by doing this on all 4 of the categorical columns. As expected, columns with less unique values shrink more)"
      ],
      "metadata": {
        "id": "oQe3Bd3Af89I"
      }
    },
    {
      "cell_type": "code",
      "source": [
        "# starting point\n",
        "print(df.memory_usage(index=False))\n",
        "print(f'total memory: {df.memory_usage(index=False).sum() / 1e6}MB')"
      ],
      "metadata": {
        "colab": {
          "base_uri": "https://localhost:8080/"
        },
        "id": "Z2McS9uFdM5E",
        "outputId": "fe05aefd-7b90-4e6e-ba15-4001cb3dd8e8"
      },
      "execution_count": null,
      "outputs": [
        {
          "output_type": "stream",
          "name": "stdout",
          "text": [
            "subject      73809744\n",
            "object       73809744\n",
            "predicate    73809744\n",
            "change       73809744\n",
            "timestamp    73809744\n",
            "dtype: int64\n",
            "total memory: 369.04872MB\n"
          ]
        }
      ]
    },
    {
      "cell_type": "code",
      "source": [
        "df.nunique()"
      ],
      "metadata": {
        "colab": {
          "base_uri": "https://localhost:8080/"
        },
        "id": "ViTihaBQgJ2K",
        "outputId": "5f956a42-f485-4440-b918-0e907a56e4aa"
      },
      "execution_count": null,
      "outputs": [
        {
          "output_type": "execute_result",
          "data": {
            "text/plain": [
              "subject       432041\n",
              "object        199149\n",
              "predicate        407\n",
              "change             2\n",
              "timestamp    7877544\n",
              "dtype: int64"
            ]
          },
          "metadata": {},
          "execution_count": 45
        }
      ]
    },
    {
      "cell_type": "code",
      "source": [
        "df['subject'] = df['subject'].astype('category')\n",
        "print('converting subject to categorical')\n",
        "print(f'total memory: {df.memory_usage(index=False).sum() / 1e6}MB')\n",
        "print('-----------------------------------------------')\n",
        "\n",
        "print('converting object to categorical')\n",
        "df['object'] = df['object'].astype('category')\n",
        "print(f'total memory: {df.memory_usage(index=False).sum() / 1e6}MB')\n",
        "print('-----------------------------------------------')\n",
        "\n",
        "print('converting predicate to categorical')\n",
        "df['predicate'] = df['predicate'].astype('category')\n",
        "print(f'total memory: {df.memory_usage(index=False).sum() / 1e6}MB')\n",
        "print('-----------------------------------------------')\n",
        "\n",
        "print('converting change to categorical')\n",
        "df['change'] = df['change'].astype('category')\n",
        "print(f'total memory: {df.memory_usage(index=False).sum() / 1e6}MB')\n",
        "print('-----------------------------------------------')"
      ],
      "metadata": {
        "colab": {
          "base_uri": "https://localhost:8080/"
        },
        "id": "nj6aEgKrfpfe",
        "outputId": "bf6427b0-91ee-45c2-e54a-9706b72b53be"
      },
      "execution_count": null,
      "outputs": [
        {
          "output_type": "stream",
          "name": "stdout",
          "text": [
            "converting subject to categorical\n",
            "total memory: 352.508504MB\n",
            "-----------------------------------------------\n",
            "converting object to categorical\n",
            "total memory: 321.423936MB\n",
            "-----------------------------------------------\n",
            "converting predicate to categorical\n",
            "total memory: 266.086436MB\n",
            "-----------------------------------------------\n",
            "converting change to categorical\n",
            "total memory: 201.503034MB\n",
            "-----------------------------------------------\n"
          ]
        }
      ]
    },
    {
      "cell_type": "code",
      "source": [
        "df['timestamp'] = pd.to_datetime(df['timestamp'] )\n",
        "print(f'total memory: {df.memory_usage(index=False).sum() / 1e6}MB')"
      ],
      "metadata": {
        "colab": {
          "base_uri": "https://localhost:8080/"
        },
        "id": "VG5pVnHvf63W",
        "outputId": "8d72454b-afdd-4d2e-e713-cbb814e9bdcc"
      },
      "execution_count": null,
      "outputs": [
        {
          "output_type": "stream",
          "name": "stdout",
          "text": [
            "total memory: 201.503034MB\n"
          ]
        }
      ]
    },
    {
      "cell_type": "markdown",
      "source": [
        "Named Aggregations: it lets us do many different operations after the dataframe has been grouped in a tidy way that is easy to read. You can also use a custom function which is really handy"
      ],
      "metadata": {
        "id": "oz5A8x6shm__"
      }
    },
    {
      "cell_type": "code",
      "source": [
        "group_demo = df.groupby('change').agg(\n",
        "    min_time=pd.NamedAgg(column=\"timestamp\", aggfunc=\"min\"),\n",
        "    count_unique_subjects=pd.NamedAgg(column=\"subject\", aggfunc=lambda x: len(x.drop_duplicates())),\n",
        ")\n",
        "group_demo"
      ],
      "metadata": {
        "colab": {
          "base_uri": "https://localhost:8080/",
          "height": 143
        },
        "id": "e7erNOAjhaTi",
        "outputId": "93ae670c-0f01-4366-a36a-36aa6971a140"
      },
      "execution_count": null,
      "outputs": [
        {
          "output_type": "execute_result",
          "data": {
            "text/plain": [
              "                        min_time  count_unique_subjects\n",
              "change                                                 \n",
              "+      2013-02-04 19:22:48+00:00                 432041\n",
              "-      2013-02-04 20:09:09+00:00                 274446"
            ],
            "text/html": [
              "\n",
              "  <div id=\"df-766ac2ad-6ebe-4f43-ac1d-18890b764cc7\">\n",
              "    <div class=\"colab-df-container\">\n",
              "      <div>\n",
              "<style scoped>\n",
              "    .dataframe tbody tr th:only-of-type {\n",
              "        vertical-align: middle;\n",
              "    }\n",
              "\n",
              "    .dataframe tbody tr th {\n",
              "        vertical-align: top;\n",
              "    }\n",
              "\n",
              "    .dataframe thead th {\n",
              "        text-align: right;\n",
              "    }\n",
              "</style>\n",
              "<table border=\"1\" class=\"dataframe\">\n",
              "  <thead>\n",
              "    <tr style=\"text-align: right;\">\n",
              "      <th></th>\n",
              "      <th>min_time</th>\n",
              "      <th>count_unique_subjects</th>\n",
              "    </tr>\n",
              "    <tr>\n",
              "      <th>change</th>\n",
              "      <th></th>\n",
              "      <th></th>\n",
              "    </tr>\n",
              "  </thead>\n",
              "  <tbody>\n",
              "    <tr>\n",
              "      <th>+</th>\n",
              "      <td>2013-02-04 19:22:48+00:00</td>\n",
              "      <td>432041</td>\n",
              "    </tr>\n",
              "    <tr>\n",
              "      <th>-</th>\n",
              "      <td>2013-02-04 20:09:09+00:00</td>\n",
              "      <td>274446</td>\n",
              "    </tr>\n",
              "  </tbody>\n",
              "</table>\n",
              "</div>\n",
              "      <button class=\"colab-df-convert\" onclick=\"convertToInteractive('df-766ac2ad-6ebe-4f43-ac1d-18890b764cc7')\"\n",
              "              title=\"Convert this dataframe to an interactive table.\"\n",
              "              style=\"display:none;\">\n",
              "        \n",
              "  <svg xmlns=\"http://www.w3.org/2000/svg\" height=\"24px\"viewBox=\"0 0 24 24\"\n",
              "       width=\"24px\">\n",
              "    <path d=\"M0 0h24v24H0V0z\" fill=\"none\"/>\n",
              "    <path d=\"M18.56 5.44l.94 2.06.94-2.06 2.06-.94-2.06-.94-.94-2.06-.94 2.06-2.06.94zm-11 1L8.5 8.5l.94-2.06 2.06-.94-2.06-.94L8.5 2.5l-.94 2.06-2.06.94zm10 10l.94 2.06.94-2.06 2.06-.94-2.06-.94-.94-2.06-.94 2.06-2.06.94z\"/><path d=\"M17.41 7.96l-1.37-1.37c-.4-.4-.92-.59-1.43-.59-.52 0-1.04.2-1.43.59L10.3 9.45l-7.72 7.72c-.78.78-.78 2.05 0 2.83L4 21.41c.39.39.9.59 1.41.59.51 0 1.02-.2 1.41-.59l7.78-7.78 2.81-2.81c.8-.78.8-2.07 0-2.86zM5.41 20L4 18.59l7.72-7.72 1.47 1.35L5.41 20z\"/>\n",
              "  </svg>\n",
              "      </button>\n",
              "      \n",
              "  <style>\n",
              "    .colab-df-container {\n",
              "      display:flex;\n",
              "      flex-wrap:wrap;\n",
              "      gap: 12px;\n",
              "    }\n",
              "\n",
              "    .colab-df-convert {\n",
              "      background-color: #E8F0FE;\n",
              "      border: none;\n",
              "      border-radius: 50%;\n",
              "      cursor: pointer;\n",
              "      display: none;\n",
              "      fill: #1967D2;\n",
              "      height: 32px;\n",
              "      padding: 0 0 0 0;\n",
              "      width: 32px;\n",
              "    }\n",
              "\n",
              "    .colab-df-convert:hover {\n",
              "      background-color: #E2EBFA;\n",
              "      box-shadow: 0px 1px 2px rgba(60, 64, 67, 0.3), 0px 1px 3px 1px rgba(60, 64, 67, 0.15);\n",
              "      fill: #174EA6;\n",
              "    }\n",
              "\n",
              "    [theme=dark] .colab-df-convert {\n",
              "      background-color: #3B4455;\n",
              "      fill: #D2E3FC;\n",
              "    }\n",
              "\n",
              "    [theme=dark] .colab-df-convert:hover {\n",
              "      background-color: #434B5C;\n",
              "      box-shadow: 0px 1px 3px 1px rgba(0, 0, 0, 0.15);\n",
              "      filter: drop-shadow(0px 1px 2px rgba(0, 0, 0, 0.3));\n",
              "      fill: #FFFFFF;\n",
              "    }\n",
              "  </style>\n",
              "\n",
              "      <script>\n",
              "        const buttonEl =\n",
              "          document.querySelector('#df-766ac2ad-6ebe-4f43-ac1d-18890b764cc7 button.colab-df-convert');\n",
              "        buttonEl.style.display =\n",
              "          google.colab.kernel.accessAllowed ? 'block' : 'none';\n",
              "\n",
              "        async function convertToInteractive(key) {\n",
              "          const element = document.querySelector('#df-766ac2ad-6ebe-4f43-ac1d-18890b764cc7');\n",
              "          const dataTable =\n",
              "            await google.colab.kernel.invokeFunction('convertToInteractive',\n",
              "                                                     [key], {});\n",
              "          if (!dataTable) return;\n",
              "\n",
              "          const docLinkHtml = 'Like what you see? Visit the ' +\n",
              "            '<a target=\"_blank\" href=https://colab.research.google.com/notebooks/data_table.ipynb>data table notebook</a>'\n",
              "            + ' to learn more about interactive tables.';\n",
              "          element.innerHTML = '';\n",
              "          dataTable['output_type'] = 'display_data';\n",
              "          await google.colab.output.renderOutput(dataTable, element);\n",
              "          const docLink = document.createElement('div');\n",
              "          docLink.innerHTML = docLinkHtml;\n",
              "          element.appendChild(docLink);\n",
              "        }\n",
              "      </script>\n",
              "    </div>\n",
              "  </div>\n",
              "  "
            ]
          },
          "metadata": {},
          "execution_count": 48
        }
      ]
    },
    {
      "cell_type": "markdown",
      "source": [
        "Axis: you can use 'columns'/'rows' to define (rather than remembering what axis=1/axis=0 means) \n",
        "\n",
        "axis is the direction along which to apply the compute (so for columsn you end up with something the same length as the starting)\n"
      ],
      "metadata": {
        "id": "CT4K5Vb_n18y"
      }
    },
    {
      "cell_type": "code",
      "source": [
        "subset = df[['subject', 'predicate']].astype(int)\n",
        "print('axis=columns:')\n",
        "print(subset.mean(axis='columns'))\n",
        "print('--------------------------------------')\n",
        "print('axis=rows')\n",
        "print(subset.mean(axis='rows'))"
      ],
      "metadata": {
        "colab": {
          "base_uri": "https://localhost:8080/"
        },
        "id": "cPOrdtiFnuXh",
        "outputId": "dca56018-5e56-4181-fcb9-3d10026e2cf8"
      },
      "execution_count": null,
      "outputs": [
        {
          "output_type": "stream",
          "name": "stdout",
          "text": [
            "axis=columns:\n",
            "0                33.0\n",
            "1               113.0\n",
            "2               327.0\n",
            "3               118.5\n",
            "4              1076.0\n",
            "              ...    \n",
            "9226213    28320937.0\n",
            "9226214    28321217.0\n",
            "9226215    28434570.5\n",
            "9226216    28435602.0\n",
            "9226217    21363256.5\n",
            "Length: 9226218, dtype: float64\n",
            "--------------------------------------\n",
            "axis=rows\n",
            "subject      6.619222e+06\n",
            "predicate    3.937370e+02\n",
            "dtype: float64\n"
          ]
        }
      ]
    },
    {
      "cell_type": "markdown",
      "source": [
        "Pivot tables work for strings too, you don't need to have a numerical aggregate"
      ],
      "metadata": {
        "id": "3txgKdIJhysV"
      }
    },
    {
      "cell_type": "code",
      "source": [
        "date_sequence1 = [datetime.date(2020, 4, 13), datetime.date(2020, 7, 15),\n",
        "       datetime.date(2020, 10, 15), datetime.date(2021, 1, 14),\n",
        "       datetime.date(2021, 4, 13), datetime.date(2021, 7, 15),\n",
        "       datetime.date(2021, 11, 4), datetime.date(2021, 11, 6)\n",
        "       ]\n",
        "\n",
        "date_sequence2 = [datetime.date(2020, 3, 13), datetime.date(2020, 6, 14),\n",
        "       datetime.date(2020, 9, 14), datetime.date(2020, 12, 14),\n",
        "       datetime.date(2021, 3, 13), datetime.date(2021, 6, 14),\n",
        "       datetime.date(2021, 9, 14), datetime.date(2021, 12, 14)]\n",
        "strings = [\n",
        "    'actor', 'beekeeper', 'cat', 'dog', 'elf', 'hippo', 'ghost', 'tent'\n",
        "]\n",
        "example = pd.DataFrame(data = dict(\n",
        "    date1 = date_sequence1,\n",
        "    date2 = date_sequence2,\n",
        "    text = strings)\n",
        ")\n",
        "\n",
        "pd.pivot_table(example,\n",
        "               index='date1', \n",
        "               columns='date2', \n",
        "                         values= ['text'],aggfunc=lambda x: ', '.join(x)\n",
        "                        ).fillna('')"
      ],
      "metadata": {
        "id": "MJajyf9Fhz72",
        "colab": {
          "base_uri": "https://localhost:8080/",
          "height": 359
        },
        "outputId": "4044de10-feb2-48fb-8a1f-826b1310b0ce"
      },
      "execution_count": 7,
      "outputs": [
        {
          "output_type": "execute_result",
          "data": {
            "text/plain": [
              "                 text                                                         \\\n",
              "date2      2020-03-13 2020-06-14 2020-09-14 2020-12-14 2021-03-13 2021-06-14   \n",
              "date1                                                                          \n",
              "2020-04-13      actor                                                          \n",
              "2020-07-15             beekeeper                                               \n",
              "2020-10-15                              cat                                    \n",
              "2021-01-14                                         dog                         \n",
              "2021-04-13                                                    elf              \n",
              "2021-07-15                                                             hippo   \n",
              "2021-11-04                                                                     \n",
              "2021-11-06                                                                     \n",
              "\n",
              "                                  \n",
              "date2      2021-09-14 2021-12-14  \n",
              "date1                             \n",
              "2020-04-13                        \n",
              "2020-07-15                        \n",
              "2020-10-15                        \n",
              "2021-01-14                        \n",
              "2021-04-13                        \n",
              "2021-07-15                        \n",
              "2021-11-04      ghost             \n",
              "2021-11-06                  tent  "
            ],
            "text/html": [
              "\n",
              "  <div id=\"df-601aba72-487e-4d0d-ba8f-9b1cc03769c6\">\n",
              "    <div class=\"colab-df-container\">\n",
              "      <div>\n",
              "<style scoped>\n",
              "    .dataframe tbody tr th:only-of-type {\n",
              "        vertical-align: middle;\n",
              "    }\n",
              "\n",
              "    .dataframe tbody tr th {\n",
              "        vertical-align: top;\n",
              "    }\n",
              "\n",
              "    .dataframe thead tr th {\n",
              "        text-align: left;\n",
              "    }\n",
              "\n",
              "    .dataframe thead tr:last-of-type th {\n",
              "        text-align: right;\n",
              "    }\n",
              "</style>\n",
              "<table border=\"1\" class=\"dataframe\">\n",
              "  <thead>\n",
              "    <tr>\n",
              "      <th></th>\n",
              "      <th colspan=\"8\" halign=\"left\">text</th>\n",
              "    </tr>\n",
              "    <tr>\n",
              "      <th>date2</th>\n",
              "      <th>2020-03-13</th>\n",
              "      <th>2020-06-14</th>\n",
              "      <th>2020-09-14</th>\n",
              "      <th>2020-12-14</th>\n",
              "      <th>2021-03-13</th>\n",
              "      <th>2021-06-14</th>\n",
              "      <th>2021-09-14</th>\n",
              "      <th>2021-12-14</th>\n",
              "    </tr>\n",
              "    <tr>\n",
              "      <th>date1</th>\n",
              "      <th></th>\n",
              "      <th></th>\n",
              "      <th></th>\n",
              "      <th></th>\n",
              "      <th></th>\n",
              "      <th></th>\n",
              "      <th></th>\n",
              "      <th></th>\n",
              "    </tr>\n",
              "  </thead>\n",
              "  <tbody>\n",
              "    <tr>\n",
              "      <th>2020-04-13</th>\n",
              "      <td>actor</td>\n",
              "      <td></td>\n",
              "      <td></td>\n",
              "      <td></td>\n",
              "      <td></td>\n",
              "      <td></td>\n",
              "      <td></td>\n",
              "      <td></td>\n",
              "    </tr>\n",
              "    <tr>\n",
              "      <th>2020-07-15</th>\n",
              "      <td></td>\n",
              "      <td>beekeeper</td>\n",
              "      <td></td>\n",
              "      <td></td>\n",
              "      <td></td>\n",
              "      <td></td>\n",
              "      <td></td>\n",
              "      <td></td>\n",
              "    </tr>\n",
              "    <tr>\n",
              "      <th>2020-10-15</th>\n",
              "      <td></td>\n",
              "      <td></td>\n",
              "      <td>cat</td>\n",
              "      <td></td>\n",
              "      <td></td>\n",
              "      <td></td>\n",
              "      <td></td>\n",
              "      <td></td>\n",
              "    </tr>\n",
              "    <tr>\n",
              "      <th>2021-01-14</th>\n",
              "      <td></td>\n",
              "      <td></td>\n",
              "      <td></td>\n",
              "      <td>dog</td>\n",
              "      <td></td>\n",
              "      <td></td>\n",
              "      <td></td>\n",
              "      <td></td>\n",
              "    </tr>\n",
              "    <tr>\n",
              "      <th>2021-04-13</th>\n",
              "      <td></td>\n",
              "      <td></td>\n",
              "      <td></td>\n",
              "      <td></td>\n",
              "      <td>elf</td>\n",
              "      <td></td>\n",
              "      <td></td>\n",
              "      <td></td>\n",
              "    </tr>\n",
              "    <tr>\n",
              "      <th>2021-07-15</th>\n",
              "      <td></td>\n",
              "      <td></td>\n",
              "      <td></td>\n",
              "      <td></td>\n",
              "      <td></td>\n",
              "      <td>hippo</td>\n",
              "      <td></td>\n",
              "      <td></td>\n",
              "    </tr>\n",
              "    <tr>\n",
              "      <th>2021-11-04</th>\n",
              "      <td></td>\n",
              "      <td></td>\n",
              "      <td></td>\n",
              "      <td></td>\n",
              "      <td></td>\n",
              "      <td></td>\n",
              "      <td>ghost</td>\n",
              "      <td></td>\n",
              "    </tr>\n",
              "    <tr>\n",
              "      <th>2021-11-06</th>\n",
              "      <td></td>\n",
              "      <td></td>\n",
              "      <td></td>\n",
              "      <td></td>\n",
              "      <td></td>\n",
              "      <td></td>\n",
              "      <td></td>\n",
              "      <td>tent</td>\n",
              "    </tr>\n",
              "  </tbody>\n",
              "</table>\n",
              "</div>\n",
              "      <button class=\"colab-df-convert\" onclick=\"convertToInteractive('df-601aba72-487e-4d0d-ba8f-9b1cc03769c6')\"\n",
              "              title=\"Convert this dataframe to an interactive table.\"\n",
              "              style=\"display:none;\">\n",
              "        \n",
              "  <svg xmlns=\"http://www.w3.org/2000/svg\" height=\"24px\"viewBox=\"0 0 24 24\"\n",
              "       width=\"24px\">\n",
              "    <path d=\"M0 0h24v24H0V0z\" fill=\"none\"/>\n",
              "    <path d=\"M18.56 5.44l.94 2.06.94-2.06 2.06-.94-2.06-.94-.94-2.06-.94 2.06-2.06.94zm-11 1L8.5 8.5l.94-2.06 2.06-.94-2.06-.94L8.5 2.5l-.94 2.06-2.06.94zm10 10l.94 2.06.94-2.06 2.06-.94-2.06-.94-.94-2.06-.94 2.06-2.06.94z\"/><path d=\"M17.41 7.96l-1.37-1.37c-.4-.4-.92-.59-1.43-.59-.52 0-1.04.2-1.43.59L10.3 9.45l-7.72 7.72c-.78.78-.78 2.05 0 2.83L4 21.41c.39.39.9.59 1.41.59.51 0 1.02-.2 1.41-.59l7.78-7.78 2.81-2.81c.8-.78.8-2.07 0-2.86zM5.41 20L4 18.59l7.72-7.72 1.47 1.35L5.41 20z\"/>\n",
              "  </svg>\n",
              "      </button>\n",
              "      \n",
              "  <style>\n",
              "    .colab-df-container {\n",
              "      display:flex;\n",
              "      flex-wrap:wrap;\n",
              "      gap: 12px;\n",
              "    }\n",
              "\n",
              "    .colab-df-convert {\n",
              "      background-color: #E8F0FE;\n",
              "      border: none;\n",
              "      border-radius: 50%;\n",
              "      cursor: pointer;\n",
              "      display: none;\n",
              "      fill: #1967D2;\n",
              "      height: 32px;\n",
              "      padding: 0 0 0 0;\n",
              "      width: 32px;\n",
              "    }\n",
              "\n",
              "    .colab-df-convert:hover {\n",
              "      background-color: #E2EBFA;\n",
              "      box-shadow: 0px 1px 2px rgba(60, 64, 67, 0.3), 0px 1px 3px 1px rgba(60, 64, 67, 0.15);\n",
              "      fill: #174EA6;\n",
              "    }\n",
              "\n",
              "    [theme=dark] .colab-df-convert {\n",
              "      background-color: #3B4455;\n",
              "      fill: #D2E3FC;\n",
              "    }\n",
              "\n",
              "    [theme=dark] .colab-df-convert:hover {\n",
              "      background-color: #434B5C;\n",
              "      box-shadow: 0px 1px 3px 1px rgba(0, 0, 0, 0.15);\n",
              "      filter: drop-shadow(0px 1px 2px rgba(0, 0, 0, 0.3));\n",
              "      fill: #FFFFFF;\n",
              "    }\n",
              "  </style>\n",
              "\n",
              "      <script>\n",
              "        const buttonEl =\n",
              "          document.querySelector('#df-601aba72-487e-4d0d-ba8f-9b1cc03769c6 button.colab-df-convert');\n",
              "        buttonEl.style.display =\n",
              "          google.colab.kernel.accessAllowed ? 'block' : 'none';\n",
              "\n",
              "        async function convertToInteractive(key) {\n",
              "          const element = document.querySelector('#df-601aba72-487e-4d0d-ba8f-9b1cc03769c6');\n",
              "          const dataTable =\n",
              "            await google.colab.kernel.invokeFunction('convertToInteractive',\n",
              "                                                     [key], {});\n",
              "          if (!dataTable) return;\n",
              "\n",
              "          const docLinkHtml = 'Like what you see? Visit the ' +\n",
              "            '<a target=\"_blank\" href=https://colab.research.google.com/notebooks/data_table.ipynb>data table notebook</a>'\n",
              "            + ' to learn more about interactive tables.';\n",
              "          element.innerHTML = '';\n",
              "          dataTable['output_type'] = 'display_data';\n",
              "          await google.colab.output.renderOutput(dataTable, element);\n",
              "          const docLink = document.createElement('div');\n",
              "          docLink.innerHTML = docLinkHtml;\n",
              "          element.appendChild(docLink);\n",
              "        }\n",
              "      </script>\n",
              "    </div>\n",
              "  </div>\n",
              "  "
            ]
          },
          "metadata": {},
          "execution_count": 7
        }
      ]
    },
    {
      "cell_type": "markdown",
      "source": [
        "Styling dataframes (more options here: https://pandas.pydata.org/pandas-docs/stable/user_guide/style.html)\n"
      ],
      "metadata": {
        "id": "6zUVSdjFh0la"
      }
    },
    {
      "cell_type": "code",
      "source": [
        "def custom_style(styler):\n",
        "    styler.set_caption(\"Wikidata info\")\n",
        "    styler.format(formatter={('count_unique_subjects'): \"{:,.0f}\",\n",
        "                           ('min_time'): lambda x: x.strftime('%d-%m-%Y'),\n",
        "                          })\n",
        "    styler.highlight_max(axis='rows', props='color:white; font-weight:bold; background-color:darkgreen;')\n",
        "    # this only works for pandas v1.4+\n",
        "    # styler.format_index(lambda v: 'delete' if v=='-' else 'add')\n",
        "\n",
        "    return styler\n",
        "\n",
        "\n",
        "group_demo.style.pipe(custom_style)"
      ],
      "metadata": {
        "colab": {
          "base_uri": "https://localhost:8080/",
          "height": 161
        },
        "id": "ncRhEm0wh2Yr",
        "outputId": "5af14062-ab6c-4a3f-c109-f0515f1049c2"
      },
      "execution_count": null,
      "outputs": [
        {
          "output_type": "execute_result",
          "data": {
            "text/plain": [
              "<pandas.io.formats.style.Styler at 0x7fcac1b1b610>"
            ],
            "text/html": [
              "<style type=\"text/css\">\n",
              "#T_55e76_row0_col1, #T_55e76_row1_col0 {\n",
              "  color: white;\n",
              "  font-weight: bold;\n",
              "  background-color: darkgreen;\n",
              "}\n",
              "</style>\n",
              "<table id=\"T_55e76_\" class=\"dataframe\">\n",
              "  <caption>Wikidata info</caption>\n",
              "  <thead>\n",
              "    <tr>\n",
              "      <th class=\"blank level0\" >&nbsp;</th>\n",
              "      <th class=\"col_heading level0 col0\" >min_time</th>\n",
              "      <th class=\"col_heading level0 col1\" >count_unique_subjects</th>\n",
              "    </tr>\n",
              "    <tr>\n",
              "      <th class=\"index_name level0\" >change</th>\n",
              "      <th class=\"blank col0\" >&nbsp;</th>\n",
              "      <th class=\"blank col1\" >&nbsp;</th>\n",
              "    </tr>\n",
              "  </thead>\n",
              "  <tbody>\n",
              "    <tr>\n",
              "      <th id=\"T_55e76_level0_row0\" class=\"row_heading level0 row0\" >+</th>\n",
              "      <td id=\"T_55e76_row0_col0\" class=\"data row0 col0\" >04-02-2013</td>\n",
              "      <td id=\"T_55e76_row0_col1\" class=\"data row0 col1\" >432,041</td>\n",
              "    </tr>\n",
              "    <tr>\n",
              "      <th id=\"T_55e76_level0_row1\" class=\"row_heading level0 row1\" >-</th>\n",
              "      <td id=\"T_55e76_row1_col0\" class=\"data row1 col0\" >04-02-2013</td>\n",
              "      <td id=\"T_55e76_row1_col1\" class=\"data row1 col1\" >274,446</td>\n",
              "    </tr>\n",
              "  </tbody>\n",
              "</table>\n"
            ]
          },
          "metadata": {},
          "execution_count": 76
        }
      ]
    },
    {
      "cell_type": "code",
      "source": [
        ""
      ],
      "metadata": {
        "id": "1d8Ie3lxBGpD"
      },
      "execution_count": null,
      "outputs": []
    }
  ]
}
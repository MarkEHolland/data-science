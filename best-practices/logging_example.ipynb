{
 "cells": [
  {
   "cell_type": "markdown",
   "id": "507a0de1-9f3d-49de-a51c-50585d5ed603",
   "metadata": {},
   "source": [
    "# Generate logs using logging"
   ]
  },
  {
   "cell_type": "code",
   "execution_count": 1,
   "id": "ee806c1a-b4f6-432c-9ec0-e12542c44a05",
   "metadata": {},
   "outputs": [
    {
     "name": "stderr",
     "output_type": "stream",
     "text": [
      " 2022-11-01 15:02:58,848 - INFO - Logging module is working\n",
      " 2022-11-01 15:02:58,850 - DEBUG - Start of program\n",
      " 2022-11-01 15:02:58,851 - DEBUG - Start of factorial(5)\n",
      " 2022-11-01 15:02:58,853 - DEBUG - i is 1, total is 1\n",
      " 2022-11-01 15:02:58,853 - DEBUG - i is 2, total is 2\n",
      " 2022-11-01 15:02:58,854 - DEBUG - i is 3, total is 6\n",
      " 2022-11-01 15:02:58,855 - DEBUG - i is 4, total is 24\n",
      " 2022-11-01 15:02:58,856 - DEBUG - i is 5, total is 120\n",
      " 2022-11-01 15:02:58,856 - DEBUG - End of factorial(5)\n",
      " 2022-11-01 15:02:58,857 - DEBUG - End of program\n"
     ]
    },
    {
     "name": "stdout",
     "output_type": "stream",
     "text": [
      "factorial(5) = 120\n"
     ]
    }
   ],
   "source": [
    "import logging\n",
    "\n",
    "# set the logging level to : DEBUG is lowest level; INFO general; WARNING potential problem; ERROR failure; CRITICAL fatal error.\n",
    "logging.basicConfig(level=logging.DEBUG,format=' %(asctime)s - %(levelname)s - %(message)s')\n",
    "#logging.disable()\n",
    "\n",
    "logging.info(f'Logging module is working')\n",
    "logging.debug('Start of program')\n",
    "\n",
    "def factorial(n):\n",
    "    logging.debug(f'Start of factorial({n})')\n",
    "    \n",
    "    total = 1\n",
    "    try:\n",
    "        for i in range(1,n+1):\n",
    "            total *= i\n",
    "            logging.debug(f'i is {str(i)}, total is {str(total)}')\n",
    "    except:\n",
    "        logging.debug(f'something went wrong')\n",
    "        \n",
    "    logging.debug(f'End of factorial({n})')\n",
    "    return total\n",
    "\n",
    "    \n",
    "print(f'factorial({5}) = {factorial(5)}')\n",
    "logging.debug('End of program')"
   ]
  },
  {
   "cell_type": "code",
   "execution_count": 2,
   "id": "f11d49f5-1643-43de-b97d-008575200ddb",
   "metadata": {},
   "outputs": [
    {
     "name": "stderr",
     "output_type": "stream",
     "text": [
      " 2022-11-01 15:02:58,864 - DEBUG - Start of factorial(n)\n",
      " 2022-11-01 15:02:58,866 - DEBUG - something went wrong\n",
      " 2022-11-01 15:02:58,867 - DEBUG - End of factorial(n)\n"
     ]
    },
    {
     "data": {
      "text/plain": [
       "1"
      ]
     },
     "execution_count": 2,
     "metadata": {},
     "output_type": "execute_result"
    }
   ],
   "source": [
    "factorial('n')"
   ]
  },
  {
   "cell_type": "code",
   "execution_count": 3,
   "id": "8f6b1414-64bb-4281-b8c8-a27f2e0c0460",
   "metadata": {},
   "outputs": [],
   "source": [
    "# disable logging\n",
    "logging.disable()"
   ]
  },
  {
   "cell_type": "code",
   "execution_count": 4,
   "id": "97e84e24-a158-4bda-b3a2-04391ffdd4af",
   "metadata": {},
   "outputs": [
    {
     "data": {
      "text/plain": [
       "3628800"
      ]
     },
     "execution_count": 4,
     "metadata": {},
     "output_type": "execute_result"
    }
   ],
   "source": [
    "factorial(10)"
   ]
  },
  {
   "cell_type": "markdown",
   "id": "5f4e692f-36c5-420e-9140-c2d65a9dfee7",
   "metadata": {},
   "source": [
    "# Generate logs using loguru (as an alternative to using logging)"
   ]
  },
  {
   "cell_type": "code",
   "execution_count": 5,
   "id": "0af728fa-d24e-45b3-b158-67d9ece41909",
   "metadata": {},
   "outputs": [],
   "source": [
    "#!pip install loguru\n",
    "import loguru"
   ]
  },
  {
   "cell_type": "code",
   "execution_count": 6,
   "id": "45165273-acf7-4f21-9dee-7e8f1038ad71",
   "metadata": {},
   "outputs": [
    {
     "name": "stderr",
     "output_type": "stream",
     "text": [
      "2022-11-01 15:02:58.908 | DEBUG    | __main__:<module>:4 - 99 bottles of beer on the wall, 99 bottles of beer. Take one down pass it around.\n",
      "2022-11-01 15:02:58.909 | INFO     | __main__:<module>:6 - 98 bottles of beer on the wall, 98 bottles of beer. Take one down pass it around.\n",
      "2022-11-01 15:02:58.910 | SUCCESS  | __main__:<module>:8 - 97 bottles of beer on the wall, 97 bottles of beer. Take one down pass it around.\n",
      "2022-11-01 15:02:58.911 | WARNING  | __main__:<module>:10 - 96 bottles of beer on the wall, 96 bottles of beer. Take one down pass it around.\n",
      "2022-11-01 15:02:58.913 | ERROR    | __main__:<module>:12 - 95 bottles of beer on the wall, 95 bottles of beer. Take one down pass it around.\n",
      "2022-11-01 15:02:58.914 | CRITICAL | __main__:<module>:14 - 94 bottles of beer on the wall, 94 bottles of beer. Take one down pass it around.\n"
     ]
    }
   ],
   "source": [
    "from loguru import logger\n",
    "\n",
    "bottles_count = 99\n",
    "logger.debug(f\"{bottles_count} bottles of beer on the wall, {bottles_count} bottles of beer. Take one down pass it around.\")\n",
    "bottles_count -= 1\n",
    "logger.info(f\"{bottles_count} bottles of beer on the wall, {bottles_count} bottles of beer. Take one down pass it around.\")\n",
    "bottles_count -= 1\n",
    "logger.success(f\"{bottles_count} bottles of beer on the wall, {bottles_count} bottles of beer. Take one down pass it around.\")\n",
    "bottles_count -= 1\n",
    "logger.warning(f\"{bottles_count} bottles of beer on the wall, {bottles_count} bottles of beer. Take one down pass it around.\")\n",
    "bottles_count -= 1\n",
    "logger.error(f\"{bottles_count} bottles of beer on the wall, {bottles_count} bottles of beer. Take one down pass it around.\")\n",
    "bottles_count -= 1\n",
    "logger.critical(f\"{bottles_count} bottles of beer on the wall, {bottles_count} bottles of beer. Take one down pass it around.\")"
   ]
  },
  {
   "cell_type": "code",
   "execution_count": 7,
   "id": "5fb7019f-d245-41d9-b3d4-1fc686fdbbaf",
   "metadata": {},
   "outputs": [],
   "source": [
    "# remove logging\n",
    "logger.remove()"
   ]
  },
  {
   "cell_type": "code",
   "execution_count": 8,
   "id": "48210603-2d21-4be5-900c-7445e24f3540",
   "metadata": {},
   "outputs": [],
   "source": [
    "bottles_count = 99\n",
    "logger.debug(f\"{bottles_count} bottles of beer on the wall, {bottles_count} bottles of beer. Take one down pass it around.\")"
   ]
  },
  {
   "cell_type": "code",
   "execution_count": null,
   "id": "59a11453-217b-4c5d-ad14-75df1c1b999c",
   "metadata": {},
   "outputs": [],
   "source": []
  }
 ],
 "metadata": {
  "kernelspec": {
   "display_name": "Python 3 (ipykernel)",
   "language": "python",
   "name": "python3"
  },
  "language_info": {
   "codemirror_mode": {
    "name": "ipython",
    "version": 3
   },
   "file_extension": ".py",
   "mimetype": "text/x-python",
   "name": "python",
   "nbconvert_exporter": "python",
   "pygments_lexer": "ipython3",
   "version": "3.7.12"
  }
 },
 "nbformat": 4,
 "nbformat_minor": 5
}

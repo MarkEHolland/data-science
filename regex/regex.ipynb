{
 "cells": [
  {
   "cell_type": "markdown",
   "id": "318682e4-ce29-4fae-ad4d-cceedbe2a17d",
   "metadata": {
    "tags": []
   },
   "source": [
    "# regex to process manual referrals"
   ]
  },
  {
   "cell_type": "markdown",
   "id": "3a72ee1c-37a5-4bef-8971-ae1090d7883b",
   "metadata": {},
   "source": [
    "https://www.regular-expressions.info/email.html"
   ]
  },
  {
   "cell_type": "code",
   "execution_count": 1,
   "id": "fb77a20c-b2de-4f0a-9b1b-082dd62dcc2b",
   "metadata": {
    "tags": []
   },
   "outputs": [],
   "source": [
    "import re\n",
    "import pandas as pd"
   ]
  },
  {
   "cell_type": "code",
   "execution_count": 2,
   "id": "5e98249b-d6d0-4e16-8989-9aef1eb34c14",
   "metadata": {
    "tags": []
   },
   "outputs": [],
   "source": [
    "# regex can pick out email, phone numbers, and, look for words such as accept, pend, decline"
   ]
  },
  {
   "cell_type": "code",
   "execution_count": 3,
   "id": "c3385c22-0936-43c5-a32b-42b703a94a94",
   "metadata": {
    "tags": []
   },
   "outputs": [],
   "source": [
    "from pathlib import Path\n",
    "\n",
    "file = []\n",
    "text = []\n",
    "email = []\n",
    "phone = []\n",
    "bk = []\n",
    "vr = []\n",
    "sira = []\n",
    "cifas = []\n",
    "outcome = []\n",
    "\n",
    "for p in Path('./data').glob('*.txt'):\n",
    "    with p.open() as f:\n",
    "        \n",
    "        # file\n",
    "        file_text = f.read()\n",
    "        #print(f\"{p.name}:\\n{f.read()}\\n\")\n",
    "        file.append(p.name)\n",
    "        \n",
    "        # text\n",
    "        text.append(file_text)\n",
    "        #print(file_text)\n",
    "        \n",
    "        # email\n",
    "        emailRegex = re.compile(r'\\b[A-Z0-9._%+-]+@[A-Z0-9.-]+\\.[A-Z]{2,}\\b',re.IGNORECASE)\n",
    "        emailMatch = emailRegex.search(file_text)\n",
    "        if emailMatch is not None:\n",
    "            s_email = emailMatch.group(0)\n",
    "        else:\n",
    "            s_email = None\n",
    "        email.append(s_email)\n",
    "        \n",
    "        # phone -leave out as it picks out\n",
    "        # This regular expression will match phone numbers entered with delimiters (spaces, dots, brackets, etc.)\n",
    "        phoneRegex = re.compile(\"\\\\b\\\\+?\\\\d{1,4}?[-.\\\\s]?\\\\(?\\\\d{1,3}?\\\\)?[-.\\\\s]?\\\\d{1,4}[-.\\\\s]?\\\\d{1,4}[-.\\\\s]?\\\\d{1,9}\\\\b\")\n",
    "        phoneMatch = phoneRegex.search(file_text)\n",
    "        if phoneMatch is not None:\n",
    "            s_phone = phoneMatch.group(0)\n",
    "        else:\n",
    "            s_phone = None\n",
    "        phone.append(s_phone)\n",
    "\n",
    "        # BK\n",
    "        bkRegex = re.compile(r\"\"\"\\b(bk|bk's|bks)\\b\"\"\",re.IGNORECASE)\n",
    "        bkMatch = bkRegex.findall(file_text)\n",
    "        bk.append(bkMatch)        \n",
    "                \n",
    "        # VR\n",
    "        vrRegex = re.compile(r'\\b(VR)\\b',re.IGNORECASE)\n",
    "        vrMatch = vrRegex.findall(file_text)\n",
    "        vr.append(vrMatch)\n",
    "        \n",
    "        # CIFAS\n",
    "        cifasRegex = re.compile(r'\\b(cifas|cifa)\\b',re.IGNORECASE)\n",
    "        cifasMatch = cifasRegex.findall(file_text)\n",
    "        cifas.append(cifasMatch)\n",
    "        \n",
    "        # SIRA\n",
    "        siraRegex = re.compile(r'\\b(sira)\\b',re.IGNORECASE)\n",
    "        siraMatch = siraRegex.findall(file_text)\n",
    "        sira.append(siraMatch)\n",
    "        \n",
    "        # outcome\n",
    "        outcomeRegex = re.compile(r'\\b(accept|accepted|pend|pended|pending|decline|declined|reject|rejected)\\b',re.IGNORECASE)\n",
    "        match = outcomeRegex.findall(file_text)\n",
    "        outcome.append(match)\n",
    "        \n",
    "        df = pd.DataFrame([file, text, email, phone, bk, vr, cifas, sira, outcome], index =['file', 'text', 'email', 'phone', 'bk', 'vr', 'cifas', 'sira', 'outcome']).T\n",
    "        "
   ]
  },
  {
   "cell_type": "code",
   "execution_count": 4,
   "id": "a54b0c1f-9f5c-4ea2-9ca4-e3ba3c80357e",
   "metadata": {
    "tags": []
   },
   "outputs": [
    {
     "data": {
      "text/html": [
       "<div>\n",
       "<style scoped>\n",
       "    .dataframe tbody tr th:only-of-type {\n",
       "        vertical-align: middle;\n",
       "    }\n",
       "\n",
       "    .dataframe tbody tr th {\n",
       "        vertical-align: top;\n",
       "    }\n",
       "\n",
       "    .dataframe thead th {\n",
       "        text-align: right;\n",
       "    }\n",
       "</style>\n",
       "<table border=\"1\" class=\"dataframe\">\n",
       "  <thead>\n",
       "    <tr style=\"text-align: right;\">\n",
       "      <th></th>\n",
       "      <th>file</th>\n",
       "      <th>text</th>\n",
       "      <th>email</th>\n",
       "      <th>phone</th>\n",
       "      <th>bk</th>\n",
       "      <th>vr</th>\n",
       "      <th>cifas</th>\n",
       "      <th>sira</th>\n",
       "      <th>outcome</th>\n",
       "    </tr>\n",
       "  </thead>\n",
       "  <tbody>\n",
       "    <tr>\n",
       "      <th>0</th>\n",
       "      <td>211857920.txt</td>\n",
       "      <td>CA05\\nSIMO\\nIND CAT 6 AT CURRENT 03/20 088A346...</td>\n",
       "      <td>None</td>\n",
       "      <td>208061851</td>\n",
       "      <td>[]</td>\n",
       "      <td>[VR]</td>\n",
       "      <td>[]</td>\n",
       "      <td>[]</td>\n",
       "      <td>[DECLINE]</td>\n",
       "    </tr>\n",
       "    <tr>\n",
       "      <th>1</th>\n",
       "      <td>211857897.txt</td>\n",
       "      <td>211857897\\nNumber of Disconnect Rules Hit\\nvr ...</td>\n",
       "      <td>None</td>\n",
       "      <td>211857897</td>\n",
       "      <td>[BKs]</td>\n",
       "      <td>[vr]</td>\n",
       "      <td>[]</td>\n",
       "      <td>[sira, sira]</td>\n",
       "      <td>[pended]</td>\n",
       "    </tr>\n",
       "    <tr>\n",
       "      <th>2</th>\n",
       "      <td>211858038.txt</td>\n",
       "      <td>MISS XXXXX XXXXXX \\n211858010\\nXXXXXXXXXXXXXXX...</td>\n",
       "      <td>XXXXXXXXXXXXXXX@icloud.com</td>\n",
       "      <td>211858010</td>\n",
       "      <td>[BK, BK]</td>\n",
       "      <td>[Vr]</td>\n",
       "      <td>[]</td>\n",
       "      <td>[Sira, Sira]</td>\n",
       "      <td>[decline, Decline]</td>\n",
       "    </tr>\n",
       "    <tr>\n",
       "      <th>3</th>\n",
       "      <td>211857895.txt</td>\n",
       "      <td>211857895\\nR047 Ind CIFAS \\nXXXXXXXX@yahoo.com...</td>\n",
       "      <td>XXXXXXXX@yahoo.com</td>\n",
       "      <td>211857895</td>\n",
       "      <td>[BK]</td>\n",
       "      <td>[VR, VR]</td>\n",
       "      <td>[CIFAS]</td>\n",
       "      <td>[]</td>\n",
       "      <td>[Declined]</td>\n",
       "    </tr>\n",
       "    <tr>\n",
       "      <th>4</th>\n",
       "      <td>211858010.txt</td>\n",
       "      <td>MISS XXXXX XXXXXX \\n211858010\\nXXXXXXXXXXXXXXX...</td>\n",
       "      <td>XXXXXXXXXXXXXXX@icloud.com</td>\n",
       "      <td>211858010</td>\n",
       "      <td>[BK, BK]</td>\n",
       "      <td>[Vr]</td>\n",
       "      <td>[]</td>\n",
       "      <td>[Sira, Sira]</td>\n",
       "      <td>[decline, Decline]</td>\n",
       "    </tr>\n",
       "    <tr>\n",
       "      <th>5</th>\n",
       "      <td>211858093.txt</td>\n",
       "      <td>R07 Address not found at bureau\\n211858093\\ncu...</td>\n",
       "      <td>None</td>\n",
       "      <td>211858093</td>\n",
       "      <td>[bk]</td>\n",
       "      <td>[vr, vr]</td>\n",
       "      <td>[]</td>\n",
       "      <td>[]</td>\n",
       "      <td>[accepted, accepted, declined]</td>\n",
       "    </tr>\n",
       "    <tr>\n",
       "      <th>6</th>\n",
       "      <td>211857988.txt</td>\n",
       "      <td>R47 Indirect CIFAS Hit \\n211857988\\ncifas ok \\...</td>\n",
       "      <td>None</td>\n",
       "      <td>211857988</td>\n",
       "      <td>[bk]</td>\n",
       "      <td>[vr]</td>\n",
       "      <td>[CIFAS, cifas]</td>\n",
       "      <td>[]</td>\n",
       "      <td>[declined]</td>\n",
       "    </tr>\n",
       "    <tr>\n",
       "      <th>7</th>\n",
       "      <td>211858131.txt</td>\n",
       "      <td>211858131\\nR046 Direct CIFAS \\nR053 SIRA\\nXXXX...</td>\n",
       "      <td>XXXXXXXXXXXXXXXXXX@outlook.com</td>\n",
       "      <td>211858131</td>\n",
       "      <td>[BK]</td>\n",
       "      <td>[VR, VR]</td>\n",
       "      <td>[CIFAS]</td>\n",
       "      <td>[SIRA, SIRA]</td>\n",
       "      <td>[Declined]</td>\n",
       "    </tr>\n",
       "    <tr>\n",
       "      <th>8</th>\n",
       "      <td>211858016.txt</td>\n",
       "      <td>211858016\\nR057 TAA\\nTAA on app 20yrs \\nTAA on...</td>\n",
       "      <td>None</td>\n",
       "      <td>211858016</td>\n",
       "      <td>[]</td>\n",
       "      <td>[VR, VR, VR]</td>\n",
       "      <td>[]</td>\n",
       "      <td>[]</td>\n",
       "      <td>[]</td>\n",
       "    </tr>\n",
       "    <tr>\n",
       "      <th>9</th>\n",
       "      <td>211858065.txt</td>\n",
       "      <td>R47 Indirect CIFAS Hit\\nprev address same as a...</td>\n",
       "      <td>None</td>\n",
       "      <td>None</td>\n",
       "      <td>[]</td>\n",
       "      <td>[vr]</td>\n",
       "      <td>[CIFAS, cifas]</td>\n",
       "      <td>[]</td>\n",
       "      <td>[]</td>\n",
       "    </tr>\n",
       "  </tbody>\n",
       "</table>\n",
       "</div>"
      ],
      "text/plain": [
       "            file                                               text  \\\n",
       "0  211857920.txt  CA05\\nSIMO\\nIND CAT 6 AT CURRENT 03/20 088A346...   \n",
       "1  211857897.txt  211857897\\nNumber of Disconnect Rules Hit\\nvr ...   \n",
       "2  211858038.txt  MISS XXXXX XXXXXX \\n211858010\\nXXXXXXXXXXXXXXX...   \n",
       "3  211857895.txt  211857895\\nR047 Ind CIFAS \\nXXXXXXXX@yahoo.com...   \n",
       "4  211858010.txt  MISS XXXXX XXXXXX \\n211858010\\nXXXXXXXXXXXXXXX...   \n",
       "5  211858093.txt  R07 Address not found at bureau\\n211858093\\ncu...   \n",
       "6  211857988.txt  R47 Indirect CIFAS Hit \\n211857988\\ncifas ok \\...   \n",
       "7  211858131.txt  211858131\\nR046 Direct CIFAS \\nR053 SIRA\\nXXXX...   \n",
       "8  211858016.txt  211858016\\nR057 TAA\\nTAA on app 20yrs \\nTAA on...   \n",
       "9  211858065.txt  R47 Indirect CIFAS Hit\\nprev address same as a...   \n",
       "\n",
       "                            email      phone        bk            vr  \\\n",
       "0                            None  208061851        []          [VR]   \n",
       "1                            None  211857897     [BKs]          [vr]   \n",
       "2      XXXXXXXXXXXXXXX@icloud.com  211858010  [BK, BK]          [Vr]   \n",
       "3              XXXXXXXX@yahoo.com  211857895      [BK]      [VR, VR]   \n",
       "4      XXXXXXXXXXXXXXX@icloud.com  211858010  [BK, BK]          [Vr]   \n",
       "5                            None  211858093      [bk]      [vr, vr]   \n",
       "6                            None  211857988      [bk]          [vr]   \n",
       "7  XXXXXXXXXXXXXXXXXX@outlook.com  211858131      [BK]      [VR, VR]   \n",
       "8                            None  211858016        []  [VR, VR, VR]   \n",
       "9                            None       None        []          [vr]   \n",
       "\n",
       "            cifas          sira                         outcome  \n",
       "0              []            []                       [DECLINE]  \n",
       "1              []  [sira, sira]                        [pended]  \n",
       "2              []  [Sira, Sira]              [decline, Decline]  \n",
       "3         [CIFAS]            []                      [Declined]  \n",
       "4              []  [Sira, Sira]              [decline, Decline]  \n",
       "5              []            []  [accepted, accepted, declined]  \n",
       "6  [CIFAS, cifas]            []                      [declined]  \n",
       "7         [CIFAS]  [SIRA, SIRA]                      [Declined]  \n",
       "8              []            []                              []  \n",
       "9  [CIFAS, cifas]            []                              []  "
      ]
     },
     "execution_count": 4,
     "metadata": {},
     "output_type": "execute_result"
    }
   ],
   "source": [
    "df"
   ]
  },
  {
   "cell_type": "code",
   "execution_count": 5,
   "id": "92cf01bd-21f2-4dc2-86a6-d7c3f1e7e161",
   "metadata": {
    "tags": []
   },
   "outputs": [
    {
     "name": "stdout",
     "output_type": "stream",
     "text": [
      "[None, None, 'XXXXXXXXXXXXXXX@icloud.com', 'XXXXXXXX@yahoo.com', 'XXXXXXXXXXXXXXX@icloud.com', None, None, 'XXXXXXXXXXXXXXXXXX@outlook.com', None, None]\n",
      "['211857920.txt', '211857897.txt', '211858038.txt', '211857895.txt', '211858010.txt', '211858093.txt', '211857988.txt', '211858131.txt', '211858016.txt', '211858065.txt']\n",
      "['208061851', '211857897', '211858010', '211857895', '211858010', '211858093', '211857988', '211858131', '211858016', None]\n",
      "[[], ['BKs'], ['BK', 'BK'], ['BK'], ['BK', 'BK'], ['bk'], ['bk'], ['BK'], [], []]\n",
      "[['VR'], ['vr'], ['Vr'], ['VR', 'VR'], ['Vr'], ['vr', 'vr'], ['vr'], ['VR', 'VR'], ['VR', 'VR', 'VR'], ['vr']]\n",
      "[[], ['sira', 'sira'], ['Sira', 'Sira'], [], ['Sira', 'Sira'], [], [], ['SIRA', 'SIRA'], [], []]\n",
      "[[], [], [], ['CIFAS'], [], [], ['CIFAS', 'cifas'], ['CIFAS'], [], ['CIFAS', 'cifas']]\n",
      "[['DECLINE'], ['pended'], ['decline', 'Decline'], ['Declined'], ['decline', 'Decline'], ['accepted', 'accepted', 'declined'], ['declined'], ['Declined'], [], []]\n"
     ]
    }
   ],
   "source": [
    "print(email)\n",
    "print(file)\n",
    "print(phone)\n",
    "print(bk)\n",
    "print(vr)\n",
    "print(sira)\n",
    "print(cifas)\n",
    "print(outcome)"
   ]
  },
  {
   "cell_type": "markdown",
   "id": "34b95dcc-997c-4d8b-b7e1-6c4f834c0bff",
   "metadata": {},
   "source": [
    "#### Policy"
   ]
  },
  {
   "cell_type": "code",
   "execution_count": 6,
   "id": "4eedf25c-09f2-448f-ba44-5e69ad2e21ad",
   "metadata": {
    "tags": []
   },
   "outputs": [],
   "source": [
    "multipleLines = \"\"\"\n",
    "summary of CAIS (Experian + Equifax) – \n",
    "VR – account 98098789\n",
    "98098789\n",
    "Email address - \n",
    "A Summary of Fraud checks (Post Code, Bank & Card) If required -\n",
    "Details of SEC call (if applicable) and questions asked - \n",
    "Outcome (accept/pending/decline) -\n",
    "Summary of why you have taken this decision – \n",
    "If pended, what is the reason and what should the caller ask?\n",
    "Any inconsistencies? I.E insight within TOA at another address. VR within TOA. Etc. \n",
    "\"\"\""
   ]
  },
  {
   "cell_type": "code",
   "execution_count": 7,
   "id": "d855573a-c76a-4e83-a5d0-a54c73778598",
   "metadata": {
    "tags": []
   },
   "outputs": [
    {
     "data": {
      "text/plain": [
       "['98098789', '98098789']"
      ]
     },
     "execution_count": 7,
     "metadata": {},
     "output_type": "execute_result"
    }
   ],
   "source": [
    "# Any line with summary in it, return\n",
    "idRegex = re.compile(r'\\b(\\d{8})\\b', re.I)\n",
    "match = idRegex.findall(multipleLines)\n",
    "match"
   ]
  },
  {
   "cell_type": "markdown",
   "id": "05190192-c4b8-4077-a7d9-974a2a017313",
   "metadata": {
    "tags": []
   },
   "source": [
    "#### summary of CAIS"
   ]
  },
  {
   "cell_type": "code",
   "execution_count": 8,
   "id": "346edf2b-ad2b-4604-8a64-3c9787935d30",
   "metadata": {
    "tags": []
   },
   "outputs": [],
   "source": [
    "multipleLines = \"\"\"\n",
    "summary of CAIS (Experian + Equifax) – \n",
    "VR – \n",
    "Email address - \n",
    "A Summary of Fraud checks (Post Code, Bank & Card) If required -\n",
    "Details of SEC call (if applicable) and questions asked - \n",
    "Outcome (accept/pending/decline) -\n",
    "Summary of why you have taken this decision – \n",
    "If pended, what is the reason and what should the caller ask?\n",
    "Any inconsistencies? I.E insight within TOA at another address. VR within TOA. Etc. \n",
    "\"\"\""
   ]
  },
  {
   "cell_type": "code",
   "execution_count": 9,
   "id": "b3e89f9e-96a6-46b6-a7ea-0f93e3a3dbb9",
   "metadata": {
    "tags": []
   },
   "outputs": [
    {
     "data": {
      "text/plain": [
       "[('summary of CAIS (Experian + Equifax', 'summary'),\n",
       " ('Summary of Fraud checks (Post Code, Bank & Card) If required', 'Summary'),\n",
       " ('Summary of why you have taken this decision', 'Summary')]"
      ]
     },
     "execution_count": 9,
     "metadata": {},
     "output_type": "execute_result"
    }
   ],
   "source": [
    "# Any line with summary in it, return\n",
    "summaryRegex = re.compile(r'''(\n",
    "    \\b(summary|CAIS) .*\\b\n",
    "    )''', re.IGNORECASE |re.VERBOSE)\n",
    "match = summaryRegex.findall(multipleLines)\n",
    "match"
   ]
  },
  {
   "cell_type": "markdown",
   "id": "c0a37bb4-3567-4654-b104-25c1a9223887",
   "metadata": {},
   "source": [
    "#### email addresses - simple & more complicated"
   ]
  },
  {
   "cell_type": "code",
   "execution_count": 10,
   "id": "bb137609-0cf3-4446-9988-89cc04d86605",
   "metadata": {
    "tags": []
   },
   "outputs": [],
   "source": [
    "line = \"should we use regex more often? let me know at  jdsk@bob.com.lol or popop@coco.com mark_holland@gmail.com mark_.+-holland@gmail.com\""
   ]
  },
  {
   "cell_type": "code",
   "execution_count": 11,
   "id": "c9147cd2-1efa-4f6b-8f85-f08b4cb1a7d4",
   "metadata": {
    "tags": []
   },
   "outputs": [
    {
     "data": {
      "text/plain": [
       "['jdsk@bob.com.lol',\n",
       " 'popop@coco.com',\n",
       " 'mark_holland@gmail.com',\n",
       " 'mark_.+-holland@gmail.com']"
      ]
     },
     "execution_count": 11,
     "metadata": {},
     "output_type": "execute_result"
    }
   ],
   "source": [
    "# \\w is word\n",
    "match = re.findall(r'[\\w.+-]+@[\\w-]+\\.[\\w.-]+', line)\n",
    "match"
   ]
  },
  {
   "cell_type": "code",
   "execution_count": 12,
   "id": "4dfdde42-821c-43c0-a017-51ecc57f177c",
   "metadata": {
    "tags": []
   },
   "outputs": [
    {
     "data": {
      "text/plain": [
       "['jdsk@bob.com.lol',\n",
       " 'popop@coco.com',\n",
       " 'mark_holland@gmail.com',\n",
       " 'mark_.+-holland@gmail.com']"
      ]
     },
     "execution_count": 12,
     "metadata": {},
     "output_type": "execute_result"
    }
   ],
   "source": [
    "# \\b is start or end of word\n",
    "emailRegex = re.compile(r'\\b[A-Z0-9._%+-]+@[A-Z0-9.-]+\\.[A-Z]{2,}\\b',re.IGNORECASE)\n",
    "match = emailRegex.findall(line)\n",
    "match"
   ]
  },
  {
   "cell_type": "markdown",
   "id": "889138a3-8b96-402a-aa19-ff7caaaaa7cd",
   "metadata": {},
   "source": [
    "#### Contact number"
   ]
  },
  {
   "cell_type": "code",
   "execution_count": 13,
   "id": "eaccfa07-40c5-4b6d-82f5-c2d470839132",
   "metadata": {
    "tags": []
   },
   "outputs": [],
   "source": [
    "#line = \"should we use regex more often? let me know at Check DOB with  077589330309\"\n",
    "line = \"+12223334444 , 0775 8933 030\"\n",
    "validate_phone_number_pattern = \"^\\\\+?[1-9][0-9]{7,14}$\""
   ]
  },
  {
   "cell_type": "code",
   "execution_count": 14,
   "id": "12108a0a-8dbc-4265-b318-6cfc790beb9e",
   "metadata": {
    "tags": []
   },
   "outputs": [],
   "source": [
    "# This regular expression will match phone numbers entered with delimiters (spaces, dots, brackets, etc.)\n",
    "phoneRegex = re.compile(\"\\\\b\\\\+?\\\\d{1,4}?[-.\\\\s]?\\\\(?\\\\d{1,3}?\\\\)?[-.\\\\s]?\\\\d{1,4}[-.\\\\s]?\\\\d{1,4}[-.\\\\s]?\\\\d{1,9}\\\\b\")"
   ]
  },
  {
   "cell_type": "code",
   "execution_count": 15,
   "id": "d6a7905f-078a-461c-aa16-257bcf5927e7",
   "metadata": {
    "tags": []
   },
   "outputs": [
    {
     "data": {
      "text/plain": [
       "['12223334444', '0775 8933 030']"
      ]
     },
     "execution_count": 15,
     "metadata": {},
     "output_type": "execute_result"
    }
   ],
   "source": [
    "match = phoneRegex.findall(line)\n",
    "match"
   ]
  },
  {
   "cell_type": "markdown",
   "id": "d4ea2673-6775-4afe-8d9d-27e5b4fff5d8",
   "metadata": {},
   "source": [
    "#### Outcome (accept / pend / decline)"
   ]
  },
  {
   "cell_type": "code",
   "execution_count": 16,
   "id": "76e95463-9486-4242-ba36-3a7b1d95e904",
   "metadata": {
    "tags": []
   },
   "outputs": [],
   "source": [
    "multipleLines = \"\"\"accept\n",
    "summary of CAIS (Experian + Equifax) – \n",
    "VR – \n",
    "Email address - \n",
    "A Summary of Fraud checks (Post Code, Bank & Card) If required -\n",
    "Details of SEC call (if applicable) and questions asked - \n",
    "Outcome decline\n",
    "Summary of why you have taken this decision – \n",
    "If pended, what is the reason and what should the caller ask?\n",
    "Any inconsistencies? I.E insight within TOA at another address. VR within TOA. Etc. pend\n",
    "\"\"\""
   ]
  },
  {
   "cell_type": "code",
   "execution_count": 17,
   "id": "477cc77b-2fa7-4aaa-ae24-dd13ee5d0350",
   "metadata": {
    "tags": []
   },
   "outputs": [
    {
     "data": {
      "text/plain": [
       "['accept', 'decline', 'pended', 'pend']"
      ]
     },
     "execution_count": 17,
     "metadata": {},
     "output_type": "execute_result"
    }
   ],
   "source": [
    "# \\b is start or end of word\n",
    "outcomeRegex = re.compile(r'\\b(accept|accepted|pend|pended|pending|decline|declined|reject|rejected)\\b',re.IGNORECASE)\n",
    "match = outcomeRegex.findall(multipleLines)\n",
    "match"
   ]
  },
  {
   "cell_type": "markdown",
   "id": "2341bbae-f538-4a8f-8d63-b1f445e773ef",
   "metadata": {},
   "source": [
    "## Tokeniser"
   ]
  },
  {
   "cell_type": "code",
   "execution_count": 18,
   "id": "a93c5f97-1aa9-4619-a2e7-fe92beef4ebb",
   "metadata": {
    "tags": []
   },
   "outputs": [
    {
     "name": "stdout",
     "output_type": "stream",
     "text": [
      "Token(type='IF', value='IF', line=2, column=4)\n",
      "Token(type='ID', value='quantity', line=2, column=7)\n",
      "Token(type='THEN', value='THEN', line=2, column=16)\n",
      "Token(type='ID', value='total', line=3, column=8)\n",
      "Token(type='ASSIGN', value=':=', line=3, column=14)\n",
      "Token(type='ID', value='total', line=3, column=17)\n",
      "Token(type='OP', value='+', line=3, column=23)\n",
      "Token(type='ID', value='price', line=3, column=25)\n",
      "Token(type='OP', value='*', line=3, column=31)\n",
      "Token(type='ID', value='quantity', line=3, column=33)\n",
      "Token(type='END', value=';', line=3, column=41)\n",
      "Token(type='ID', value='tax', line=4, column=8)\n",
      "Token(type='ASSIGN', value=':=', line=4, column=12)\n",
      "Token(type='ID', value='price', line=4, column=15)\n",
      "Token(type='OP', value='*', line=4, column=21)\n",
      "Token(type='NUMBER', value=0.05, line=4, column=23)\n",
      "Token(type='END', value=';', line=4, column=27)\n",
      "Token(type='ENDIF', value='ENDIF', line=5, column=4)\n",
      "Token(type='END', value=';', line=5, column=9)\n"
     ]
    }
   ],
   "source": [
    "from typing import NamedTuple\n",
    "import re\n",
    "\n",
    "class Token(NamedTuple):\n",
    "    type: str\n",
    "    value: str\n",
    "    line: int\n",
    "    column: int\n",
    "\n",
    "def tokenize(code):\n",
    "    keywords = {'IF', 'THEN', 'ENDIF', 'FOR', 'NEXT', 'GOSUB', 'RETURN'}\n",
    "    token_specification = [\n",
    "        ('NUMBER',   r'\\d+(\\.\\d*)?'),  # Integer or decimal number\n",
    "        ('ASSIGN',   r':='),           # Assignment operator\n",
    "        ('END',      r';'),            # Statement terminator\n",
    "        ('ID',       r'[A-Za-z]+'),    # Identifiers\n",
    "        ('OP',       r'[+\\-*/]'),      # Arithmetic operators\n",
    "        ('NEWLINE',  r'\\n'),           # Line endings\n",
    "        ('SKIP',     r'[ \\t]+'),       # Skip over spaces and tabs\n",
    "        ('MISMATCH', r'.'),            # Any other character\n",
    "    ]\n",
    "    tok_regex = '|'.join('(?P<%s>%s)' % pair for pair in token_specification)\n",
    "    line_num = 1\n",
    "    line_start = 0\n",
    "    for mo in re.finditer(tok_regex, code):\n",
    "        kind = mo.lastgroup\n",
    "        value = mo.group()\n",
    "        column = mo.start() - line_start\n",
    "        if kind == 'NUMBER':\n",
    "            value = float(value) if '.' in value else int(value)\n",
    "        elif kind == 'ID' and value in keywords:\n",
    "            kind = value\n",
    "        elif kind == 'NEWLINE':\n",
    "            line_start = mo.end()\n",
    "            line_num += 1\n",
    "            continue\n",
    "        elif kind == 'SKIP':\n",
    "            continue\n",
    "        elif kind == 'MISMATCH':\n",
    "            raise RuntimeError(f'{value!r} unexpected on line {line_num}')\n",
    "        yield Token(kind, value, line_num, column)\n",
    "\n",
    "statements = '''\n",
    "    IF quantity THEN\n",
    "        total := total + price * quantity;\n",
    "        tax := price * 0.05;\n",
    "    ENDIF;\n",
    "'''\n",
    "\n",
    "for token in tokenize(statements):\n",
    "    print(token)"
   ]
  },
  {
   "cell_type": "markdown",
   "id": "34207db3-bf87-4128-a9fb-cd1106de227a",
   "metadata": {},
   "source": [
    "### Detect Personal Information"
   ]
  },
  {
   "cell_type": "code",
   "execution_count": null,
   "id": "0280936f-d255-4853-b3fd-f7cf835be892",
   "metadata": {},
   "outputs": [],
   "source": []
  }
 ],
 "metadata": {
  "environment": {
   "kernel": "python3",
   "name": ".m115",
   "type": "gcloud",
   "uri": "gcr.io/deeplearning-platform-release/:m115"
  },
  "kernelspec": {
   "display_name": "Python 3 (ipykernel) (Local)",
   "language": "python",
   "name": "python3"
  },
  "language_info": {
   "codemirror_mode": {
    "name": "ipython",
    "version": 3
   },
   "file_extension": ".py",
   "mimetype": "text/x-python",
   "name": "python",
   "nbconvert_exporter": "python",
   "pygments_lexer": "ipython3",
   "version": "3.10.13"
  }
 },
 "nbformat": 4,
 "nbformat_minor": 5
}

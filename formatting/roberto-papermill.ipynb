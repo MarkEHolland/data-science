{
 "cells": [
  {
   "cell_type": "code",
   "execution_count": 3,
   "id": "5da0c9bc-af58-4117-bdb1-7b49bcaab1ba",
   "metadata": {
    "tags": [
     "parameters"
    ]
   },
   "outputs": [],
   "source": [
    "a = 1"
   ]
  },
  {
   "cell_type": "code",
   "execution_count": 4,
   "id": "ef3d651a-4c0b-4caf-a2f4-fa031bb5e2f5",
   "metadata": {},
   "outputs": [],
   "source": [
    "b = a * 2"
   ]
  },
  {
   "cell_type": "code",
   "execution_count": 5,
   "id": "20920710-aa26-493d-b2c9-e1f43da6b6f6",
   "metadata": {},
   "outputs": [
    {
     "name": "stdout",
     "output_type": "stream",
     "text": [
      "a is 1 and b is 2\n"
     ]
    }
   ],
   "source": [
    "print(f\"a is {a} and b is {b}\")"
   ]
  }
 ],
 "metadata": {
  "environment": {
   "kernel": "knowledge-sharing-sessions",
   "name": "tf2-cpu.2-8.m91",
   "type": "gcloud",
   "uri": "gcr.io/deeplearning-platform-release/tf2-cpu.2-8:m91"
  },
  "kernelspec": {
   "display_name": "knowledge-sharing-sessions",
   "language": "python",
   "name": "knowledge-sharing-sessions"
  },
  "language_info": {
   "codemirror_mode": {
    "name": "ipython",
    "version": 3
   },
   "file_extension": ".py",
   "mimetype": "text/x-python",
   "name": "python",
   "nbconvert_exporter": "python",
   "pygments_lexer": "ipython3",
   "version": "3.7.12"
  }
 },
 "nbformat": 4,
 "nbformat_minor": 5
}

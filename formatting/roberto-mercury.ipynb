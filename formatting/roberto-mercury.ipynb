{
 "cells": [
  {
   "cell_type": "markdown",
   "id": "8b905673-7d51-49bc-956a-c27ef596877d",
   "metadata": {},
   "source": [
    "---\n",
    "title: Planets 🌍🪐\n",
    "description: Planets app\n",
    "params:\n",
    "    planet:\n",
    "        input: select\n",
    "        label: Please select a planet\n",
    "        value: Earth\n",
    "        choices: [Mercury, Venus, Earth, Mars, Jupiter, Saturn, Uranus, Neptune]\n",
    "---"
   ]
  },
  {
   "cell_type": "code",
   "execution_count": null,
   "id": "d17bc1ea-bd2e-41d9-99d5-d20ed5f91d77",
   "metadata": {},
   "outputs": [],
   "source": [
    "planet = \"Earth\""
   ]
  },
  {
   "cell_type": "code",
   "execution_count": null,
   "id": "5264b69c-19f0-4b24-91fe-716240ba85ee",
   "metadata": {},
   "outputs": [],
   "source": [
    "print(f\"Hello {planet}!\")"
   ]
  }
 ],
 "metadata": {
  "environment": {
   "kernel": "knowledge-sharing-sessions",
   "name": "tf2-cpu.2-8.m91",
   "type": "gcloud",
   "uri": "gcr.io/deeplearning-platform-release/tf2-cpu.2-8:m91"
  },
  "kernelspec": {
   "display_name": "knowledge-sharing-sessions",
   "language": "python",
   "name": "knowledge-sharing-sessions"
  },
  "language_info": {
   "codemirror_mode": {
    "name": "ipython",
    "version": 3
   },
   "file_extension": ".py",
   "mimetype": "text/x-python",
   "name": "python",
   "nbconvert_exporter": "python",
   "pygments_lexer": "ipython3",
   "version": "3.7.12"
  }
 },
 "nbformat": 4,
 "nbformat_minor": 5
}

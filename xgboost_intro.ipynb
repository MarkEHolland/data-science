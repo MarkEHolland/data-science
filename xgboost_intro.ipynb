{
 "cells": [
  {
   "cell_type": "markdown",
   "id": "e258c115",
   "metadata": {},
   "source": [
    "# XGBoost\n",
    "e**X**treme **G**radient **B**oosting\n",
    "\n",
    "---"
   ]
  },
  {
   "cell_type": "markdown",
   "id": "0af30a40",
   "metadata": {},
   "source": [
    "<a id='evolution_boosting_bagging'></a>\n",
    "![evolution_boosting_bagging](./images/evolution_boosting_bagging.png) "
   ]
  },
  {
   "cell_type": "markdown",
   "id": "0966caf1",
   "metadata": {},
   "source": [
    "A response to:\n",
    "- increasingly noisy datasets\n",
    "- increasing need to shorten training times for application to business use cases\n",
    "- the availability of more computational resourses for broader hyperparameter tuning\n",
    "\n",
    "\n",
    "**XGBoost was developed to increase speed and performance, while introducing regularization parameters to reduce overfitting.**"
   ]
  },
  {
   "cell_type": "markdown",
   "id": "30777690",
   "metadata": {},
   "source": [
    "## Boosting\n",
    ">\"Influencing the next iteration of your model\"\n",
    "\n",
    "---"
   ]
  },
  {
   "cell_type": "markdown",
   "id": "71ebc6dd",
   "metadata": {},
   "source": [
    "### The concept\n",
    "1. In its most basic form its ensemble method that takes a **weak base learner** and tries to make it a **strong learner** by retraining it on the misclassified samples. **It ultimately aims to reduce bias**\n",
    "2. Rationale/theory: to combine **many weak learners into a single strong learner.**\n",
    "3. The base model fitting is **iterative** (not parallel like Bagging, Random Forest, ExtraTrees)\n",
    "4. Most basic version (Adaptive Boosting) is where **Weights are assigned to observations to indicate their \"importance:\"** Samples with higher weights are given higher influence on the total error of the subsequent model, prioritizing those observations.\n",
    "4. **Weights change at each iteration with the goal of correcting the errors/misclassifications of the previous iteration**: \n",
    "The use of iterative fitting is ultimately to explain error/misclassifications that are unexplained by the previous base models and reduces bias without increasing variance.\n",
    "The first base estimator is fit with uniform weights on the observations.\n",
    "5. **Final prediction is typically constructed by a weighted vote**: Weights for each base model depend on their training errors or misclassification rates.\n",
    "\n",
    "6. In the most basic for of boosting, deep/full decision trees are not utilised, **it uses shallow/high-bias base estimators.**\n",
    "\n",
    "7. The aim is for each weak learner to have a low variance and a high bias\n",
    "\n",
    "<a id='boost_vs_bagg'></a>\n",
    "![boostvsbag](./images/boosting_vs_bagging.png) "
   ]
  },
  {
   "cell_type": "markdown",
   "id": "f3b69b07",
   "metadata": {},
   "source": [
    "### The Math\n",
    "Illustrated by Adaptive boosting"
   ]
  },
  {
   "cell_type": "markdown",
   "id": "2bb91d20",
   "metadata": {},
   "source": [
    "AdaBoost is the original boosting algorithm. Predictions from AdaBoost follow this formula:\n",
    "\n",
    "\n",
    "$$ {\\rm AdaBoost}(X) = {\\rm sign}\\left(\\sum_{t=1}^T\\alpha_t h_t(X)\\right) $$\n",
    "\n",
    "Where:\n",
    "\n",
    "- ${\\rm AdaBoost}(X)$ are the classification predictions for $y$ using the predictor matrix $X$\n",
    "\n",
    "- $T$ is the number of \"weak learners\"\n",
    "\n",
    "- $\\alpha_t$ is the contribution weight for weak learner $t$\n",
    "\n",
    "- $h_t(X)$ is the prediction of weak learner $t$\n",
    "\n",
    "- $y$ is binary **with values of minus one and one**"
   ]
  },
  {
   "cell_type": "markdown",
   "id": "96123066",
   "metadata": {},
   "source": [
    "The core principle of AdaBoost is to **fit a sequence of weak learners** (i.e., models that are only slightly better than random guessing, such as a single-split tree) **on repeatedly modified versions of the data**. After each fit, the importance weights on each observation need to be updated. \n",
    "\n",
    "The predictions are then combined through a weighted majority vote (or sum) to produce the final prediction. AdaBoost, like all boosting ensemble methods, focuses the next model's fit on the misclassifications/weaknesses of the prior models.\n",
    "\n",
    "All $N$ training examples start with equal importance weighting \n",
    "\n",
    "$$w_0=\\frac{1}{N}$$ \n",
    "\n",
    "At each iteration step $t$ the weights $w_t$ will be adjusted for each observation.\n",
    "\n",
    "When we finish training the classifier $h_t$ at each iteration step taking the weights $w_t$ into account we evaluate which predictions have been made correctly and where errors occurred. \n",
    "\n",
    "Then we update the importance weighting of the classifier itself, represented by $\\alpha_t$:\n",
    "\n",
    "$$ \\alpha_t = \\log \\left(\\frac{1-\\epsilon_t}{\\epsilon_t}\\right) \\text{where } \\epsilon_t < 1$$\n",
    "\n",
    "where $\\epsilon_t$ is the weighted misclassification rate for the current classifier:\n",
    "\n",
    "$$ \\epsilon_t = \\frac{\\sum_{i=1}^N w_{i,t} {I}(y_i\\neq h_t(X_i))}{\\sum_{i=1}^N w_{i,t}} $$\n",
    "\n",
    "Here the indicator function ${I}(y_i\\neq h_t(X_i))$ returns one for incorrect predictions and zero for correct predictions.\n",
    "\n",
    "As iterations continue, **examples that are difficult to predict receive ever-increasing influence**. Each subsequent weak learner is thereby forced to concentrate on the examples that are missed by the previous ones in the sequence."
   ]
  },
  {
   "cell_type": "markdown",
   "id": "eb3cf59c",
   "metadata": {},
   "source": [
    "### Visualization\n",
    "\n",
    "![boostvsbag](./images/adaboost-viz.png)"
   ]
  },
  {
   "cell_type": "markdown",
   "id": "395aac1c",
   "metadata": {},
   "source": [
    "### The Adaboost algorithm\n",
    "\n",
    "- initialize weights $w_0=1/N$ ($N$ is the number of observations)\n",
    "- for t=1:T do\n",
    "    - Fit a classifier $h_t(X)$ to the training set $X$ using weights $w$\n",
    "    - Compute the error rate \n",
    "$\\epsilon_t = \\frac{\\sum_{i=1}^N w_{i,t} {I}(y_i\\neq h_t(X_i))}{\\sum_{i=1}^N w_{i,t}} $\n",
    "    - Compute $ \\alpha_t = \\log \\left(\\frac{1-\\epsilon_t}{\\epsilon_t}\\right) \\text{where } \\epsilon_t < 1$\n",
    "    - Set $ w_{t+1,i} = w_{t,i} e^{\\alpha_t  {I}(y_i\\neq h_t(X_i))} $\n",
    "- Return $ {\\rm AdaBoost}(X) = {\\rm sign}\\left(\\sum_{t=1}^T\\alpha_t h_t(X)\\right) $"
   ]
  },
  {
   "cell_type": "markdown",
   "id": "ef875b9a",
   "metadata": {},
   "source": [
    "### Example code"
   ]
  },
  {
   "cell_type": "code",
   "execution_count": 1,
   "id": "9e1c6705",
   "metadata": {},
   "outputs": [],
   "source": [
    "import numpy as np\n",
    "import pandas as pd\n",
    "from sklearn.tree import DecisionTreeClassifier\n",
    "from sklearn.tree import DecisionTreeRegressor\n",
    "from sklearn.ensemble import AdaBoostClassifier\n",
    "from sklearn.metrics import accuracy_score\n",
    "from sklearn.model_selection import train_test_split\n",
    "\n",
    "\n",
    "\"\"\"\n",
    "Note this is the Stagewise Additive Modeling using a Multiclass Exponential loss function (SAMME) approach\n",
    "\"\"\"\n",
    "\n",
    "class ada_boost_class:\n",
    "    \n",
    "    def __init__(self, base_estimator=DecisionTreeClassifier(max_depth=1, random_state=99), n_estimators=20):\n",
    "        \"\"\"\n",
    "        arguments: base_estimator, number of estimators\n",
    "        \"\"\"\n",
    "        self.base_estimator = base_estimator\n",
    "        self.n_estimators = n_estimators\n",
    "    \n",
    "    def _calculate_error_rate(self,w, miss):\n",
    "        \"\"\"\n",
    "        arguments: weights and mask for misclassified data points (miss)\n",
    "        returns: error rate\n",
    "        \"\"\" \n",
    "        return np.dot(w, miss) / w.sum()\n",
    "    \n",
    "    def _calculate_alpha(self, error_rate):\n",
    "        \"\"\"\n",
    "        calculates the alpha value at current iteration step\n",
    "        argument: error rate\n",
    "        returns: alpha_m\n",
    "        \"\"\"\n",
    "        return np.log((1. - error_rate) / error_rate)\n",
    "    \n",
    "    def _indicator_function(self, y, pred):\n",
    "        \"\"\"\n",
    "        arguments: target variable and predicted values\n",
    "        returns: 1 if disagreement, 0 else\n",
    "        \"\"\"\n",
    "        return (pred != y)*1\n",
    "    \n",
    "    def _binary_converter(self, y):\n",
    "        \"\"\"\n",
    "        Convert binary class labels to 1/-1 (one of the labels must be codes as 1)\n",
    "        \"\"\"\n",
    "        return np.array([x if x == 1 else -1 for x in y])\n",
    "    \n",
    "    def _update_importance_weights(self, w, miss, alpha_t):\n",
    "        \"\"\"\n",
    "        arguments: current weights, mask for misclassified observations, alpha_m\n",
    "        returns: w, the updated weight\n",
    "        \"\"\"\n",
    "        w = np.multiply(w, np.exp([float(x) * alpha_t for x in miss]))\n",
    "        return w\n",
    "\n",
    "    def _update_predictions(self, pred, pred_t, alpha_t):\n",
    "        \"\"\"\n",
    "        update the predictions with the ones of the current model\n",
    "        arguments: previous aggregated predictions (pred), \n",
    "                   predictions at current iteration,\n",
    "                   alpha_m\n",
    "        returns: updated predictions\n",
    "        \"\"\"\n",
    "        pred = [sum(p) for p in zip(pred, [m * alpha_t for m in pred_t])]\n",
    "        return pred\n",
    "    \n",
    "    def _get_score(self, y, pred, score=accuracy_score):\n",
    "        \"\"\"\n",
    "        arguments: target values and predicted values\n",
    "        returns: score\n",
    "        \"\"\"\n",
    "        return score(y, pred)\n",
    "    \n",
    "    def _model_predictions(self, X_train, y_train, X_test, y_test, sample_weight=None):\n",
    "        \"\"\"\n",
    "        arguments: model, training and test sets, sample weights\n",
    "        body: fit the model and make predicitions\n",
    "        returns: training predictions and test predictions\n",
    "        \"\"\"\n",
    "        self.base_estimator.fit(X_train, y_train, sample_weight=sample_weight)\n",
    "        pred_train = self.base_estimator.predict(X_train)\n",
    "        pred_test = self.base_estimator.predict(X_test)\n",
    "        return pred_train, pred_test\n",
    "    \n",
    "    def _generic_model(self, X_train, y_train, X_test, y_test):\n",
    "        \"\"\"\n",
    "        arguments: train and test sets for X, y and a model\n",
    "        fits the model on the training data and obtains train/test predictions\n",
    "        returns: train/test scores\n",
    "        \"\"\"\n",
    "        pred_train, pred_test = self._model_predictions(\n",
    "                X_train, y_train, X_test, y_test)\n",
    "        \n",
    "        return self._get_score(y_train, pred_train), \\\n",
    "            self._get_score(y_test, pred_test)\n",
    "    \n",
    "    \n",
    "    def predict(self, X_train, y_train, X_test, y_test,array=False):\n",
    "        \"\"\"\n",
    "        arguments: training/test set predictors and labels\n",
    "        returns: predicted labels after iteration over n_estimators\n",
    "        \"\"\"\n",
    "        \n",
    "        # measure size of train/test sets\n",
    "        n_train, n_test = len(X_train), len(X_test)\n",
    "        # Initialize weights\n",
    "        w = np.ones(n_train) / n_train\n",
    "        # Initialize train/test predictions\n",
    "        pred_train, pred_test = [np.zeros(n_train), np.zeros(n_test)]\n",
    "        # convert labels to 1/-1\n",
    "        ytilde_train = self._binary_converter(y_train)\n",
    "        ytilde_test = self._binary_converter(y_test)\n",
    "        \n",
    "        for i in range(self.n_estimators):\n",
    "            # Fit a classifier with the current weights\n",
    "            pred_train_i, pred_test_i = self._model_predictions(\n",
    "                X_train, y_train, X_test, y_test, sample_weight=w)\n",
    "            # convert predicted labels to 1/-1\n",
    "            pred_train_i = self._binary_converter(pred_train_i)\n",
    "            pred_test_i = self._binary_converter(pred_test_i)\n",
    "            # Indicator function\n",
    "            miss = self._indicator_function(pred_train_i, ytilde_train)\n",
    "            # Error\n",
    "            err_m = self._calculate_error_rate(w, miss)\n",
    "            # Alpha\n",
    "            alpha_m = self._calculate_alpha(err_m)\n",
    "            # update weights\n",
    "            w = self._update_importance_weights(w, miss, alpha_m)\n",
    "            # Add to prediction\n",
    "            pred_train = self._update_predictions(pred_train, pred_train_i, alpha_m)\n",
    "            pred_test = self._update_predictions(pred_test, pred_test_i, alpha_m)\n",
    "\n",
    "        # get the sign of train/test predictions\n",
    "        pred_train, pred_test = np.sign(pred_train), np.sign(pred_test)\n",
    "        \n",
    "        return pred_train, pred_test\n",
    "        \n",
    "    def score(self, X_train, y_train, X_test, y_test):\n",
    "    \n",
    "        ytilde_train = self._binary_converter(y_train)\n",
    "        ytilde_test = self._binary_converter(y_test)\n",
    "        pred_train, pred_test = self.predict(\n",
    "            X_train, y_train, X_test, y_test)\n",
    "        \n",
    "        # Return train/test scores\n",
    "        return self._get_score(ytilde_train, pred_train), \\\n",
    "            self._get_score(ytilde_test, pred_test)"
   ]
  },
  {
   "cell_type": "markdown",
   "id": "5262805e",
   "metadata": {},
   "source": [
    "### Comparing Custom Adaboost on Breast Cancer Dataset"
   ]
  },
  {
   "cell_type": "code",
   "execution_count": 2,
   "id": "11133d40",
   "metadata": {},
   "outputs": [],
   "source": [
    "from sklearn.datasets import load_breast_cancer\n",
    "data = load_breast_cancer()\n",
    "X = data.data\n",
    "y = data.target\n",
    "df = pd.DataFrame(columns=data.feature_names, data=X)\n",
    "df['cancer'] = y\n",
    "\n",
    "# Split\n",
    "X_train, X_test, y_train, y_test = train_test_split(X, y, test_size=0.2, random_state=99, stratify=y)"
   ]
  },
  {
   "cell_type": "markdown",
   "id": "7bd27248",
   "metadata": {},
   "source": [
    "#### Custom Adaptive Boosting"
   ]
  },
  {
   "cell_type": "code",
   "execution_count": 3,
   "id": "8ce597fd",
   "metadata": {},
   "outputs": [
    {
     "data": {
      "text/plain": [
       "(0.9934065934065934, 0.9210526315789473)"
      ]
     },
     "execution_count": 3,
     "metadata": {},
     "output_type": "execute_result"
    }
   ],
   "source": [
    "my_custom_adaboost = ada_boost_class()\n",
    "my_custom_adaboost.score(X_train, y_train,X_test, y_test)"
   ]
  },
  {
   "cell_type": "markdown",
   "id": "b917453c",
   "metadata": {},
   "source": [
    "#### Sci-kit Learn Adaptive Boosting"
   ]
  },
  {
   "cell_type": "code",
   "execution_count": 4,
   "id": "060fab45",
   "metadata": {},
   "outputs": [],
   "source": [
    "sklearn_adaboost = AdaBoostClassifier(\n",
    "    base_estimator=DecisionTreeClassifier(max_depth=1,random_state=99),\n",
    "    n_estimators=20,\n",
    "    algorithm='SAMME')"
   ]
  },
  {
   "cell_type": "code",
   "execution_count": 5,
   "id": "f7663555",
   "metadata": {},
   "outputs": [
    {
     "data": {
      "text/plain": [
       "AdaBoostClassifier(algorithm='SAMME',\n",
       "                   base_estimator=DecisionTreeClassifier(max_depth=1,\n",
       "                                                         random_state=99),\n",
       "                   n_estimators=20)"
      ]
     },
     "execution_count": 5,
     "metadata": {},
     "output_type": "execute_result"
    }
   ],
   "source": [
    "sklearn_adaboost.fit(X_train,y_train)"
   ]
  },
  {
   "cell_type": "code",
   "execution_count": 6,
   "id": "4174a76a",
   "metadata": {},
   "outputs": [
    {
     "data": {
      "text/plain": [
       "(0.9934065934065934, 0.9210526315789473)"
      ]
     },
     "execution_count": 6,
     "metadata": {},
     "output_type": "execute_result"
    }
   ],
   "source": [
    "sklearn_adaboost.score(X_train, y_train), sklearn_adaboost.score(X_test, y_test)"
   ]
  },
  {
   "cell_type": "code",
   "execution_count": 7,
   "id": "c4bdb684",
   "metadata": {},
   "outputs": [],
   "source": [
    "import matplotlib.pyplot as plt\n",
    "import seaborn as sns\n",
    "\n",
    "def fit_model(X_train, y_train, X_test, y_test,iterations=20):\n",
    "    \n",
    "    er_train, er_test = [], []  \n",
    "\n",
    "    x_range = range(1, iterations+1)\n",
    "    for i in x_range:\n",
    "        ada= ada_boost_class(n_estimators=i)\n",
    "        er_i = ada.score(X_train,y_train,X_test, y_test)\n",
    "        er_train.append(er_i[0])\n",
    "        er_test.append(er_i[1])\n",
    "\n",
    "    return er_train, er_test\n",
    "\n",
    "\n",
    "def plot_scores(y_1, y_2, y_3, y_4, iterations):\n",
    "    \n",
    "    x_range = range(1, iterations+1)\n",
    "    \n",
    "    fig, ax = plt.subplots(figsize=(15,7))\n",
    "    ax.plot(x_range, y_1, ls='--', lw=2, label='custom adaboost training score')\n",
    "    ax.plot(x_range, y_2, ls='--', lw=2, label='custom adaboost testing score')\n",
    "    ax.plot(x_range, y_3, alpha=0.5, lw=2, label='scikit-learn adaboost training score')\n",
    "    ax.plot(x_range, y_4, alpha=0.5, lw=2, label='scikit-learn adaboost testing score')\n",
    "    ax.set_xlabel('iterations')\n",
    "    ax.set_ylabel('accuracy')\n",
    "    ax.legend()\n",
    "    plt.title(\"Comparison of Custom Adaptive Boosting to Sci-Kit Learn Adaptive Boosting\")\n",
    "    return fig, ax"
   ]
  },
  {
   "cell_type": "code",
   "execution_count": 8,
   "id": "233668b2",
   "metadata": {},
   "outputs": [
    {
     "name": "stdout",
     "output_type": "stream",
     "text": [
      "Does Custom AdaBoost model and sklearn AdaBoost agree on the training set? True\n",
      "DDoes Custom AdaBoost model and sklearn AdaBoost agree on the test set? True\n"
     ]
    },
    {
     "data": {
      "image/png": "[encoded data removed]",
      "text/plain": [
       "<Figure size 1080x504 with 1 Axes>"
      ]
     },
     "metadata": {
      "needs_background": "light"
     },
     "output_type": "display_data"
    }
   ],
   "source": [
    "er_train, er_test = fit_model(X_train, y_train,X_test, y_test,20)\n",
    "\n",
    "y_1 = np.array(er_train) \n",
    "y_2 = np.array(er_test)\n",
    "y_3 = np.array(list(sklearn_adaboost.staged_score(X_train, y_train)))\n",
    "y_4 = np.array(list(sklearn_adaboost.staged_score(X_test, y_test)))\n",
    "\n",
    "print('Does Custom AdaBoost model and sklearn AdaBoost agree on the training set?', np.allclose(y_1, y_3))\n",
    "print('DDoes Custom AdaBoost model and sklearn AdaBoost agree on the test set?', np.allclose(y_2, y_4))\n",
    "\n",
    "fig, ax = plot_scores(y_1, y_2, y_3, y_4, 20)"
   ]
  },
  {
   "cell_type": "markdown",
   "id": "ffdecebb",
   "metadata": {},
   "source": [
    "- AdaBoost can be considered a subcase of Gradient Boosting for a particular type of loss function (exponential loss)."
   ]
  },
  {
   "cell_type": "markdown",
   "id": "fc4b6ea1",
   "metadata": {},
   "source": [
    "## Gradient\n",
    "Gradient boosting are a generalization of boosting to arbitrary, differentiable loss functions. The intuition behind this mechanism is to:\n",
    "\n",
    "---\n",
    "\n",
    "1. Fit a model $F_0$ to the data.\n",
    "2. Look at the difference between our observed $y$ and our model $F_0$. (The $y_i - F_0(x_i)$ can be thought of as residuals!)\n",
    "3. Fit a second model, $F_1$, to (roughly) the residuals $y_i - F_0(x_i)$.\n",
    "4. Aggregate your model $F_0$ and $F_1$. Residuals can be interpreted as negative gradients. Using a negative gradient the gradient descent algorithm can be applied to optimize the loss and generalize this to many loss functions (Least Squares, Least Absolute Deviation, M-Regression, Exponential Loss)"
   ]
  },
  {
   "cell_type": "markdown",
   "id": "ea804a16",
   "metadata": {},
   "source": [
    "1. $F_0(x) = arg min_ρ\\sum_{i=1}^NL(y_i,ρ)$\n",
    "2. For $m = 1$ to $M$ do:\n",
    "3. $\\tilde{y}_i = −[\\frac{\\partial{L}(y_i,F(x_i))}{\\partial{F}(x_i)}]_{F(x)=F_{m−1}(x)},i = 1,N$ - Steepest Descent\n",
    "4. $a_m = arg min_{a,\\beta}\\sum_{i=1}^N[\\tilde{y}_i−\\beta h(x_i;a)]^2$\n",
    "5. $\\rho_m = arg min_\\rho\\sum_{i=1}^N L(y_i,F_{m−1}(x_i) + \\rho h(x_i;a_m))$\n",
    "6. $F_m(x) = F_{m−1}(x) + \\rho_mh(x;a_m)$"
   ]
  },
  {
   "cell_type": "markdown",
   "id": "e3446434",
   "metadata": {},
   "source": [
    "[Greedy Function Approximation: A Gradient Boosting Machine](https://projecteuclid.org/journals/annals-of-statistics/volume-29/issue-5/Greedy-function-approximation-A-gradient-boostingmachine/10.1214/aos/1013203451.full?tab=ArticleFirstPage)\n",
    "\n",
    "\n",
    "[A Gentle Introduction to Gradient Boosting](http://www.ccs.neu.edu/home/vip/teach/MLcourse/4_boosting/slides/gradient_boosting.pdf)\n",
    "\n",
    "[Gradient boosting machines, a tutorial](http://www.ncbi.nlm.nih.gov/pmc/articles/PMC3885826/)"
   ]
  },
  {
   "cell_type": "markdown",
   "id": "633edc2d",
   "metadata": {},
   "source": [
    "[A Local Example](./GBM_example.xlsx)"
   ]
  },
  {
   "cell_type": "code",
   "execution_count": 153,
   "id": "10f716b1",
   "metadata": {},
   "outputs": [
    {
     "data": {
      "text/html": [
       "<div>\n",
       "<style scoped>\n",
       "    .dataframe tbody tr th:only-of-type {\n",
       "        vertical-align: middle;\n",
       "    }\n",
       "\n",
       "    .dataframe tbody tr th {\n",
       "        vertical-align: top;\n",
       "    }\n",
       "\n",
       "    .dataframe thead th {\n",
       "        text-align: right;\n",
       "    }\n",
       "</style>\n",
       "<table border=\"1\" class=\"dataframe\">\n",
       "  <thead>\n",
       "    <tr style=\"text-align: right;\">\n",
       "      <th></th>\n",
       "      <th>LikesJogging</th>\n",
       "      <th>GotoGym</th>\n",
       "      <th>SmokesCigars</th>\n",
       "      <th>DrivesSportsCar</th>\n",
       "      <th>Age</th>\n",
       "    </tr>\n",
       "  </thead>\n",
       "  <tbody>\n",
       "    <tr>\n",
       "      <th>0</th>\n",
       "      <td>0</td>\n",
       "      <td>1</td>\n",
       "      <td>0</td>\n",
       "      <td>1</td>\n",
       "      <td>14</td>\n",
       "    </tr>\n",
       "    <tr>\n",
       "      <th>1</th>\n",
       "      <td>0</td>\n",
       "      <td>1</td>\n",
       "      <td>0</td>\n",
       "      <td>0</td>\n",
       "      <td>15</td>\n",
       "    </tr>\n",
       "    <tr>\n",
       "      <th>2</th>\n",
       "      <td>0</td>\n",
       "      <td>1</td>\n",
       "      <td>1</td>\n",
       "      <td>0</td>\n",
       "      <td>16</td>\n",
       "    </tr>\n",
       "    <tr>\n",
       "      <th>3</th>\n",
       "      <td>1</td>\n",
       "      <td>1</td>\n",
       "      <td>0</td>\n",
       "      <td>1</td>\n",
       "      <td>26</td>\n",
       "    </tr>\n",
       "    <tr>\n",
       "      <th>4</th>\n",
       "      <td>0</td>\n",
       "      <td>1</td>\n",
       "      <td>0</td>\n",
       "      <td>1</td>\n",
       "      <td>36</td>\n",
       "    </tr>\n",
       "    <tr>\n",
       "      <th>5</th>\n",
       "      <td>1</td>\n",
       "      <td>0</td>\n",
       "      <td>0</td>\n",
       "      <td>0</td>\n",
       "      <td>50</td>\n",
       "    </tr>\n",
       "    <tr>\n",
       "      <th>6</th>\n",
       "      <td>1</td>\n",
       "      <td>1</td>\n",
       "      <td>1</td>\n",
       "      <td>1</td>\n",
       "      <td>69</td>\n",
       "    </tr>\n",
       "    <tr>\n",
       "      <th>7</th>\n",
       "      <td>1</td>\n",
       "      <td>0</td>\n",
       "      <td>1</td>\n",
       "      <td>0</td>\n",
       "      <td>72</td>\n",
       "    </tr>\n",
       "    <tr>\n",
       "      <th>8</th>\n",
       "      <td>1</td>\n",
       "      <td>0</td>\n",
       "      <td>1</td>\n",
       "      <td>1</td>\n",
       "      <td>73</td>\n",
       "    </tr>\n",
       "  </tbody>\n",
       "</table>\n",
       "</div>"
      ],
      "text/plain": [
       "   LikesJogging  GotoGym  SmokesCigars  DrivesSportsCar  Age\n",
       "0             0        1             0                1   14\n",
       "1             0        1             0                0   15\n",
       "2             0        1             1                0   16\n",
       "3             1        1             0                1   26\n",
       "4             0        1             0                1   36\n",
       "5             1        0             0                0   50\n",
       "6             1        1             1                1   69\n",
       "7             1        0             1                0   72\n",
       "8             1        0             1                1   73"
      ]
     },
     "execution_count": 153,
     "metadata": {},
     "output_type": "execute_result"
    }
   ],
   "source": [
    "age_data_raw = [\n",
    "    [0,1,0,1,14],\n",
    "    [0,1,0,0,15],\n",
    "    [0,1,1,0,16],\n",
    "    [1,1,0,1,26],\n",
    "    [0,1,0,1,36],\n",
    "    [1,0,0,0,50],\n",
    "    [1,1,1,1,69],\n",
    "    [1,0,1,0,72],\n",
    "    [1,0,1,1,73]\n",
    "]\n",
    "\n",
    "age_data = pd.DataFrame(data=age_data_raw,columns=[\"LikesJogging\",\"GotoGym\",\"SmokesCigars\",\"DrivesSportsCar\",\"Age\"])\n",
    "age_data"
   ]
  },
  {
   "cell_type": "code",
   "execution_count": 205,
   "id": "caaaa170",
   "metadata": {},
   "outputs": [],
   "source": [
    "def calculate_loss(resid, loss_function=None):\n",
    "    \n",
    "    if loss_function =='Absolute':\n",
    "        return abs(resid)\n",
    "    elif loss_function =='Huber':\n",
    "        if abs(resid) < 1:\n",
    "            return (abs(resid)**2)/2\n",
    "        else:\n",
    "            return abs(resid)-0.5\n",
    "    else:\n",
    "        return resid**2\n",
    "\n",
    "    \n",
    "def calculate_mean(df, estimator_column, predictor_column):\n",
    "    mean_true = np.mean(list(filter(lambda x: x!= -9999, np.where(df[predictor_column]==1,df[estimator_column],-9999))))\n",
    "    mean_false = np.mean(list(filter(lambda x: x!= -9999, np.where(df[predictor_column]==0,df[estimator_column],-9999)))) \n",
    "    return df[[predictor_column,estimator_column]]\\\n",
    ".apply(lambda x: \n",
    "       mean_true\n",
    "       if x[predictor_column]==1 \n",
    "       else \n",
    "       mean_false,axis=1)\n",
    "\n",
    "\n",
    "def calculate_residuals(df, estimator_column, mean_column):\n",
    "    return df[estimator_column] - df[mean_column]\n",
    "\n",
    "\n",
    "loss_function = \"Square Loss\"\n",
    "\n",
    "age_data['resid_0'] = age_data['Age']-age_data['Age'].mean()\n",
    "age_data['loss_0'] = age_data['resid_0'].apply(calculate_loss,args=[loss_function])\n",
    "\n",
    "# Stage 1 - LikesJogging\n",
    "age_data['mean_1'] = calculate_mean(age_data, 'Age','LikesJogging')\n",
    "age_data['resid_1'] = calculate_residuals(age_data, 'Age','mean_1')\n",
    "age_data['loss_1'] = age_data['resid_1'].apply(calculate_loss,args=[loss_function])\n",
    "\n",
    "# Stage 2 - GotoGym\n",
    "age_data['mean_2'] = calculate_mean(age_data, 'resid_1','GotoGym')\n",
    "age_data['resid_2'] = calculate_residuals(age_data, 'resid_1','mean_2')\n",
    "age_data['loss_2'] = age_data['resid_2'].apply(calculate_loss,args=[loss_function])\n",
    "\n",
    "# Stage 3 - SmokesCigars\n",
    "age_data['mean_3'] = calculate_mean(age_data, 'resid_2','SmokesCigars')\n",
    "age_data['resid_3'] = calculate_residuals(age_data, 'resid_2','mean_3')\n",
    "age_data['loss_3'] = age_data['resid_3'].apply(calculate_loss,args=[loss_function])\n",
    "\n",
    "# Stage 4 - DrivesSportsCar\n",
    "age_data['mean_4'] = calculate_mean(age_data, 'resid_3','DrivesSportsCar')\n",
    "age_data['resid_4'] = calculate_residuals(age_data, 'resid_3','mean_4')\n",
    "age_data['loss_4'] = age_data['resid_4'].apply(calculate_loss,args=[loss_function])"
   ]
  },
  {
   "cell_type": "code",
   "execution_count": 206,
   "id": "d9d32d64",
   "metadata": {},
   "outputs": [
    {
     "data": {
      "text/html": [
       "<div>\n",
       "<style scoped>\n",
       "    .dataframe tbody tr th:only-of-type {\n",
       "        vertical-align: middle;\n",
       "    }\n",
       "\n",
       "    .dataframe tbody tr th {\n",
       "        vertical-align: top;\n",
       "    }\n",
       "\n",
       "    .dataframe thead th {\n",
       "        text-align: right;\n",
       "    }\n",
       "</style>\n",
       "<table border=\"1\" class=\"dataframe\">\n",
       "  <thead>\n",
       "    <tr style=\"text-align: right;\">\n",
       "      <th></th>\n",
       "      <th>LikesJogging</th>\n",
       "      <th>GotoGym</th>\n",
       "      <th>SmokesCigars</th>\n",
       "      <th>DrivesSportsCar</th>\n",
       "      <th>Age</th>\n",
       "      <th>resid_0</th>\n",
       "      <th>loss_0</th>\n",
       "      <th>mean_1</th>\n",
       "      <th>resid_1</th>\n",
       "      <th>loss_1</th>\n",
       "      <th>mean_2</th>\n",
       "      <th>resid_2</th>\n",
       "      <th>loss_2</th>\n",
       "      <th>mean_3</th>\n",
       "      <th>resid_3</th>\n",
       "      <th>loss_3</th>\n",
       "      <th>mean_4</th>\n",
       "      <th>resid_4</th>\n",
       "      <th>loss_4</th>\n",
       "    </tr>\n",
       "  </thead>\n",
       "  <tbody>\n",
       "    <tr>\n",
       "      <th>0</th>\n",
       "      <td>0</td>\n",
       "      <td>1</td>\n",
       "      <td>0</td>\n",
       "      <td>1</td>\n",
       "      <td>14</td>\n",
       "      <td>-27.222222</td>\n",
       "      <td>741.049383</td>\n",
       "      <td>20.25</td>\n",
       "      <td>-6.25</td>\n",
       "      <td>39.0625</td>\n",
       "      <td>-3.5</td>\n",
       "      <td>-2.75</td>\n",
       "      <td>7.5625</td>\n",
       "      <td>-5.7500</td>\n",
       "      <td>3.0000</td>\n",
       "      <td>9.000000</td>\n",
       "      <td>2.67500</td>\n",
       "      <td>0.32500</td>\n",
       "      <td>0.105625</td>\n",
       "    </tr>\n",
       "    <tr>\n",
       "      <th>1</th>\n",
       "      <td>0</td>\n",
       "      <td>1</td>\n",
       "      <td>0</td>\n",
       "      <td>0</td>\n",
       "      <td>15</td>\n",
       "      <td>-26.222222</td>\n",
       "      <td>687.604938</td>\n",
       "      <td>20.25</td>\n",
       "      <td>-5.25</td>\n",
       "      <td>27.5625</td>\n",
       "      <td>-3.5</td>\n",
       "      <td>-1.75</td>\n",
       "      <td>3.0625</td>\n",
       "      <td>-5.7500</td>\n",
       "      <td>4.0000</td>\n",
       "      <td>16.000000</td>\n",
       "      <td>-3.34375</td>\n",
       "      <td>7.34375</td>\n",
       "      <td>53.930664</td>\n",
       "    </tr>\n",
       "    <tr>\n",
       "      <th>2</th>\n",
       "      <td>0</td>\n",
       "      <td>1</td>\n",
       "      <td>1</td>\n",
       "      <td>0</td>\n",
       "      <td>16</td>\n",
       "      <td>-25.222222</td>\n",
       "      <td>636.160494</td>\n",
       "      <td>20.25</td>\n",
       "      <td>-4.25</td>\n",
       "      <td>18.0625</td>\n",
       "      <td>-3.5</td>\n",
       "      <td>-0.75</td>\n",
       "      <td>0.5625</td>\n",
       "      <td>7.1875</td>\n",
       "      <td>-7.9375</td>\n",
       "      <td>63.003906</td>\n",
       "      <td>-3.34375</td>\n",
       "      <td>-4.59375</td>\n",
       "      <td>21.102539</td>\n",
       "    </tr>\n",
       "    <tr>\n",
       "      <th>3</th>\n",
       "      <td>1</td>\n",
       "      <td>1</td>\n",
       "      <td>0</td>\n",
       "      <td>1</td>\n",
       "      <td>26</td>\n",
       "      <td>-15.222222</td>\n",
       "      <td>231.716049</td>\n",
       "      <td>58.00</td>\n",
       "      <td>-32.00</td>\n",
       "      <td>1024.0000</td>\n",
       "      <td>-3.5</td>\n",
       "      <td>-28.50</td>\n",
       "      <td>812.2500</td>\n",
       "      <td>-5.7500</td>\n",
       "      <td>-22.7500</td>\n",
       "      <td>517.562500</td>\n",
       "      <td>2.67500</td>\n",
       "      <td>-25.42500</td>\n",
       "      <td>646.430625</td>\n",
       "    </tr>\n",
       "    <tr>\n",
       "      <th>4</th>\n",
       "      <td>0</td>\n",
       "      <td>1</td>\n",
       "      <td>0</td>\n",
       "      <td>1</td>\n",
       "      <td>36</td>\n",
       "      <td>-5.222222</td>\n",
       "      <td>27.271605</td>\n",
       "      <td>20.25</td>\n",
       "      <td>15.75</td>\n",
       "      <td>248.0625</td>\n",
       "      <td>-3.5</td>\n",
       "      <td>19.25</td>\n",
       "      <td>370.5625</td>\n",
       "      <td>-5.7500</td>\n",
       "      <td>25.0000</td>\n",
       "      <td>625.000000</td>\n",
       "      <td>2.67500</td>\n",
       "      <td>22.32500</td>\n",
       "      <td>498.405625</td>\n",
       "    </tr>\n",
       "    <tr>\n",
       "      <th>5</th>\n",
       "      <td>1</td>\n",
       "      <td>0</td>\n",
       "      <td>0</td>\n",
       "      <td>0</td>\n",
       "      <td>50</td>\n",
       "      <td>8.777778</td>\n",
       "      <td>77.049383</td>\n",
       "      <td>58.00</td>\n",
       "      <td>-8.00</td>\n",
       "      <td>64.0000</td>\n",
       "      <td>7.0</td>\n",
       "      <td>-15.00</td>\n",
       "      <td>225.0000</td>\n",
       "      <td>-5.7500</td>\n",
       "      <td>-9.2500</td>\n",
       "      <td>85.562500</td>\n",
       "      <td>-3.34375</td>\n",
       "      <td>-5.90625</td>\n",
       "      <td>34.883789</td>\n",
       "    </tr>\n",
       "    <tr>\n",
       "      <th>6</th>\n",
       "      <td>1</td>\n",
       "      <td>1</td>\n",
       "      <td>1</td>\n",
       "      <td>1</td>\n",
       "      <td>69</td>\n",
       "      <td>27.777778</td>\n",
       "      <td>771.604938</td>\n",
       "      <td>58.00</td>\n",
       "      <td>11.00</td>\n",
       "      <td>121.0000</td>\n",
       "      <td>-3.5</td>\n",
       "      <td>14.50</td>\n",
       "      <td>210.2500</td>\n",
       "      <td>7.1875</td>\n",
       "      <td>7.3125</td>\n",
       "      <td>53.472656</td>\n",
       "      <td>2.67500</td>\n",
       "      <td>4.63750</td>\n",
       "      <td>21.506406</td>\n",
       "    </tr>\n",
       "    <tr>\n",
       "      <th>7</th>\n",
       "      <td>1</td>\n",
       "      <td>0</td>\n",
       "      <td>1</td>\n",
       "      <td>0</td>\n",
       "      <td>72</td>\n",
       "      <td>30.777778</td>\n",
       "      <td>947.271605</td>\n",
       "      <td>58.00</td>\n",
       "      <td>14.00</td>\n",
       "      <td>196.0000</td>\n",
       "      <td>7.0</td>\n",
       "      <td>7.00</td>\n",
       "      <td>49.0000</td>\n",
       "      <td>7.1875</td>\n",
       "      <td>-0.1875</td>\n",
       "      <td>0.035156</td>\n",
       "      <td>-3.34375</td>\n",
       "      <td>3.15625</td>\n",
       "      <td>9.961914</td>\n",
       "    </tr>\n",
       "    <tr>\n",
       "      <th>8</th>\n",
       "      <td>1</td>\n",
       "      <td>0</td>\n",
       "      <td>1</td>\n",
       "      <td>1</td>\n",
       "      <td>73</td>\n",
       "      <td>31.777778</td>\n",
       "      <td>1009.827160</td>\n",
       "      <td>58.00</td>\n",
       "      <td>15.00</td>\n",
       "      <td>225.0000</td>\n",
       "      <td>7.0</td>\n",
       "      <td>8.00</td>\n",
       "      <td>64.0000</td>\n",
       "      <td>7.1875</td>\n",
       "      <td>0.8125</td>\n",
       "      <td>0.660156</td>\n",
       "      <td>2.67500</td>\n",
       "      <td>-1.86250</td>\n",
       "      <td>3.468906</td>\n",
       "    </tr>\n",
       "  </tbody>\n",
       "</table>\n",
       "</div>"
      ],
      "text/plain": [
       "   LikesJogging  GotoGym  SmokesCigars  DrivesSportsCar  Age    resid_0  \\\n",
       "0             0        1             0                1   14 -27.222222   \n",
       "1             0        1             0                0   15 -26.222222   \n",
       "2             0        1             1                0   16 -25.222222   \n",
       "3             1        1             0                1   26 -15.222222   \n",
       "4             0        1             0                1   36  -5.222222   \n",
       "5             1        0             0                0   50   8.777778   \n",
       "6             1        1             1                1   69  27.777778   \n",
       "7             1        0             1                0   72  30.777778   \n",
       "8             1        0             1                1   73  31.777778   \n",
       "\n",
       "        loss_0  mean_1  resid_1     loss_1  mean_2  resid_2    loss_2  mean_3  \\\n",
       "0   741.049383   20.25    -6.25    39.0625    -3.5    -2.75    7.5625 -5.7500   \n",
       "1   687.604938   20.25    -5.25    27.5625    -3.5    -1.75    3.0625 -5.7500   \n",
       "2   636.160494   20.25    -4.25    18.0625    -3.5    -0.75    0.5625  7.1875   \n",
       "3   231.716049   58.00   -32.00  1024.0000    -3.5   -28.50  812.2500 -5.7500   \n",
       "4    27.271605   20.25    15.75   248.0625    -3.5    19.25  370.5625 -5.7500   \n",
       "5    77.049383   58.00    -8.00    64.0000     7.0   -15.00  225.0000 -5.7500   \n",
       "6   771.604938   58.00    11.00   121.0000    -3.5    14.50  210.2500  7.1875   \n",
       "7   947.271605   58.00    14.00   196.0000     7.0     7.00   49.0000  7.1875   \n",
       "8  1009.827160   58.00    15.00   225.0000     7.0     8.00   64.0000  7.1875   \n",
       "\n",
       "   resid_3      loss_3   mean_4   resid_4      loss_4  \n",
       "0   3.0000    9.000000  2.67500   0.32500    0.105625  \n",
       "1   4.0000   16.000000 -3.34375   7.34375   53.930664  \n",
       "2  -7.9375   63.003906 -3.34375  -4.59375   21.102539  \n",
       "3 -22.7500  517.562500  2.67500 -25.42500  646.430625  \n",
       "4  25.0000  625.000000  2.67500  22.32500  498.405625  \n",
       "5  -9.2500   85.562500 -3.34375  -5.90625   34.883789  \n",
       "6   7.3125   53.472656  2.67500   4.63750   21.506406  \n",
       "7  -0.1875    0.035156 -3.34375   3.15625    9.961914  \n",
       "8   0.8125    0.660156  2.67500  -1.86250    3.468906  "
      ]
     },
     "execution_count": 206,
     "metadata": {},
     "output_type": "execute_result"
    }
   ],
   "source": [
    "age_data"
   ]
  },
  {
   "cell_type": "code",
   "execution_count": 207,
   "id": "a6f80fe7",
   "metadata": {},
   "outputs": [
    {
     "data": {
      "image/png": "[encoded data removed]",
      "text/plain": [
       "<Figure size 432x288 with 1 Axes>"
      ]
     },
     "metadata": {
      "needs_background": "light"
     },
     "output_type": "display_data"
    }
   ],
   "source": [
    "def plot_loss_function(df):\n",
    "    \n",
    "    loss_data = [df['loss_0'].mean()]\n",
    "    \n",
    "    pattern = {'loss_1':'LikesJogging',\n",
    "              'loss_2':'GotoGym',\n",
    "              'loss_3':'SmokesCigars',\n",
    "              'loss_4':'DrivesSportsCar'}\n",
    "    \n",
    "    for loss_column,predictor_column in pattern.items():\n",
    "        mean_true = np.mean(list(filter(lambda x: x!= -9999, np.where(df[predictor_column]==1,df[loss_column],-9999))))\n",
    "        mean_false = np.mean(list(filter(lambda x: x!= -9999, np.where(df[predictor_column]==0,df[loss_column],-9999))))\n",
    "        loss_data.append(mean_true+mean_false)\n",
    "        \n",
    "    pd.Series(loss_data).plot()\n",
    "        \n",
    "plot_loss_function(age_data)"
   ]
  },
  {
   "cell_type": "code",
   "execution_count": 220,
   "id": "db19e3f2",
   "metadata": {},
   "outputs": [
    {
     "data": {
      "text/plain": [
       "{0: 20.25, 1: 58.0}"
      ]
     },
     "execution_count": 220,
     "metadata": {},
     "output_type": "execute_result"
    }
   ],
   "source": [
    "age_data[['LikesJogging','mean_1']].drop_duplicates().reset_index(drop='index').set_index('LikesJogging').to_dict()['mean_1']"
   ]
  },
  {
   "cell_type": "code",
   "execution_count": 242,
   "id": "fa84b65f",
   "metadata": {},
   "outputs": [],
   "source": [
    "def predict_age(df, array):\n",
    "    \n",
    "    store_prediction = []\n",
    "    \n",
    "    for n,(i,predictor) in enumerate(zip(array,['LikesJogging','GotoGym','SmokesCigars','DrivesSportsCar'])):\n",
    "        store_prediction.append(df[[predictor,f'mean_{n+1}']].drop_duplicates().reset_index(drop='index').set_index(predictor).to_dict()[f'mean_{n+1}'][i])\n",
    "    #second = df[['GotoGym','mean_2']].drop_duplicates().reset_index(drop='index').set_index('GotoGym').to_dict()['mean_2']\n",
    "    return sum(store_prediction)"
   ]
  },
  {
   "cell_type": "code",
   "execution_count": 243,
   "id": "6df31632",
   "metadata": {},
   "outputs": [
    {
     "data": {
      "text/plain": [
       "18.15625"
      ]
     },
     "execution_count": 243,
     "metadata": {},
     "output_type": "execute_result"
    }
   ],
   "source": [
    "predict_age(age_data,[0,0,0,0])"
   ]
  },
  {
   "cell_type": "markdown",
   "id": "871c20a1",
   "metadata": {},
   "source": [
    "## eXtreme\n",
    "Extreme regularisation & computation\n",
    "\n",
    "---"
   ]
  },
  {
   "cell_type": "code",
   "execution_count": 12,
   "id": "473c60b1",
   "metadata": {},
   "outputs": [],
   "source": [
    "import xgboost"
   ]
  },
  {
   "cell_type": "code",
   "execution_count": 13,
   "id": "081ec30a",
   "metadata": {
    "scrolled": false
   },
   "outputs": [
    {
     "data": {
      "text/plain": [
       "XGBClassifier(base_score=None, booster=None, callbacks=None,\n",
       "              colsample_bylevel=None, colsample_bynode=None,\n",
       "              colsample_bytree=None, early_stopping_rounds=None,\n",
       "              enable_categorical=False, eval_metric=None, gamma=None,\n",
       "              gpu_id=None, grow_policy=None, importance_type=None,\n",
       "              interaction_constraints=None, learning_rate=None, max_bin=None,\n",
       "              max_cat_to_onehot=None, max_delta_step=None, max_depth=None,\n",
       "              max_leaves=None, min_child_weight=None, missing=nan,\n",
       "              monotone_constraints=None, n_estimators=100, n_jobs=None,\n",
       "              num_parallel_tree=None, predictor=None, random_state=None,\n",
       "              reg_alpha=None, reg_lambda=None, ...)"
      ]
     },
     "execution_count": 13,
     "metadata": {},
     "output_type": "execute_result"
    }
   ],
   "source": [
    "xgboost.XGBClassifier()"
   ]
  },
  {
   "cell_type": "markdown",
   "id": "ce9f87db",
   "metadata": {},
   "source": [
    "---\n",
    "### Boosting Parameters"
   ]
  },
  {
   "cell_type": "markdown",
   "id": "247f89cf",
   "metadata": {},
   "source": [
    "Controls the performance of the selected booster\n",
    "\n",
    "- **learning_rate** - Controls the maximum number of iterations, the lower values will generate the slower computation.\n",
    "\n",
    "- <span style=\"color:red\">**gamma**</span> - Controls the regularization. 0 means (no regularization). The higher gamma is the higher regularization, regularization means penalizing large coefficients that don’t improve the model’s performance.\n",
    "\n",
    "- **reg_alpha** - L1 regularization term on weights (xgb's alpha)\n",
    "- **reg_lambda** - L2 regularization term on weights (xgb's lambda)\n",
    "\n",
    "- **n_estimators** - Controls the maximum number of iterations.\n",
    "\n",
    "- **max_depth** - Controls Maximum depth of a tree. Increasing this value will make the model more complex and more likely to overfit.\n",
    "\n",
    "- **min_child_weight** - If the leaf node has a minimum sum of instance weight lower than min_child_weight in the tree partition step than the process of splitting the tree will stop growing.\n",
    "\n",
    "- **subsample**- Controls the number of ratio observations to a tree. A value of 0.5 means that XGboost would randomly sample half of the training data prior to growing trees and this will prevent overfitting. subsample occurs once in every boosting iteration.\n",
    "\n",
    "- <span style=\"color:red\">**colsample_bytree**</span>  - Controls the subsample ratio of columns when constructing each tree.Similar to random feature selection in Random Forests\n",
    "\n",
    "- <span style=\"color:red\">**num_parallel_tree**</span> - Boosting a Random Forest estimator\n",
    "\n"
   ]
  },
  {
   "cell_type": "markdown",
   "id": "3c826965",
   "metadata": {},
   "source": [
    "### Learning Task Parameters\n",
    "Sets and evaluates the learning process of booster from the given data.\n",
    "\n",
    "- **objective** - `reg:squarederror` for regression with squared loss, `binary:logistic` for binary classification\n",
    "- **eval_metric** - evaluation metrics for validaton data. (e.g. RMSE, error)"
   ]
  },
  {
   "cell_type": "markdown",
   "id": "3ad34fde",
   "metadata": {},
   "source": [
    "### General & Computational Parameters"
   ]
  },
  {
   "cell_type": "markdown",
   "id": "2a4edc98",
   "metadata": {},
   "source": [
    "Controls the booster type in the model which eventually drives overall functioning\n",
    "\n",
    "- **booster**\n",
    "\n",
    "> `gbtree` - For classification problems. In `gbtree` a tree is grown one after other and attempts to reduce misclassification reate in subsequent iterations. The next tree is built by giving a higher weight to misclassified points by the previous tree.\n",
    "\n",
    "> `gblinear` or `gbtree` - For regression problems. In `gblinear`, it builds a generalized linear model and optimizes it using regularization and gradient descent. The next model will built on residuals generated by previous iterations.\n",
    "\n",
    "- **n_jobs** - To enable parallel computing. -1 is the maximum number of cores available\n",
    "\n",
    "- **verbosity** - Verbosity to display warning messages.1 (warning), 0 for silent, 2 for info, and 3 for debug."
   ]
  }
 ],
 "metadata": {
  "kernelspec": {
   "display_name": "Python 3 (ipykernel)",
   "language": "python",
   "name": "python3"
  },
  "language_info": {
   "codemirror_mode": {
    "name": "ipython",
    "version": 3
   },
   "file_extension": ".py",
   "mimetype": "text/x-python",
   "name": "python",
   "nbconvert_exporter": "python",
   "pygments_lexer": "ipython3",
   "version": "3.7.0"
  },
  "toc": {
   "base_numbering": 1,
   "nav_menu": {},
   "number_sections": true,
   "sideBar": true,
   "skip_h1_title": false,
   "title_cell": "Table of Contents",
   "title_sidebar": "Contents",
   "toc_cell": false,
   "toc_position": {},
   "toc_section_display": true,
   "toc_window_display": false
  },
  "varInspector": {
   "cols": {
    "lenName": 16,
    "lenType": 16,
    "lenVar": 40
   },
   "kernels_config": {
    "python": {
     "delete_cmd_postfix": "",
     "delete_cmd_prefix": "del ",
     "library": "var_list.py",
     "varRefreshCmd": "print(var_dic_list())"
    },
    "r": {
     "delete_cmd_postfix": ") ",
     "delete_cmd_prefix": "rm(",
     "library": "var_list.r",
     "varRefreshCmd": "cat(var_dic_list()) "
    }
   },
   "types_to_exclude": [
    "module",
    "function",
    "builtin_function_or_method",
    "instance",
    "_Feature"
   ],
   "window_display": false
  }
 },
 "nbformat": 4,
 "nbformat_minor": 5
}

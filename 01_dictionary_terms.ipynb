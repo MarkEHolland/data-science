{
 "cells": [
  {
   "cell_type": "markdown",
   "id": "8d67fa13-bf14-4a71-b830-724f91bafdd9",
   "metadata": {},
   "source": [
    "### dictionary of terms - expand commonly found abbrevitions"
   ]
  },
  {
   "cell_type": "code",
   "execution_count": 8,
   "id": "30000d9e-83a3-4b40-b6db-2b85e3d52926",
   "metadata": {
    "tags": []
   },
   "outputs": [],
   "source": [
    "import pandas as pd\n",
    "import re"
   ]
  },
  {
   "cell_type": "markdown",
   "id": "dea6fbda-9d0d-4d05-9977-eb343f08c729",
   "metadata": {
    "tags": []
   },
   "source": [
    "#### abbreviation dictionary"
   ]
  },
  {
   "cell_type": "code",
   "execution_count": 9,
   "id": "e2f2241b-7e5c-40e4-b9c5-f29c71581ea6",
   "metadata": {
    "tags": []
   },
   "outputs": [],
   "source": [
    "dc_abbreviations = pd.read_csv('../input/DC_abbreviations.csv')\n",
    "dc_dict = dc_abbreviations.set_index('abbreviation')['term'].to_dict()"
   ]
  },
  {
   "cell_type": "markdown",
   "id": "6ec4d855-0467-45c9-ba03-8d44a72e4c96",
   "metadata": {
    "tags": []
   },
   "source": [
    "#### Replace words in the string using a loop"
   ]
  },
  {
   "cell_type": "code",
   "execution_count": 12,
   "id": "6f5b3836-eabf-4c1e-a28e-20553bf362b2",
   "metadata": {
    "tags": []
   },
   "outputs": [],
   "source": [
    "dc3007 = pd.read_csv(\"../input/DC_3007.csv\")"
   ]
  },
  {
   "cell_type": "code",
   "execution_count": 13,
   "id": "9dee2fc9-e87f-4f8c-8327-d838e154ef5a",
   "metadata": {
    "tags": []
   },
   "outputs": [],
   "source": [
    "scenario = dc3007.scenario\n",
    "expanded_scenario = []\n",
    "for k in scenario:\n",
    "    for o_word, n_word in dc_dict.items():\n",
    "        k = k.replace(o_word, n_word)\n",
    "    expanded_scenario.append(k)\n",
    "dc3007['expanded_scenario'] =expanded_scenario"
   ]
  },
  {
   "cell_type": "code",
   "execution_count": 14,
   "id": "edbb8346-5262-4f51-b978-d3053f03aaaf",
   "metadata": {},
   "outputs": [
    {
     "data": {
      "text/plain": [
       "0    The Communications Provider is the contact but...\n",
       "1    Appointment booked and emailed to Communicatio...\n",
       "2    Appointment is provisionally booked with Commu...\n",
       "3    Appointment is booked with Communications Prov...\n",
       "4    Communications Provider / End User cancels agr...\n",
       "Name: expanded_scenario, dtype: object"
      ]
     },
     "execution_count": 14,
     "metadata": {},
     "output_type": "execute_result"
    }
   ],
   "source": [
    "dc3007['expanded_scenario'].head()"
   ]
  },
  {
   "cell_type": "code",
   "execution_count": null,
   "id": "6f5719ef-ea42-464a-9a3d-6bd0e5e4558f",
   "metadata": {},
   "outputs": [],
   "source": []
  }
 ],
 "metadata": {
  "environment": {
   "kernel": "conda-env-pytorch-pytorch",
   "name": "workbench-notebooks.m127",
   "type": "gcloud",
   "uri": "us-docker.pkg.dev/deeplearning-platform-release/gcr.io/workbench-notebooks:m127"
  },
  "kernelspec": {
   "display_name": "PyTorch 1-13",
   "language": "python",
   "name": "conda-env-pytorch-pytorch"
  },
  "language_info": {
   "codemirror_mode": {
    "name": "ipython",
    "version": 3
   },
   "file_extension": ".py",
   "mimetype": "text/x-python",
   "name": "python",
   "nbconvert_exporter": "python",
   "pygments_lexer": "ipython3",
   "version": "3.10.16"
  }
 },
 "nbformat": 4,
 "nbformat_minor": 5
}

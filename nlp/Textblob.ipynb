{
 "cells": [
  {
   "cell_type": "markdown",
   "metadata": {
    "colab_type": "text",
    "id": "aYjtnkWINc2Y"
   },
   "source": [
    "### Quickly establish a baseline text classifier accuracy before building more complex model using [Textblob.](https://textblob.readthedocs.io/en/dev/)"
   ]
  },
  {
   "cell_type": "markdown",
   "metadata": {},
   "source": [
    "#### i.e. simplified text processing"
   ]
  },
  {
   "cell_type": "markdown",
   "metadata": {},
   "source": [
    "#### Load 'tweet' dataset"
   ]
  },
  {
   "cell_type": "code",
   "execution_count": 46,
   "metadata": {
    "colab": {
     "base_uri": "https://localhost:8080/",
     "height": 34
    },
    "colab_type": "code",
    "id": "spAkPPa0LJme",
    "outputId": "2ad2c9cd-e5f4-4510-e1dd-621161c02032"
   },
   "outputs": [
    {
     "name": "stdout",
     "output_type": "stream",
     "text": [
      "Index(['id', 'polarity', 'tweet'], dtype='object')\n"
     ]
    }
   ],
   "source": [
    "import pandas as pd\n",
    "df = pd.read_csv(\"sts_gold_tweet.csv\",delimiter=\";\")\n",
    "print(df.columns)\n",
    "\n",
    "# Make a list of all the tweets.\n",
    "\n",
    "tweets_text_collection = list(df['tweet'])"
   ]
  },
  {
   "cell_type": "code",
   "execution_count": 47,
   "metadata": {},
   "outputs": [
    {
     "data": {
      "text/html": [
       "<div>\n",
       "<style scoped>\n",
       "    .dataframe tbody tr th:only-of-type {\n",
       "        vertical-align: middle;\n",
       "    }\n",
       "\n",
       "    .dataframe tbody tr th {\n",
       "        vertical-align: top;\n",
       "    }\n",
       "\n",
       "    .dataframe thead th {\n",
       "        text-align: right;\n",
       "    }\n",
       "</style>\n",
       "<table border=\"1\" class=\"dataframe\">\n",
       "  <thead>\n",
       "    <tr style=\"text-align: right;\">\n",
       "      <th></th>\n",
       "      <th>id</th>\n",
       "      <th>polarity</th>\n",
       "      <th>tweet</th>\n",
       "    </tr>\n",
       "  </thead>\n",
       "  <tbody>\n",
       "    <tr>\n",
       "      <th>0</th>\n",
       "      <td>1467933112</td>\n",
       "      <td>0</td>\n",
       "      <td>the angel is going to miss the athlete this we...</td>\n",
       "    </tr>\n",
       "    <tr>\n",
       "      <th>1</th>\n",
       "      <td>2323395086</td>\n",
       "      <td>0</td>\n",
       "      <td>It looks as though Shaq is getting traded to C...</td>\n",
       "    </tr>\n",
       "    <tr>\n",
       "      <th>2</th>\n",
       "      <td>1467968979</td>\n",
       "      <td>0</td>\n",
       "      <td>@clarianne APRIL 9TH ISN'T COMING SOON ENOUGH</td>\n",
       "    </tr>\n",
       "    <tr>\n",
       "      <th>3</th>\n",
       "      <td>1990283756</td>\n",
       "      <td>0</td>\n",
       "      <td>drinking a McDonalds coffee and not understand...</td>\n",
       "    </tr>\n",
       "    <tr>\n",
       "      <th>4</th>\n",
       "      <td>1988884918</td>\n",
       "      <td>0</td>\n",
       "      <td>So dissapointed Taylor Swift doesnt have a Twi...</td>\n",
       "    </tr>\n",
       "  </tbody>\n",
       "</table>\n",
       "</div>"
      ],
      "text/plain": [
       "           id  polarity                                              tweet\n",
       "0  1467933112         0  the angel is going to miss the athlete this we...\n",
       "1  2323395086         0  It looks as though Shaq is getting traded to C...\n",
       "2  1467968979         0     @clarianne APRIL 9TH ISN'T COMING SOON ENOUGH \n",
       "3  1990283756         0  drinking a McDonalds coffee and not understand...\n",
       "4  1988884918         0  So dissapointed Taylor Swift doesnt have a Twi..."
      ]
     },
     "execution_count": 47,
     "metadata": {},
     "output_type": "execute_result"
    }
   ],
   "source": [
    "df.head()"
   ]
  },
  {
   "cell_type": "markdown",
   "metadata": {},
   "source": [
    "#### sentiment analysis"
   ]
  },
  {
   "cell_type": "code",
   "execution_count": 48,
   "metadata": {
    "colab": {
     "base_uri": "https://localhost:8080/",
     "height": 1000
    },
    "colab_type": "code",
    "id": "mBPraZ2FLnX7",
    "outputId": "c719024a-b44a-48f7-dcc6-59923e0f7740"
   },
   "outputs": [
    {
     "name": "stdout",
     "output_type": "stream",
     "text": [
      "the angel is going to miss the athlete this weekend \n",
      "Sentiment(polarity=0.0, subjectivity=0.0)\n",
      "--------------------\n",
      "It looks as though Shaq is getting traded to Cleveland to play w/ LeBron... Too bad for Suns' fans. The Big Cactus is no more \n",
      "Sentiment(polarity=-0.3166666666666666, subjectivity=0.4222222222222222)\n",
      "--------------------\n",
      "@clarianne APRIL 9TH ISN'T COMING SOON ENOUGH \n",
      "Sentiment(polarity=0.0, subjectivity=0.5)\n",
      "--------------------\n",
      "drinking a McDonalds coffee and not understanding why someone would hurt me for no apparent reason. \n",
      "Sentiment(polarity=-0.025, subjectivity=0.35)\n",
      "--------------------\n",
      "So dissapointed Taylor Swift doesnt have a Twitter \n",
      "Sentiment(polarity=0.0, subjectivity=0.0)\n",
      "--------------------\n",
      "Wishes I was on the Spring Fling Tour with Dawn &amp; neecee Sigh  G'knight\n",
      "Sentiment(polarity=0.0, subjectivity=0.0)\n",
      "--------------------\n",
      "got a sniffle, got the kids and hubby just left to work in Sydney for the weekend, boo hoo \n",
      "Sentiment(polarity=0.0, subjectivity=0.0)\n",
      "--------------------\n",
      "i've only been in sydney for 3 hrs but I miss my friends  especially @ktjade!!!\n",
      "Sentiment(polarity=0.0, subjectivity=1.0)\n",
      "--------------------\n",
      "xboxtweet not working again \n",
      "Sentiment(polarity=0.0, subjectivity=0.0)\n",
      "--------------------\n",
      "R.I.P to lebron/kobe puppet commercials... \n",
      "Sentiment(polarity=0.0, subjectivity=0.0)\n",
      "--------------------\n",
      "Allergies sucks sometimes. Theres a super adorable 9 month old beagle named Sydney hanging out with my roomie and his friend. Can't pet. \n",
      "Sentiment(polarity=0.15833333333333333, subjectivity=0.5416666666666666)\n",
      "--------------------\n",
      "has a broken iphone \n",
      "Sentiment(polarity=-0.4, subjectivity=0.4)\n",
      "--------------------\n",
      "Line at McDonalds was too long so I can't get my sausage biscuit on \n",
      "Sentiment(polarity=-0.05, subjectivity=0.4)\n",
      "--------------------\n",
      "@stephnewby there is a virus going around  congestion, throw up, &amp; high fever\n",
      "Sentiment(polarity=0.16, subjectivity=0.5399999999999999)\n",
      "--------------------\n",
      "I scratched my iPod \n",
      "Sentiment(polarity=0.0, subjectivity=0.0)\n",
      "--------------------\n",
      "I don't understand... I really don't \n",
      "Sentiment(polarity=0.2, subjectivity=0.2)\n",
      "--------------------\n",
      "@Rove1974 @Pink is our hero too! Love her! Wanna go see her in Brisvegas again but sadly my bank balance wont let me \n",
      "Sentiment(polarity=0.0, subjectivity=0.6333333333333333)\n",
      "--------------------\n",
      "I hate the fact that I'm genuinely excited about my last tweet \n",
      "Sentiment(polarity=-0.1416666666666667, subjectivity=0.5722222222222222)\n",
      "--------------------\n",
      "Tula's sick! Nausious, Nasal congestion, headache, bodyaches and my nose is running a marathon. Theraflu please help \n",
      "Sentiment(polarity=-0.8928571428571429, subjectivity=0.8571428571428571)\n",
      "--------------------\n",
      "Hayfever time  not good!\n",
      "Sentiment(polarity=-0.4375, subjectivity=0.6000000000000001)\n",
      "--------------------\n"
     ]
    }
   ],
   "source": [
    "# !pip install textblob\n",
    "from textblob import TextBlob\n",
    "\n",
    "for i, tweet_text in zip(range(20), tweets_text_collection):\n",
    "\n",
    "    print(tweet_text)\n",
    "    analysis = TextBlob(tweet_text)\n",
    "    \n",
    "    # Analyse the sentiment.\n",
    "    \n",
    "    print(analysis.sentiment)\n",
    "    \n",
    "    # Polarity is a value between [-1.0, 1.0] and tells how positive or negative the text is. \n",
    "    # Subjectivity is within the range [0.0, 1.0] where 0.0 is very objective and 1.0 is very subjective.\n",
    "    \n",
    "    print(\"-\"*20)"
   ]
  },
  {
   "cell_type": "markdown",
   "metadata": {},
   "source": [
    "### create a custom classifier"
   ]
  },
  {
   "cell_type": "markdown",
   "metadata": {
    "colab_type": "text",
    "id": "Hmq64mfYO0NQ"
   },
   "source": [
    "There are many more features in textblob you can refer the official documentation for them."
   ]
  },
  {
   "cell_type": "code",
   "execution_count": 49,
   "metadata": {},
   "outputs": [],
   "source": [
    "train = [\n",
    "    ('I love this sandwich.', 'pos'),\n",
    "    ('this is an amazing place!', 'pos'),\n",
    "    ('I feel very good about these beers.', 'pos'),\n",
    "    ('this is my best work.', 'pos'),\n",
    "    (\"what an awesome view\", 'pos'),\n",
    "    ('I do not like this restaurant', 'neg'),\n",
    "    ('I am tired of this stuff.', 'neg'),\n",
    "    (\"I can't deal with this\", 'neg'),\n",
    "    ('he is my sworn enemy!', 'neg'),\n",
    "    ('my boss is horrible.', 'neg')\n",
    "]"
   ]
  },
  {
   "cell_type": "code",
   "execution_count": 50,
   "metadata": {},
   "outputs": [],
   "source": [
    "test = [\n",
    "    ('the beer was good.', 'pos'),\n",
    "    ('I do not enjoy my job', 'neg'),\n",
    "    (\"I ain't feeling dandy today.\", 'neg'),\n",
    "    (\"I feel amazing!\", 'pos'),\n",
    "    ('Gary is a friend of mine.', 'pos'),\n",
    "    (\"I can't believe I'm doing this.\", 'neg')\n",
    "]"
   ]
  },
  {
   "cell_type": "code",
   "execution_count": 51,
   "metadata": {},
   "outputs": [],
   "source": [
    "from textblob.classifiers import NaiveBayesClassifier"
   ]
  },
  {
   "cell_type": "code",
   "execution_count": 52,
   "metadata": {},
   "outputs": [],
   "source": [
    "import nltk\n",
    "from nltk.data import load"
   ]
  },
  {
   "cell_type": "markdown",
   "metadata": {},
   "source": [
    "#### manually download the tokenizer \n",
    "(because the following command can't access https://www.nltk.org/nltk_data/): \n",
    "nltk.download('punkt')"
   ]
  },
  {
   "cell_type": "code",
   "execution_count": 53,
   "metadata": {},
   "outputs": [],
   "source": [
    "# !mkdir /root/nltk_data/tokenizers\n",
    "# upload punkt.zip (punkt.zip is available from https://www.nltk.org/nltk_data/)\n",
    "# !cp /home/jupyter/projects/knowledge-sharing-sessions/2022.10.04.NLP/punkt.zip /root/nltk_data/tokenizers\n",
    "# !unzip /root/nltk_data/tokenizers/punkt.zip"
   ]
  },
  {
   "cell_type": "markdown",
   "metadata": {},
   "source": [
    "#### create model"
   ]
  },
  {
   "cell_type": "code",
   "execution_count": 54,
   "metadata": {},
   "outputs": [],
   "source": [
    "cl = NaiveBayesClassifier(train)"
   ]
  },
  {
   "cell_type": "code",
   "execution_count": 55,
   "metadata": {},
   "outputs": [],
   "source": [
    "#### classify text"
   ]
  },
  {
   "cell_type": "code",
   "execution_count": 56,
   "metadata": {
    "tags": []
   },
   "outputs": [
    {
     "data": {
      "text/plain": [
       "'pos'"
      ]
     },
     "execution_count": 56,
     "metadata": {},
     "output_type": "execute_result"
    }
   ],
   "source": [
    "cl.classify(\"This is an amazing library!\")"
   ]
  },
  {
   "cell_type": "code",
   "execution_count": 57,
   "metadata": {},
   "outputs": [
    {
     "data": {
      "text/plain": [
       "'neg'"
      ]
     },
     "execution_count": 57,
     "metadata": {},
     "output_type": "execute_result"
    }
   ],
   "source": [
    "cl.classify(\"enemy\")"
   ]
  },
  {
   "cell_type": "code",
   "execution_count": 58,
   "metadata": {},
   "outputs": [],
   "source": [
    "#### classify sentences within a blob"
   ]
  },
  {
   "cell_type": "code",
   "execution_count": 59,
   "metadata": {},
   "outputs": [],
   "source": [
    "blob = TextBlob(\"The beer is good. But the hangover is horrible.\", classifier=cl)"
   ]
  },
  {
   "cell_type": "code",
   "execution_count": 60,
   "metadata": {},
   "outputs": [
    {
     "name": "stdout",
     "output_type": "stream",
     "text": [
      "The beer is good.\n",
      "pos\n",
      "But the hangover is horrible.\n",
      "neg\n"
     ]
    }
   ],
   "source": [
    "for s in blob.sentences:\n",
    "    print(s)\n",
    "    print(s.classify())"
   ]
  },
  {
   "cell_type": "markdown",
   "metadata": {},
   "source": [
    "#### evaluate performance"
   ]
  },
  {
   "cell_type": "code",
   "execution_count": 61,
   "metadata": {},
   "outputs": [
    {
     "data": {
      "text/plain": [
       "0.8333333333333334"
      ]
     },
     "execution_count": 61,
     "metadata": {},
     "output_type": "execute_result"
    }
   ],
   "source": [
    "cl.accuracy(test)"
   ]
  },
  {
   "cell_type": "markdown",
   "metadata": {},
   "source": [
    "#### show informative features"
   ]
  },
  {
   "cell_type": "code",
   "execution_count": 62,
   "metadata": {},
   "outputs": [
    {
     "name": "stdout",
     "output_type": "stream",
     "text": [
      "Most Informative Features\n",
      "            contains(my) = True              neg : pos    =      1.7 : 1.0\n",
      "            contains(an) = False             neg : pos    =      1.6 : 1.0\n",
      "             contains(I) = False             pos : neg    =      1.4 : 1.0\n",
      "             contains(I) = True              neg : pos    =      1.4 : 1.0\n",
      "            contains(my) = False             pos : neg    =      1.3 : 1.0\n"
     ]
    }
   ],
   "source": [
    "cl.show_informative_features(5) "
   ]
  },
  {
   "cell_type": "markdown",
   "metadata": {},
   "source": [
    "#### update classifier with new information"
   ]
  },
  {
   "cell_type": "code",
   "execution_count": 63,
   "metadata": {},
   "outputs": [],
   "source": [
    "new_data = [('She is my best friend.', 'pos'),\n",
    "    (\"I'm happy to have a new friend.\", 'pos'),\n",
    "    (\"Stay thirsty, my friend.\", 'pos'),\n",
    "    (\"He ain't from around here.\", 'neg')]"
   ]
  },
  {
   "cell_type": "code",
   "execution_count": 64,
   "metadata": {},
   "outputs": [
    {
     "data": {
      "text/plain": [
       "True"
      ]
     },
     "execution_count": 64,
     "metadata": {},
     "output_type": "execute_result"
    }
   ],
   "source": [
    "cl.update(new_data)"
   ]
  },
  {
   "cell_type": "code",
   "execution_count": 65,
   "metadata": {},
   "outputs": [
    {
     "data": {
      "text/plain": [
       "1.0"
      ]
     },
     "execution_count": 65,
     "metadata": {},
     "output_type": "execute_result"
    }
   ],
   "source": [
    "cl.accuracy(test)"
   ]
  },
  {
   "cell_type": "code",
   "execution_count": null,
   "metadata": {},
   "outputs": [],
   "source": []
  }
 ],
 "metadata": {
  "colab": {
   "collapsed_sections": [],
   "name": "Textblob.ipynb",
   "provenance": []
  },
  "kernelspec": {
   "display_name": "Python 3 (ipykernel)",
   "language": "python",
   "name": "python3"
  },
  "language_info": {
   "codemirror_mode": {
    "name": "ipython",
    "version": 3
   },
   "file_extension": ".py",
   "mimetype": "text/x-python",
   "name": "python",
   "nbconvert_exporter": "python",
   "pygments_lexer": "ipython3",
   "version": "3.7.12"
  }
 },
 "nbformat": 4,
 "nbformat_minor": 4
}

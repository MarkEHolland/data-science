{
 "cells": [
  {
   "cell_type": "markdown",
   "id": "233c9040-1293-4d2f-9534-bcb3d5bedead",
   "metadata": {},
   "source": [
    "### Data Exploration: Bootstrap Confidence Interval & Example AB Test"
   ]
  },
  {
   "cell_type": "markdown",
   "id": "374ab93d-f048-442a-bb4d-323377824dd5",
   "metadata": {},
   "source": [
    "Introduction: The bootstrap is a general tool that can be used to generate confidence intervals for most statistics, or model parameters. \n",
    "This script: \n",
    "* reads a sample 'flights' dataset\n",
    "* create bootstrap samples of mean & confidence interval from 1) scratch, &  2) using scipy's bootstrap package\n",
    "* example AB permutation test (equivalent of chi-sq)"
   ]
  },
  {
   "cell_type": "code",
   "execution_count": 1,
   "id": "251d52e1-df68-4dda-9e2c-fa1012ee2b5c",
   "metadata": {},
   "outputs": [],
   "source": [
    "import numpy as np\n",
    "import pandas as pd\n",
    "import matplotlib.pyplot as plt"
   ]
  },
  {
   "cell_type": "code",
   "execution_count": 2,
   "id": "5b02241a-f5ef-4a22-a3ec-bb80f84b2396",
   "metadata": {},
   "outputs": [
    {
     "data": {
      "text/plain": [
       "'1.21.6'"
      ]
     },
     "execution_count": 2,
     "metadata": {},
     "output_type": "execute_result"
    }
   ],
   "source": [
    "np.__version__"
   ]
  },
  {
   "cell_type": "code",
   "execution_count": 3,
   "id": "64115ee9-ed4b-4b4c-ab11-3aa78bcb87d2",
   "metadata": {},
   "outputs": [
    {
     "data": {
      "text/plain": [
       "'1.7.3'"
      ]
     },
     "execution_count": 3,
     "metadata": {},
     "output_type": "execute_result"
    }
   ],
   "source": [
    "import scipy.stats\n",
    "import scipy\n",
    "scipy.__version__"
   ]
  },
  {
   "cell_type": "markdown",
   "id": "18f64f26-e6ee-438c-b3b9-835c68975a27",
   "metadata": {},
   "source": [
    "#### read flight dataset"
   ]
  },
  {
   "cell_type": "markdown",
   "id": "4e091af2-425f-4180-bee4-58c502de0e68",
   "metadata": {},
   "source": [
    "source: https://www.kaggle.com/competitions/flight-delays-spring-2018/data?select=flight_delays_train.csv"
   ]
  },
  {
   "cell_type": "code",
   "execution_count": 4,
   "id": "815e0e6b-c059-450e-89b8-8e662cbb708f",
   "metadata": {},
   "outputs": [],
   "source": [
    "flight_df = pd.read_csv('flight_delays_train.csv')"
   ]
  },
  {
   "cell_type": "code",
   "execution_count": 5,
   "id": "fc84b0be-2101-4db2-a21e-b79f84a2ce0f",
   "metadata": {},
   "outputs": [
    {
     "data": {
      "text/html": [
       "<div>\n",
       "<style scoped>\n",
       "    .dataframe tbody tr th:only-of-type {\n",
       "        vertical-align: middle;\n",
       "    }\n",
       "\n",
       "    .dataframe tbody tr th {\n",
       "        vertical-align: top;\n",
       "    }\n",
       "\n",
       "    .dataframe thead th {\n",
       "        text-align: right;\n",
       "    }\n",
       "</style>\n",
       "<table border=\"1\" class=\"dataframe\">\n",
       "  <thead>\n",
       "    <tr style=\"text-align: right;\">\n",
       "      <th></th>\n",
       "      <th>Month</th>\n",
       "      <th>DayofMonth</th>\n",
       "      <th>DayOfWeek</th>\n",
       "      <th>DepTime</th>\n",
       "      <th>UniqueCarrier</th>\n",
       "      <th>Origin</th>\n",
       "      <th>Dest</th>\n",
       "      <th>Distance</th>\n",
       "      <th>dep_delayed_15min</th>\n",
       "    </tr>\n",
       "  </thead>\n",
       "  <tbody>\n",
       "    <tr>\n",
       "      <th>0</th>\n",
       "      <td>c-8</td>\n",
       "      <td>c-21</td>\n",
       "      <td>c-7</td>\n",
       "      <td>1934</td>\n",
       "      <td>AA</td>\n",
       "      <td>ATL</td>\n",
       "      <td>DFW</td>\n",
       "      <td>732</td>\n",
       "      <td>N</td>\n",
       "    </tr>\n",
       "    <tr>\n",
       "      <th>1</th>\n",
       "      <td>c-4</td>\n",
       "      <td>c-20</td>\n",
       "      <td>c-3</td>\n",
       "      <td>1548</td>\n",
       "      <td>US</td>\n",
       "      <td>PIT</td>\n",
       "      <td>MCO</td>\n",
       "      <td>834</td>\n",
       "      <td>N</td>\n",
       "    </tr>\n",
       "    <tr>\n",
       "      <th>2</th>\n",
       "      <td>c-9</td>\n",
       "      <td>c-2</td>\n",
       "      <td>c-5</td>\n",
       "      <td>1422</td>\n",
       "      <td>XE</td>\n",
       "      <td>RDU</td>\n",
       "      <td>CLE</td>\n",
       "      <td>416</td>\n",
       "      <td>N</td>\n",
       "    </tr>\n",
       "    <tr>\n",
       "      <th>3</th>\n",
       "      <td>c-11</td>\n",
       "      <td>c-25</td>\n",
       "      <td>c-6</td>\n",
       "      <td>1015</td>\n",
       "      <td>OO</td>\n",
       "      <td>DEN</td>\n",
       "      <td>MEM</td>\n",
       "      <td>872</td>\n",
       "      <td>N</td>\n",
       "    </tr>\n",
       "    <tr>\n",
       "      <th>4</th>\n",
       "      <td>c-10</td>\n",
       "      <td>c-7</td>\n",
       "      <td>c-6</td>\n",
       "      <td>1828</td>\n",
       "      <td>WN</td>\n",
       "      <td>MDW</td>\n",
       "      <td>OMA</td>\n",
       "      <td>423</td>\n",
       "      <td>Y</td>\n",
       "    </tr>\n",
       "  </tbody>\n",
       "</table>\n",
       "</div>"
      ],
      "text/plain": [
       "  Month DayofMonth DayOfWeek  DepTime UniqueCarrier Origin Dest  Distance  \\\n",
       "0   c-8       c-21       c-7     1934            AA    ATL  DFW       732   \n",
       "1   c-4       c-20       c-3     1548            US    PIT  MCO       834   \n",
       "2   c-9        c-2       c-5     1422            XE    RDU  CLE       416   \n",
       "3  c-11       c-25       c-6     1015            OO    DEN  MEM       872   \n",
       "4  c-10        c-7       c-6     1828            WN    MDW  OMA       423   \n",
       "\n",
       "  dep_delayed_15min  \n",
       "0                 N  \n",
       "1                 N  \n",
       "2                 N  \n",
       "3                 N  \n",
       "4                 Y  "
      ]
     },
     "execution_count": 5,
     "metadata": {},
     "output_type": "execute_result"
    }
   ],
   "source": [
    "flight_df.head()"
   ]
  },
  {
   "cell_type": "code",
   "execution_count": 6,
   "id": "102de2f7-822c-44e1-9caf-b290a05b47d0",
   "metadata": {},
   "outputs": [
    {
     "data": {
      "text/html": [
       "<div>\n",
       "<style scoped>\n",
       "    .dataframe tbody tr th:only-of-type {\n",
       "        vertical-align: middle;\n",
       "    }\n",
       "\n",
       "    .dataframe tbody tr th {\n",
       "        vertical-align: top;\n",
       "    }\n",
       "\n",
       "    .dataframe thead th {\n",
       "        text-align: right;\n",
       "    }\n",
       "</style>\n",
       "<table border=\"1\" class=\"dataframe\">\n",
       "  <thead>\n",
       "    <tr style=\"text-align: right;\">\n",
       "      <th></th>\n",
       "      <th>DepTime</th>\n",
       "      <th>Distance</th>\n",
       "    </tr>\n",
       "  </thead>\n",
       "  <tbody>\n",
       "    <tr>\n",
       "      <th>count</th>\n",
       "      <td>100000.000000</td>\n",
       "      <td>100000.00000</td>\n",
       "    </tr>\n",
       "    <tr>\n",
       "      <th>mean</th>\n",
       "      <td>1341.523880</td>\n",
       "      <td>729.39716</td>\n",
       "    </tr>\n",
       "    <tr>\n",
       "      <th>std</th>\n",
       "      <td>476.378445</td>\n",
       "      <td>574.61686</td>\n",
       "    </tr>\n",
       "    <tr>\n",
       "      <th>min</th>\n",
       "      <td>1.000000</td>\n",
       "      <td>30.00000</td>\n",
       "    </tr>\n",
       "    <tr>\n",
       "      <th>25%</th>\n",
       "      <td>931.000000</td>\n",
       "      <td>317.00000</td>\n",
       "    </tr>\n",
       "    <tr>\n",
       "      <th>50%</th>\n",
       "      <td>1330.000000</td>\n",
       "      <td>575.00000</td>\n",
       "    </tr>\n",
       "    <tr>\n",
       "      <th>75%</th>\n",
       "      <td>1733.000000</td>\n",
       "      <td>957.00000</td>\n",
       "    </tr>\n",
       "    <tr>\n",
       "      <th>max</th>\n",
       "      <td>2534.000000</td>\n",
       "      <td>4962.00000</td>\n",
       "    </tr>\n",
       "  </tbody>\n",
       "</table>\n",
       "</div>"
      ],
      "text/plain": [
       "             DepTime      Distance\n",
       "count  100000.000000  100000.00000\n",
       "mean     1341.523880     729.39716\n",
       "std       476.378445     574.61686\n",
       "min         1.000000      30.00000\n",
       "25%       931.000000     317.00000\n",
       "50%      1330.000000     575.00000\n",
       "75%      1733.000000     957.00000\n",
       "max      2534.000000    4962.00000"
      ]
     },
     "execution_count": 6,
     "metadata": {},
     "output_type": "execute_result"
    }
   ],
   "source": [
    "flight_df.describe()"
   ]
  },
  {
   "cell_type": "markdown",
   "id": "a420c4b5-b89e-4b6b-bc63-c3fa8f74b628",
   "metadata": {},
   "source": [
    "### 1) bootstrap (from scratch)"
   ]
  },
  {
   "cell_type": "markdown",
   "id": "8ae17ba1-4221-4e85-b42e-b701faeed331",
   "metadata": {},
   "source": [
    "#### create bootstrap function (i.e. random sample)"
   ]
  },
  {
   "cell_type": "code",
   "execution_count": 7,
   "id": "2200b755-9898-4559-9bae-e07bffea0eba",
   "metadata": {},
   "outputs": [],
   "source": [
    "def generate_bootstrap(data,func):\n",
    "    \"\"\"Generate bootstrap replicate of 1 dimensional data. I.e Create a random sample with replacement and apply function\"\"\"\n",
    "    bootstrap_sample = np.random.choice(data,len(data),replace=True)\n",
    "    return func(bootstrap_sample)"
   ]
  },
  {
   "cell_type": "code",
   "execution_count": 8,
   "id": "9c9763a4-80d4-480e-9da4-70539e36014a",
   "metadata": {},
   "outputs": [
    {
     "data": {
      "text/plain": [
       "728.37142"
      ]
     },
     "execution_count": 8,
     "metadata": {},
     "output_type": "execute_result"
    }
   ],
   "source": [
    "# test the boostrap replication function\n",
    "generate_bootstrap(flight_df.Distance, np.mean)"
   ]
  },
  {
   "cell_type": "markdown",
   "id": "5ddd8ae8-ce62-4da4-8ac8-0bb31ac64346",
   "metadata": {},
   "source": [
    "#### replicate the bootstrap"
   ]
  },
  {
   "cell_type": "code",
   "execution_count": 9,
   "id": "16394d49-f706-4c3e-9480-1b82caaff7b6",
   "metadata": {},
   "outputs": [],
   "source": [
    "def replicate_bootstrap(data, func, size=10000):\n",
    "    \"\"\"Generate size bootstrap samples\"\"\"\n",
    "    bootstrap_replicates = []\n",
    "    for i in range(size):\n",
    "        result = generate_bootstrap(data, func)\n",
    "        bootstrap_replicates.append(result)\n",
    "    return bootstrap_replicates"
   ]
  },
  {
   "cell_type": "code",
   "execution_count": 10,
   "id": "2de0abab-7940-47ff-8826-b2544497faa9",
   "metadata": {},
   "outputs": [
    {
     "name": "stdout",
     "output_type": "stream",
     "text": [
      "1.36 s ± 6.84 ms per loop (mean ± std. dev. of 7 runs, 1 loop each)\n"
     ]
    }
   ],
   "source": [
    "%%timeit\n",
    "bootstrap_replicates = replicate_bootstrap(flight_df.Distance, np.mean,size=1000)"
   ]
  },
  {
   "cell_type": "markdown",
   "id": "1fdb7811-0d0e-43bc-a1b0-9167a47bde5b",
   "metadata": {},
   "source": [
    "#### calculate a two-sided confidence interval"
   ]
  },
  {
   "cell_type": "code",
   "execution_count": 11,
   "id": "00012295-3464-4fa7-8b81-6e31e43c0994",
   "metadata": {},
   "outputs": [],
   "source": [
    "bootstrap_replicates= replicate_bootstrap(flight_df.Distance, np.mean,size=1000)"
   ]
  },
  {
   "cell_type": "code",
   "execution_count": 12,
   "id": "fc2e26f9-8ac8-4341-8d7e-ebf5248f8a49",
   "metadata": {},
   "outputs": [
    {
     "name": "stdout",
     "output_type": "stream",
     "text": [
      "[725.9556935  732.89132275]\n"
     ]
    }
   ],
   "source": [
    "conf_int = np.percentile(bootstrap_replicates, [2.5,97.5])\n",
    "print(conf_int)"
   ]
  },
  {
   "cell_type": "markdown",
   "id": "4c39cab1-77fe-4623-9379-01b643e3d8d4",
   "metadata": {},
   "source": [
    "#### plot histogram of bootstrap replicates of confidence interval around the mean"
   ]
  },
  {
   "cell_type": "code",
   "execution_count": 13,
   "id": "7cbe1e3c-b3cd-4b7f-9f25-1ac075af044b",
   "metadata": {},
   "outputs": [
    {
     "data": {
      "image/png": "[encoded data removed]",
      "text/plain": [
       "<Figure size 432x288 with 1 Axes>"
      ]
     },
     "metadata": {
      "needs_background": "light"
     },
     "output_type": "display_data"
    }
   ],
   "source": [
    "plt.hist(bootstrap_replicates, bins=100)\n",
    "plt.xlabel('mean')\n",
    "plt.ylabel('Distirbution')\n",
    "plt.axvline(conf_int[0], color='k', linestyle='dashed', linewidth=1)\n",
    "plt.axvline(conf_int[1], color='k', linestyle='dashed', linewidth=1)\n",
    "plt.axvline(np.mean(bootstrap_replicates), color='k', linestyle='dotted', linewidth=1)\n",
    "plt.show()"
   ]
  },
  {
   "cell_type": "markdown",
   "id": "387cfcc8-4873-4d4e-ac4f-e6ba1c8af165",
   "metadata": {},
   "source": [
    "### 2) Comparison to Scipy implementation of bootstrap"
   ]
  },
  {
   "cell_type": "code",
   "execution_count": 14,
   "id": "d65360f1-56c6-47a4-87c7-0029b9b2b5d0",
   "metadata": {},
   "outputs": [],
   "source": [
    "### https://docs.scipy.org/doc/scipy/reference/generated/scipy.stats.bootstrap.html\n",
    "# default sample size is 9999"
   ]
  },
  {
   "cell_type": "code",
   "execution_count": 15,
   "id": "7901029d-10d0-49f8-8b82-d0b5d0e26765",
   "metadata": {},
   "outputs": [],
   "source": [
    "from scipy.stats import bootstrap"
   ]
  },
  {
   "cell_type": "code",
   "execution_count": 16,
   "id": "f82dd0ee-ed23-4676-9334-b59629759dd6",
   "metadata": {},
   "outputs": [
    {
     "data": {
      "text/plain": [
       "Generator(PCG64) at 0x7F9D75CCE8C0"
      ]
     },
     "execution_count": 16,
     "metadata": {},
     "output_type": "execute_result"
    }
   ],
   "source": [
    "rng = np.random.default_rng()\n",
    "rng"
   ]
  },
  {
   "cell_type": "code",
   "execution_count": 17,
   "id": "e295e7b7-065c-467d-9a5c-983827adb545",
   "metadata": {},
   "outputs": [
    {
     "name": "stdout",
     "output_type": "stream",
     "text": [
      "1.1 s ± 7.55 ms per loop (mean ± std. dev. of 7 runs, 1 loop each)\n"
     ]
    }
   ],
   "source": [
    "%%timeit\n",
    "# convert data to a sequence\n",
    "res = bootstrap((flight_df.Distance,),n_resamples=1000,method='percentile', statistic=np.mean, confidence_level=0.95,random_state=rng)"
   ]
  },
  {
   "cell_type": "code",
   "execution_count": 18,
   "id": "2a499bde-cdcf-4ff1-8036-66a0c69354bf",
   "metadata": {},
   "outputs": [],
   "source": [
    "res = bootstrap((flight_df.Distance,),n_resamples=1000,method='percentile', statistic=np.mean, confidence_level=0.95,random_state=rng)"
   ]
  },
  {
   "cell_type": "code",
   "execution_count": 19,
   "id": "de73d0f9-151f-4728-8dfe-9607cfc329f2",
   "metadata": {},
   "outputs": [
    {
     "name": "stdout",
     "output_type": "stream",
     "text": [
      "ConfidenceInterval(low=725.9343435000001, high=733.22113425)\n"
     ]
    }
   ],
   "source": [
    "print(res.confidence_interval)"
   ]
  },
  {
   "cell_type": "markdown",
   "id": "fb6f732e-0a38-4ca9-b125-ffc683407a57",
   "metadata": {},
   "source": [
    "### Worked Example: AB permutation test"
   ]
  },
  {
   "cell_type": "code",
   "execution_count": 65,
   "id": "9fb4d153-f17e-4aa6-8ae3-b3805c61b2e0",
   "metadata": {},
   "outputs": [],
   "source": [
    "# source: https://github.com/just4jc/DataCamp-3/tree/master/07-statistical-thinking-in-python-(part-2)"
   ]
  },
  {
   "cell_type": "code",
   "execution_count": 66,
   "id": "082eb94e-ef3a-468d-85c3-f002320d830a",
   "metadata": {},
   "outputs": [],
   "source": [
    "# clickthrough_A, clickthorugh_B: array of 1s and 0s"
   ]
  },
  {
   "cell_type": "code",
   "execution_count": 68,
   "id": "79827206-8fdb-4745-9f53-1b11f3c3b6f9",
   "metadata": {},
   "outputs": [],
   "source": [
    "clickthrough_A = [0,0,0,0,0,0,0,0,0,0,0,0,0,0,1,1,1,1,0,0,0]\n",
    "clickthrough_B = [0,0,0,0,0,0,0,0,0,0,0,0,0,0,1,1,1,1,1,0,0,0,0]"
   ]
  },
  {
   "cell_type": "markdown",
   "id": "b9f820eb-23bc-4d33-981c-82f76f42aac8",
   "metadata": {},
   "source": [
    "#### function to compare mean clickthrough rates"
   ]
  },
  {
   "cell_type": "code",
   "execution_count": 69,
   "id": "cdfded69-e38a-4d88-8e56-574611d38e8b",
   "metadata": {},
   "outputs": [],
   "source": [
    "def diff_frac(data_A,data_B):\n",
    "    frac_A = np.sum(data_A) / len(data_A)\n",
    "    frac_B = np.sum(data_B) / len(data_B)\n",
    "    return frac_B - frac_A"
   ]
  },
  {
   "cell_type": "code",
   "execution_count": 70,
   "id": "c7ede88a-0ed8-48e6-aeec-efce68a92fca",
   "metadata": {},
   "outputs": [],
   "source": [
    "diff_frac_obs = diff_frac(clickthrough_A,clickthrough_B)"
   ]
  },
  {
   "cell_type": "code",
   "execution_count": 71,
   "id": "11fcd24c-58a6-4f4e-9e13-1d3cecdd154e",
   "metadata": {},
   "outputs": [
    {
     "data": {
      "text/plain": [
       "0.026915113871635615"
      ]
     },
     "execution_count": 71,
     "metadata": {},
     "output_type": "execute_result"
    }
   ],
   "source": [
    "diff_frac_obs"
   ]
  },
  {
   "cell_type": "markdown",
   "id": "a0a23e0b-658c-481b-ae9b-48de235a0935",
   "metadata": {},
   "source": [
    "#### create permutation test of click throughdef permutation_sample(data1, data2):"
   ]
  },
  {
   "cell_type": "code",
   "execution_count": 72,
   "id": "bcdde8bb-89e2-4809-a54f-b70a47792a86",
   "metadata": {},
   "outputs": [],
   "source": [
    "def permutation_sample(data1, data2):\n",
    "    \"\"\"Generate a permutation sample from two data sets.\"\"\"\n",
    "\n",
    "    # Concatenate the data sets: data\n",
    "    data = np.concatenate((data1, data2))\n",
    "\n",
    "    # Permute the concatenated array: permuted_data\n",
    "    permuted_data = np.random.permutation(data)\n",
    "\n",
    "    # Split the permuted array into two: perm_sample_1, perm_sample_2\n",
    "    perm_sample_1 = permuted_data[:len(data1)]\n",
    "    perm_sample_2 = permuted_data[len(data1):]\n",
    "\n",
    "    return perm_sample_1, perm_sample_2"
   ]
  },
  {
   "cell_type": "code",
   "execution_count": 73,
   "id": "8a41e3e5-8ad4-4f60-8e77-ea4b29b11370",
   "metadata": {},
   "outputs": [],
   "source": [
    "def draw_perm_reps(data_1, data_2, func, size=1):\n",
    "    \"\"\"Generate multiple permutation replicates.\"\"\"\n",
    "\n",
    "    # Initialize array of replicates: perm_replicates\n",
    "    perm_replicates = np.empty(size)\n",
    "\n",
    "    for i in range(size):\n",
    "        # Generate permutation sample\n",
    "        perm_sample_1, perm_sample_2 = permutation_sample(data_1, data_2)\n",
    "\n",
    "        # Compute the test statistic\n",
    "        perm_replicates[i] = func(perm_sample_1, perm_sample_2)\n",
    "\n",
    "    return perm_replicates"
   ]
  },
  {
   "cell_type": "code",
   "execution_count": 74,
   "id": "088f6f07-3a9c-4ddd-bfd8-c579e388c224",
   "metadata": {},
   "outputs": [],
   "source": [
    "perm_replicates = draw_perm_reps(clickthrough_A, clickthrough_B, diff_frac,size=10000)"
   ]
  },
  {
   "cell_type": "code",
   "execution_count": 75,
   "id": "12f9bf0e-e260-4989-8d7a-1d96f7e3ff11",
   "metadata": {},
   "outputs": [
    {
     "data": {
      "text/plain": [
       "0.2764"
      ]
     },
     "execution_count": 75,
     "metadata": {},
     "output_type": "execute_result"
    }
   ],
   "source": [
    "p_value = np.sum(perm_replicates > diff_frac_obs)/ 10000\n",
    "p_value"
   ]
  },
  {
   "cell_type": "code",
   "execution_count": null,
   "id": "202a415d-f251-4247-bdb6-8489a04855d6",
   "metadata": {},
   "outputs": [],
   "source": [
    "i.e. expect to see this one-sided test 27.6% of the time"
   ]
  }
 ],
 "metadata": {
  "kernelspec": {
   "display_name": "Python [conda env:root] *",
   "language": "python",
   "name": "conda-root-py"
  },
  "language_info": {
   "codemirror_mode": {
    "name": "ipython",
    "version": 3
   },
   "file_extension": ".py",
   "mimetype": "text/x-python",
   "name": "python",
   "nbconvert_exporter": "python",
   "pygments_lexer": "ipython3",
   "version": "3.7.12"
  }
 },
 "nbformat": 4,
 "nbformat_minor": 5
}

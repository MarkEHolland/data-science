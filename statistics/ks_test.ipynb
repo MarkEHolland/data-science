{
  "nbformat": 4,
  "nbformat_minor": 0,
  "metadata": {
    "colab": {
      "name": "ks_test.ipynb",
      "provenance": []
    },
    "kernelspec": {
      "name": "python3",
      "display_name": "Python 3"
    },
    "language_info": {
      "name": "python"
    }
  },
  "cells": [
    {
      "cell_type": "code",
      "execution_count": null,
      "metadata": {
        "id": "ddBOeT3RMigm"
      },
      "outputs": [],
      "source": [
        "from scipy.stats import expon, lognorm, norm, chi2\n",
        "from scipy.stats import kstest\n",
        "from scipy.stats import trim_mean, mode\n",
        "import pandas as pd\n",
        "\n",
        "import numpy as np\n",
        "import matplotlib.pyplot as plt\n",
        "import seaborn as sns\n",
        "sns.set()\n",
        "\n",
        "%matplotlib inline"
      ]
    },
    {
      "cell_type": "markdown",
      "source": [
        "### Kolmogorov-Smirnov Test: \n",
        "\n",
        "this can be used to test one of these 2 scenarios:\n",
        "- does your data fit one of the standard distributions e.g. Gaussian distribution, exponential etc (useful if you need to see if your data fits the assumptions the modelling algorithm makes on data distribution)\n",
        "- is your target data set distributed the same as your source dastaset (e.g. checking if your test set is similar enough to your training set)\n",
        "\n",
        "We can make use of the kstest function from scipy https://docs.scipy.org/doc/scipy/reference/generated/scipy.stats.kstest.html"
      ],
      "metadata": {
        "id": "q5wcjUtZQNiV"
      }
    },
    {
      "cell_type": "markdown",
      "source": [
        "Example 1:\n",
        "source data has an exponential distribution, we compare against the normal and exponential distributions\n",
        "- we set the null hypothesis to be that the source data agree with the target distribution\n",
        "- confidence interval of 5%"
      ],
      "metadata": {
        "id": "URyolP9-G9de"
      }
    },
    {
      "cell_type": "code",
      "source": [
        " # example 1:\n",
        "dataset1 = expon.rvs(size=20000, random_state=123)"
      ],
      "metadata": {
        "id": "Ar6boqVaOLw-"
      },
      "execution_count": null,
      "outputs": []
    },
    {
      "cell_type": "code",
      "source": [
        "plt.hist(dataset1, bins=40);"
      ],
      "metadata": {
        "colab": {
          "base_uri": "https://localhost:8080/",
          "height": 268
        },
        "id": "bBY3MrWcHVzc",
        "outputId": "f01eec72-f15b-4cf8-ea2c-d9871ec423ff"
      },
      "execution_count": null,
      "outputs": [
        {
          "output_type": "display_data",
          "data": {
            "text/plain": [
              "<Figure size 432x288 with 1 Axes>"
            ],
            "image/png": "[encoded data removed]"
          },
          "metadata": {
            "needs_background": "light"
          }
        }
      ]
    },
    {
      "cell_type": "code",
      "source": [
        "test_vs_normal = kstest(dataset1, norm.cdf)\n",
        "test_vs_expon = kstest(dataset1, expon.cdf)\n",
        "\n",
        "print(f\"p value: testing against normal distribution:{test_vs_normal.pvalue}\")\n",
        "print(f\"p value: testing against exponential distribution:{test_vs_expon.pvalue}\")\n"
      ],
      "metadata": {
        "colab": {
          "base_uri": "https://localhost:8080/"
        },
        "id": "AxayA9OZHapb",
        "outputId": "f1d7606e-48f1-4996-ca18-16a91a10ebda"
      },
      "execution_count": null,
      "outputs": [
        {
          "output_type": "stream",
          "name": "stdout",
          "text": [
            "p value: testing against normal distribution:0.0\n",
            "p value: testing against exponential distribution:0.6242398846333486\n"
          ]
        }
      ]
    },
    {
      "cell_type": "markdown",
      "source": [
        "We can see that as expected, the first test against a normal distribution is rejected so and the second one matches with the null hypothesis"
      ],
      "metadata": {
        "id": "RkGucorTJnvd"
      }
    },
    {
      "cell_type": "markdown",
      "source": [
        "Example2: testing 2 datasets against each other:"
      ],
      "metadata": {
        "id": "pStI4EUHKDJ7"
      }
    },
    {
      "cell_type": "code",
      "source": [
        "dataset2 = norm.rvs(size=20000, loc=1, scale=10, random_state=123)\n",
        "dataset3 = norm.rvs(size=20000, loc=100, scale=10, random_state=123)\n",
        "twosample1 = kstest(dataset1, dataset2)\n",
        "# here, we have to be more careful, since dataset2 is shifted left to dataset3, we have to specify this in the 'alternative' argument\n",
        "twosample2 = kstest(dataset2, dataset3, alternative='less')\n",
        "twosample3 = kstest(dataset2, dataset3)"
      ],
      "metadata": {
        "id": "0mcG6jedIIED"
      },
      "execution_count": null,
      "outputs": []
    },
    {
      "cell_type": "code",
      "source": [
        "plt.hist(dataset2, bins=50, label='dataset2');\n",
        "plt.hist(dataset3, bins=50, alpha=0.5, label='dataset3');"
      ],
      "metadata": {
        "colab": {
          "base_uri": "https://localhost:8080/",
          "height": 268
        },
        "id": "7T6Z4uN9MJRW",
        "outputId": "fb200263-ba48-455a-dc89-2bce5c0f33c2"
      },
      "execution_count": null,
      "outputs": [
        {
          "output_type": "display_data",
          "data": {
            "text/plain": [
              "<Figure size 432x288 with 1 Axes>"
            ],
            "image/png": "[encoded data removed]"
          },
          "metadata": {
            "needs_background": "light"
          }
        }
      ]
    },
    {
      "cell_type": "code",
      "source": [
        "print(f\"p value, comparing sample data from expon distribution and norm distribution : {twosample1.pvalue}\")\n",
        "print(f\"p value, comparing sample data from 2 different normal distributions, using `alternative=less` argument : {twosample2.pvalue}\")\n",
        "print(f\"p value, comparing sample data from 2 different normal distributions (no alternative argument specified) : {twosample3.pvalue}\")\n"
      ],
      "metadata": {
        "colab": {
          "base_uri": "https://localhost:8080/"
        },
        "id": "t2lyMng0LoAa",
        "outputId": "bad4d4ac-5757-476d-c6e2-f546fda48a54"
      },
      "execution_count": null,
      "outputs": [
        {
          "output_type": "stream",
          "name": "stdout",
          "text": [
            "p value, comparing sample data from expon distribution and norm distribution : 0.0\n",
            "p value, comparing sample data from 2 different normal distributions, using `alternative=less` argument : 1.0\n",
            "p value, comparing sample data from 2 different normal distributions (no alternative argument specified) : 0.0\n"
          ]
        }
      ]
    },
    {
      "cell_type": "markdown",
      "source": [
        "We can see that both the kstest with the two datasets that have different distributions as well as the test where distributions are the same but with different means give the result that they don't match (As we would expect, but also keep in mind whether you would need the alternative='less'/'greater' option)"
      ],
      "metadata": {
        "id": "qzdirQbxO1Lp"
      }
    },
    {
      "cell_type": "code",
      "source": [
        ""
      ],
      "metadata": {
        "id": "T11EKA4cO0op"
      },
      "execution_count": null,
      "outputs": []
    },
    {
      "cell_type": "code",
      "source": [
        ""
      ],
      "metadata": {
        "id": "--VOtY21L9Dv"
      },
      "execution_count": null,
      "outputs": []
    }
  ]
}
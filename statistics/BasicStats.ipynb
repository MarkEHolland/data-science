{
 "cells": [
  {
   "cell_type": "code",
   "execution_count": 1,
   "id": "e540e000-80f2-45a6-be4d-5bddbf00f35f",
   "metadata": {},
   "outputs": [],
   "source": [
    "import pandas as pd\n",
    "import numpy as np"
   ]
  },
  {
   "cell_type": "markdown",
   "id": "72e5b37a-f323-45b5-b7b2-817d580a24b1",
   "metadata": {},
   "source": [
    "#### DATA"
   ]
  },
  {
   "cell_type": "code",
   "execution_count": 2,
   "id": "67a96906-eeb4-4542-ab9c-9987ef388803",
   "metadata": {},
   "outputs": [
    {
     "data": {
      "text/html": [
       "<div>\n",
       "<style scoped>\n",
       "    .dataframe tbody tr th:only-of-type {\n",
       "        vertical-align: middle;\n",
       "    }\n",
       "\n",
       "    .dataframe tbody tr th {\n",
       "        vertical-align: top;\n",
       "    }\n",
       "\n",
       "    .dataframe thead th {\n",
       "        text-align: right;\n",
       "    }\n",
       "</style>\n",
       "<table border=\"1\" class=\"dataframe\">\n",
       "  <thead>\n",
       "    <tr style=\"text-align: right;\">\n",
       "      <th></th>\n",
       "      <th>values</th>\n",
       "      <th>types</th>\n",
       "    </tr>\n",
       "  </thead>\n",
       "  <tbody>\n",
       "    <tr>\n",
       "      <th>5</th>\n",
       "      <td>2319</td>\n",
       "      <td>original</td>\n",
       "    </tr>\n",
       "    <tr>\n",
       "      <th>12</th>\n",
       "      <td>2298</td>\n",
       "      <td>new</td>\n",
       "    </tr>\n",
       "  </tbody>\n",
       "</table>\n",
       "</div>"
      ],
      "text/plain": [
       "    values     types\n",
       "5     2319  original\n",
       "12    2298       new"
      ]
     },
     "execution_count": 2,
     "metadata": {},
     "output_type": "execute_result"
    }
   ],
   "source": [
    "# Raw data\n",
    "data = {\n",
    "    'values': [\n",
    "        2311, 2274, 2262, 2297, 2291, 2319, 2263, 2329, 2289, 2287, 2290, 2301,\n",
    "        2298, 2260, 2250, 2242, 2302, 2297, 2293, 2286, 2270, 2313, 2327, 2290,\n",
    "    ],\n",
    "    'types': ['original'] * 12 + ['new'] * 12\n",
    "}\n",
    "\n",
    "# # Raw data\n",
    "# data = {\n",
    "#     'values': [\n",
    "#         13, 17, 19, 10, 20, 15, 18, 9, 12, 15, 16,\n",
    "#         12, 8, 6, 16, 12, 14, 10, 18, 4, 11\n",
    "#     ],\n",
    "#     'types': ['new'] * 11 + ['original'] * 10\n",
    "# }\n",
    "\n",
    "df = pd.DataFrame(data)\n",
    "df.sample(frac=0.1)"
   ]
  },
  {
   "cell_type": "markdown",
   "id": "8c4b830f-503a-4a0a-93e5-6bea470287c9",
   "metadata": {},
   "source": [
    "### <font color='green'>TEST DIFFERENCE BETWEEN GROUPS with SIGNIFICANCE TESTS</font>"
   ]
  },
  {
   "cell_type": "markdown",
   "id": "ee608ed0-2d53-4b14-a70d-08d708b78158",
   "metadata": {},
   "source": [
    "#### <font color='orange'>P-VALUE</font>\n",
    "- T-TEST\n",
    "- ANOVA"
   ]
  },
  {
   "cell_type": "code",
   "execution_count": 3,
   "id": "5f8b21da-d423-4b05-ab1b-0f477b2e8c4f",
   "metadata": {},
   "outputs": [
    {
     "name": "stdout",
     "output_type": "stream",
     "text": [
      "2292.75 19.710931823060353 2285.6666666666665 24.424486802296496\n",
      "p-value from T-test: 0.46\n",
      "p-value from One way ANOVA: 0.46\n"
     ]
    }
   ],
   "source": [
    "original=df.loc[df['types']=='original','values'].to_numpy()\n",
    "new=df.loc[df['types']=='new','values'].to_numpy()\n",
    "print(original.mean(), original.std(), new.mean(), new.std())\n",
    "\n",
    "from scipy import stats\n",
    "\n",
    "ttest= stats.ttest_ind(original,new)\n",
    "print('p-value from T-test: {}'.format(round(ttest[1],2)))\n",
    "\n",
    "fvalue, pvalue = stats.f_oneway(original,new)\n",
    "print('p-value from One way ANOVA: {}'.format(round(pvalue,2)))"
   ]
  },
  {
   "cell_type": "markdown",
   "id": "6ef52cbb-78b0-4091-8159-68d32df0face",
   "metadata": {},
   "source": [
    "#### <font color='orange'>EFFECT SIZES</font>\n",
    "- COHEN'S KAPPA: 2 samples' pooled standard deviation\n",
    "- GLASS'S DELTA: Uses standard devaiation of the control group\n",
    "- HEDGE'S G: Uses a different formula for pooled standard deviation"
   ]
  },
  {
   "cell_type": "code",
   "execution_count": 4,
   "id": "7eb7fd27-ae86-4b6e-96a2-627942aeb7b9",
   "metadata": {},
   "outputs": [
    {
     "name": "stdout",
     "output_type": "stream",
     "text": [
      "Cohen's d = 0.306\n"
     ]
    }
   ],
   "source": [
    "import numpy as np\n",
    "\n",
    "# Variances\n",
    "variances = df.groupby('types').var(ddof=1)\n",
    "# Mean variance\n",
    "mean_var = variances.mean()['values']\n",
    "# Pooled standard deviation\n",
    "s_pooled = np.sqrt(mean_var)\n",
    "# Difference of the means\n",
    "diff_mean = abs(df.groupby('types').mean().diff()['values'][-1])\n",
    "# Cohen's d\n",
    "cohens_d = diff_mean / s_pooled\n",
    "\n",
    "print(f\"Cohen's d = {cohens_d:.3f}\")"
   ]
  },
  {
   "cell_type": "code",
   "execution_count": 5,
   "id": "5b7b828a-9ba4-441d-a61f-e275e8836fa9",
   "metadata": {},
   "outputs": [
    {
     "name": "stdout",
     "output_type": "stream",
     "text": [
      "Glass's delta = 0.278\n"
     ]
    }
   ],
   "source": [
    "# Variances\n",
    "variances = df.groupby('types').var(ddof=1)\n",
    "# Difference of the means\n",
    "diff_mean = abs(df.groupby('types').mean().diff()['values'][-1])\n",
    "# Glass's delta\n",
    "glasss_delta = diff_mean / np.sqrt(variances['values'].to_list()[0])\n",
    "\n",
    "print(f\"Glass's delta = {glasss_delta:.3f}\")"
   ]
  },
  {
   "cell_type": "code",
   "execution_count": 6,
   "id": "996a783b-e776-42f4-9f5c-f1207dccb3d3",
   "metadata": {},
   "outputs": [
    {
     "name": "stdout",
     "output_type": "stream",
     "text": [
      "Hedges's g = 0.306\n"
     ]
    }
   ],
   "source": [
    "# Sample sizes\n",
    "n = df.groupby('types').count()\n",
    "n1 = n['values']['new']\n",
    "n2 = n['values']['original']\n",
    "# Degrees of freedom\n",
    "dof = n.sum()['values'] - 2\n",
    "# Variances\n",
    "variances = df.groupby('types').var(ddof=1)\n",
    "var1 = variances['values']['new']\n",
    "var2 = variances['values']['original']\n",
    "# Difference of the means\n",
    "diff_mean = abs(df.groupby('types').mean().diff()['values'][-1])\n",
    "# Pooled standard deviation\n",
    "s_pooled_star = np.sqrt((((n1 - 1) * var1) + ((n2 - 1) * var2)) / dof)\n",
    "# Hedges's g\n",
    "hedgess_g = diff_mean / s_pooled_star\n",
    "\n",
    "print(f\"Hedges's g = {hedgess_g:.3f}\")"
   ]
  },
  {
   "cell_type": "code",
   "execution_count": 7,
   "id": "e9aca725-1275-49be-8135-3406d9a28db7",
   "metadata": {},
   "outputs": [
    {
     "name": "stdout",
     "output_type": "stream",
     "text": [
      "Maximum likelihood = 0.319\n"
     ]
    }
   ],
   "source": [
    "# Sample sizes\n",
    "n = df.groupby('types').count()\n",
    "n1 = n['values']['new']\n",
    "n2 = n['values']['original']\n",
    "# Variances\n",
    "variances = df.groupby('types').var(ddof=1)\n",
    "var1 = variances['values']['new']\n",
    "var2 = variances['values']['original']\n",
    "# Difference of the means\n",
    "diff_mean = abs(df.groupby('types').mean().diff()['values'][-1])\n",
    "# Pooled standard deviation\n",
    "s_pooled = np.sqrt((((n1 - 1) * var1) + ((n2 - 1) * var2)) / (n1 + n2))\n",
    "# Maximum likelihood\n",
    "maximum_likelihood = diff_mean / s_pooled\n",
    "\n",
    "print(f\"Maximum likelihood = {maximum_likelihood:.3f}\")"
   ]
  },
  {
   "cell_type": "markdown",
   "id": "3af887fe-87bd-46a2-a436-783a16ac4a7b",
   "metadata": {},
   "source": [
    "Researchpy is a wrapper that combines packages such as pandas, scipy.stats, numpy, and statsmodels to get all the standard statistical results in one method. If analyses were not available in any of these packages, code was developed to fill the gap."
   ]
  },
  {
   "cell_type": "code",
   "execution_count": 8,
   "id": "9f995099-510c-464d-a85b-f613ee19c4f2",
   "metadata": {},
   "outputs": [
    {
     "name": "stderr",
     "output_type": "stream",
     "text": [
      "/opt/conda/lib/python3.7/site-packages/numpy/core/_methods.py:234: RuntimeWarning: Degrees of freedom <= 0 for slice\n",
      "  keepdims=keepdims)\n",
      "/opt/conda/lib/python3.7/site-packages/numpy/core/_methods.py:195: RuntimeWarning: invalid value encountered in true_divide\n",
      "  arrmean, rcount, out=arrmean, casting='unsafe', subok=False)\n",
      "/opt/conda/lib/python3.7/site-packages/numpy/core/_methods.py:226: RuntimeWarning: invalid value encountered in double_scalars\n",
      "  ret = ret.dtype.type(ret / rcount)\n"
     ]
    },
    {
     "data": {
      "text/plain": [
       "(   Variable    N  Mean  SD  SE  95% Conf.  Interval\n",
       " 0  original  0.0   NaN NaN NaN        NaN       NaN\n",
       " 1       new  0.0   NaN NaN NaN        NaN       NaN\n",
       " 2      diff  0.0   NaN NaN NaN        NaN       NaN,\n",
       "             Paired samples t-test  results\n",
       " 0  Difference (original - new) =       NaN\n",
       " 1           Degrees of freedom =      -1.0\n",
       " 2                            t =       NaN\n",
       " 3        Two side test p value =       NaN\n",
       " 4       Difference < 0 p value =       NaN\n",
       " 5       Difference > 0 p value =       NaN\n",
       " 6                    Cohen's d =       NaN\n",
       " 7                    Hedge's g =       NaN\n",
       " 8                Glass's delta =       NaN\n",
       " 9                  Pearson's r =       NaN)"
      ]
     },
     "execution_count": 8,
     "metadata": {},
     "output_type": "execute_result"
    }
   ],
   "source": [
    "import researchpy as rp\n",
    "\n",
    "rp.ttest(group1= df.loc[df['types']=='original','values'], group1_name= \"original\",\n",
    "         group2= df.loc[df['types']=='new','values'], group2_name= \"new\",\n",
    "        equal_variances=False)\n",
    "\n",
    "rp.ttest(group1= df.loc[df['types']=='original','values'], group1_name= \"original\",\n",
    "         group2= df.loc[df['types']=='new','values'], group2_name= \"new\")\n",
    "\n",
    "rp.ttest(group1= df.loc[df['types']=='original','values'], group1_name= \"original\",\n",
    "         group2= df.loc[df['types']=='new','values'], group2_name= \"new\",\n",
    "        paired=True)"
   ]
  },
  {
   "cell_type": "markdown",
   "id": "9685b1ec-316f-4ece-90ab-a7ef028e3c47",
   "metadata": {},
   "source": [
    "### <font color='green'>ASSUMPTION CHECK</font>\n",
    "- Population distributions are normal\n",
    "- Two samples are independent\n",
    "- Two samples have equal variance"
   ]
  },
  {
   "cell_type": "code",
   "execution_count": 9,
   "id": "805adb63-8c2e-447f-babc-241b63506253",
   "metadata": {},
   "outputs": [
    {
     "data": {
      "image/png": "[encoded data removed]",
      "text/plain": [
       "<Figure size 432x288 with 1 Axes>"
      ]
     },
     "metadata": {
      "needs_background": "light"
     },
     "output_type": "display_data"
    }
   ],
   "source": [
    "o = df.loc[df['types']=='original','values']\n",
    "n = df.loc[df['types']=='new','values']\n",
    "import matplotlib.pyplot as plt\n",
    "plt.plot(np.arange(0,len(o)), o, c='g')\n",
    "plt.plot(np.arange(0,len(n)), n, c='r')\n",
    "plt.show()"
   ]
  },
  {
   "cell_type": "markdown",
   "id": "b6a5904e-776d-469c-8201-d81ada09c55b",
   "metadata": {},
   "source": [
    "### <font color='orange'>NORMALITY TEST</font>\n",
    "- There are several tests for Normality check; some of them are Shapiro-Wilk test, Kolmogororv-Smirnov (K-S) test, Anderson-Darling test etc.\n",
    "- As the sample size increases, the statistical test's ability to reject the null hypothesis increases, i.e. it gains power to detect smaller differences as the sample size n increases.\n",
    "\n",
    "##### SHAPIRO-WILK TEST\n",
    "- Null hypothesis: Data is normal\n",
    "- Evaluates normality by comparing the data's distribution (ordered values) to the hypothesized normal distribution\n",
    "- The test of normality applies to the difference in values between the groups and may be done with Shapiro-Wilk test."
   ]
  },
  {
   "cell_type": "code",
   "execution_count": 10,
   "id": "07232b9a-e689-455c-8096-12996e094549",
   "metadata": {},
   "outputs": [
    {
     "name": "stdout",
     "output_type": "stream",
     "text": [
      "[13, 14, 12, 55, -11, 22, -30, 43, 19, -26, -37, 11]\n",
      "p-value = 0.486\n"
     ]
    }
   ],
   "source": [
    "sampling_diff = [i-j for i,j in zip(o,n)]\n",
    "print(sampling_diff)\n",
    "s, p = stats.shapiro(sampling_diff)\n",
    "print('p-value = {}'.format(round(p,3)))"
   ]
  },
  {
   "cell_type": "markdown",
   "id": "8825b024-58da-42ac-b479-9c817e8525d2",
   "metadata": {},
   "source": [
    "As p-value>0.05, we cannot reject the null hypothesis. So, data is normal"
   ]
  },
  {
   "cell_type": "markdown",
   "id": "abdd42dd-e525-4805-9f3e-22c4ed7fc7b7",
   "metadata": {},
   "source": [
    "Visually check the distribution with a probability plot with or without the correlation value, to assess the observed values correlation with the theoretical distribution in question - in the current case it would be the Gaussian (a.k.a the normal) distribution. This can be completed by using the probplot() method from Scipy.stats."
   ]
  },
  {
   "cell_type": "code",
   "execution_count": 11,
   "id": "8522c18d-bd96-4547-8d63-2777a0082cc8",
   "metadata": {},
   "outputs": [
    {
     "data": {
      "image/png": "[encoded data removed]",
      "text/plain": [
       "<Figure size 1440x720 with 1 Axes>"
      ]
     },
     "metadata": {
      "needs_background": "light"
     },
     "output_type": "display_data"
    }
   ],
   "source": [
    "fig = plt.figure(figsize= (20, 10))\n",
    "ax = fig.add_subplot(111)\n",
    "normality_plot, stat = stats.probplot(sampling_diff, plot= plt, rvalue= True)\n",
    "ax.set_title(\"Probability plot of sampling difference\", fontsize= 20)\n",
    "ax.set\n",
    "plt.show()"
   ]
  },
  {
   "cell_type": "markdown",
   "id": "d3453d9d-7343-4cad-acdf-141b161c0b7c",
   "metadata": {},
   "source": [
    "Both methods support the same finding which is that the sampling distribution is normally distributed."
   ]
  },
  {
   "cell_type": "markdown",
   "id": "12add538-736b-4688-924d-79736c832eb0",
   "metadata": {},
   "source": [
    "##### ANDERSON-DARLING TEST\n",
    "- Tests the null hypothesis that a sample is drawn from a population that follows a particular distribution.\n",
    "- Evaluates normality by comparing the data's empirical distribution function to the expected cumulative distribution function of the comparison distribution\n",
    "- If the returned statistic is larger than these critical values then for the corresponding significance level, the null hypothesis that the data come from the chosen distribution can be rejected."
   ]
  },
  {
   "cell_type": "code",
   "execution_count": 12,
   "id": "eb2dd417-07ec-489f-9d7d-7f74f9b858e2",
   "metadata": {},
   "outputs": [
    {
     "data": {
      "text/plain": [
       "['ACCEP', 'ACCEP', 'ACCEP', 'ACCEP', 'ACCEP']"
      ]
     },
     "execution_count": 12,
     "metadata": {},
     "output_type": "execute_result"
    }
   ],
   "source": [
    "anderson = stats.anderson(o)\n",
    "anderson_sig = list(zip(anderson[1], anderson[2])) \n",
    "['REJ' if i>j else 'ACCEP' for (i,j) in anderson_sig]"
   ]
  },
  {
   "cell_type": "markdown",
   "id": "4888109c-497a-4362-9214-21afd47b8845",
   "metadata": {},
   "source": [
    "##### KOLMOGOROV-SMIRNOV TEST\n",
    "\n",
    "- One-sample test compares the underlying distribution F(x) of a sample against a given distribution G(x). \n",
    "- Two-sample test compares the underlying distributions of two independent samples.\n",
    "- Null hypothesis: The 2 distributions are identical (Describes the CDFs of underlying distributions)\n",
    "- If the KS statistic is small or the p-value is high, then we cannot reject the null hypothesis in favor of the alternative.\n",
    "- If p-value<0.05, reject the null hypothesis"
   ]
  },
  {
   "cell_type": "code",
   "execution_count": 13,
   "id": "24d6df47-88f2-4c95-b3c4-1e307caa8291",
   "metadata": {},
   "outputs": [
    {
     "name": "stdout",
     "output_type": "stream",
     "text": [
      "KS statistic for KS test =  0.25\n",
      "p-value for KS test =  0.869\n"
     ]
    }
   ],
   "source": [
    "ks = stats.ks_2samp(o,n)\n",
    "print('KS statistic for KS test = ', round(ks[0],3))\n",
    "print('p-value for KS test = ', round(ks[1],3))"
   ]
  },
  {
   "cell_type": "markdown",
   "id": "e0dbdbf9-9f81-4a33-9892-2da4ab04ccb9",
   "metadata": {},
   "source": [
    "As p-values>0.05, we cannot reject hull hypothesis i.e. the two distributions are identical"
   ]
  },
  {
   "cell_type": "markdown",
   "id": "04f36772-953f-4f17-b7e1-e1e63b86fe8a",
   "metadata": {},
   "source": [
    "#### <font color='orange'>TEST FOR EQUAL VARIANCE</font>\n",
    "- LEVENE TEST hypothesis: Samples are drawn from populations with equal variances\n",
    "- BARTLETT TEST hypothesis: Samples are drawn from populations with equal variances"
   ]
  },
  {
   "cell_type": "code",
   "execution_count": 14,
   "id": "c08fea9f-2c0b-42ea-900e-2dba0c1f689a",
   "metadata": {},
   "outputs": [
    {
     "name": "stdout",
     "output_type": "stream",
     "text": [
      "p-value for Equal variance with Levene test =  0.419\n"
     ]
    }
   ],
   "source": [
    "lv = stats.levene(o,n, center='mean')\n",
    "print('p-value for Equal variance with Levene test = ', round(lv[1],3))"
   ]
  },
  {
   "cell_type": "markdown",
   "id": "53f69edc-b111-4eb5-914f-599b937beca1",
   "metadata": {},
   "source": [
    "As p-value> 0.05, we reject the null hypothesis"
   ]
  },
  {
   "cell_type": "code",
   "execution_count": 15,
   "id": "f84f6da8-3587-49ed-8765-4f235ececde9",
   "metadata": {},
   "outputs": [
    {
     "name": "stdout",
     "output_type": "stream",
     "text": [
      "p-value for Equal variance with Bartlett test =  0.488\n"
     ]
    }
   ],
   "source": [
    "bt = stats.bartlett(o,n)\n",
    "print('p-value for Equal variance with Bartlett test = ', round(bt[1],3))"
   ]
  },
  {
   "cell_type": "markdown",
   "id": "f5e0c458-e7c8-4898-b04c-3e7c0b52b28f",
   "metadata": {},
   "source": [
    "As p-value> 0.05, we reject the null hypothesis"
   ]
  }
 ],
 "metadata": {
  "environment": {
   "kernel": "python3",
   "name": "tf2-cpu.2-9.m94",
   "type": "gcloud",
   "uri": "gcr.io/deeplearning-platform-release/tf2-cpu.2-9:m94"
  },
  "kernelspec": {
   "display_name": "Python 3 (ipykernel)",
   "language": "python",
   "name": "python3"
  },
  "language_info": {
   "codemirror_mode": {
    "name": "ipython",
    "version": 3
   },
   "file_extension": ".py",
   "mimetype": "text/x-python",
   "name": "python",
   "nbconvert_exporter": "python",
   "pygments_lexer": "ipython3",
   "version": "3.7.12"
  }
 },
 "nbformat": 4,
 "nbformat_minor": 5
}

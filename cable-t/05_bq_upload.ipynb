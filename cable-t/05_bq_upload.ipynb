{
 "cells": [
  {
   "cell_type": "markdown",
   "id": "374b1192-6f02-4057-bbca-02af531f346d",
   "metadata": {},
   "source": [
    "### upload information into bq"
   ]
  },
  {
   "cell_type": "code",
   "execution_count": 1,
   "id": "b053fca9-a777-4a18-a0ed-823669626005",
   "metadata": {
    "tags": []
   },
   "outputs": [],
   "source": [
    "import pandas as pd\n",
    "import numpy as np\n",
    "import json\n",
    "from google.cloud import bigquery\n",
    "from google.cloud import storage\n",
    "from pathlib import Path\n",
    "pd.set_option('display.max_columns', 500)"
   ]
  },
  {
   "cell_type": "markdown",
   "id": "a7276deb-1e99-48fc-9109-dbac40e9cd5d",
   "metadata": {},
   "source": [
    "#### folders"
   ]
  },
  {
   "cell_type": "code",
   "execution_count": 43,
   "id": "1517c59a-7f8f-49cd-b59c-385f85cb35ea",
   "metadata": {
    "tags": []
   },
   "outputs": [],
   "source": [
    "input_path = Path.cwd() / '../data' / 'input'\n",
    "output_path = Path.cwd() / '../data' / 'output'"
   ]
  },
  {
   "cell_type": "code",
   "execution_count": 3,
   "id": "0ea6dd9b-8565-4aeb-b805-69ec145547da",
   "metadata": {
    "tags": []
   },
   "outputs": [
    {
     "data": {
      "text/plain": [
       "PosixPath('/home/jupyter/projects/cable-theft/notebooks/../data/input')"
      ]
     },
     "execution_count": 3,
     "metadata": {},
     "output_type": "execute_result"
    }
   ],
   "source": [
    "input_path"
   ]
  },
  {
   "cell_type": "markdown",
   "id": "c3f942bd-b357-4dff-bab6-d14c95699911",
   "metadata": {},
   "source": [
    "#### read cable_theft.csv"
   ]
  },
  {
   "cell_type": "code",
   "execution_count": 4,
   "id": "f253bc06-a29f-42f9-a7fe-7465692e716b",
   "metadata": {
    "tags": []
   },
   "outputs": [],
   "source": [
    "csv_filename = input_path / \"cable_theft.csv\""
   ]
  },
  {
   "cell_type": "code",
   "execution_count": 5,
   "id": "752311c4-9a1d-4b4b-a53d-78d066579fdf",
   "metadata": {
    "tags": []
   },
   "outputs": [
    {
     "data": {
      "text/plain": [
       "PosixPath('/home/jupyter/projects/cable-theft/notebooks/../data/input/cable_theft.csv')"
      ]
     },
     "execution_count": 5,
     "metadata": {},
     "output_type": "execute_result"
    }
   ],
   "source": [
    "csv_filename"
   ]
  },
  {
   "cell_type": "code",
   "execution_count": 6,
   "id": "3c58dc1a-4756-4dba-b9df-d21675b3de0e",
   "metadata": {
    "tags": []
   },
   "outputs": [],
   "source": [
    "cable_theft_df = pd.read_csv(csv_filename, parse_dates=['date 3'],infer_datetime_format=True)"
   ]
  },
  {
   "cell_type": "code",
   "execution_count": 7,
   "id": "dbade42d-3379-42fe-9c36-4519c430f738",
   "metadata": {
    "tags": []
   },
   "outputs": [
    {
     "data": {
      "text/plain": [
       "Index(['SIR Number', 'Year', 'Month', 'Day', 'Hour', 'DoW', 'Reported Date',\n",
       "       'FY', 'Week ', 'Exchange', 'Exch hits', 'CSS DB', 'NED1',\n",
       "       'Damage Est Nu', 'Postcode', 'Address', 'Information about Incident',\n",
       "       'Location Details', 'Cut/ Theft', 'Cable  Size   TOTAL  pairs ONLY',\n",
       "       'Live pairs', 'Total Length metres', 'Cable affected details',\n",
       "       'E side, D side, Fibre', 'Police Force', 'Police Reference Number',\n",
       "       'N#I#O's Name /\\nOp Name', 'County', 'region', 'Cable size',\n",
       "       'Indicative copper worth based on current UK copper price',\n",
       "       'cost (raptor)',\n",
       "       'Incident form rerturned or response received in X days', 'Hrs claimed',\n",
       "       'Costs (excl MHours)', 'Manhour Cost', 'Total Cost',\n",
       "       'Flagged to insurance', 'Hrs claimed on NJR', '#', 'Est Number', 'PIA',\n",
       "       'NOTES ', 'date 3', 'date mmm yy', 'Repeat Hit',\n",
       "       'Cable anchors in this Fin Year'],\n",
       "      dtype='object')"
      ]
     },
     "execution_count": 7,
     "metadata": {},
     "output_type": "execute_result"
    }
   ],
   "source": [
    "cable_theft_df.columns"
   ]
  },
  {
   "cell_type": "code",
   "execution_count": 8,
   "id": "7df89dfd-4b65-4086-8f9b-463e2f7da73e",
   "metadata": {
    "tags": []
   },
   "outputs": [
    {
     "data": {
      "text/html": [
       "<div>\n",
       "<style scoped>\n",
       "    .dataframe tbody tr th:only-of-type {\n",
       "        vertical-align: middle;\n",
       "    }\n",
       "\n",
       "    .dataframe tbody tr th {\n",
       "        vertical-align: top;\n",
       "    }\n",
       "\n",
       "    .dataframe thead th {\n",
       "        text-align: right;\n",
       "    }\n",
       "</style>\n",
       "<table border=\"1\" class=\"dataframe\">\n",
       "  <thead>\n",
       "    <tr style=\"text-align: right;\">\n",
       "      <th></th>\n",
       "      <th>SIR Number</th>\n",
       "      <th>Year</th>\n",
       "      <th>Month</th>\n",
       "      <th>Day</th>\n",
       "      <th>Hour</th>\n",
       "      <th>DoW</th>\n",
       "      <th>Reported Date</th>\n",
       "      <th>FY</th>\n",
       "      <th>Week</th>\n",
       "      <th>Exchange</th>\n",
       "      <th>Exch hits</th>\n",
       "      <th>CSS DB</th>\n",
       "      <th>NED1</th>\n",
       "      <th>Damage Est Nu</th>\n",
       "      <th>Postcode</th>\n",
       "      <th>Address</th>\n",
       "      <th>Information about Incident</th>\n",
       "      <th>Location Details</th>\n",
       "      <th>Cut/ Theft</th>\n",
       "      <th>Cable  Size   TOTAL  pairs ONLY</th>\n",
       "      <th>Live pairs</th>\n",
       "      <th>Total Length metres</th>\n",
       "      <th>Cable affected details</th>\n",
       "      <th>E side, D side, Fibre</th>\n",
       "      <th>Police Force</th>\n",
       "      <th>Police Reference Number</th>\n",
       "      <th>N#I#O's Name /\\nOp Name</th>\n",
       "      <th>County</th>\n",
       "      <th>region</th>\n",
       "      <th>Cable size</th>\n",
       "      <th>Indicative copper worth based on current UK copper price</th>\n",
       "      <th>cost (raptor)</th>\n",
       "      <th>Incident form rerturned or response received in X days</th>\n",
       "      <th>Hrs claimed</th>\n",
       "      <th>Costs (excl MHours)</th>\n",
       "      <th>Manhour Cost</th>\n",
       "      <th>Total Cost</th>\n",
       "      <th>Flagged to insurance</th>\n",
       "      <th>Hrs claimed on NJR</th>\n",
       "      <th>#</th>\n",
       "      <th>Est Number</th>\n",
       "      <th>PIA</th>\n",
       "      <th>NOTES</th>\n",
       "      <th>date 3</th>\n",
       "      <th>date mmm yy</th>\n",
       "      <th>Repeat Hit</th>\n",
       "      <th>Cable anchors in this Fin Year</th>\n",
       "    </tr>\n",
       "  </thead>\n",
       "  <tbody>\n",
       "    <tr>\n",
       "      <th>0</th>\n",
       "      <td>11009105</td>\n",
       "      <td>2001</td>\n",
       "      <td>11</td>\n",
       "      <td>9</td>\n",
       "      <td>0</td>\n",
       "      <td>Fri</td>\n",
       "      <td>37204.0</td>\n",
       "      <td>2001-2002</td>\n",
       "      <td>32</td>\n",
       "      <td>Adlington</td>\n",
       "      <td>2</td>\n",
       "      <td>LC</td>\n",
       "      <td>NN-NORTHWESTEAST</td>\n",
       "      <td>NaN</td>\n",
       "      <td>PR6 9NA</td>\n",
       "      <td>Bolton Road, Adlington, Chorley</td>\n",
       "      <td>Report states that cables were cut to facilita...</td>\n",
       "      <td>NaN</td>\n",
       "      <td>Cut</td>\n",
       "      <td>20.0</td>\n",
       "      <td>20.0</td>\n",
       "      <td>0</td>\n",
       "      <td>NaN</td>\n",
       "      <td>d</td>\n",
       "      <td>Lancashire Constabulary</td>\n",
       "      <td>NaN</td>\n",
       "      <td>NaN</td>\n",
       "      <td>North West</td>\n",
       "      <td>Preston</td>\n",
       "      <td>&lt; 100 pr</td>\n",
       "      <td>NaN</td>\n",
       "      <td>-</td>\n",
       "      <td>NaN</td>\n",
       "      <td>NaN</td>\n",
       "      <td>NaN</td>\n",
       "      <td>NaN</td>\n",
       "      <td>NaN</td>\n",
       "      <td>NaN</td>\n",
       "      <td>0.0</td>\n",
       "      <td>NaN</td>\n",
       "      <td>NaN</td>\n",
       "      <td>NaN</td>\n",
       "      <td>NaN</td>\n",
       "      <td>2001-09-11</td>\n",
       "      <td>2001 Wk: 32</td>\n",
       "      <td>1</td>\n",
       "      <td>0</td>\n",
       "    </tr>\n",
       "    <tr>\n",
       "      <th>1</th>\n",
       "      <td>11005559</td>\n",
       "      <td>2002</td>\n",
       "      <td>8</td>\n",
       "      <td>16</td>\n",
       "      <td>0</td>\n",
       "      <td>Fri</td>\n",
       "      <td>37484.0</td>\n",
       "      <td>2002-2003</td>\n",
       "      <td>20</td>\n",
       "      <td>Horsham</td>\n",
       "      <td>9</td>\n",
       "      <td>SD</td>\n",
       "      <td>NL-WESTDOWNS</td>\n",
       "      <td>NaN</td>\n",
       "      <td>RH12 3RR</td>\n",
       "      <td>Robin Hood Lane, Warnham, Horsham</td>\n",
       "      <td>Snare alarm activated and Police attended. Evi...</td>\n",
       "      <td>NaN</td>\n",
       "      <td>Cut</td>\n",
       "      <td>1700.0</td>\n",
       "      <td>1700.0</td>\n",
       "      <td>0</td>\n",
       "      <td>NaN</td>\n",
       "      <td>e</td>\n",
       "      <td>Surrey Police</td>\n",
       "      <td>NaN</td>\n",
       "      <td>NaN</td>\n",
       "      <td>South East</td>\n",
       "      <td>Redhill</td>\n",
       "      <td>NaN</td>\n",
       "      <td>NaN</td>\n",
       "      <td>-</td>\n",
       "      <td>Not Sent</td>\n",
       "      <td>NaN</td>\n",
       "      <td>NaN</td>\n",
       "      <td>NaN</td>\n",
       "      <td>NaN</td>\n",
       "      <td>NaN</td>\n",
       "      <td>0.0</td>\n",
       "      <td>NaN</td>\n",
       "      <td>NaN</td>\n",
       "      <td>NaN</td>\n",
       "      <td>NaN</td>\n",
       "      <td>2002-08-16</td>\n",
       "      <td>2002 Wk: 20</td>\n",
       "      <td>1</td>\n",
       "      <td>0</td>\n",
       "    </tr>\n",
       "    <tr>\n",
       "      <th>2</th>\n",
       "      <td>11005565</td>\n",
       "      <td>2002</td>\n",
       "      <td>8</td>\n",
       "      <td>16</td>\n",
       "      <td>0</td>\n",
       "      <td>Fri</td>\n",
       "      <td>37484.0</td>\n",
       "      <td>2002-2003</td>\n",
       "      <td>20</td>\n",
       "      <td>Downton</td>\n",
       "      <td>4</td>\n",
       "      <td>ST</td>\n",
       "      <td>NX-AVONWILTS</td>\n",
       "      <td>NaN</td>\n",
       "      <td>SP5 3HN</td>\n",
       "      <td>Breamore Road, Downton, Salisbury</td>\n",
       "      <td>NaN</td>\n",
       "      <td>NaN</td>\n",
       "      <td>Theft</td>\n",
       "      <td>600.0</td>\n",
       "      <td>600.0</td>\n",
       "      <td>0</td>\n",
       "      <td>NaN</td>\n",
       "      <td>e</td>\n",
       "      <td>Wiltshire Police</td>\n",
       "      <td>NaN</td>\n",
       "      <td>NaN</td>\n",
       "      <td>South West</td>\n",
       "      <td>Salisbury</td>\n",
       "      <td>NaN</td>\n",
       "      <td>NaN</td>\n",
       "      <td>-</td>\n",
       "      <td>Not Sent</td>\n",
       "      <td>NaN</td>\n",
       "      <td>NaN</td>\n",
       "      <td>NaN</td>\n",
       "      <td>NaN</td>\n",
       "      <td>NaN</td>\n",
       "      <td>0.0</td>\n",
       "      <td>NaN</td>\n",
       "      <td>NaN</td>\n",
       "      <td>NaN</td>\n",
       "      <td>NaN</td>\n",
       "      <td>2002-08-16</td>\n",
       "      <td>2002 Wk: 20</td>\n",
       "      <td>1</td>\n",
       "      <td>0</td>\n",
       "    </tr>\n",
       "    <tr>\n",
       "      <th>3</th>\n",
       "      <td>7000132</td>\n",
       "      <td>2007</td>\n",
       "      <td>4</td>\n",
       "      <td>3</td>\n",
       "      <td>0</td>\n",
       "      <td>Tue</td>\n",
       "      <td>39175.0</td>\n",
       "      <td>2007-2008</td>\n",
       "      <td>1</td>\n",
       "      <td>Wrexham</td>\n",
       "      <td>4</td>\n",
       "      <td>WN</td>\n",
       "      <td>NW-CHESTERMERSEYSIDE</td>\n",
       "      <td>NaN</td>\n",
       "      <td>LL14 6PY</td>\n",
       "      <td>Ruabon Road, Ruabon</td>\n",
       "      <td>Call to report two males seen in a white Renau...</td>\n",
       "      <td>NaN</td>\n",
       "      <td>Intelligence</td>\n",
       "      <td>NaN</td>\n",
       "      <td>NaN</td>\n",
       "      <td>0</td>\n",
       "      <td>NaN</td>\n",
       "      <td>d</td>\n",
       "      <td>North Wales Police</td>\n",
       "      <td>NaN</td>\n",
       "      <td>NaN</td>\n",
       "      <td>Wales</td>\n",
       "      <td>Llandudno</td>\n",
       "      <td>NaN</td>\n",
       "      <td>NaN</td>\n",
       "      <td>-</td>\n",
       "      <td>NaN</td>\n",
       "      <td>NaN</td>\n",
       "      <td>NaN</td>\n",
       "      <td>NaN</td>\n",
       "      <td>NaN</td>\n",
       "      <td>NaN</td>\n",
       "      <td>0.0</td>\n",
       "      <td>NaN</td>\n",
       "      <td>NaN</td>\n",
       "      <td>NaN</td>\n",
       "      <td>NaN</td>\n",
       "      <td>2007-03-04</td>\n",
       "      <td>2007 Wk: 1</td>\n",
       "      <td>1</td>\n",
       "      <td>0</td>\n",
       "    </tr>\n",
       "    <tr>\n",
       "      <th>4</th>\n",
       "      <td>7000158</td>\n",
       "      <td>2007</td>\n",
       "      <td>4</td>\n",
       "      <td>4</td>\n",
       "      <td>0</td>\n",
       "      <td>Wed</td>\n",
       "      <td>39176.0</td>\n",
       "      <td>2007-2008</td>\n",
       "      <td>1</td>\n",
       "      <td>Collyhurst</td>\n",
       "      <td>142</td>\n",
       "      <td>MR</td>\n",
       "      <td>NN-NORTHWESTWEST</td>\n",
       "      <td>NaN</td>\n",
       "      <td>M9 5RP</td>\n",
       "      <td>Oakridge Walk,</td>\n",
       "      <td>Operation Eiger: The caller is reporting damag...</td>\n",
       "      <td>NaN</td>\n",
       "      <td>Theft</td>\n",
       "      <td>NaN</td>\n",
       "      <td>NaN</td>\n",
       "      <td>0</td>\n",
       "      <td>NaN</td>\n",
       "      <td>e</td>\n",
       "      <td>Greater Manchester Police</td>\n",
       "      <td>NaN</td>\n",
       "      <td>NaN</td>\n",
       "      <td>North West</td>\n",
       "      <td>Manchester</td>\n",
       "      <td>NaN</td>\n",
       "      <td>NaN</td>\n",
       "      <td>-</td>\n",
       "      <td>Not Sent</td>\n",
       "      <td>NaN</td>\n",
       "      <td>NaN</td>\n",
       "      <td>NaN</td>\n",
       "      <td>NaN</td>\n",
       "      <td>NaN</td>\n",
       "      <td>0.0</td>\n",
       "      <td>NaN</td>\n",
       "      <td>NaN</td>\n",
       "      <td>NaN</td>\n",
       "      <td>NaN</td>\n",
       "      <td>2007-04-04</td>\n",
       "      <td>2007 Wk: 1</td>\n",
       "      <td>60</td>\n",
       "      <td>0</td>\n",
       "    </tr>\n",
       "  </tbody>\n",
       "</table>\n",
       "</div>"
      ],
      "text/plain": [
       "  SIR Number  Year  Month  Day  Hour  DoW  Reported Date         FY  Week   \\\n",
       "0   11009105  2001     11    9     0  Fri        37204.0  2001-2002     32   \n",
       "1   11005559  2002      8   16     0  Fri        37484.0  2002-2003     20   \n",
       "2   11005565  2002      8   16     0  Fri        37484.0  2002-2003     20   \n",
       "3    7000132  2007      4    3     0  Tue        39175.0  2007-2008      1   \n",
       "4    7000158  2007      4    4     0  Wed        39176.0  2007-2008      1   \n",
       "\n",
       "     Exchange  Exch hits CSS DB                  NED1 Damage Est Nu  Postcode  \\\n",
       "0   Adlington          2     LC      NN-NORTHWESTEAST           NaN   PR6 9NA   \n",
       "1     Horsham          9     SD          NL-WESTDOWNS           NaN  RH12 3RR   \n",
       "2     Downton          4     ST          NX-AVONWILTS           NaN   SP5 3HN   \n",
       "3     Wrexham          4     WN  NW-CHESTERMERSEYSIDE           NaN  LL14 6PY   \n",
       "4  Collyhurst        142     MR      NN-NORTHWESTWEST           NaN    M9 5RP   \n",
       "\n",
       "                             Address  \\\n",
       "0    Bolton Road, Adlington, Chorley   \n",
       "1  Robin Hood Lane, Warnham, Horsham   \n",
       "2  Breamore Road, Downton, Salisbury   \n",
       "3                Ruabon Road, Ruabon   \n",
       "4                     Oakridge Walk,   \n",
       "\n",
       "                          Information about Incident Location Details  \\\n",
       "0  Report states that cables were cut to facilita...              NaN   \n",
       "1  Snare alarm activated and Police attended. Evi...              NaN   \n",
       "2                                                NaN              NaN   \n",
       "3  Call to report two males seen in a white Renau...              NaN   \n",
       "4  Operation Eiger: The caller is reporting damag...              NaN   \n",
       "\n",
       "     Cut/ Theft  Cable  Size   TOTAL  pairs ONLY  Live pairs  \\\n",
       "0           Cut                             20.0        20.0   \n",
       "1           Cut                           1700.0      1700.0   \n",
       "2         Theft                            600.0       600.0   \n",
       "3  Intelligence                              NaN         NaN   \n",
       "4         Theft                              NaN         NaN   \n",
       "\n",
       "  Total Length metres Cable affected details E side, D side, Fibre  \\\n",
       "0                   0                    NaN                     d   \n",
       "1                   0                    NaN                     e   \n",
       "2                   0                    NaN                     e   \n",
       "3                   0                    NaN                     d   \n",
       "4                   0                    NaN                     e   \n",
       "\n",
       "                Police Force Police Reference Number N#I#O's Name /\\nOp Name  \\\n",
       "0    Lancashire Constabulary                     NaN                     NaN   \n",
       "1              Surrey Police                     NaN                     NaN   \n",
       "2           Wiltshire Police                     NaN                     NaN   \n",
       "3         North Wales Police                     NaN                     NaN   \n",
       "4  Greater Manchester Police                     NaN                     NaN   \n",
       "\n",
       "       County      region Cable size  \\\n",
       "0  North West     Preston   < 100 pr   \n",
       "1  South East     Redhill        NaN   \n",
       "2  South West   Salisbury        NaN   \n",
       "3       Wales   Llandudno        NaN   \n",
       "4  North West  Manchester        NaN   \n",
       "\n",
       "   Indicative copper worth based on current UK copper price cost (raptor)  \\\n",
       "0                                                NaN                    -   \n",
       "1                                                NaN                    -   \n",
       "2                                                NaN                    -   \n",
       "3                                                NaN                    -   \n",
       "4                                                NaN                    -   \n",
       "\n",
       "  Incident form rerturned or response received in X days Hrs claimed  \\\n",
       "0                                                NaN             NaN   \n",
       "1                                           Not Sent             NaN   \n",
       "2                                           Not Sent             NaN   \n",
       "3                                                NaN             NaN   \n",
       "4                                           Not Sent             NaN   \n",
       "\n",
       "   Costs (excl MHours) Manhour Cost  Total Cost Flagged to insurance  \\\n",
       "0                  NaN          NaN         NaN                  NaN   \n",
       "1                  NaN          NaN         NaN                  NaN   \n",
       "2                  NaN          NaN         NaN                  NaN   \n",
       "3                  NaN          NaN         NaN                  NaN   \n",
       "4                  NaN          NaN         NaN                  NaN   \n",
       "\n",
       "   Hrs claimed on NJR    # Est Number  PIA NOTES      date 3  date mmm yy  \\\n",
       "0                 0.0  NaN        NaN  NaN    NaN 2001-09-11  2001 Wk: 32   \n",
       "1                 0.0  NaN        NaN  NaN    NaN 2002-08-16  2002 Wk: 20   \n",
       "2                 0.0  NaN        NaN  NaN    NaN 2002-08-16  2002 Wk: 20   \n",
       "3                 0.0  NaN        NaN  NaN    NaN 2007-03-04   2007 Wk: 1   \n",
       "4                 0.0  NaN        NaN  NaN    NaN 2007-04-04   2007 Wk: 1   \n",
       "\n",
       "   Repeat Hit  Cable anchors in this Fin Year  \n",
       "0           1                               0  \n",
       "1           1                               0  \n",
       "2           1                               0  \n",
       "3           1                               0  \n",
       "4          60                               0  "
      ]
     },
     "execution_count": 8,
     "metadata": {},
     "output_type": "execute_result"
    }
   ],
   "source": [
    "cable_theft_df.head()"
   ]
  },
  {
   "cell_type": "markdown",
   "id": "e0821560-42d8-427c-84b6-9560353a456f",
   "metadata": {
    "tags": []
   },
   "source": [
    "#### clean column names"
   ]
  },
  {
   "cell_type": "code",
   "execution_count": 10,
   "id": "7b2dd88a-d652-4c74-855a-e59644875825",
   "metadata": {},
   "outputs": [],
   "source": [
    "cable_theft_df.rename(columns={\"#\": \"Number\"},inplace=True)"
   ]
  },
  {
   "cell_type": "code",
   "execution_count": 11,
   "id": "1a76db91-9b9d-4290-8dbf-56b9ed1d9a9d",
   "metadata": {
    "tags": []
   },
   "outputs": [
    {
     "name": "stderr",
     "output_type": "stream",
     "text": [
      "/tmp/ipykernel_29111/1639713784.py:1: FutureWarning: The default value of regex will change from True to False in a future version.\n",
      "  cable_theft_df.columns = cable_theft_df.columns.str.lower().str.strip().str.replace(r'\\n','').str.replace(\"[/,',(,),#]\", \"\").str.replace('  ', ' ').str.replace(' ', '_').str.replace('__', '_')\n",
      "/tmp/ipykernel_29111/1639713784.py:1: FutureWarning: The default value of regex will change from True to False in a future version.\n",
      "  cable_theft_df.columns = cable_theft_df.columns.str.lower().str.strip().str.replace(r'\\n','').str.replace(\"[/,',(,),#]\", \"\").str.replace('  ', ' ').str.replace(' ', '_').str.replace('__', '_')\n"
     ]
    }
   ],
   "source": [
    "cable_theft_df.columns = cable_theft_df.columns.str.lower().str.strip().str.replace(r'\\n','').str.replace(\"[/,',(,),#]\", \"\").str.replace('  ', ' ').str.replace(' ', '_').str.replace('__', '_') "
   ]
  },
  {
   "cell_type": "code",
   "execution_count": 12,
   "id": "7805e7b7-9851-4b34-a270-8b7ec183e3ed",
   "metadata": {
    "tags": []
   },
   "outputs": [
    {
     "data": {
      "text/plain": [
       "Index(['sir_number', 'year', 'month', 'day', 'hour', 'dow', 'reported_date',\n",
       "       'fy', 'week', 'exchange', 'exch_hits', 'css_db', 'ned1',\n",
       "       'damage_est_nu', 'postcode', 'address', 'information_about_incident',\n",
       "       'location_details', 'cut_theft', 'cable_size_total_pairs_only',\n",
       "       'live_pairs', 'total_length_metres', 'cable_affected_details',\n",
       "       'e_side_d_side_fibre', 'police_force', 'police_reference_number',\n",
       "       'nios_name_op_name', 'county', 'region', 'cable_size',\n",
       "       'indicative_copper_worth_based_on_current_uk_copper_price',\n",
       "       'cost_raptor', 'incident_form_rerturned_or_response_received_in_x_days',\n",
       "       'hrs_claimed', 'costs_excl_mhours', 'manhour_cost', 'total_cost',\n",
       "       'flagged_to_insurance', 'hrs_claimed_on_njr', 'number', 'est_number',\n",
       "       'pia', 'notes', 'date_3', 'date_mmm_yy', 'repeat_hit',\n",
       "       'cable_anchors_in_this_fin_year'],\n",
       "      dtype='object')"
      ]
     },
     "execution_count": 12,
     "metadata": {},
     "output_type": "execute_result"
    }
   ],
   "source": [
    "cable_theft_df.columns"
   ]
  },
  {
   "cell_type": "markdown",
   "id": "32cef832-8ac8-49b5-a0fd-ad46a56bbd4b",
   "metadata": {},
   "source": [
    "#### sir_number"
   ]
  },
  {
   "cell_type": "code",
   "execution_count": 13,
   "id": "ec6eaf79-24c9-4e58-bb1a-d03cd274e72f",
   "metadata": {
    "tags": []
   },
   "outputs": [],
   "source": [
    "# leave a string - some end in 'a'"
   ]
  },
  {
   "cell_type": "markdown",
   "id": "55636eb7-28d4-4b14-b3b2-d12944ff96a0",
   "metadata": {},
   "source": [
    "#### incident_dt"
   ]
  },
  {
   "cell_type": "code",
   "execution_count": 14,
   "id": "e92115ce-c560-4749-8480-c752fe62a5fd",
   "metadata": {
    "tags": []
   },
   "outputs": [],
   "source": [
    "cable_theft_df['incident_dt'] = pd.to_datetime(dict(year=cable_theft_df.year, month=cable_theft_df.month, day=cable_theft_df.day))"
   ]
  },
  {
   "cell_type": "markdown",
   "id": "9ac5b097-3c73-473c-9c9a-30c7fdff4044",
   "metadata": {},
   "source": [
    "#### day_of_week"
   ]
  },
  {
   "cell_type": "code",
   "execution_count": 15,
   "id": "847f5d5b-f98b-47ac-89ac-f7555e79f049",
   "metadata": {
    "tags": []
   },
   "outputs": [],
   "source": [
    "cable_theft_df['day_of_week'] = cable_theft_df['incident_dt'].dt.dayofweek"
   ]
  },
  {
   "cell_type": "code",
   "execution_count": 16,
   "id": "e17edf1c-bd42-49ef-9dc9-981d8f41b811",
   "metadata": {
    "tags": []
   },
   "outputs": [],
   "source": [
    "# drop dow\n",
    "cable_theft_df.drop(\"dow\", axis=1,  inplace=True)"
   ]
  },
  {
   "cell_type": "markdown",
   "id": "c4f3c99e-950a-4abf-9e50-29a96d523aa6",
   "metadata": {},
   "source": [
    "#### cut_theft"
   ]
  },
  {
   "cell_type": "code",
   "execution_count": 17,
   "id": "30455d7b-8db4-4fc2-8422-100483f9d89d",
   "metadata": {
    "tags": []
   },
   "outputs": [],
   "source": [
    "cable_theft_df['cut_theft'] = cable_theft_df['cut_theft'].str.lower().str.strip()"
   ]
  },
  {
   "cell_type": "markdown",
   "id": "80c86d19-78c4-4a7e-a896-37c3197da1e4",
   "metadata": {},
   "source": [
    "#### convert to float (as it preserves nulls)"
   ]
  },
  {
   "cell_type": "code",
   "execution_count": 18,
   "id": "1dc81ebe-4007-4685-b3ec-1485a75c9eda",
   "metadata": {
    "tags": []
   },
   "outputs": [],
   "source": [
    "cable_theft_df['cable_size_total_pairs_only'] = cable_theft_df['cable_size_total_pairs_only'].astype(float)"
   ]
  },
  {
   "cell_type": "code",
   "execution_count": 19,
   "id": "ce7a0587-116c-4649-b996-53d24942d257",
   "metadata": {},
   "outputs": [],
   "source": [
    "cable_theft_df['live_pairs'] = cable_theft_df['live_pairs'].astype(float)"
   ]
  },
  {
   "cell_type": "code",
   "execution_count": 20,
   "id": "3dca8c99-8fb6-47c7-95bb-6103bf7b495e",
   "metadata": {
    "tags": []
   },
   "outputs": [],
   "source": [
    "cable_theft_df['total_length_metres'] = cable_theft_df['total_length_metres'].str.lower().str.replace('unknown','0').str.replace('y','0').astype(float)"
   ]
  },
  {
   "cell_type": "code",
   "execution_count": 21,
   "id": "c374a6e6-adfd-4dc9-9e69-c0faf1abcb51",
   "metadata": {},
   "outputs": [],
   "source": [
    "cable_theft_df['indicative_copper_worth_based_on_current_uk_copper_price'] = cable_theft_df['indicative_copper_worth_based_on_current_uk_copper_price'].astype(float)"
   ]
  },
  {
   "cell_type": "code",
   "execution_count": 22,
   "id": "4a384e56-7157-4a1b-8b77-cb3343febf9d",
   "metadata": {},
   "outputs": [],
   "source": [
    "cable_theft_df['total_cost'] = cable_theft_df['total_cost'].astype(float)"
   ]
  },
  {
   "cell_type": "code",
   "execution_count": 23,
   "id": "008b75ba-39ab-425a-a4c1-4f84ac534d7c",
   "metadata": {},
   "outputs": [],
   "source": [
    "cable_theft_df['costs_excl_mhours'] =cable_theft_df['costs_excl_mhours'].astype(float)"
   ]
  },
  {
   "cell_type": "code",
   "execution_count": 24,
   "id": "f353a7f1-0a15-4e7b-b082-0ac9c26f6c1d",
   "metadata": {},
   "outputs": [],
   "source": [
    "cable_theft_df['hrs_claimed_on_njr'] =cable_theft_df['hrs_claimed_on_njr'].astype(float)"
   ]
  },
  {
   "cell_type": "markdown",
   "id": "3c312406-026e-4ec9-a2d2-349ef96c64a8",
   "metadata": {},
   "source": [
    "#### subset columns"
   ]
  },
  {
   "cell_type": "code",
   "execution_count": 25,
   "id": "e5dfe077-3f4e-4563-9a70-1f0497401cbe",
   "metadata": {
    "tags": []
   },
   "outputs": [
    {
     "data": {
      "text/plain": [
       "sir_number                                                          object\n",
       "year                                                                 int64\n",
       "month                                                                int64\n",
       "day                                                                  int64\n",
       "hour                                                                 int64\n",
       "reported_date                                                      float64\n",
       "fy                                                                  object\n",
       "week                                                                 int64\n",
       "exchange                                                            object\n",
       "exch_hits                                                            int64\n",
       "css_db                                                              object\n",
       "ned1                                                                object\n",
       "damage_est_nu                                                       object\n",
       "postcode                                                            object\n",
       "address                                                             object\n",
       "information_about_incident                                          object\n",
       "location_details                                                    object\n",
       "cut_theft                                                           object\n",
       "cable_size_total_pairs_only                                        float64\n",
       "live_pairs                                                         float64\n",
       "total_length_metres                                                float64\n",
       "cable_affected_details                                              object\n",
       "e_side_d_side_fibre                                                 object\n",
       "police_force                                                        object\n",
       "police_reference_number                                             object\n",
       "nios_name_op_name                                                   object\n",
       "county                                                              object\n",
       "region                                                              object\n",
       "cable_size                                                          object\n",
       "indicative_copper_worth_based_on_current_uk_copper_price           float64\n",
       "cost_raptor                                                         object\n",
       "incident_form_rerturned_or_response_received_in_x_days              object\n",
       "hrs_claimed                                                         object\n",
       "costs_excl_mhours                                                  float64\n",
       "manhour_cost                                                        object\n",
       "total_cost                                                         float64\n",
       "flagged_to_insurance                                                object\n",
       "hrs_claimed_on_njr                                                 float64\n",
       "number                                                              object\n",
       "est_number                                                          object\n",
       "pia                                                                 object\n",
       "notes                                                               object\n",
       "date_3                                                      datetime64[ns]\n",
       "date_mmm_yy                                                         object\n",
       "repeat_hit                                                           int64\n",
       "cable_anchors_in_this_fin_year                                       int64\n",
       "incident_dt                                                 datetime64[ns]\n",
       "day_of_week                                                          int64\n",
       "dtype: object"
      ]
     },
     "execution_count": 25,
     "metadata": {},
     "output_type": "execute_result"
    }
   ],
   "source": [
    "cable_theft_df.dtypes"
   ]
  },
  {
   "cell_type": "markdown",
   "id": "ff36e745-ab27-48a2-9eaf-d9d37a2077e4",
   "metadata": {},
   "source": [
    "### create GCP json to load into bq"
   ]
  },
  {
   "cell_type": "code",
   "execution_count": 26,
   "id": "31afc07c-0016-4b83-9305-b029eae35bd5",
   "metadata": {
    "tags": []
   },
   "outputs": [],
   "source": [
    " def type_conversion(type_str):\n",
    "    \"\"\" \n",
    "    Convert datatypes from pandas datatype to GCP datatype\n",
    "    \"\"\"\n",
    "    #type_str = type_str.lower()\n",
    "    if type_str== 'int64':\n",
    "        return 'INT64'\n",
    "    elif type_str== 'float64':\n",
    "        return 'FLOAT64'\n",
    "    elif type_str =='object':\n",
    "        return 'STRING'\n",
    "    elif type_str=='datetime64[ns]':\n",
    "        return 'TIMESTAMP'\n",
    "    elif type_str=='date':\n",
    "        return 'DATE'\n",
    "    else:\n",
    "        print('unknown type')\n",
    "        raise"
   ]
  },
  {
   "cell_type": "code",
   "execution_count": 27,
   "id": "9a56e77f-8ff7-493a-9327-3becb4c4203d",
   "metadata": {
    "tags": []
   },
   "outputs": [],
   "source": [
    "dtype = []\n",
    "for i in cable_theft_df.dtypes:\n",
    "    dtype.append(type_conversion(i))"
   ]
  },
  {
   "cell_type": "code",
   "execution_count": 28,
   "id": "086946bc-f5eb-4b73-bbf3-c47afbae9b4b",
   "metadata": {
    "tags": []
   },
   "outputs": [],
   "source": [
    "colname=cable_theft_df.columns\n",
    "output = []"
   ]
  },
  {
   "cell_type": "code",
   "execution_count": 29,
   "id": "1dd65bda-e49e-49f1-ae98-f64ccab6eca9",
   "metadata": {
    "tags": []
   },
   "outputs": [],
   "source": [
    "for col, dtype in  list(zip(colname, dtype)):\n",
    "    output.append({\n",
    "        \"mode\": \"NULLABLE\",\n",
    "        \"name\": col,\n",
    "        \"type\": dtype\n",
    "    })"
   ]
  },
  {
   "cell_type": "code",
   "execution_count": 30,
   "id": "607230c5-f2cc-48d4-86d5-25e380a83a82",
   "metadata": {
    "tags": []
   },
   "outputs": [
    {
     "data": {
      "text/plain": [
       "[{'mode': 'NULLABLE', 'name': 'sir_number', 'type': 'STRING'},\n",
       " {'mode': 'NULLABLE', 'name': 'year', 'type': 'INT64'},\n",
       " {'mode': 'NULLABLE', 'name': 'month', 'type': 'INT64'},\n",
       " {'mode': 'NULLABLE', 'name': 'day', 'type': 'INT64'},\n",
       " {'mode': 'NULLABLE', 'name': 'hour', 'type': 'INT64'},\n",
       " {'mode': 'NULLABLE', 'name': 'reported_date', 'type': 'FLOAT64'},\n",
       " {'mode': 'NULLABLE', 'name': 'fy', 'type': 'STRING'},\n",
       " {'mode': 'NULLABLE', 'name': 'week', 'type': 'INT64'},\n",
       " {'mode': 'NULLABLE', 'name': 'exchange', 'type': 'STRING'},\n",
       " {'mode': 'NULLABLE', 'name': 'exch_hits', 'type': 'INT64'},\n",
       " {'mode': 'NULLABLE', 'name': 'css_db', 'type': 'STRING'},\n",
       " {'mode': 'NULLABLE', 'name': 'ned1', 'type': 'STRING'},\n",
       " {'mode': 'NULLABLE', 'name': 'damage_est_nu', 'type': 'STRING'},\n",
       " {'mode': 'NULLABLE', 'name': 'postcode', 'type': 'STRING'},\n",
       " {'mode': 'NULLABLE', 'name': 'address', 'type': 'STRING'},\n",
       " {'mode': 'NULLABLE', 'name': 'information_about_incident', 'type': 'STRING'},\n",
       " {'mode': 'NULLABLE', 'name': 'location_details', 'type': 'STRING'},\n",
       " {'mode': 'NULLABLE', 'name': 'cut_theft', 'type': 'STRING'},\n",
       " {'mode': 'NULLABLE',\n",
       "  'name': 'cable_size_total_pairs_only',\n",
       "  'type': 'FLOAT64'},\n",
       " {'mode': 'NULLABLE', 'name': 'live_pairs', 'type': 'FLOAT64'},\n",
       " {'mode': 'NULLABLE', 'name': 'total_length_metres', 'type': 'FLOAT64'},\n",
       " {'mode': 'NULLABLE', 'name': 'cable_affected_details', 'type': 'STRING'},\n",
       " {'mode': 'NULLABLE', 'name': 'e_side_d_side_fibre', 'type': 'STRING'},\n",
       " {'mode': 'NULLABLE', 'name': 'police_force', 'type': 'STRING'},\n",
       " {'mode': 'NULLABLE', 'name': 'police_reference_number', 'type': 'STRING'},\n",
       " {'mode': 'NULLABLE', 'name': 'nios_name_op_name', 'type': 'STRING'},\n",
       " {'mode': 'NULLABLE', 'name': 'county', 'type': 'STRING'},\n",
       " {'mode': 'NULLABLE', 'name': 'region', 'type': 'STRING'},\n",
       " {'mode': 'NULLABLE', 'name': 'cable_size', 'type': 'STRING'},\n",
       " {'mode': 'NULLABLE',\n",
       "  'name': 'indicative_copper_worth_based_on_current_uk_copper_price',\n",
       "  'type': 'FLOAT64'},\n",
       " {'mode': 'NULLABLE', 'name': 'cost_raptor', 'type': 'STRING'},\n",
       " {'mode': 'NULLABLE',\n",
       "  'name': 'incident_form_rerturned_or_response_received_in_x_days',\n",
       "  'type': 'STRING'},\n",
       " {'mode': 'NULLABLE', 'name': 'hrs_claimed', 'type': 'STRING'},\n",
       " {'mode': 'NULLABLE', 'name': 'costs_excl_mhours', 'type': 'FLOAT64'},\n",
       " {'mode': 'NULLABLE', 'name': 'manhour_cost', 'type': 'STRING'},\n",
       " {'mode': 'NULLABLE', 'name': 'total_cost', 'type': 'FLOAT64'},\n",
       " {'mode': 'NULLABLE', 'name': 'flagged_to_insurance', 'type': 'STRING'},\n",
       " {'mode': 'NULLABLE', 'name': 'hrs_claimed_on_njr', 'type': 'FLOAT64'},\n",
       " {'mode': 'NULLABLE', 'name': 'number', 'type': 'STRING'},\n",
       " {'mode': 'NULLABLE', 'name': 'est_number', 'type': 'STRING'},\n",
       " {'mode': 'NULLABLE', 'name': 'pia', 'type': 'STRING'},\n",
       " {'mode': 'NULLABLE', 'name': 'notes', 'type': 'STRING'},\n",
       " {'mode': 'NULLABLE', 'name': 'date_3', 'type': 'TIMESTAMP'},\n",
       " {'mode': 'NULLABLE', 'name': 'date_mmm_yy', 'type': 'STRING'},\n",
       " {'mode': 'NULLABLE', 'name': 'repeat_hit', 'type': 'INT64'},\n",
       " {'mode': 'NULLABLE',\n",
       "  'name': 'cable_anchors_in_this_fin_year',\n",
       "  'type': 'INT64'},\n",
       " {'mode': 'NULLABLE', 'name': 'incident_dt', 'type': 'TIMESTAMP'},\n",
       " {'mode': 'NULLABLE', 'name': 'day_of_week', 'type': 'INT64'}]"
      ]
     },
     "execution_count": 30,
     "metadata": {},
     "output_type": "execute_result"
    }
   ],
   "source": [
    "output"
   ]
  },
  {
   "cell_type": "code",
   "execution_count": 31,
   "id": "7ed1e3f4-b65a-4b3a-927f-b7eebe7d73ec",
   "metadata": {
    "tags": []
   },
   "outputs": [],
   "source": [
    "schema_out_filename = output_path / \"cable_theft_schema.json\""
   ]
  },
  {
   "cell_type": "code",
   "execution_count": 32,
   "id": "e3b99f22-2013-4958-96f9-b93d87cd19c1",
   "metadata": {
    "tags": []
   },
   "outputs": [],
   "source": [
    "with open(schema_out_filename, 'w') as f2:\n",
    "    json.dump(output, f2, indent=4)"
   ]
  },
  {
   "cell_type": "code",
   "execution_count": 33,
   "id": "72fca935-1773-4dc3-b191-37855f26fca0",
   "metadata": {
    "tags": []
   },
   "outputs": [],
   "source": [
    "out_filename = output_path / \"cable_theft.parquet\""
   ]
  },
  {
   "cell_type": "code",
   "execution_count": 34,
   "id": "66da6c59-63ea-4086-891c-c092cd125850",
   "metadata": {
    "tags": []
   },
   "outputs": [],
   "source": [
    "cable_theft_df.to_parquet(out_filename,index=False)"
   ]
  },
  {
   "cell_type": "code",
   "execution_count": 35,
   "id": "a75ee299-cd7f-4fee-b2c4-c7cafa9755c9",
   "metadata": {
    "tags": []
   },
   "outputs": [],
   "source": [
    "cable_theft_df = pd.read_parquet(out_filename)"
   ]
  },
  {
   "cell_type": "code",
   "execution_count": 36,
   "id": "04d5a466-69cf-4877-b555-6cab62d9f12b",
   "metadata": {
    "tags": []
   },
   "outputs": [
    {
     "data": {
      "text/html": [
       "<div>\n",
       "<style scoped>\n",
       "    .dataframe tbody tr th:only-of-type {\n",
       "        vertical-align: middle;\n",
       "    }\n",
       "\n",
       "    .dataframe tbody tr th {\n",
       "        vertical-align: top;\n",
       "    }\n",
       "\n",
       "    .dataframe thead th {\n",
       "        text-align: right;\n",
       "    }\n",
       "</style>\n",
       "<table border=\"1\" class=\"dataframe\">\n",
       "  <thead>\n",
       "    <tr style=\"text-align: right;\">\n",
       "      <th></th>\n",
       "      <th>sir_number</th>\n",
       "      <th>year</th>\n",
       "      <th>month</th>\n",
       "      <th>day</th>\n",
       "      <th>hour</th>\n",
       "      <th>reported_date</th>\n",
       "      <th>fy</th>\n",
       "      <th>week</th>\n",
       "      <th>exchange</th>\n",
       "      <th>exch_hits</th>\n",
       "      <th>css_db</th>\n",
       "      <th>ned1</th>\n",
       "      <th>damage_est_nu</th>\n",
       "      <th>postcode</th>\n",
       "      <th>address</th>\n",
       "      <th>information_about_incident</th>\n",
       "      <th>location_details</th>\n",
       "      <th>cut_theft</th>\n",
       "      <th>cable_size_total_pairs_only</th>\n",
       "      <th>live_pairs</th>\n",
       "      <th>total_length_metres</th>\n",
       "      <th>cable_affected_details</th>\n",
       "      <th>e_side_d_side_fibre</th>\n",
       "      <th>police_force</th>\n",
       "      <th>police_reference_number</th>\n",
       "      <th>nios_name_op_name</th>\n",
       "      <th>county</th>\n",
       "      <th>region</th>\n",
       "      <th>cable_size</th>\n",
       "      <th>indicative_copper_worth_based_on_current_uk_copper_price</th>\n",
       "      <th>cost_raptor</th>\n",
       "      <th>incident_form_rerturned_or_response_received_in_x_days</th>\n",
       "      <th>hrs_claimed</th>\n",
       "      <th>costs_excl_mhours</th>\n",
       "      <th>manhour_cost</th>\n",
       "      <th>total_cost</th>\n",
       "      <th>flagged_to_insurance</th>\n",
       "      <th>hrs_claimed_on_njr</th>\n",
       "      <th>number</th>\n",
       "      <th>est_number</th>\n",
       "      <th>pia</th>\n",
       "      <th>notes</th>\n",
       "      <th>date_3</th>\n",
       "      <th>date_mmm_yy</th>\n",
       "      <th>repeat_hit</th>\n",
       "      <th>cable_anchors_in_this_fin_year</th>\n",
       "      <th>incident_dt</th>\n",
       "      <th>day_of_week</th>\n",
       "    </tr>\n",
       "  </thead>\n",
       "  <tbody>\n",
       "    <tr>\n",
       "      <th>0</th>\n",
       "      <td>11009105</td>\n",
       "      <td>2001</td>\n",
       "      <td>11</td>\n",
       "      <td>9</td>\n",
       "      <td>0</td>\n",
       "      <td>37204.0</td>\n",
       "      <td>2001-2002</td>\n",
       "      <td>32</td>\n",
       "      <td>Adlington</td>\n",
       "      <td>2</td>\n",
       "      <td>LC</td>\n",
       "      <td>NN-NORTHWESTEAST</td>\n",
       "      <td>None</td>\n",
       "      <td>PR6 9NA</td>\n",
       "      <td>Bolton Road, Adlington, Chorley</td>\n",
       "      <td>Report states that cables were cut to facilita...</td>\n",
       "      <td>None</td>\n",
       "      <td>cut</td>\n",
       "      <td>20.0</td>\n",
       "      <td>20.0</td>\n",
       "      <td>0.0</td>\n",
       "      <td>None</td>\n",
       "      <td>d</td>\n",
       "      <td>Lancashire Constabulary</td>\n",
       "      <td>None</td>\n",
       "      <td>None</td>\n",
       "      <td>North West</td>\n",
       "      <td>Preston</td>\n",
       "      <td>&lt; 100 pr</td>\n",
       "      <td>NaN</td>\n",
       "      <td>-</td>\n",
       "      <td>None</td>\n",
       "      <td>None</td>\n",
       "      <td>NaN</td>\n",
       "      <td>None</td>\n",
       "      <td>NaN</td>\n",
       "      <td>None</td>\n",
       "      <td>0.0</td>\n",
       "      <td>None</td>\n",
       "      <td>None</td>\n",
       "      <td>None</td>\n",
       "      <td>None</td>\n",
       "      <td>2001-09-11</td>\n",
       "      <td>2001 Wk: 32</td>\n",
       "      <td>1</td>\n",
       "      <td>0</td>\n",
       "      <td>2001-11-09</td>\n",
       "      <td>4</td>\n",
       "    </tr>\n",
       "    <tr>\n",
       "      <th>1</th>\n",
       "      <td>11005559</td>\n",
       "      <td>2002</td>\n",
       "      <td>8</td>\n",
       "      <td>16</td>\n",
       "      <td>0</td>\n",
       "      <td>37484.0</td>\n",
       "      <td>2002-2003</td>\n",
       "      <td>20</td>\n",
       "      <td>Horsham</td>\n",
       "      <td>9</td>\n",
       "      <td>SD</td>\n",
       "      <td>NL-WESTDOWNS</td>\n",
       "      <td>None</td>\n",
       "      <td>RH12 3RR</td>\n",
       "      <td>Robin Hood Lane, Warnham, Horsham</td>\n",
       "      <td>Snare alarm activated and Police attended. Evi...</td>\n",
       "      <td>None</td>\n",
       "      <td>cut</td>\n",
       "      <td>1700.0</td>\n",
       "      <td>1700.0</td>\n",
       "      <td>0.0</td>\n",
       "      <td>None</td>\n",
       "      <td>e</td>\n",
       "      <td>Surrey Police</td>\n",
       "      <td>None</td>\n",
       "      <td>None</td>\n",
       "      <td>South East</td>\n",
       "      <td>Redhill</td>\n",
       "      <td>None</td>\n",
       "      <td>NaN</td>\n",
       "      <td>-</td>\n",
       "      <td>Not Sent</td>\n",
       "      <td>None</td>\n",
       "      <td>NaN</td>\n",
       "      <td>None</td>\n",
       "      <td>NaN</td>\n",
       "      <td>None</td>\n",
       "      <td>0.0</td>\n",
       "      <td>None</td>\n",
       "      <td>None</td>\n",
       "      <td>None</td>\n",
       "      <td>None</td>\n",
       "      <td>2002-08-16</td>\n",
       "      <td>2002 Wk: 20</td>\n",
       "      <td>1</td>\n",
       "      <td>0</td>\n",
       "      <td>2002-08-16</td>\n",
       "      <td>4</td>\n",
       "    </tr>\n",
       "    <tr>\n",
       "      <th>2</th>\n",
       "      <td>11005565</td>\n",
       "      <td>2002</td>\n",
       "      <td>8</td>\n",
       "      <td>16</td>\n",
       "      <td>0</td>\n",
       "      <td>37484.0</td>\n",
       "      <td>2002-2003</td>\n",
       "      <td>20</td>\n",
       "      <td>Downton</td>\n",
       "      <td>4</td>\n",
       "      <td>ST</td>\n",
       "      <td>NX-AVONWILTS</td>\n",
       "      <td>None</td>\n",
       "      <td>SP5 3HN</td>\n",
       "      <td>Breamore Road, Downton, Salisbury</td>\n",
       "      <td>None</td>\n",
       "      <td>None</td>\n",
       "      <td>theft</td>\n",
       "      <td>600.0</td>\n",
       "      <td>600.0</td>\n",
       "      <td>0.0</td>\n",
       "      <td>None</td>\n",
       "      <td>e</td>\n",
       "      <td>Wiltshire Police</td>\n",
       "      <td>None</td>\n",
       "      <td>None</td>\n",
       "      <td>South West</td>\n",
       "      <td>Salisbury</td>\n",
       "      <td>None</td>\n",
       "      <td>NaN</td>\n",
       "      <td>-</td>\n",
       "      <td>Not Sent</td>\n",
       "      <td>None</td>\n",
       "      <td>NaN</td>\n",
       "      <td>None</td>\n",
       "      <td>NaN</td>\n",
       "      <td>None</td>\n",
       "      <td>0.0</td>\n",
       "      <td>None</td>\n",
       "      <td>None</td>\n",
       "      <td>None</td>\n",
       "      <td>None</td>\n",
       "      <td>2002-08-16</td>\n",
       "      <td>2002 Wk: 20</td>\n",
       "      <td>1</td>\n",
       "      <td>0</td>\n",
       "      <td>2002-08-16</td>\n",
       "      <td>4</td>\n",
       "    </tr>\n",
       "    <tr>\n",
       "      <th>3</th>\n",
       "      <td>7000132</td>\n",
       "      <td>2007</td>\n",
       "      <td>4</td>\n",
       "      <td>3</td>\n",
       "      <td>0</td>\n",
       "      <td>39175.0</td>\n",
       "      <td>2007-2008</td>\n",
       "      <td>1</td>\n",
       "      <td>Wrexham</td>\n",
       "      <td>4</td>\n",
       "      <td>WN</td>\n",
       "      <td>NW-CHESTERMERSEYSIDE</td>\n",
       "      <td>None</td>\n",
       "      <td>LL14 6PY</td>\n",
       "      <td>Ruabon Road, Ruabon</td>\n",
       "      <td>Call to report two males seen in a white Renau...</td>\n",
       "      <td>None</td>\n",
       "      <td>intelligence</td>\n",
       "      <td>NaN</td>\n",
       "      <td>NaN</td>\n",
       "      <td>0.0</td>\n",
       "      <td>None</td>\n",
       "      <td>d</td>\n",
       "      <td>North Wales Police</td>\n",
       "      <td>None</td>\n",
       "      <td>None</td>\n",
       "      <td>Wales</td>\n",
       "      <td>Llandudno</td>\n",
       "      <td>None</td>\n",
       "      <td>NaN</td>\n",
       "      <td>-</td>\n",
       "      <td>None</td>\n",
       "      <td>None</td>\n",
       "      <td>NaN</td>\n",
       "      <td>None</td>\n",
       "      <td>NaN</td>\n",
       "      <td>None</td>\n",
       "      <td>0.0</td>\n",
       "      <td>None</td>\n",
       "      <td>None</td>\n",
       "      <td>None</td>\n",
       "      <td>None</td>\n",
       "      <td>2007-03-04</td>\n",
       "      <td>2007 Wk: 1</td>\n",
       "      <td>1</td>\n",
       "      <td>0</td>\n",
       "      <td>2007-04-03</td>\n",
       "      <td>1</td>\n",
       "    </tr>\n",
       "    <tr>\n",
       "      <th>4</th>\n",
       "      <td>7000158</td>\n",
       "      <td>2007</td>\n",
       "      <td>4</td>\n",
       "      <td>4</td>\n",
       "      <td>0</td>\n",
       "      <td>39176.0</td>\n",
       "      <td>2007-2008</td>\n",
       "      <td>1</td>\n",
       "      <td>Collyhurst</td>\n",
       "      <td>142</td>\n",
       "      <td>MR</td>\n",
       "      <td>NN-NORTHWESTWEST</td>\n",
       "      <td>None</td>\n",
       "      <td>M9 5RP</td>\n",
       "      <td>Oakridge Walk,</td>\n",
       "      <td>Operation Eiger: The caller is reporting damag...</td>\n",
       "      <td>None</td>\n",
       "      <td>theft</td>\n",
       "      <td>NaN</td>\n",
       "      <td>NaN</td>\n",
       "      <td>0.0</td>\n",
       "      <td>None</td>\n",
       "      <td>e</td>\n",
       "      <td>Greater Manchester Police</td>\n",
       "      <td>None</td>\n",
       "      <td>None</td>\n",
       "      <td>North West</td>\n",
       "      <td>Manchester</td>\n",
       "      <td>None</td>\n",
       "      <td>NaN</td>\n",
       "      <td>-</td>\n",
       "      <td>Not Sent</td>\n",
       "      <td>None</td>\n",
       "      <td>NaN</td>\n",
       "      <td>None</td>\n",
       "      <td>NaN</td>\n",
       "      <td>None</td>\n",
       "      <td>0.0</td>\n",
       "      <td>None</td>\n",
       "      <td>None</td>\n",
       "      <td>None</td>\n",
       "      <td>None</td>\n",
       "      <td>2007-04-04</td>\n",
       "      <td>2007 Wk: 1</td>\n",
       "      <td>60</td>\n",
       "      <td>0</td>\n",
       "      <td>2007-04-04</td>\n",
       "      <td>2</td>\n",
       "    </tr>\n",
       "  </tbody>\n",
       "</table>\n",
       "</div>"
      ],
      "text/plain": [
       "  sir_number  year  month  day  hour  reported_date         fy  week  \\\n",
       "0   11009105  2001     11    9     0        37204.0  2001-2002    32   \n",
       "1   11005559  2002      8   16     0        37484.0  2002-2003    20   \n",
       "2   11005565  2002      8   16     0        37484.0  2002-2003    20   \n",
       "3    7000132  2007      4    3     0        39175.0  2007-2008     1   \n",
       "4    7000158  2007      4    4     0        39176.0  2007-2008     1   \n",
       "\n",
       "     exchange  exch_hits css_db                  ned1 damage_est_nu  postcode  \\\n",
       "0   Adlington          2     LC      NN-NORTHWESTEAST          None   PR6 9NA   \n",
       "1     Horsham          9     SD          NL-WESTDOWNS          None  RH12 3RR   \n",
       "2     Downton          4     ST          NX-AVONWILTS          None   SP5 3HN   \n",
       "3     Wrexham          4     WN  NW-CHESTERMERSEYSIDE          None  LL14 6PY   \n",
       "4  Collyhurst        142     MR      NN-NORTHWESTWEST          None    M9 5RP   \n",
       "\n",
       "                             address  \\\n",
       "0    Bolton Road, Adlington, Chorley   \n",
       "1  Robin Hood Lane, Warnham, Horsham   \n",
       "2  Breamore Road, Downton, Salisbury   \n",
       "3                Ruabon Road, Ruabon   \n",
       "4                     Oakridge Walk,   \n",
       "\n",
       "                          information_about_incident location_details  \\\n",
       "0  Report states that cables were cut to facilita...             None   \n",
       "1  Snare alarm activated and Police attended. Evi...             None   \n",
       "2                                               None             None   \n",
       "3  Call to report two males seen in a white Renau...             None   \n",
       "4  Operation Eiger: The caller is reporting damag...             None   \n",
       "\n",
       "      cut_theft  cable_size_total_pairs_only  live_pairs  total_length_metres  \\\n",
       "0           cut                         20.0        20.0                  0.0   \n",
       "1           cut                       1700.0      1700.0                  0.0   \n",
       "2         theft                        600.0       600.0                  0.0   \n",
       "3  intelligence                          NaN         NaN                  0.0   \n",
       "4         theft                          NaN         NaN                  0.0   \n",
       "\n",
       "  cable_affected_details e_side_d_side_fibre               police_force  \\\n",
       "0                   None                   d    Lancashire Constabulary   \n",
       "1                   None                   e              Surrey Police   \n",
       "2                   None                   e           Wiltshire Police   \n",
       "3                   None                   d         North Wales Police   \n",
       "4                   None                   e  Greater Manchester Police   \n",
       "\n",
       "  police_reference_number nios_name_op_name      county      region  \\\n",
       "0                    None              None  North West     Preston   \n",
       "1                    None              None  South East     Redhill   \n",
       "2                    None              None  South West   Salisbury   \n",
       "3                    None              None       Wales   Llandudno   \n",
       "4                    None              None  North West  Manchester   \n",
       "\n",
       "  cable_size  indicative_copper_worth_based_on_current_uk_copper_price  \\\n",
       "0   < 100 pr                                                NaN          \n",
       "1       None                                                NaN          \n",
       "2       None                                                NaN          \n",
       "3       None                                                NaN          \n",
       "4       None                                                NaN          \n",
       "\n",
       "  cost_raptor incident_form_rerturned_or_response_received_in_x_days  \\\n",
       "0           -                                               None       \n",
       "1           -                                           Not Sent       \n",
       "2           -                                           Not Sent       \n",
       "3           -                                               None       \n",
       "4           -                                           Not Sent       \n",
       "\n",
       "  hrs_claimed  costs_excl_mhours manhour_cost  total_cost  \\\n",
       "0        None                NaN         None         NaN   \n",
       "1        None                NaN         None         NaN   \n",
       "2        None                NaN         None         NaN   \n",
       "3        None                NaN         None         NaN   \n",
       "4        None                NaN         None         NaN   \n",
       "\n",
       "  flagged_to_insurance  hrs_claimed_on_njr number est_number   pia notes  \\\n",
       "0                 None                 0.0   None       None  None  None   \n",
       "1                 None                 0.0   None       None  None  None   \n",
       "2                 None                 0.0   None       None  None  None   \n",
       "3                 None                 0.0   None       None  None  None   \n",
       "4                 None                 0.0   None       None  None  None   \n",
       "\n",
       "      date_3  date_mmm_yy  repeat_hit  cable_anchors_in_this_fin_year  \\\n",
       "0 2001-09-11  2001 Wk: 32           1                               0   \n",
       "1 2002-08-16  2002 Wk: 20           1                               0   \n",
       "2 2002-08-16  2002 Wk: 20           1                               0   \n",
       "3 2007-03-04   2007 Wk: 1           1                               0   \n",
       "4 2007-04-04   2007 Wk: 1          60                               0   \n",
       "\n",
       "  incident_dt  day_of_week  \n",
       "0  2001-11-09            4  \n",
       "1  2002-08-16            4  \n",
       "2  2002-08-16            4  \n",
       "3  2007-04-03            1  \n",
       "4  2007-04-04            2  "
      ]
     },
     "execution_count": 36,
     "metadata": {},
     "output_type": "execute_result"
    }
   ],
   "source": [
    "cable_theft_df.head()"
   ]
  },
  {
   "cell_type": "code",
   "execution_count": 37,
   "id": "8fd269a7-a93f-4bb0-97ae-b172161489fb",
   "metadata": {
    "tags": []
   },
   "outputs": [],
   "source": [
    "# set project\n",
    "# !gcloud config set project or-fttp-prope-aif-exp-prod\n",
    "project_id = 'or-fttp-prope-aif-exp-prod'"
   ]
  },
  {
   "cell_type": "code",
   "execution_count": 38,
   "id": "9ec8dcf4-b0d6-40ab-bc8e-aa3936a4c1b4",
   "metadata": {
    "tags": []
   },
   "outputs": [],
   "source": [
    "# bigquery dataset\n",
    "destination_dataset = \"cable_theft\"\n",
    "destination_table_name = \"cable_theft_history\""
   ]
  },
  {
   "cell_type": "code",
   "execution_count": 39,
   "id": "9950eae6-b61d-4bfa-bddc-412efe30e9bd",
   "metadata": {
    "tags": []
   },
   "outputs": [],
   "source": [
    "# Only need to run once to create dataset\n",
    "#!bq --location=europe-west2 mk --dataset $destination_dataset"
   ]
  },
  {
   "cell_type": "markdown",
   "id": "6c56d6c9-2676-488b-9e70-ca066907aa34",
   "metadata": {},
   "source": [
    "#### load data into bq from cloud storage"
   ]
  },
  {
   "cell_type": "code",
   "execution_count": 40,
   "id": "8346ad2b-7b25-42b8-945f-d7c59fc21ba1",
   "metadata": {
    "tags": []
   },
   "outputs": [],
   "source": [
    "data_gcs_uri = \"gs://or-fttp-prope-aif-exp-prod/cable_theft/data/output/cable_theft.parquet\""
   ]
  },
  {
   "cell_type": "code",
   "execution_count": 41,
   "id": "c6bb7345-4d0b-4f5b-888f-1903cade0f95",
   "metadata": {},
   "outputs": [],
   "source": [
    "def load_data_to_bigquery(bq_client, json_schema_filepath, data_gcs_uri, destination_dataset, destination_table_name):\n",
    "    with open(json_schema_filepath, 'r') as f:\n",
    "        json_schema = json.load(f)\n",
    "    job_config = bigquery.LoadJobConfig(\n",
    "        schema=json_schema,\n",
    "#        skip_leading_rows=0,\n",
    "        write_disposition='WRITE_TRUNCATE',\n",
    "        source_format=bigquery.SourceFormat.PARQUET,\n",
    "    )\n",
    "    \n",
    "    destination  = f'{destination_dataset}.{destination_table_name}'\n",
    "    \n",
    "    load_job = bq_client.load_table_from_uri(\n",
    "        data_gcs_uri, \n",
    "        destination=destination,\n",
    "        job_config=job_config\n",
    "    )  # Make an API request.\n",
    "\n",
    "    load_job.result()  # Waits for the job to complete.\n",
    "\n",
    "    destination_table = bq_client.get_table(destination) \n",
    "    print(f\"Loaded {destination_table.num_rows} rows into {destination_table}\")"
   ]
  },
  {
   "cell_type": "code",
   "execution_count": 42,
   "id": "b95e27b5-4cfc-474a-9a4b-e99dfaff7802",
   "metadata": {
    "tags": []
   },
   "outputs": [
    {
     "name": "stdout",
     "output_type": "stream",
     "text": [
      "Loaded 11460 rows into or-fttp-prope-aif-exp-prod.cable_theft.cable_theft_history\n"
     ]
    }
   ],
   "source": [
    "load_bq_client = bigquery.Client(project=project_id)\n",
    "load_data_to_bigquery(bq_client=load_bq_client,json_schema_filepath=schema_out_filename, data_gcs_uri=data_gcs_uri,destination_dataset=destination_dataset,destination_table_name=destination_table_name)"
   ]
  },
  {
   "cell_type": "code",
   "execution_count": null,
   "id": "b6473163-82a2-48b4-8b21-1b757847e370",
   "metadata": {},
   "outputs": [],
   "source": []
  }
 ],
 "metadata": {
  "environment": {
   "kernel": "python3",
   "name": ".m118",
   "type": "gcloud",
   "uri": "us-docker.pkg.dev/deeplearning-platform-release/gcr.io/:m118"
  },
  "kernelspec": {
   "display_name": "Python 3 (ipykernel)",
   "language": "python",
   "name": "python3"
  },
  "language_info": {
   "codemirror_mode": {
    "name": "ipython",
    "version": 3
   },
   "file_extension": ".py",
   "mimetype": "text/x-python",
   "name": "python",
   "nbconvert_exporter": "python",
   "pygments_lexer": "ipython3",
   "version": "3.9.18"
  }
 },
 "nbformat": 4,
 "nbformat_minor": 5
}

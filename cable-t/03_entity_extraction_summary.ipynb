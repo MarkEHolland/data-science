{
 "cells": [
  {
   "cell_type": "markdown",
   "id": "3735ed84-c08e-4b33-acd5-263c1203c610",
   "metadata": {},
   "source": [
    "# Extract Entities from Blue Reports with transformer model"
   ]
  },
  {
   "cell_type": "markdown",
   "id": "80340aaa-4da1-4937-b608-fcb69edd8564",
   "metadata": {},
   "source": [
    "### setup & import packages"
   ]
  },
  {
   "cell_type": "code",
   "execution_count": 1,
   "id": "0ce1e48e-bf6e-4f4e-8b60-b3b301d994ad",
   "metadata": {
    "tags": []
   },
   "outputs": [],
   "source": [
    "# export PIP_INDEX_URL=\"https://agile.nat.bt.com/nexus/repository/pypi-proxy/simple\""
   ]
  },
  {
   "cell_type": "code",
   "execution_count": 2,
   "id": "d4705109-87df-4da1-a3d8-20f73ac2deb8",
   "metadata": {
    "tags": []
   },
   "outputs": [],
   "source": [
    "# example using pretrained models:-\n",
    "# https://gitlab.agile.nat.bt.com/DCU/experimental/agent_comments/-/blob/main/notebooks/Pre-trained%20GCP%20Models.ipynb"
   ]
  },
  {
   "cell_type": "code",
   "execution_count": 3,
   "id": "374a91fa-48fe-4441-9b0a-fc1c3157f6b3",
   "metadata": {
    "tags": []
   },
   "outputs": [],
   "source": [
    "from pathlib import Path\n",
    "import pandas as pd\n",
    "import time\n",
    "from io import StringIO\n",
    "from concurrent.futures import ThreadPoolExecutor, as_completed\n",
    "import multiprocessing\n",
    "import threading\n",
    "import json\n",
    "import re\n",
    "from datetime import datetime\n",
    "\n",
    "%matplotlib inline\n",
    "pd.set_option('display.max_colwidth', None)"
   ]
  },
  {
   "cell_type": "code",
   "execution_count": 4,
   "id": "4d935dad-8c70-41b4-9502-b6ad57db5239",
   "metadata": {
    "tags": []
   },
   "outputs": [],
   "source": [
    "# vertexai transformer models\n",
    "import vertexai\n",
    "from vertexai.language_models import TextGenerationModel"
   ]
  },
  {
   "cell_type": "code",
   "execution_count": 5,
   "id": "c4394e77-0b63-44dc-a196-0d7d72fee9ba",
   "metadata": {
    "tags": []
   },
   "outputs": [],
   "source": [
    "# document processing\n",
    "import docx2txt"
   ]
  },
  {
   "cell_type": "code",
   "execution_count": 6,
   "id": "5b206a0d-c881-4a3a-b5b9-9c5f051eb25e",
   "metadata": {
    "tags": []
   },
   "outputs": [
    {
     "data": {
      "text/plain": [
       "PosixPath('/home/jupyter/projects/cable-theft/notebooks')"
      ]
     },
     "execution_count": 6,
     "metadata": {},
     "output_type": "execute_result"
    }
   ],
   "source": [
    "# paht of cwd\n",
    "Path.cwd()"
   ]
  },
  {
   "cell_type": "markdown",
   "id": "280fc25f-04f3-4675-b9ad-541dd1b1303b",
   "metadata": {},
   "source": [
    "#### import llm model"
   ]
  },
  {
   "cell_type": "code",
   "execution_count": 7,
   "id": "f87c245c-df98-4b6a-b58a-8387db871e37",
   "metadata": {
    "tags": []
   },
   "outputs": [],
   "source": [
    "import vertexai\n",
    "from vertexai.language_models import TextGenerationModel\n",
    "\n",
    "vertexai.init(project=\"or-fttp-prope-aif-exp-prod\", location=\"europe-west2\")\n",
    "parameters = {\n",
    "    \"candidate_count\": 1,\n",
    "    \"max_output_tokens\": 512,\n",
    "    \"temperature\": 0,\n",
    "    \"top_p\": 1\n",
    "}\n",
    "model = TextGenerationModel.from_pretrained(\"text-bison\")"
   ]
  },
  {
   "cell_type": "markdown",
   "id": "b204b523-2c37-4df0-80cf-b2e7a8ee5b1f",
   "metadata": {},
   "source": [
    "#### import data"
   ]
  },
  {
   "cell_type": "code",
   "execution_count": 8,
   "id": "7db071fc-cd8c-4626-966f-3bf3f8a7f99b",
   "metadata": {
    "tags": []
   },
   "outputs": [],
   "source": [
    "# original sharepoint reference for blue reports: https://btgroupcloud.sharepoint.com/teams/ORSecDPA_1641471791611/Shared%20Documents/Forms/AllItems.aspx?e=5%3A51d3fe2077064a81b3e6842c84a3e083&sharingv2=true&fromShare=true&at=9&CID=3c2826b3%2De871%2D4e0a%2D8cb6%2D412db0c2331d&FolderCTID=0x012000372F5DB8C0922341B8571EFD66FD9C86&id=%2Fteams%2FORSecDPA%5F1641471791611%2FShared%20Documents%2FCable%20Thefts%2FBlue%20Reports"
   ]
  },
  {
   "cell_type": "code",
   "execution_count": 9,
   "id": "3dc13471-b16c-4ec9-8f88-9646d4389280",
   "metadata": {
    "tags": []
   },
   "outputs": [],
   "source": [
    "# Create a list of files to process\n",
    "INPUT_PATH = '../data/input/blue_reports/'\n",
    "file_list = sorted(Path(INPUT_PATH).glob('*.docx'))"
   ]
  },
  {
   "cell_type": "code",
   "execution_count": 10,
   "id": "554bca3d-5e1c-4c86-b20c-e96a7ae1bb1a",
   "metadata": {
    "tags": []
   },
   "outputs": [
    {
     "data": {
      "text/plain": [
       "'GRAVESEND 05.12.23.docx'"
      ]
     },
     "execution_count": 10,
     "metadata": {},
     "output_type": "execute_result"
    }
   ],
   "source": [
    "# check name exists\n",
    "file_list[96].name"
   ]
  },
  {
   "cell_type": "markdown",
   "id": "908f9f12-ce9b-4131-bc48-306f1193e9a4",
   "metadata": {},
   "source": [
    "#### read a file & convert to text"
   ]
  },
  {
   "cell_type": "code",
   "execution_count": 11,
   "id": "9a9a0cb0-a842-4b59-b8bf-44af372357de",
   "metadata": {
    "tags": []
   },
   "outputs": [
    {
     "name": "stdout",
     "output_type": "stream",
     "text": [
      "INCIDENT  05/12/23\n",
      "\n",
      "CAUSE\n",
      "\n",
      "ACTIONS\n",
      "\n",
      "FINDINGS/COMMENTS\n",
      "\n",
      "\n",
      "\n",
      "Thong Lane\n",
      "Gravesend\n",
      "Kent\n",
      "DA12 \n",
      "\n",
      "\n",
      "\n",
      "Kent Police\n",
      "\n",
      "Ref: \n",
      "DP-57924-23-4646-01\n",
      "\n",
      "\n",
      "\n",
      "Sim: 23008405\n",
      "\n",
      "\n",
      "\n",
      "\n",
      "\n",
      "OM: BOS561\n",
      "\n",
      "\tDarrel Speirs\n",
      "\n",
      "\t07484 049678\n",
      "\n",
      "\n",
      "\n",
      "SAM B0S5 \n",
      "\n",
      "\tTony Williams\n",
      "\n",
      "\t074368 32609  \n",
      "\n",
      "\t\n",
      "\n",
      "\n",
      "\n",
      "\n",
      "\n",
      "\n",
      "\n",
      "1 x LEAD 600/0.5\n",
      "cut and attempt to steal\n",
      "\n",
      "\n",
      "\n",
      "\n",
      "\n",
      "Box 1 (cut):\n",
      "\n",
      "///rise.rushed.insect\n",
      "\n",
      "\n",
      "\n",
      "Box 2 (cut and attempt):\n",
      "\n",
      "///backup.accent.lived\n",
      "\n",
      "\n",
      "\n",
      "PCP(s) 33 & 34 affected \n",
      "\n",
      "\n",
      "\n",
      "\n",
      "\n",
      "\n",
      "\n",
      "\n",
      "\n",
      "\n",
      "\n",
      "\n",
      "\n",
      "\n",
      "\n",
      "\n",
      "\n",
      "Cable had previously been cut before theft attempt.\n",
      "\n",
      "Door to door enquires carried out.\n",
      "\n",
      "Lid alarm ready to deploy once works have completed.\n",
      "\n",
      "Route to be snared. \n",
      "\n",
      "\n",
      "\n",
      "\n",
      "\n",
      "\n",
      "\n",
      "\n",
      "\n",
      "\n",
      "\n",
      "\n",
      "\n",
      "\n",
      "\n",
      "\n",
      "\n",
      "\n",
      "\n",
      "\n",
      "\n",
      "\n",
      "\n",
      "\n",
      "\n",
      "\n",
      "\n",
      "\n",
      "\n",
      "\n",
      "\n",
      "\n",
      "\n",
      "\n",
      "\n",
      "                \n",
      "\n",
      "           \n",
      "\n",
      "1 cut cable in 2 boxes\n",
      "\n",
      "Cable cut the night before (05/12/23) and thieves returned on 06/12/23 @ 01:20 to remove cable\n",
      "\n",
      "Lots of noise and banging woke a number of residents opposite the drag box\n",
      "\n",
      "1 resident filmed the suspects and this footage has been obtained \n",
      "\n",
      "No other footage available \n",
      "\n",
      "Leaflets left with remaining neighbours who did not answer. \n",
      "\n",
      "Route historically targeted further up the lane\n"
     ]
    }
   ],
   "source": [
    "INPUT_FILE = file_list[96]\n",
    "text = docx2txt.process(INPUT_FILE)\n",
    "print(text)"
   ]
  },
  {
   "cell_type": "code",
   "execution_count": 12,
   "id": "12b8aaad-e767-4436-9acd-228279a4ccf6",
   "metadata": {
    "tags": []
   },
   "outputs": [
    {
     "data": {
      "text/plain": [
       "'INCIDENT  05/12/23\\n\\nCAUSE\\n\\nACTIONS\\n\\nFINDINGS/COMMENTS\\n\\n\\n\\nThong Lane\\nGravesend\\nKent\\nDA12 \\n\\n\\n\\nKent Police\\n\\nRef: \\nDP-57924-23-4646-01\\n\\n\\n\\nSim: 23008405\\n\\n\\n\\n\\n\\nOM: BOS561\\n\\n\\tDarrel Speirs\\n\\n\\t07484\\xa0049678\\n\\n\\n\\nSAM B0S5 \\n\\n\\tTony Williams\\n\\n\\t074368\\xa032609  \\n\\n\\t\\n\\n\\n\\n\\n\\n\\n\\n1 x LEAD 600/0.5\\ncut and attempt to steal\\n\\n\\n\\n\\n\\nBox 1 (cut):\\n\\n///rise.rushed.insect\\n\\n\\n\\nBox 2 (cut and attempt):\\n\\n///backup.accent.lived\\n\\n\\n\\nPCP(s) 33 & 34 affected \\n\\n\\n\\n\\n\\n\\n\\n\\n\\n\\n\\n\\n\\n\\n\\n\\n\\nCable had previously been cut before theft attempt.\\n\\nDoor to door enquires carried out.\\n\\nLid alarm ready to deploy once works have completed.\\n\\nRoute to be snared. \\n\\n\\n\\n\\n\\n\\n\\n\\n\\n\\n\\n\\n\\n\\n\\n\\n\\n\\n\\n\\n\\n\\n\\n\\n\\n\\n\\n\\n\\n\\n\\n\\n\\n\\n\\n                \\n\\n           \\n\\n1 cut cable in 2 boxes\\n\\nCable cut the night before (05/12/23) and thieves returned on 06/12/23 @ 01:20 to remove cable\\n\\nLots of noise and banging woke a number of residents opposite the drag box\\n\\n1 resident filmed the suspects and this footage has been obtained \\n\\nNo other footage available \\n\\nLeaflets left with remaining neighbours who did not answer. \\n\\nRoute historically targeted further up the lane'"
      ]
     },
     "execution_count": 12,
     "metadata": {},
     "output_type": "execute_result"
    }
   ],
   "source": [
    "text"
   ]
  },
  {
   "cell_type": "markdown",
   "id": "d0c94b05-b27c-45cd-89be-9c233d20af6e",
   "metadata": {},
   "source": [
    "#### create prompt to process blue reports in a consistent way"
   ]
  },
  {
   "cell_type": "code",
   "execution_count": 13,
   "id": "4825e931-8a81-4a49-b175-2c29f2815096",
   "metadata": {
    "tags": []
   },
   "outputs": [],
   "source": [
    "prompt = \"\"\"\n",
    "        You are an expert extraction and summarisation algorithm. Return all the entities if they are in the text. If an entity is not present in the text return \"None\".\n",
    "        Your task is to create a valid json formatted file of the entities from the text below using double quotes \"\".\n",
    "        The .json file should contain all of the following list of entities: \"Filename\", \"Incident date\", \"Incident time\", \"Postcode\", \"SIM (or SIR)\", \"Cable theft\", \"Police ref\", \"Captured on CCTV\", \"Captured on RABit\", \"Evidence\".\n",
    "        Do not include **, or, \" in the entities.\n",
    "        \"\"\""
   ]
  },
  {
   "cell_type": "markdown",
   "id": "7829dd6d-dcae-4783-9a08-d5a6d2effd0f",
   "metadata": {},
   "source": [
    "#### use llm to extract entities from the text into a DataFrame"
   ]
  },
  {
   "cell_type": "code",
   "execution_count": 14,
   "id": "171f3ff0-2a57-4d29-a8bd-5a088ec0c62e",
   "metadata": {
    "tags": []
   },
   "outputs": [
    {
     "data": {
      "text/plain": [
       "'{  \"Filename\": \"GRAVESEND 05.12.23.docx\",  \"Incident date\": \"05/12/23\",  \"Incident time\": \"01:20\",  \"Postcode\": \"DA12\",  \"SIM (or SIR)\": \"23008405\",  \"Cable theft\": \"Yes\",  \"Police ref\": \"DP-57924-23-4646-01\",  \"Captured on CCTV\": \"Yes\",  \"Captured on RABit\": \"No\",  \"Evidence\": \"Footage from one resident\"}'"
      ]
     },
     "execution_count": 14,
     "metadata": {},
     "output_type": "execute_result"
    }
   ],
   "source": [
    "response = model.predict(f\"{prompt}\\n[Filename: {INPUT_FILE.name}\\n{text}]\\n\", **parameters)\n",
    "entity_txt = response.text.strip().lstrip(\"\"\" ```json\\n\"\"\").rstrip(\"\"\"\\n```\"\"\").replace('\\n', '')\n",
    "str(entity_txt)"
   ]
  },
  {
   "cell_type": "code",
   "execution_count": 15,
   "id": "d501b9fd-6d33-449c-9e09-f37aec9a3ac6",
   "metadata": {
    "tags": []
   },
   "outputs": [
    {
     "data": {
      "text/plain": [
       "'GRAVESEND 05.12.23.docx'"
      ]
     },
     "execution_count": 15,
     "metadata": {},
     "output_type": "execute_result"
    }
   ],
   "source": [
    "json_object = json.loads(entity_txt)\n",
    "json_object['Filename']"
   ]
  },
  {
   "cell_type": "code",
   "execution_count": 16,
   "id": "88bb85d2-8e2a-4c31-a29b-923455527952",
   "metadata": {
    "tags": []
   },
   "outputs": [],
   "source": [
    "def find_entities(model, parameters, prompt, file, text):\n",
    "    response = model.predict(f\"\"\"{prompt}\\n[Filename: {file.name}\\n{text}]\\n\"\"\", **parameters)\n",
    "    entity_txt = response.text.strip().lstrip(\"\"\" ```json\\n\"\"\").rstrip(\"\"\"\\n```\"\"\").replace('\\n', '')\n",
    "    json_object = json.loads(entity_txt)\n",
    "    return json_object"
   ]
  },
  {
   "cell_type": "code",
   "execution_count": null,
   "id": "222982d5-85cd-40d9-9f78-54b293bf6150",
   "metadata": {
    "tags": []
   },
   "outputs": [],
   "source": [
    "%%time\n",
    "results = []\n",
    "for file in file_list[150:170:\n",
    "    report_text = docx2txt.process(file)\n",
    "    json_object = find_entities(model, parameters, prompt, file, report_text)\n",
    "    results.append(json_object)"
   ]
  },
  {
   "cell_type": "code",
   "execution_count": null,
   "id": "43b996da-e4c7-45da-b6af-61c6d37e1f8d",
   "metadata": {
    "tags": []
   },
   "outputs": [],
   "source": [
    "print(file)"
   ]
  },
  {
   "cell_type": "code",
   "execution_count": null,
   "id": "050cf52a-f9ab-4a77-b642-ae5edfbb10dd",
   "metadata": {
    "tags": []
   },
   "outputs": [],
   "source": [
    "len(results)"
   ]
  },
  {
   "cell_type": "code",
   "execution_count": null,
   "id": "b4e45e95-d02c-415f-bf47-49acbe3724e1",
   "metadata": {
    "tags": []
   },
   "outputs": [],
   "source": [
    "#results"
   ]
  },
  {
   "cell_type": "code",
   "execution_count": null,
   "id": "64b5e5f5-f562-446b-b018-d7e24eacf7c8",
   "metadata": {
    "tags": []
   },
   "outputs": [],
   "source": [
    "results_df = pd.DataFrame(results)"
   ]
  },
  {
   "cell_type": "code",
   "execution_count": null,
   "id": "a23cf8d9-1be8-4cca-9ea1-15eab4ab08af",
   "metadata": {
    "tags": []
   },
   "outputs": [],
   "source": [
    "results_df[54:64]"
   ]
  },
  {
   "cell_type": "markdown",
   "id": "5575d8fd-79d5-4352-9185-e894bacf9051",
   "metadata": {},
   "source": [
    "#### clean filename"
   ]
  },
  {
   "cell_type": "code",
   "execution_count": null,
   "id": "fce5ae81-6f01-45d7-b957-452a98604c68",
   "metadata": {},
   "outputs": [],
   "source": [
    "results_df.Filename = results_df.Filename.str.lower().str.strip().str.replace(r'\\n','').str.replace(\"[/,',(,),#]\", \"\").str.replace('  ', ' ').str.replace(' ', '_').str.replace('__', '_')\n",
    "results_df.Filename = results_df.Filename.str.lower().str.strip().str.replace(r'(','')\n",
    "results_df.Filename = results_df.Filename.str.lower().str.strip().str.replace(r')','')"
   ]
  },
  {
   "cell_type": "markdown",
   "id": "46a17436-b3b5-4200-ba9c-8768f002573a",
   "metadata": {},
   "source": [
    "#### clean column names"
   ]
  },
  {
   "cell_type": "code",
   "execution_count": null,
   "id": "39740f59-f775-4cbe-991c-70a785397724",
   "metadata": {
    "tags": []
   },
   "outputs": [],
   "source": [
    "results_df.columns = results_df.columns.str.lower().str.strip().str.replace(r'\\n','').str.replace(\"[/,',(,),#]\", \"\").str.replace('  ', ' ').str.replace(' ', '_').str.replace('__', '_')\n",
    "results_df.columns = results_df.columns.str.lower().str.strip().str.replace(r'(','')\n",
    "results_df.columns = results_df.columns.str.lower().str.strip().str.replace(r')','')"
   ]
  },
  {
   "cell_type": "code",
   "execution_count": null,
   "id": "3c1e4589-cd3d-4002-a75a-e43ef3d86fce",
   "metadata": {
    "tags": []
   },
   "outputs": [],
   "source": [
    "results_df.columns"
   ]
  },
  {
   "cell_type": "markdown",
   "id": "399c21c3-20ff-4760-aead-b4dabcf32d04",
   "metadata": {},
   "source": [
    "#### save results"
   ]
  },
  {
   "cell_type": "code",
   "execution_count": null,
   "id": "c7bd34be-8d72-41d9-97f8-75719fb28192",
   "metadata": {
    "tags": []
   },
   "outputs": [],
   "source": [
    "results_df.to_csv('..//data/output/results_df.csv',index=False)\n",
    "results_df = pd.read_csv('..//data/output/results_df.csv')"
   ]
  },
  {
   "cell_type": "markdown",
   "id": "6486e978-6f75-49f3-ae38-e68b41a8425d",
   "metadata": {},
   "source": [
    "#### clean datetime"
   ]
  },
  {
   "cell_type": "code",
   "execution_count": 89,
   "id": "aa850f22-82f0-4b9e-800f-b5b560fa6507",
   "metadata": {
    "tags": []
   },
   "outputs": [
    {
     "name": "stdout",
     "output_type": "stream",
     "text": [
      "1 [('18', '06', '20', '23')] 18/06/2023 18/06/2023\n",
      "2 [('25', '04', '20', '24')] 25/04/2024 25/04/2024\n",
      "3 [('03', '07', '', '24')] 03/07/2024 03/07/2024\n",
      "4 [('02', '08', '20', '22')] 02/08/2022 02/08/2022\n",
      "5 [('01', '08', '20', '22')] 01/08/2022 01/08/2022\n",
      "6 [('29', '10', '20', '22')] 29/10/2022 29/10/2022\n",
      "7 [('26', '03', '20', '24')] 26/03/2024 26/03/2024\n",
      "8 [('08', '11', '20', '23')] 08/11/2023 08/11/2023\n",
      "9 [('13', '03', '', '24')] 13/03/2024 13/03/2024\n",
      "10 [('30', '05', '20', '22')] 30/05/2022 30/05/2022\n",
      "11 [('30', '10', '', '23')] 30/10/2023 30/10/2023\n",
      "12 [('24', '10', '', '23')] 24/10/2023 24/10/2023\n",
      "13 [('19', '7', '', '23')] 19/7/2023 19/07/2023\n",
      "14 [('01', '03', '20', '23')] 01/03/2023 01/03/2023\n",
      "15 [('19', '5', '', '23')] 19/5/2023 19/05/2023\n",
      "16 [('29', '06', '20', '24')] 29/06/2024 29/06/2024\n",
      "17 [('27', '02', '20', '24')] 27/02/2024 27/02/2024\n",
      "18 [('15', '08', '20', '23')] 15/08/2023 15/08/2023\n",
      "19 [('02', '08', '20', '23')] 02/08/2023 02/08/2023\n",
      "20 [('23', '07', '20', '24')] 23/07/2024 23/07/2024\n",
      "21 [('06', '08', '20', '23')] 06/08/2023 06/08/2023\n",
      "22 [('04', '06', '20', '23')] 04/06/2023 04/06/2023\n",
      "23 [('25', '04', '20', '23')] 25/04/2023 25/04/2023\n",
      "24 [('30', '10', '20', '23')] 30/10/2023 30/10/2023\n",
      "25 [('24', '06', '20', '24')] 24/06/2024 24/06/2024\n",
      "26 [('21', '03', '20', '23')] 21/03/2023 21/03/2023\n",
      "27 [('04', '07', '20', '22')] 04/07/2022 04/07/2022\n",
      "28 [('23', '05', '20', '22')] 23/05/2022 23/05/2022\n",
      "29 [('28', '02', '20', '22')] 28/02/2022 28/02/2022\n",
      "30 [('26', '04', '20', '22')] 26/04/2022 26/04/2022\n",
      "31 [('01', '07', '20', '24')] 01/07/2024 01/07/2024\n",
      "32 [('24', '05', '20', '22')] 24/05/2022 24/05/2022\n",
      "33 [('15', '05', '20', '23')] 15/05/2023 15/05/2023\n",
      "34 [('19', '05', '20', '22')] 19/05/2022 19/05/2022\n",
      "35 [('20', '11', '20', '23')] 20/11/2023 20/11/2023\n",
      "36 [('21', '03', '20', '23')] 21/03/2023 21/03/2023\n",
      "37 [('12', '06', '20', '24')] 12/06/2024 12/06/2024\n",
      "38 [('26', '05', '20', '22')] 26/05/2022 26/05/2022\n",
      "39 [('19', '05', '20', '22')] 19/05/2022 19/05/2022\n",
      "40 [('20', '04', '20', '23')] 20/04/2023 20/04/2023\n",
      "41 [('26', '1', '', '23')] 26/1/2023 26/01/2023\n",
      "42 [('05', '05', '20', '23')] 05/05/2023 05/05/2023\n",
      "43 [('24', '05', '20', '22')] 24/05/2022 24/05/2022\n",
      "44 [('26', '07', '20', '22')] 26/07/2022 26/07/2022\n",
      "45 [('03', '04', '20', '24')] 03/04/2024 03/04/2024\n",
      "46 [('26', '04', '20', '22')] 26/04/2022 26/04/2022\n",
      "47 [('22', '07', '20', '22')] 22/07/2022 22/07/2022\n",
      "48 [('01', '03', '20', '22')] 01/03/2022 01/03/2022\n",
      "49 [('08', '05', '20', '22')] 08/05/2022 08/05/2022\n",
      "50 [('24', '05', '20', '22')] 24/05/2022 24/05/2022\n",
      "51 [('29', '03', '20', '22')] 29/03/2022 29/03/2022\n",
      "52 [('26', '07', '20', '22')] 26/07/2022 26/07/2022\n",
      "53 [('26', '02', '20', '23')] 26/02/2023 26/02/2023\n",
      "54 [('01', '06', '20', '23')] 01/06/2023 01/06/2023\n",
      "55 [('22', '02', '20', '23')] 22/02/2023 22/02/2023\n",
      "56 [('21', '05', '20', '24')] 21/05/2024 21/05/2024\n",
      "57 [('27', '09', '20', '22')] 27/09/2022 27/09/2022\n",
      "58 [('16', '02', '', '23')] 16/02/2023 16/02/2023\n",
      "59 [('30', '08', '20', '22')] 30/08/2022 30/08/2022\n",
      "60 [('14', '07', '20', '23')] 14/07/2023 14/07/2023\n",
      "61 [('09', '10', '20', '24')] 09/10/2024 09/10/2024\n",
      "62 [('31', '01', '', '24')] 31/01/2024 31/01/2024\n",
      "63 [('11', '03', '20', '24')] 11/03/2024 11/03/2024\n",
      "64 [('31', '01', '', '24')] 31/01/2024 31/01/2024\n",
      "65 [('31', '06', '20', '24')] 31/06/2024 None\n",
      "66 [('13', '11', '20', '22')] 13/11/2022 13/11/2022\n",
      "67 [('03', '11', '', '23')] 03/11/2023 03/11/2023\n",
      "68 [('12', '02', '20', '23')] 12/02/2023 12/02/2023\n",
      "69 [('25', '01', '20', '23')] 25/01/2023 25/01/2023\n",
      "70 [('01', '12', '20', '23')] 01/12/2023 01/12/2023\n",
      "71 [('20', '11', '20', '23')] 20/11/2023 20/11/2023\n",
      "72 [('30', '05', '20', '22')] 30/05/2022 30/05/2022\n",
      "73 [('19', '09', '', '22')] 19/09/2022 19/09/2022\n",
      "74 [('07', '07', '', '23')] 07/07/2023 07/07/2023\n",
      "75 [('19', '05', '', '23')] 19/05/2023 19/05/2023\n",
      "76 [('02', '08', '20', '23')] 02/08/2023 02/08/2023\n",
      "77 [('09', '09', '20', '21')] 09/09/2021 09/09/2021\n",
      "78 [('22', '10', '20', '23')] 22/10/2023 22/10/2023\n",
      "79 [('11', '05', '20', '23')] 11/05/2023 11/05/2023\n",
      "80 [('27', '08', '', '23')] 27/08/2023 27/08/2023\n",
      "81 [('04', '04', '20', '23')] 04/04/2023 04/04/2023\n",
      "82 [('27', '11', '', '22')] 27/11/2022 27/11/2022\n",
      "83 [('15', '11', '', '23')] 15/11/2023 15/11/2023\n",
      "84 [('17', '11', '', '23')] 17/11/2023 17/11/2023\n",
      "85 [('29', '12', '20', '22')] 29/12/2022 29/12/2022\n",
      "86 [('12', '06', '20', '23')] 12/06/2023 12/06/2023\n",
      "87 [('30', '01', '', '24')] 30/01/2024 30/01/2024\n",
      "88 [('02', '04', '20', '24')] 02/04/2024 02/04/2024\n",
      "89 [('09', '01', '20', '24')] 09/01/2024 09/01/2024\n",
      "90 [('09', '01', '20', '24')] 09/01/2024 09/01/2024\n",
      "91 [('07', '04', '20', '22')] 07/04/2022 07/04/2022\n",
      "92 [('06', '11', '20', '23')] 06/11/2023 06/11/2023\n",
      "93 [('08', '10', '20', '23')] 08/10/2023 08/10/2023\n",
      "94 [('13', '05', '20', '23')] 13/05/2023 13/05/2023\n",
      "95 [('29', '03', '20', '23')] 29/03/2023 29/03/2023\n",
      "96 [] None None\n",
      "97 [('05', '12', '', '23')] 05/12/2023 05/12/2023\n",
      "98 [('28', '03', '20', '23')] 28/03/2023 28/03/2023\n",
      "99 [('08', '05', '20', '23')] 08/05/2023 08/05/2023\n",
      "100 [('05', '10', '', '23')] 05/10/2023 05/10/2023\n",
      "101 [('17', '01', '20', '23')] 17/01/2023 17/01/2023\n",
      "102 [('12', '07', '20', '23')] 12/07/2023 12/07/2023\n",
      "103 [('29', '06', '20', '23')] 29/06/2023 29/06/2023\n",
      "104 [('13', '07', '20', '23')] 13/07/2023 13/07/2023\n",
      "105 [('21', '02', '20', '24')] 21/02/2024 21/02/2024\n",
      "106 [('05', '04', '20', '22')] 05/04/2022 05/04/2022\n",
      "107 [('19', '01', '20', '24')] 19/01/2024 19/01/2024\n",
      "108 [('30', '4', '', '23')] 30/4/2023 30/04/2023\n",
      "109 [('19', '07', '20', '23')] 19/07/2023 19/07/2023\n",
      "110 [('17', '02', '20', '24')] 17/02/2024 17/02/2024\n",
      "111 [('05', '04', '20', '24')] 05/04/2024 05/04/2024\n",
      "112 [('18', '10', '20', '23')] 18/10/2023 18/10/2023\n",
      "113 [('27', '07', '20', '23')] 27/07/2023 27/07/2023\n",
      "114 [('18', '10', '20', '23')] 18/10/2023 18/10/2023\n",
      "115 [('30', '06', '20', '22')] 30/06/2022 30/06/2022\n",
      "116 [('16', '02', '20', '24')] 16/02/2024 16/02/2024\n",
      "117 [('24', '01', '20', '24')] 24/01/2024 24/01/2024\n",
      "118 [('24', '06', '20', '24')] 24/06/2024 24/06/2024\n",
      "119 [('18', '07', '20', '23')] 18/07/2023 18/07/2023\n",
      "120 [('28', '11', '20', '23')] 28/11/2023 28/11/2023\n",
      "121 [('09', '06', '20', '23')] 09/06/2023 09/06/2023\n",
      "122 [('24', '10', '20', '23')] 24/10/2023 24/10/2023\n",
      "123 [('16', '04', '20', '24')] 16/04/2024 16/04/2024\n",
      "124 [('05', '09', '20', '23')] 05/09/2023 05/09/2023\n",
      "125 [('13', '09', '20', '23')] 13/09/2023 13/09/2023\n",
      "126 [('13', '09', '20', '23')] 13/09/2023 13/09/2023\n",
      "127 [('16', '10', '', '23')] 16/10/2023 16/10/2023\n",
      "128 [('13', '07', '20', '24')] 13/07/2024 13/07/2024\n",
      "129 [('15', '07', '20', '24')] 15/07/2024 15/07/2024\n",
      "130 [('1', '03', '', '24')] 1/03/2024 01/03/2024\n",
      "131 [('03', '01', '', '24')] 03/01/2024 03/01/2024\n",
      "132 [('06', '10', '', '23')] 06/10/2023 06/10/2023\n",
      "133 [('06', '11', '', '23')] 06/11/2023 06/11/2023\n",
      "134 [('09', '11', '', '23')] 09/11/2023 09/11/2023\n",
      "135 [('10', '06', '', '24')] 10/06/2024 10/06/2024\n",
      "136 [('19', '11', '20', '23')] 19/11/2023 19/11/2023\n",
      "137 [('21', '02', '20', '24')] 21/02/2024 21/02/2024\n",
      "138 [('23', '10', '', '23')] 23/10/2023 23/10/2023\n",
      "139 [('25', '10', '20', '23')] 25/10/2023 25/10/2023\n",
      "140 [('27', '03', '20', '23')] 27/03/2023 27/03/2023\n",
      "141 [('03', '01', '', '24')] 03/01/2024 03/01/2024\n",
      "142 [('15', '07', '20', '24')] 15/07/2024 15/07/2024\n",
      "143 [('20', '05', '20', '24')] 20/05/2024 20/05/2024\n",
      "144 [('08', '05', '20', '23')] 08/05/2023 08/05/2023\n",
      "145 [('25', '07', '', '24')] 25/07/2024 25/07/2024\n",
      "146 [('19', '08', '20', '23')] 19/08/2023 19/08/2023\n",
      "147 [('23', '05', '20', '24')] 23/05/2024 23/05/2024\n",
      "148 [('16', '06', '20', '23')] 16/06/2023 16/06/2023\n",
      "149 [('02', '06', '20', '23')] 02/06/2023 02/06/2023\n",
      "150 [('04', '04', '20', '24')] 04/04/2024 04/04/2024\n",
      "151 [('23', '02', '20', '24')] 23/02/2024 23/02/2024\n",
      "152 [('22', '03', '20', '24')] 22/03/2024 22/03/2024\n",
      "153 [('29', '04', '20', '24')] 29/04/2024 29/04/2024\n",
      "154 [('02', '08', '20', '23')] 02/08/2023 02/08/2023\n",
      "155 [('17', '08', '20', '23')] 17/08/2023 17/08/2023\n",
      "156 [('27', '07', '20', '24')] 27/07/2024 27/07/2024\n",
      "157 [('02', '07', '20', '24')] 02/07/2024 02/07/2024\n",
      "158 [('11', '08', '20', '22')] 11/08/2022 11/08/2022\n",
      "159 None None None\n",
      "160 [('11', '08', '20', '22')] 11/08/2022 11/08/2022\n",
      "161 [('08', '02', '20', '23')] 08/02/2023 08/02/2023\n",
      "162 [('22', '07', '20', '22')] 22/07/2022 22/07/2022\n",
      "163 [('19', '06', '20', '23')] 19/06/2023 19/06/2023\n",
      "164 [('08', '09', '20', '21')] 08/09/2021 08/09/2021\n",
      "165 [('09', '11', '', '23')] 09/11/2023 09/11/2023\n",
      "166 [('19', '11', '', '23')] 19/11/2023 19/11/2023\n",
      "167 [('21', '11', '', '23')] 21/11/2023 21/11/2023\n",
      "168 [('07', '12', '20', '22')] 07/12/2022 07/12/2022\n",
      "169 [('27', '04', '', '23')] 27/04/2023 27/04/2023\n",
      "170 [('01', '05', '20', '24')] 01/05/2024 01/05/2024\n",
      "171 [('18', '05', '20', '24')] 18/05/2024 18/05/2024\n",
      "172 [('16', '05', '20', '24')] 16/05/2024 16/05/2024\n",
      "173 [('18', '06', '20', '24')] 18/06/2024 18/06/2024\n",
      "174 [('17', '01', '20', '24')] 17/01/2024 17/01/2024\n",
      "175 [('19', '7', '', '23')] 19/7/2023 19/07/2023\n",
      "176 [('30', '10', '20', '23')] 30/10/2023 30/10/2023\n",
      "177 [('02', '12', '20', '23')] 02/12/2023 02/12/2023\n",
      "178 [('03', '10', '20', '23')] 03/10/2023 03/10/2023\n",
      "179 [('13', '12', '20', '23')] 13/12/2023 13/12/2023\n",
      "180 [('28', '10', '20', '23')] 28/10/2023 28/10/2023\n",
      "181 [('28', '10', '20', '23')] 28/10/2023 28/10/2023\n",
      "182 [('29', '07', '20', '24')] 29/07/2024 29/07/2024\n",
      "183 [('30', '10', '20', '23')] 30/10/2023 30/10/2023\n",
      "184 [('15', '06', '20', '23')] 15/06/2023 15/06/2023\n",
      "185 [('07', '04', '20', '24')] 07/04/2024 07/04/2024\n",
      "186 [('09', '04', '20', '24')] 09/04/2024 09/04/2024\n",
      "187 [('20', '04', '', '23')] 20/04/2023 20/04/2023\n",
      "188 [('29', '03', '', '23')] 29/03/2023 29/03/2023\n",
      "189 [('06', '04', '20', '24')] 06/04/2024 06/04/2024\n",
      "190 [('07', '04', '20', '24')] 07/04/2024 07/04/2024\n",
      "191 [('09', '05', '20', '24')] 09/05/2024 09/05/2024\n",
      "192 [('20', '02', '20', '24')] 20/02/2024 20/02/2024\n",
      "193 [('19', '01', '20', '24')] 19/01/2024 19/01/2024\n",
      "194 [('27', '02', '20', '24')] 27/02/2024 27/02/2024\n",
      "195 [('27', '02', '20', '24')] 27/02/2024 27/02/2024\n",
      "196 [('09', '02', '20', '23')] 09/02/2023 09/02/2023\n",
      "197 [('28', '09', '20', '23')] 28/09/2023 28/09/2023\n",
      "198 [('07', '04', '', '24')] 07/04/2024 07/04/2024\n",
      "199 [('15', '03', '', '24')] 15/03/2024 15/03/2024\n",
      "200 [('27', '07', '20', '23')] 27/07/2023 27/07/2023\n",
      "201 [('06', '09', '20', '21')] 06/09/2021 06/09/2021\n",
      "202 [('07', '04', '20', '24')] 07/04/2024 07/04/2024\n",
      "203 [('18', '03', '20', '22')] 18/03/2022 18/03/2022\n",
      "204 [('24', '07', '20', '23')] 24/07/2023 24/07/2023\n",
      "205 [('23', '03', '20', '23')] 23/03/2023 23/03/2023\n",
      "206 [('03', '10', '20', '23')] 03/10/2023 03/10/2023\n",
      "207 [('20', '09', '20', '23')] 20/09/2023 20/09/2023\n",
      "208 [('22', '03', '20', '24')] 22/03/2024 22/03/2024\n",
      "209 [('29', '03', '20', '24')] 29/03/2024 29/03/2024\n",
      "210 [('07', '06', '20', '24')] 07/06/2024 07/06/2024\n",
      "211 [('25', '04', '20', '24')] 25/04/2024 25/04/2024\n",
      "212 [('05', '08', '20', '21')] 05/08/2021 05/08/2021\n",
      "213 [('02', '09', '20', '23')] 02/09/2023 02/09/2023\n",
      "214 [('13', '03', '20', '24')] 13/03/2024 13/03/2024\n",
      "215 [('14', '09', '20', '23')] 14/09/2023 14/09/2023\n",
      "216 [('14', '03', '', '23')] 14/03/2023 14/03/2023\n",
      "217 [('04', '12', '', '23')] 04/12/2023 04/12/2023\n",
      "218 [('29', '05', '', '23')] 29/05/2023 29/05/2023\n",
      "219 [('11', '11', '', '23')] 11/11/2023 11/11/2023\n",
      "220 [('13', '11', '20', '22')] 13/11/2022 13/11/2022\n",
      "221 [('10', '05', '20', '22')] 10/05/2022 10/05/2022\n",
      "222 [('22', '03', '', '23')] 22/03/2023 22/03/2023\n",
      "223 [('21', '03', '', '23')] 21/03/2023 21/03/2023\n",
      "224 [('21', '03', '20', '24')] 21/03/2024 21/03/2024\n",
      "225 [('22', '03', '', '24')] 22/03/2024 22/03/2024\n",
      "226 [('22', '03', '', '23')] 22/03/2023 22/03/2023\n",
      "227 [('02', '08', '20', '23')] 02/08/2023 02/08/2023\n",
      "228 [('05', '06', '20', '24')] 05/06/2024 05/06/2024\n",
      "229 [('25', '07', '20', '24')] 25/07/2024 25/07/2024\n",
      "230 [('24', '09', '20', '23')] 24/09/2023 24/09/2023\n",
      "231 [('23', '08', '20', '23')] 23/08/2023 23/08/2023\n",
      "232 [('31', '05', '20', '23')] 31/05/2023 31/05/2023\n",
      "233 [('15', '03', '', '24')] 15/03/2024 15/03/2024\n",
      "234 [('11', '07', '20', '24')] 11/07/2024 11/07/2024\n",
      "235 [('01', '09', '20', '21')] 01/09/2021 01/09/2021\n",
      "236 [('08', '04', '20', '24')] 08/04/2024 08/04/2024\n",
      "237 [('09', '07', '20', '24')] 09/07/2024 09/07/2024\n",
      "238 [('20', '06', '20', '24')] 20/06/2024 20/06/2024\n",
      "239 [('26', '07', '', '24')] 26/07/2024 26/07/2024\n",
      "240 [('27', '06', '20', '24')] 27/06/2024 27/06/2024\n",
      "241 [('20', '03', '20', '23')] 20/03/2023 20/03/2023\n",
      "242 [('14', '05', '20', '24')] 14/05/2024 14/05/2024\n",
      "243 [('13', '06', '20', '23')] 13/06/2023 13/06/2023\n",
      "244 [('29', '12', '20', '23')] 29/12/2023 29/12/2023\n",
      "245 [('05', '05', '20', '23')] 05/05/2023 05/05/2023\n",
      "246 [('04', '12', '', '23')] 04/12/2023 04/12/2023\n",
      "247 [('17', '04', '20', '24')] 17/04/2024 17/04/2024\n",
      "248 [('12', '02', '20', '24')] 12/02/2024 12/02/2024\n",
      "249 [('07', '02', '20', '22')] 07/02/2022 07/02/2022\n",
      "250 [('07', '04', '20', '24')] 07/04/2024 07/04/2024\n",
      "251 [('09', '07', '20', '24')] 09/07/2024 09/07/2024\n",
      "252 [('10', '04', '20', '24')] 10/04/2024 10/04/2024\n",
      "253 [('14', '07', '20', '24')] 14/07/2024 14/07/2024\n",
      "254 [('16', '07', '20', '24')] 16/07/2024 16/07/2024\n",
      "255 [('18', '06', '20', '24')] 18/06/2024 18/06/2024\n",
      "256 [('20', '05', '20', '24')] 20/05/2024 20/05/2024\n",
      "257 [('21', '03', '20', '22')] 21/03/2022 21/03/2022\n",
      "258 [('21', '07', '20', '24')] 21/07/2024 21/07/2024\n",
      "259 [('18', '06', '20', '24')] 18/06/2024 18/06/2024\n",
      "260 [('10', '04', '20', '24')] 10/04/2024 10/04/2024\n",
      "261 [('27', '06', '20', '24')] 27/06/2024 27/06/2024\n",
      "262 [('20', '09', '20', '23')] 20/09/2023 20/09/2023\n",
      "263 [('24', '03', '20', '23')] 24/03/2023 24/03/2023\n",
      "264 [('11', '07', '20', '23')] 11/07/2023 11/07/2023\n",
      "265 [('13', '08', '20', '23')] 13/08/2023 13/08/2023\n",
      "266 [('24', '03', '20', '23')] 24/03/2023 24/03/2023\n",
      "267 [('11', '07', '20', '23')] 11/07/2023 11/07/2023\n",
      "268 [('22', '06', '20', '23')] 22/06/2023 22/06/2023\n",
      "269 [('21', '12', '20', '22')] 21/12/2022 21/12/2022\n",
      "270 [('19', '03', '20', '24')] 19/03/2024 19/03/2024\n",
      "271 [('26', '04', '', '24')] 26/04/2024 26/04/2024\n",
      "272 [('06', '06', '', '23')] 06/06/2023 06/06/2023\n",
      "273 [('10', '02', '20', '23')] 10/02/2023 10/02/2023\n",
      "274 [('11', '04', '20', '24')] 11/04/2024 11/04/2024\n",
      "275 [('10', '05', '20', '24')] 10/05/2024 10/05/2024\n",
      "276 [('16', '11', '20', '23')] 16/11/2023 16/11/2023\n",
      "277 [('08', '03', '20', '24')] 08/03/2024 08/03/2024\n",
      "278 [('17', '07', '20', '23')] 17/07/2023 17/07/2023\n",
      "279 [('15', '04', '20', '24')] 15/04/2024 15/04/2024\n",
      "280 [('16', '04', '20', '24')] 16/04/2024 16/04/2024\n",
      "281 [('15', '04', '20', '24')] 15/04/2024 15/04/2024\n",
      "282 [('23', '02', '20', '24')] 23/02/2024 23/02/2024\n",
      "283 [('23', '02', '20', '24')] 23/02/2024 23/02/2024\n",
      "284 [('18', '02', '20', '24')] 18/02/2024 18/02/2024\n",
      "285 [('02', '05', '20', '24')] 02/05/2024 02/05/2024\n",
      "286 [('19', '04', '20', '24')] 19/04/2024 19/04/2024\n",
      "287 [('06', '01', '20', '23')] 06/01/2023 06/01/2023\n",
      "288 [('02', '02', '20', '23')] 02/02/2023 02/02/2023\n",
      "289 [('21', '02', '20', '24')] 21/02/2024 21/02/2024\n",
      "290 [('14', '03', '20', '24')] 14/03/2024 14/03/2024\n",
      "291 [('21', '02', '20', '24')] 21/02/2024 21/02/2024\n",
      "292 [('08', '03', '', '24')] 08/03/2024 08/03/2024\n",
      "293 [('07', '05', '20', '24')] 07/05/2024 07/05/2024\n",
      "294 [('17', '12', '', '23')] 17/12/2023 17/12/2023\n",
      "295 [('27', '06', '20', '23')] 27/06/2023 27/06/2023\n",
      "296 [('16', '02', '', '23')] 16/02/2023 16/02/2023\n",
      "297 [('21', '05', '20', '24')] 21/05/2024 21/05/2024\n",
      "298 [('14', '02', '20', '23')] 14/02/2023 14/02/2023\n",
      "299 [('15', '03', '20', '23')] 15/03/2023 15/03/2023\n",
      "300 [('16', '05', '20', '24')] 16/05/2024 16/05/2024\n",
      "301 [('18', '05', '20', '24')] 18/05/2024 18/05/2024\n",
      "302 [('02', '08', '20', '23')] 02/08/2023 02/08/2023\n",
      "303 [('02', '08', '20', '22')] 02/08/2022 02/08/2022\n",
      "304 [('30', '05', '20', '22')] 30/05/2022 30/05/2022\n",
      "305 [('06', '02', '20', '24')] 06/02/2024 06/02/2024\n",
      "306 [('01', '02', '20', '24')] 01/02/2024 01/02/2024\n",
      "307 [('31', '7', '20', '24')] 31/7/2024 31/07/2024\n",
      "308 [('08', '05', '20', '22')] 08/05/2022 08/05/2022\n"
     ]
    }
   ],
   "source": [
    "dates = results_df.incident_date\n",
    "reobj = re.compile(\n",
    "    r\"\"\"^\\s*  # optional whitespace\n",
    "    (\\d{1,2})    # Day\n",
    "    [-/]     # separator\n",
    "    (\\d{1,2})    # Month\n",
    "    [-/]     # separator\n",
    "    (20)?  # century (optional)\n",
    "    (\\d{2})    # years (YY)\n",
    "    \\s*      # optional whitespace\"\"\", \n",
    "    re.VERBOSE)\n",
    "fdates = []\n",
    "i=0\n",
    "for date in dates:\n",
    "    found_date=None\n",
    "    formatted_date=None\n",
    "    create_date=None\n",
    "    i=i+1\n",
    "    try:\n",
    "        first_date = date.lstrip().split()[0].strip()\n",
    "        #adjusted_date = reobj.sub(r\"\\1/\\2/20\\3\", first_date)\n",
    "        found_date = reobj.findall(first_date)\n",
    "        if found_date:\n",
    "            if len(found_date[0])==4:\n",
    "                create_date = found_date[0][0] + '/' + found_date[0][1] + \"/20\" + found_date[0][3]  \n",
    "                formatted_date = datetime.strftime(datetime.strptime(create_date,\"%d/%m/%Y\"), \"%d/%m/%Y\")\n",
    "                fdates.append(formatted_date)\n",
    "            else:\n",
    "                # length not 4\n",
    "                fdates.append(None)\n",
    "        else:\n",
    "            fdates.append(None)\n",
    "    except:\n",
    "        # date formatting failed\n",
    "        fdates.append(None)\n",
    "    print(f\"{i} {found_date} {create_date} {formatted_date}\")"
   ]
  },
  {
   "cell_type": "code",
   "execution_count": 90,
   "id": "8ab6ac85-feed-43c8-8e89-8f09b637f9ad",
   "metadata": {
    "tags": []
   },
   "outputs": [],
   "source": [
    "# recreate as date\n",
    "results_df['clean_incident_date'] = fdates"
   ]
  },
  {
   "cell_type": "code",
   "execution_count": 91,
   "id": "7fcd3884-3db4-4956-8849-6b4faf4822c6",
   "metadata": {
    "tags": []
   },
   "outputs": [],
   "source": [
    "results_df['clean_incident_date'] = pd.to_datetime(results_df['clean_incident_date'],dayfirst=True)"
   ]
  },
  {
   "cell_type": "markdown",
   "id": "19fcad17-9fc7-445a-bef5-529cff4b8789",
   "metadata": {},
   "source": [
    "#### save results"
   ]
  },
  {
   "cell_type": "code",
   "execution_count": 92,
   "id": "6e0b7b6a-c85a-46e8-b433-a417cd12067e",
   "metadata": {
    "tags": []
   },
   "outputs": [],
   "source": [
    "results_df.to_csv('..//data/output/results_df.csv',index=False)"
   ]
  },
  {
   "cell_type": "markdown",
   "id": "c440908f-ecd8-49cf-8ba0-39363f038449",
   "metadata": {},
   "source": [
    "#### read results"
   ]
  },
  {
   "cell_type": "code",
   "execution_count": 95,
   "id": "3465b6ea-352e-4446-8f0b-98e4cb6d9d5e",
   "metadata": {
    "tags": []
   },
   "outputs": [],
   "source": [
    "results_df = pd.read_csv('..//data/output/results_df.csv')"
   ]
  },
  {
   "cell_type": "code",
   "execution_count": 96,
   "id": "a03f47c0-fdd5-4bea-a56d-0c5362d35942",
   "metadata": {},
   "outputs": [
    {
     "data": {
      "text/plain": [
       "filename               object\n",
       "incident_date          object\n",
       "incident_time          object\n",
       "postcode               object\n",
       "sim_or_sir             object\n",
       "cable_theft            object\n",
       "police_ref             object\n",
       "captured_on_cctv       object\n",
       "captured_on_rabit      object\n",
       "evidence               object\n",
       "clean_incident_date    object\n",
       "dtype: object"
      ]
     },
     "execution_count": 96,
     "metadata": {},
     "output_type": "execute_result"
    }
   ],
   "source": [
    "results_df.dtypes"
   ]
  },
  {
   "cell_type": "code",
   "execution_count": 97,
   "id": "f66c5ac8-a184-478c-a5c1-cb3d316c9a56",
   "metadata": {},
   "outputs": [
    {
     "name": "stderr",
     "output_type": "stream",
     "text": [
      "/tmp/ipykernel_17287/2492240808.py:1: UserWarning: Parsing dates in %Y-%m-%d format when dayfirst=True was specified. Pass `dayfirst=False` or specify a format to silence this warning.\n",
      "  results_df['clean_incident_date'] = pd.to_datetime(results_df['clean_incident_date'],dayfirst=True)\n"
     ]
    }
   ],
   "source": [
    "results_df['clean_incident_date'] = pd.to_datetime(results_df['clean_incident_date'],dayfirst=True)"
   ]
  },
  {
   "cell_type": "code",
   "execution_count": 98,
   "id": "23fb0f0b-4838-4b7a-b9cd-74750a85f4f8",
   "metadata": {
    "tags": []
   },
   "outputs": [
    {
     "data": {
      "text/plain": [
       "filename                       object\n",
       "incident_date                  object\n",
       "incident_time                  object\n",
       "postcode                       object\n",
       "sim_or_sir                     object\n",
       "cable_theft                    object\n",
       "police_ref                     object\n",
       "captured_on_cctv               object\n",
       "captured_on_rabit              object\n",
       "evidence                       object\n",
       "clean_incident_date    datetime64[ns]\n",
       "dtype: object"
      ]
     },
     "execution_count": 98,
     "metadata": {},
     "output_type": "execute_result"
    }
   ],
   "source": [
    "results_df.dtypes"
   ]
  },
  {
   "cell_type": "code",
   "execution_count": null,
   "id": "62cfa905-a666-4b87-a87c-ea3953cba671",
   "metadata": {},
   "outputs": [],
   "source": []
  }
 ],
 "metadata": {
  "environment": {
   "kernel": "cable",
   "name": ".m124",
   "type": "gcloud",
   "uri": "us-docker.pkg.dev/deeplearning-platform-release/gcr.io/:m124"
  },
  "kernelspec": {
   "display_name": "cable (Local)",
   "language": "python",
   "name": "cable"
  },
  "language_info": {
   "codemirror_mode": {
    "name": "ipython",
    "version": 3
   },
   "file_extension": ".py",
   "mimetype": "text/x-python",
   "name": "python",
   "nbconvert_exporter": "python",
   "pygments_lexer": "ipython3",
   "version": "3.10.14"
  }
 },
 "nbformat": 4,
 "nbformat_minor": 5
}

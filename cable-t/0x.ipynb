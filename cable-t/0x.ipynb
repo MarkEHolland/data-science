{
 "cells": [
  {
   "cell_type": "markdown",
   "id": "3735ed84-c08e-4b33-acd5-263c1203c610",
   "metadata": {},
   "source": [
    "# Suggest taxonomy"
   ]
  },
  {
   "cell_type": "markdown",
   "id": "80340aaa-4da1-4937-b608-fcb69edd8564",
   "metadata": {},
   "source": [
    "### setup & import packages"
   ]
  },
  {
   "cell_type": "code",
   "execution_count": 3,
   "id": "0ce1e48e-bf6e-4f4e-8b60-b3b301d994ad",
   "metadata": {},
   "outputs": [],
   "source": [
    "# export PIP_INDEX_URL=\"https://agile.nat.bt.com/nexus/repository/pypi-proxy/simple\""
   ]
  },
  {
   "cell_type": "code",
   "execution_count": 4,
   "id": "d4705109-87df-4da1-a3d8-20f73ac2deb8",
   "metadata": {
    "tags": []
   },
   "outputs": [],
   "source": [
    "# example using pretrained models:-\n",
    "# https://gitlab.agile.nat.bt.com/DCU/experimental/agent_comments/-/blob/main/notebooks/Pre-trained%20GCP%20Models.ipynb"
   ]
  },
  {
   "cell_type": "code",
   "execution_count": 5,
   "id": "374a91fa-48fe-4441-9b0a-fc1c3157f6b3",
   "metadata": {
    "tags": []
   },
   "outputs": [],
   "source": [
    "from pathlib import Path\n",
    "import pandas as pd\n",
    "import time\n",
    "from io import StringIO\n",
    "from concurrent.futures import ThreadPoolExecutor, as_completed\n",
    "import multiprocessing\n",
    "import threading\n",
    "\n",
    "%matplotlib inline\n",
    "pd.set_option('display.max_colwidth', None)"
   ]
  },
  {
   "cell_type": "code",
   "execution_count": 6,
   "id": "4d935dad-8c70-41b4-9502-b6ad57db5239",
   "metadata": {},
   "outputs": [],
   "source": [
    "# vertexai transformer models\n",
    "import vertexai\n",
    "from vertexai.language_models import TextGenerationModel"
   ]
  },
  {
   "cell_type": "code",
   "execution_count": 7,
   "id": "c4394e77-0b63-44dc-a196-0d7d72fee9ba",
   "metadata": {
    "tags": []
   },
   "outputs": [],
   "source": [
    "# document processing\n",
    "import docx2txt"
   ]
  },
  {
   "cell_type": "code",
   "execution_count": 8,
   "id": "5b206a0d-c881-4a3a-b5b9-9c5f051eb25e",
   "metadata": {
    "tags": []
   },
   "outputs": [
    {
     "data": {
      "text/plain": [
       "PosixPath('/home/jupyter/projects/cable-theft/notebooks')"
      ]
     },
     "execution_count": 8,
     "metadata": {},
     "output_type": "execute_result"
    }
   ],
   "source": [
    "# paht of cwd\n",
    "Path.cwd()"
   ]
  },
  {
   "cell_type": "markdown",
   "id": "280fc25f-04f3-4675-b9ad-541dd1b1303b",
   "metadata": {},
   "source": [
    "#### import llm model"
   ]
  },
  {
   "cell_type": "code",
   "execution_count": 9,
   "id": "f87c245c-df98-4b6a-b58a-8387db871e37",
   "metadata": {},
   "outputs": [],
   "source": [
    "import vertexai\n",
    "from vertexai.language_models import TextGenerationModel\n",
    "\n",
    "vertexai.init(project=\"or-fttp-prope-aif-exp-prod\", location=\"europe-west2\")\n",
    "parameters = {\n",
    "    \"candidate_count\": 1,\n",
    "    \"max_output_tokens\": 200,\n",
    "    \"temperature\": 0,\n",
    "    \"top_p\": 1\n",
    "}\n",
    "model = TextGenerationModel.from_pretrained(\"text-bison\")"
   ]
  },
  {
   "cell_type": "markdown",
   "id": "d0c94b05-b27c-45cd-89be-9c233d20af6e",
   "metadata": {},
   "source": [
    "#### create prompt to process blue reports in a consistent way"
   ]
  },
  {
   "cell_type": "code",
   "execution_count": 15,
   "id": "4825e931-8a81-4a49-b175-2c29f2815096",
   "metadata": {
    "tags": []
   },
   "outputs": [],
   "source": [
    "prompt = \"\"\"\n",
    "        You are a the networks director of a full service telecoms provider BT that operates fixed, broadband and mobile services in the UK to both Consumers, Business and other telecoms providers.\n",
    "        \n",
    "        Produce a taxonomy that can be used to classify network advisor notes collected by agents in a calls with customers.\n",
    "        \n",
    "        Please provide an explanation of your answer\n",
    "        \"\"\""
   ]
  },
  {
   "cell_type": "markdown",
   "id": "7829dd6d-dcae-4783-9a08-d5a6d2effd0f",
   "metadata": {},
   "source": [
    "#### use llm to extract entities from the text into a DataFrame"
   ]
  },
  {
   "cell_type": "code",
   "execution_count": 16,
   "id": "171f3ff0-2a57-4d29-a8bd-5a088ec0c62e",
   "metadata": {
    "tags": []
   },
   "outputs": [
    {
     "data": {
      "text/html": [
       "<div>\n",
       "<style scoped>\n",
       "    .dataframe tbody tr th:only-of-type {\n",
       "        vertical-align: middle;\n",
       "    }\n",
       "\n",
       "    .dataframe tbody tr th {\n",
       "        vertical-align: top;\n",
       "    }\n",
       "\n",
       "    .dataframe thead th {\n",
       "        text-align: right;\n",
       "    }\n",
       "</style>\n",
       "<table border=\"1\" class=\"dataframe\">\n",
       "  <thead>\n",
       "    <tr style=\"text-align: right;\">\n",
       "      <th></th>\n",
       "      <th>**Taxonomy of Network Advisor Notes**</th>\n",
       "    </tr>\n",
       "  </thead>\n",
       "  <tbody>\n",
       "    <tr>\n",
       "      <th>0</th>\n",
       "      <td>**1. Fixed Line Services**</td>\n",
       "    </tr>\n",
       "    <tr>\n",
       "      <th>1</th>\n",
       "      <td>* **Faults**</td>\n",
       "    </tr>\n",
       "    <tr>\n",
       "      <th>2</th>\n",
       "      <td>* No dial tone</td>\n",
       "    </tr>\n",
       "    <tr>\n",
       "      <th>3</th>\n",
       "      <td>* Intermittent crackling or buzzing</td>\n",
       "    </tr>\n",
       "    <tr>\n",
       "      <th>4</th>\n",
       "      <td>* Call quality issues</td>\n",
       "    </tr>\n",
       "    <tr>\n",
       "      <th>5</th>\n",
       "      <td>* Slow broadband speeds</td>\n",
       "    </tr>\n",
       "    <tr>\n",
       "      <th>6</th>\n",
       "      <td>* **Installation**</td>\n",
       "    </tr>\n",
       "    <tr>\n",
       "      <th>7</th>\n",
       "      <td>* New line installation</td>\n",
       "    </tr>\n",
       "    <tr>\n",
       "      <th>8</th>\n",
       "      <td>* Line repair</td>\n",
       "    </tr>\n",
       "    <tr>\n",
       "      <th>9</th>\n",
       "      <td>* Broadband activation</td>\n",
       "    </tr>\n",
       "    <tr>\n",
       "      <th>10</th>\n",
       "      <td>* **Billing**</td>\n",
       "    </tr>\n",
       "    <tr>\n",
       "      <th>11</th>\n",
       "      <td>* Incorrect charges</td>\n",
       "    </tr>\n",
       "    <tr>\n",
       "      <th>12</th>\n",
       "      <td>* Billing disputes</td>\n",
       "    </tr>\n",
       "    <tr>\n",
       "      <th>13</th>\n",
       "      <td>* Payment options</td>\n",
       "    </tr>\n",
       "    <tr>\n",
       "      <th>14</th>\n",
       "      <td>**2. Broadband Services**</td>\n",
       "    </tr>\n",
       "    <tr>\n",
       "      <th>15</th>\n",
       "      <td>* **Faults**</td>\n",
       "    </tr>\n",
       "    <tr>\n",
       "      <th>16</th>\n",
       "      <td>* No internet connection</td>\n",
       "    </tr>\n",
       "    <tr>\n",
       "      <th>17</th>\n",
       "      <td>* Slow broadband speeds</td>\n",
       "    </tr>\n",
       "    <tr>\n",
       "      <th>18</th>\n",
       "      <td>* Intermittent connection</td>\n",
       "    </tr>\n",
       "    <tr>\n",
       "      <th>19</th>\n",
       "      <td>* Wi-Fi issues</td>\n",
       "    </tr>\n",
       "    <tr>\n",
       "      <th>20</th>\n",
       "      <td>* **Installation**</td>\n",
       "    </tr>\n",
       "    <tr>\n",
       "      <th>21</th>\n",
       "      <td>* New broadband connection</td>\n",
       "    </tr>\n",
       "    <tr>\n",
       "      <th>22</th>\n",
       "      <td>* Broadband repair</td>\n",
       "    </tr>\n",
       "    <tr>\n",
       "      <th>23</th>\n",
       "      <td>* Wi-Fi setup</td>\n",
       "    </tr>\n",
       "    <tr>\n",
       "      <th>24</th>\n",
       "      <td>* **Billing**</td>\n",
       "    </tr>\n",
       "    <tr>\n",
       "      <th>25</th>\n",
       "      <td>* Incorrect charges</td>\n",
       "    </tr>\n",
       "    <tr>\n",
       "      <th>26</th>\n",
       "      <td>* Billing disputes</td>\n",
       "    </tr>\n",
       "    <tr>\n",
       "      <th>27</th>\n",
       "      <td>* Payment options</td>\n",
       "    </tr>\n",
       "    <tr>\n",
       "      <th>28</th>\n",
       "      <td>**3. Mobile Services**</td>\n",
       "    </tr>\n",
       "    <tr>\n",
       "      <th>29</th>\n",
       "      <td>* **Faults**</td>\n",
       "    </tr>\n",
       "    <tr>\n",
       "      <th>30</th>\n",
       "      <td>* No signal</td>\n",
       "    </tr>\n",
       "    <tr>\n",
       "      <th>31</th>\n",
       "      <td>* Dropped calls</td>\n",
       "    </tr>\n",
       "    <tr>\n",
       "      <th>32</th>\n",
       "      <td>* Text messaging issues</td>\n",
       "    </tr>\n",
       "    <tr>\n",
       "      <th>33</th>\n",
       "      <td>* Data</td>\n",
       "    </tr>\n",
       "  </tbody>\n",
       "</table>\n",
       "</div>"
      ],
      "text/plain": [
       "      **Taxonomy of Network Advisor Notes**\n",
       "0                **1. Fixed Line Services**\n",
       "1                              * **Faults**\n",
       "2                            * No dial tone\n",
       "3       * Intermittent crackling or buzzing\n",
       "4                     * Call quality issues\n",
       "5                   * Slow broadband speeds\n",
       "6                        * **Installation**\n",
       "7                   * New line installation\n",
       "8                             * Line repair\n",
       "9                    * Broadband activation\n",
       "10                            * **Billing**\n",
       "11                      * Incorrect charges\n",
       "12                       * Billing disputes\n",
       "13                        * Payment options\n",
       "14                **2. Broadband Services**\n",
       "15                             * **Faults**\n",
       "16                 * No internet connection\n",
       "17                  * Slow broadband speeds\n",
       "18                * Intermittent connection\n",
       "19                           * Wi-Fi issues\n",
       "20                       * **Installation**\n",
       "21               * New broadband connection\n",
       "22                       * Broadband repair\n",
       "23                            * Wi-Fi setup\n",
       "24                            * **Billing**\n",
       "25                      * Incorrect charges\n",
       "26                       * Billing disputes\n",
       "27                        * Payment options\n",
       "28                   **3. Mobile Services**\n",
       "29                             * **Faults**\n",
       "30                              * No signal\n",
       "31                          * Dropped calls\n",
       "32                  * Text messaging issues\n",
       "33                                   * Data"
      ]
     },
     "execution_count": 16,
     "metadata": {},
     "output_type": "execute_result"
    }
   ],
   "source": [
    "response = model.predict(f\"{prompt}\", **parameters)\n",
    "entity_txt = response.text.strip()\n",
    "entity_txt\n",
    "entity = pd.read_csv(StringIO(entity_txt))\n",
    "entity"
   ]
  },
  {
   "cell_type": "code",
   "execution_count": 17,
   "id": "320a6d7e-0534-43e3-9580-2b76453dab67",
   "metadata": {
    "tags": []
   },
   "outputs": [
    {
     "data": {
      "text/plain": [
       "'**Taxonomy of Network Advisor Notes**\\n\\n**1. Fixed Line Services**\\n\\n* **Faults**\\n    * No dial tone\\n    * Intermittent crackling or buzzing\\n    * Call quality issues\\n    * Slow broadband speeds\\n* **Installation**\\n    * New line installation\\n    * Line repair\\n    * Broadband activation\\n* **Billing**\\n    * Incorrect charges\\n    * Billing disputes\\n    * Payment options\\n\\n**2. Broadband Services**\\n\\n* **Faults**\\n    * No internet connection\\n    * Slow broadband speeds\\n    * Intermittent connection\\n    * Wi-Fi issues\\n* **Installation**\\n    * New broadband connection\\n    * Broadband repair\\n    * Wi-Fi setup\\n* **Billing**\\n    * Incorrect charges\\n    * Billing disputes\\n    * Payment options\\n\\n**3. Mobile Services**\\n\\n* **Faults**\\n    * No signal\\n    * Dropped calls\\n    * Text messaging issues\\n    * Data'"
      ]
     },
     "execution_count": 17,
     "metadata": {},
     "output_type": "execute_result"
    }
   ],
   "source": [
    "entity_txt"
   ]
  },
  {
   "cell_type": "code",
   "execution_count": null,
   "id": "a03f47c0-fdd5-4bea-a56d-0c5362d35942",
   "metadata": {},
   "outputs": [],
   "source": []
  }
 ],
 "metadata": {
  "environment": {
   "kernel": "cable",
   "name": ".m118",
   "type": "gcloud",
   "uri": "us-docker.pkg.dev/deeplearning-platform-release/gcr.io/:m118"
  },
  "kernelspec": {
   "display_name": "cable",
   "language": "python",
   "name": "cable"
  },
  "language_info": {
   "codemirror_mode": {
    "name": "ipython",
    "version": 3
   },
   "file_extension": ".py",
   "mimetype": "text/x-python",
   "name": "python",
   "nbconvert_exporter": "python",
   "pygments_lexer": "ipython3",
   "version": "3.9.18"
  }
 },
 "nbformat": 4,
 "nbformat_minor": 5
}

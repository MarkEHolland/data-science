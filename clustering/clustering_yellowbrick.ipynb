{
 "cells": [
  {
   "cell_type": "markdown",
   "id": "ad262db6-3988-4992-8c5d-5451aa41fdc1",
   "metadata": {},
   "source": [
    "# clustering with visualisation"
   ]
  },
  {
   "cell_type": "code",
   "execution_count": 1,
   "id": "15f205e9-1cdf-407f-9369-9d3ce55a91c4",
   "metadata": {},
   "outputs": [
    {
     "data": {
      "text/plain": [
       "'3.5.2'"
      ]
     },
     "execution_count": 1,
     "metadata": {},
     "output_type": "execute_result"
    }
   ],
   "source": [
    "import matplotlib\n",
    "matplotlib.__version__"
   ]
  },
  {
   "cell_type": "code",
   "execution_count": 2,
   "id": "6d605b5b-2b55-474a-aad8-f64f6c478ddf",
   "metadata": {},
   "outputs": [],
   "source": [
    "%matplotlib inline"
   ]
  },
  {
   "cell_type": "code",
   "execution_count": 3,
   "id": "607f5d32-9cbf-44ff-be50-65a0eafb52e0",
   "metadata": {},
   "outputs": [],
   "source": [
    "import seaborn as sns\n",
    "sns.set_theme(style=\"darkgrid\")"
   ]
  },
  {
   "cell_type": "code",
   "execution_count": 4,
   "id": "ee530fee-a909-401c-8b4b-14739f92c898",
   "metadata": {},
   "outputs": [
    {
     "name": "stderr",
     "output_type": "stream",
     "text": [
      "/opt/conda/lib/python3.7/site-packages/sklearn/utils/deprecation.py:143: FutureWarning: The sklearn.datasets.samples_generator module is  deprecated in version 0.22 and will be removed in version 0.24. The corresponding classes / functions should instead be imported from sklearn.datasets. Anything that cannot be imported from sklearn.datasets is now part of the private API.\n",
      "  warnings.warn(message, FutureWarning)\n"
     ]
    }
   ],
   "source": [
    "import pandas as pd\n",
    "import numpy as np\n",
    "import matplotlib.pyplot as plt\n",
    "import warnings\n",
    "import pathlib\n",
    "from collections import Counter\n",
    "from pandas_profiling import ProfileReport\n",
    "pd.set_option('display.max_columns', None)\n",
    "\n",
    "import ipywidgets as widgets\n",
    "from ipywidgets import interact, interact_manual\n",
    "\n",
    "from scipy.cluster.hierarchy import dendrogram\n",
    "from scipy.cluster.hierarchy import linkage\n",
    "from sklearn.cluster import DBSCAN\n",
    "from sklearn.cluster import AgglomerativeClustering\n",
    "from sklearn.cluster import KMeans\n",
    "from sklearn.cluster import AffinityPropagation\n",
    "from sklearn.cluster import SpectralClustering\n",
    "from sklearn.metrics import pairwise_distances_argmin\n",
    "from sklearn.metrics import completeness_score\n",
    "from sklearn.metrics import silhouette_score\n",
    "from sklearn.metrics import homogeneity_score\n",
    "from sklearn.datasets.samples_generator import make_blobs\n",
    "from sklearn.decomposition import PCA \n",
    "from sklearn.preprocessing import StandardScaler\n",
    "\n",
    "import yellowbrick\n",
    "import yellowbrick.datasets\n",
    "from yellowbrick.cluster import KElbowVisualizer\n",
    "from yellowbrick.cluster import SilhouetteVisualizer\n",
    "from yellowbrick.cluster import InterclusterDistance"
   ]
  },
  {
   "cell_type": "markdown",
   "id": "fdd799e5-04b8-46e2-9a90-9def494894e7",
   "metadata": {},
   "source": [
    "# overview of clustering process"
   ]
  },
  {
   "cell_type": "markdown",
   "id": "19de86e3-f436-42e1-936f-63b68fc77fb8",
   "metadata": {},
   "source": [
    "Overview\n",
    "1. Choose features - important to identifying and understanding differences\n",
    "2. Scale the data\n",
    "3. Screen for outliers\n",
    "4. Calculate distances\n",
    "5. Select clustering algorithm\n",
    "6. Obtain one or more clusters\n",
    "7. Determine number of clusters present\n",
    "8. Obtain final clustering solution\n",
    "9. Visualise results\n",
    "10. Interpret clusters\n",
    "11. Validate results"
   ]
  },
  {
   "cell_type": "markdown",
   "id": "fe2afcfd-f4da-40fc-b76b-44b9b1b4417f",
   "metadata": {},
   "source": [
    "### Explore data"
   ]
  },
  {
   "cell_type": "code",
   "execution_count": 5,
   "id": "47708429-9dd0-42c4-8f23-b1b81392842f",
   "metadata": {},
   "outputs": [],
   "source": [
    "# source data: http://archive.ics.uci.edu/ml/datasets/default+of+credit+card+clients"
   ]
  },
  {
   "cell_type": "code",
   "execution_count": 6,
   "id": "8f90c848-988d-45ea-92fa-172ef06c1d24",
   "metadata": {},
   "outputs": [
    {
     "data": {
      "text/plain": [
       "Index(['ID', 'LIMIT_BAL', 'SEX', 'EDUCATION', 'MARRIAGE', 'AGE', 'PAY_0',\n",
       "       'PAY_2', 'PAY_3', 'PAY_4', 'PAY_5', 'PAY_6', 'BILL_AMT1', 'BILL_AMT2',\n",
       "       'BILL_AMT3', 'BILL_AMT4', 'BILL_AMT5', 'BILL_AMT6', 'PAY_AMT1',\n",
       "       'PAY_AMT2', 'PAY_AMT3', 'PAY_AMT4', 'PAY_AMT5', 'PAY_AMT6',\n",
       "       'default payment next month'],\n",
       "      dtype='object')"
      ]
     },
     "execution_count": 6,
     "metadata": {},
     "output_type": "execute_result"
    }
   ],
   "source": [
    "credit_df = pd.read_csv('./default of credit card clients.csv')\n",
    "credit_df.columns"
   ]
  },
  {
   "cell_type": "code",
   "execution_count": 7,
   "id": "17545cce-d377-4001-9b2b-6404c21911d8",
   "metadata": {},
   "outputs": [],
   "source": [
    "credit_df = credit_df.drop(['ID', 'default payment next month'],axis=1)"
   ]
  },
  {
   "cell_type": "markdown",
   "id": "b67d3aae-41d2-472a-9e29-a8abc0c55fcb",
   "metadata": {},
   "source": [
    "### Scale Data"
   ]
  },
  {
   "cell_type": "code",
   "execution_count": 8,
   "id": "37b32b1a-bfa7-4b45-aee9-791c9df354b7",
   "metadata": {},
   "outputs": [],
   "source": [
    "scaler = StandardScaler()\n",
    "credit_df = pd.DataFrame(scaler.fit_transform(credit_df), columns=credit_df.columns)"
   ]
  },
  {
   "cell_type": "code",
   "execution_count": 9,
   "id": "93360ac7-f291-4774-954a-8f79eb32cd00",
   "metadata": {},
   "outputs": [
    {
     "data": {
      "text/html": [
       "<div>\n",
       "<style scoped>\n",
       "    .dataframe tbody tr th:only-of-type {\n",
       "        vertical-align: middle;\n",
       "    }\n",
       "\n",
       "    .dataframe tbody tr th {\n",
       "        vertical-align: top;\n",
       "    }\n",
       "\n",
       "    .dataframe thead th {\n",
       "        text-align: right;\n",
       "    }\n",
       "</style>\n",
       "<table border=\"1\" class=\"dataframe\">\n",
       "  <thead>\n",
       "    <tr style=\"text-align: right;\">\n",
       "      <th></th>\n",
       "      <th>LIMIT_BAL</th>\n",
       "      <th>SEX</th>\n",
       "      <th>EDUCATION</th>\n",
       "      <th>MARRIAGE</th>\n",
       "      <th>AGE</th>\n",
       "      <th>PAY_0</th>\n",
       "      <th>PAY_2</th>\n",
       "      <th>PAY_3</th>\n",
       "      <th>PAY_4</th>\n",
       "      <th>PAY_5</th>\n",
       "      <th>PAY_6</th>\n",
       "      <th>BILL_AMT1</th>\n",
       "      <th>BILL_AMT2</th>\n",
       "      <th>BILL_AMT3</th>\n",
       "      <th>BILL_AMT4</th>\n",
       "      <th>BILL_AMT5</th>\n",
       "      <th>BILL_AMT6</th>\n",
       "      <th>PAY_AMT1</th>\n",
       "      <th>PAY_AMT2</th>\n",
       "      <th>PAY_AMT3</th>\n",
       "      <th>PAY_AMT4</th>\n",
       "      <th>PAY_AMT5</th>\n",
       "      <th>PAY_AMT6</th>\n",
       "    </tr>\n",
       "  </thead>\n",
       "  <tbody>\n",
       "    <tr>\n",
       "      <th>0</th>\n",
       "      <td>-1.136720</td>\n",
       "      <td>0.810161</td>\n",
       "      <td>0.185828</td>\n",
       "      <td>-1.057295</td>\n",
       "      <td>-1.246020</td>\n",
       "      <td>1.794564</td>\n",
       "      <td>1.782348</td>\n",
       "      <td>-0.696663</td>\n",
       "      <td>-0.666599</td>\n",
       "      <td>-1.530046</td>\n",
       "      <td>-1.486041</td>\n",
       "      <td>-0.642501</td>\n",
       "      <td>-0.647399</td>\n",
       "      <td>-0.667993</td>\n",
       "      <td>-0.672497</td>\n",
       "      <td>-0.663059</td>\n",
       "      <td>-0.652724</td>\n",
       "      <td>-0.341942</td>\n",
       "      <td>-0.227086</td>\n",
       "      <td>-0.296801</td>\n",
       "      <td>-0.308063</td>\n",
       "      <td>-0.314136</td>\n",
       "      <td>-0.293382</td>\n",
       "    </tr>\n",
       "    <tr>\n",
       "      <th>1</th>\n",
       "      <td>-0.365981</td>\n",
       "      <td>0.810161</td>\n",
       "      <td>0.185828</td>\n",
       "      <td>0.858557</td>\n",
       "      <td>-1.029047</td>\n",
       "      <td>-0.874991</td>\n",
       "      <td>1.782348</td>\n",
       "      <td>0.138865</td>\n",
       "      <td>0.188746</td>\n",
       "      <td>0.234917</td>\n",
       "      <td>1.992316</td>\n",
       "      <td>-0.659219</td>\n",
       "      <td>-0.666747</td>\n",
       "      <td>-0.639254</td>\n",
       "      <td>-0.621636</td>\n",
       "      <td>-0.606229</td>\n",
       "      <td>-0.597966</td>\n",
       "      <td>-0.341942</td>\n",
       "      <td>-0.213588</td>\n",
       "      <td>-0.240005</td>\n",
       "      <td>-0.244230</td>\n",
       "      <td>-0.314136</td>\n",
       "      <td>-0.180878</td>\n",
       "    </tr>\n",
       "    <tr>\n",
       "      <th>2</th>\n",
       "      <td>-0.597202</td>\n",
       "      <td>0.810161</td>\n",
       "      <td>0.185828</td>\n",
       "      <td>0.858557</td>\n",
       "      <td>-0.161156</td>\n",
       "      <td>0.014861</td>\n",
       "      <td>0.111736</td>\n",
       "      <td>0.138865</td>\n",
       "      <td>0.188746</td>\n",
       "      <td>0.234917</td>\n",
       "      <td>0.253137</td>\n",
       "      <td>-0.298560</td>\n",
       "      <td>-0.493899</td>\n",
       "      <td>-0.482408</td>\n",
       "      <td>-0.449730</td>\n",
       "      <td>-0.417188</td>\n",
       "      <td>-0.391630</td>\n",
       "      <td>-0.250292</td>\n",
       "      <td>-0.191887</td>\n",
       "      <td>-0.240005</td>\n",
       "      <td>-0.244230</td>\n",
       "      <td>-0.248683</td>\n",
       "      <td>-0.012122</td>\n",
       "    </tr>\n",
       "    <tr>\n",
       "      <th>3</th>\n",
       "      <td>-0.905498</td>\n",
       "      <td>0.810161</td>\n",
       "      <td>0.185828</td>\n",
       "      <td>-1.057295</td>\n",
       "      <td>0.164303</td>\n",
       "      <td>0.014861</td>\n",
       "      <td>0.111736</td>\n",
       "      <td>0.138865</td>\n",
       "      <td>0.188746</td>\n",
       "      <td>0.234917</td>\n",
       "      <td>0.253137</td>\n",
       "      <td>-0.057491</td>\n",
       "      <td>-0.013293</td>\n",
       "      <td>0.032846</td>\n",
       "      <td>-0.232373</td>\n",
       "      <td>-0.186729</td>\n",
       "      <td>-0.156579</td>\n",
       "      <td>-0.221191</td>\n",
       "      <td>-0.169361</td>\n",
       "      <td>-0.228645</td>\n",
       "      <td>-0.237846</td>\n",
       "      <td>-0.244166</td>\n",
       "      <td>-0.237130</td>\n",
       "    </tr>\n",
       "    <tr>\n",
       "      <th>4</th>\n",
       "      <td>-0.905498</td>\n",
       "      <td>-1.234323</td>\n",
       "      <td>0.185828</td>\n",
       "      <td>-1.057295</td>\n",
       "      <td>2.334029</td>\n",
       "      <td>-0.874991</td>\n",
       "      <td>0.111736</td>\n",
       "      <td>-0.696663</td>\n",
       "      <td>0.188746</td>\n",
       "      <td>0.234917</td>\n",
       "      <td>0.253137</td>\n",
       "      <td>-0.578618</td>\n",
       "      <td>-0.611318</td>\n",
       "      <td>-0.161189</td>\n",
       "      <td>-0.346997</td>\n",
       "      <td>-0.348137</td>\n",
       "      <td>-0.331482</td>\n",
       "      <td>-0.221191</td>\n",
       "      <td>1.335034</td>\n",
       "      <td>0.271165</td>\n",
       "      <td>0.266434</td>\n",
       "      <td>-0.269039</td>\n",
       "      <td>-0.255187</td>\n",
       "    </tr>\n",
       "  </tbody>\n",
       "</table>\n",
       "</div>"
      ],
      "text/plain": [
       "   LIMIT_BAL       SEX  EDUCATION  MARRIAGE       AGE     PAY_0     PAY_2  \\\n",
       "0  -1.136720  0.810161   0.185828 -1.057295 -1.246020  1.794564  1.782348   \n",
       "1  -0.365981  0.810161   0.185828  0.858557 -1.029047 -0.874991  1.782348   \n",
       "2  -0.597202  0.810161   0.185828  0.858557 -0.161156  0.014861  0.111736   \n",
       "3  -0.905498  0.810161   0.185828 -1.057295  0.164303  0.014861  0.111736   \n",
       "4  -0.905498 -1.234323   0.185828 -1.057295  2.334029 -0.874991  0.111736   \n",
       "\n",
       "      PAY_3     PAY_4     PAY_5     PAY_6  BILL_AMT1  BILL_AMT2  BILL_AMT3  \\\n",
       "0 -0.696663 -0.666599 -1.530046 -1.486041  -0.642501  -0.647399  -0.667993   \n",
       "1  0.138865  0.188746  0.234917  1.992316  -0.659219  -0.666747  -0.639254   \n",
       "2  0.138865  0.188746  0.234917  0.253137  -0.298560  -0.493899  -0.482408   \n",
       "3  0.138865  0.188746  0.234917  0.253137  -0.057491  -0.013293   0.032846   \n",
       "4 -0.696663  0.188746  0.234917  0.253137  -0.578618  -0.611318  -0.161189   \n",
       "\n",
       "   BILL_AMT4  BILL_AMT5  BILL_AMT6  PAY_AMT1  PAY_AMT2  PAY_AMT3  PAY_AMT4  \\\n",
       "0  -0.672497  -0.663059  -0.652724 -0.341942 -0.227086 -0.296801 -0.308063   \n",
       "1  -0.621636  -0.606229  -0.597966 -0.341942 -0.213588 -0.240005 -0.244230   \n",
       "2  -0.449730  -0.417188  -0.391630 -0.250292 -0.191887 -0.240005 -0.244230   \n",
       "3  -0.232373  -0.186729  -0.156579 -0.221191 -0.169361 -0.228645 -0.237846   \n",
       "4  -0.346997  -0.348137  -0.331482 -0.221191  1.335034  0.271165  0.266434   \n",
       "\n",
       "   PAY_AMT5  PAY_AMT6  \n",
       "0 -0.314136 -0.293382  \n",
       "1 -0.314136 -0.180878  \n",
       "2 -0.248683 -0.012122  \n",
       "3 -0.244166 -0.237130  \n",
       "4 -0.269039 -0.255187  "
      ]
     },
     "execution_count": 9,
     "metadata": {},
     "output_type": "execute_result"
    }
   ],
   "source": [
    "credit_df.head()"
   ]
  },
  {
   "cell_type": "markdown",
   "id": "44728a90-0485-47f6-8d7e-a217bd69e66f",
   "metadata": {},
   "source": [
    "### Elbow method - determine number of clusters"
   ]
  },
  {
   "cell_type": "code",
   "execution_count": 10,
   "id": "10cbeba3-f84b-4c6e-a18d-6c9e139c9cbe",
   "metadata": {},
   "outputs": [
    {
     "data": {
      "application/vnd.jupyter.widget-view+json": {
       "model_id": "b41067adc5e04b0b823a89ecfabd6855",
       "version_major": 2,
       "version_minor": 0
      },
      "text/plain": [
       "interactive(children=(Dropdown(description='Method', options=('distortion', 'silhouette'), value='distortion')…"
      ]
     },
     "metadata": {},
     "output_type": "display_data"
    }
   ],
   "source": [
    "@interact\n",
    "def CreditElbow(Method=['distortion', 'silhouette']):\n",
    "    plt.figure(figsize=(10, 8))\n",
    "    model = KMeans(Method)\n",
    "    visualizer = KElbowVisualizer(model, k=(2,12), metric=Method, locate_elbow=True)\n",
    "    visualizer.fit(credit_df)"
   ]
  },
  {
   "cell_type": "code",
   "execution_count": 11,
   "id": "db675fec-cf6b-4805-bdfa-bf08cb316207",
   "metadata": {},
   "outputs": [
    {
     "data": {
      "application/vnd.jupyter.widget-view+json": {
       "model_id": "f10e3ac6a2624927a4f1ba9b237dcc91",
       "version_major": 2,
       "version_minor": 0
      },
      "text/plain": [
       "interactive(children=(IntSlider(value=6, description='Clusters', max=10, min=2), Output()), _dom_classes=('wid…"
      ]
     },
     "metadata": {},
     "output_type": "display_data"
    }
   ],
   "source": [
    "@interact\n",
    "def Elbow(Clusters=(2,10)):\n",
    "    plt.figure(figsize=(10, 8))\n",
    "    model = KMeans(Clusters)\n",
    "    visualizer = SilhouetteVisualizer(model, colors='plasma')\n",
    "    visualizer.fit(credit_df)"
   ]
  },
  {
   "cell_type": "markdown",
   "id": "2198791c-4ded-404b-9c81-ebf1eb3edef4",
   "metadata": {},
   "source": [
    "### intercluster distance map"
   ]
  },
  {
   "cell_type": "code",
   "execution_count": 12,
   "id": "aa3529a1-606f-41c9-9d40-e71782a84254",
   "metadata": {},
   "outputs": [
    {
     "data": {
      "application/vnd.jupyter.widget-view+json": {
       "model_id": "f7024321c6e746119c169c8b3968492e",
       "version_major": 2,
       "version_minor": 0
      },
      "text/plain": [
       "interactive(children=(IntSlider(value=6, description='Clusters', max=10, min=2), Output()), _dom_classes=('wid…"
      ]
     },
     "metadata": {},
     "output_type": "display_data"
    }
   ],
   "source": [
    "@interact\n",
    "def Interdistance(Clusters=(2,10)):\n",
    "    plt.figure(figsize=(10, 8))\n",
    "    model = KMeans(Clusters)\n",
    "    visualizer = InterclusterDistance(model, colors='plasma')\n",
    "    visualizer.fit(credit_df)"
   ]
  },
  {
   "cell_type": "markdown",
   "id": "0b16c47d-cc35-478f-a74f-88b8b6cafb58",
   "metadata": {},
   "source": [
    "### kmeans"
   ]
  },
  {
   "cell_type": "code",
   "execution_count": 13,
   "id": "578e83e7-24ae-44a2-bd5a-92ddb0402218",
   "metadata": {},
   "outputs": [],
   "source": [
    "km = KMeans(n_clusters=3)\n",
    "clusters = km.fit_predict(credit_df)"
   ]
  },
  {
   "cell_type": "markdown",
   "id": "c83fb61e-4631-48b4-bc47-28d4a69178b3",
   "metadata": {},
   "source": [
    "### visualise with PCA"
   ]
  },
  {
   "cell_type": "code",
   "execution_count": 14,
   "id": "7da6711e-0291-4ca8-820a-4be0fd745b17",
   "metadata": {},
   "outputs": [
    {
     "data": {
      "text/plain": [
       "Text(0.5, 1.0, 'First 2 Principal Components - Credit (46.3% Variance Explained)')"
      ]
     },
     "execution_count": 14,
     "metadata": {},
     "output_type": "execute_result"
    },
    {
     "name": "stderr",
     "output_type": "stream",
     "text": [
      "findfont: Font family ['sans-serif'] not found. Falling back to DejaVu Sans.\n",
      "findfont: Generic family 'sans-serif' not found because none of the following families were found: Arial, Liberation Sans, Bitstream Vera Sans, sans-serif\n",
      "findfont: Font family ['sans-serif'] not found. Falling back to DejaVu Sans.\n",
      "findfont: Generic family 'sans-serif' not found because none of the following families were found: Arial, Liberation Sans, Bitstream Vera Sans, sans-serif\n"
     ]
    },
    {
     "data": {
      "image/png": "[encoded data removed]",
      "text/plain": [
       "<Figure size 720x576 with 1 Axes>"
      ]
     },
     "metadata": {},
     "output_type": "display_data"
    }
   ],
   "source": [
    "pca2d = PCA(n_components=2)\n",
    "pcs = pd.DataFrame(pca2d.fit_transform(credit_df))\n",
    "plotDF = pd.DataFrame(columns=['PC1', 'PC2', 'Cluster'])\n",
    "plotDF['PC1'] = pcs[0]\n",
    "plotDF['PC2'] = pcs[1]\n",
    "plotDF['Cluster'] = clusters\n",
    "\n",
    "plt.figure(figsize=(10,8))\n",
    "plt.scatter(x=plotDF.PC1, y=plotDF.PC2, c=plotDF.Cluster, cmap='plasma')\n",
    "plt.xlabel('PC1')\n",
    "plt.ylabel('PC2')\n",
    "percent_explained = sum(pca2d.explained_variance_ratio_) * 100.\n",
    "plt.title('First 2 Principal Components - Credit ({:.1f}% Variance Explained)'.format(percent_explained))"
   ]
  }
 ],
 "metadata": {
  "kernelspec": {
   "display_name": "Python 3 (ipykernel)",
   "language": "python",
   "name": "python3"
  },
  "language_info": {
   "codemirror_mode": {
    "name": "ipython",
    "version": 3
   },
   "file_extension": ".py",
   "mimetype": "text/x-python",
   "name": "python",
   "nbconvert_exporter": "python",
   "pygments_lexer": "ipython3",
   "version": "3.7.12"
  }
 },
 "nbformat": 4,
 "nbformat_minor": 5
}

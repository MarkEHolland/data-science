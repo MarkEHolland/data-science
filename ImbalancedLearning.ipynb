{
 "cells": [
  {
   "cell_type": "markdown",
   "metadata": {
    "_cell_guid": "83708667-4fdc-1563-7b3a-06b6575d2865"
   },
   "source": [
    "\n",
    "\n",
    "# Imbalanced Learning\n",
    "The goal of this case study is to use various imbalanced learning models to detect whether a transaction is a normal payment or a fraud.\n"
   ]
  },
  {
   "cell_type": "markdown",
   "metadata": {},
   "source": [
    "## Content"
   ]
  },
  {
   "cell_type": "markdown",
   "metadata": {},
   "source": [
    "* [1. Problem Definition](#0)\n",
    "* [2. Load Packages and Dataset](#1)\n",
    "    * [2.1. Load Packages](#1.1)    \n",
    "    * [2.2. Load Dataset](#1.2)\n",
    "* [3. Exploratory Data Analysis](#2)\n",
    "    * [3.1 Descriptive Statistics](#2.1)    \n",
    "    * [3.2. Data Visualisation](#2.2)\n",
    "    * [3.2. Feature Importance](#2.3)\n",
    "* [4. Data Preparation](#3)\n",
    "    * [4.1 Data Cleaning](#3.1)    \n",
    "* [5.Evaluate Algorithms and Models](#4) \n",
    "    * [5.1. Train/Test Split](#4.1)\n",
    "    * [5.2. Weighted cost sensitive learning](#4.2)   \n",
    "    * [5.3. Imbalanced xgboost](#4.3) \n"
   ]
  },
  {
   "cell_type": "markdown",
   "metadata": {},
   "source": [
    "<a id='0'></a>\n",
    "# 1. Problem Definition"
   ]
  },
  {
   "cell_type": "markdown",
   "metadata": {},
   "source": [
    "In the classification framework defined for this case study, the response variable takes\n",
    "a value of 1 in case the given transaction is fraud and 0 otherwise.\n",
    "\n",
    "The datasets contains transactions made by credit cards in September 2013 by european cardholders. This dataset presents transactions that occurred in two days, where we have 492 frauds out of 284,807 transactions. The dataset is highly unbalanced, the positive class (frauds) account for 0.172% of all transactions.The task is to get forecast the fraud. Feature 'Class' is the response variable and it takes value 1 in case of fraud and 0 otherwise.The features are the result of PCA transformation and aren't intuitive as far as their names are concerned.\n",
    "\n",
    "The data can be downloaded from: https://www.kaggle.com/mlg-ulb/creditcardfraud\n"
   ]
  },
  {
   "cell_type": "markdown",
   "metadata": {},
   "source": [
    "## 1.1. Imbalanced data"
   ]
  },
  {
   "cell_type": "markdown",
   "metadata": {},
   "source": [
    "- When we're facing a class imbalance accuracy can be misleading when the imbalance is quite high (e.g. >75-80%)\n",
    "- Gathering additional data for the minority class is a potentially viable solution\n",
    "    - This technique may be expensive or impractical\n",
    "\n",
    "\n",
    "- Several approaches can be applied:\n",
    "    - Adjusting our metrics (e.g. recall, F-Score )\n",
    "        - F Score variants:\n",
    "            - F1 -> Cost of False Negative = False Positive\n",
    "            - F2 -> Cost of False Negative > False Positive\n",
    "            - F0.5 -> Cost of False Negative < False Positive\n",
    "    - Balancing the data (e.g. oversampling, undersampling)\n",
    "    - Changing the model\n",
    "    - Changing the optimization (e.g. focal imbalance)"
   ]
  },
  {
   "cell_type": "markdown",
   "metadata": {},
   "source": [
    "<a id='1'></a>\n",
    "# 2. Load packages & data"
   ]
  },
  {
   "cell_type": "markdown",
   "metadata": {},
   "source": [
    "<a id='1.1'></a>\n",
    "## 2.1. Load packages"
   ]
  },
  {
   "cell_type": "code",
   "execution_count": 1,
   "metadata": {},
   "outputs": [],
   "source": [
    "# #If required install libraries\n",
    "# !pip install watermark==\"2.3.1\"\n",
    "# !pip install shap==\"0.41.0\"\n",
    "# !pip install xgboost==\"1.6.2\"\n",
    "# !pip install catboost==\"1.0.6\""
   ]
  },
  {
   "cell_type": "code",
   "execution_count": 2,
   "metadata": {},
   "outputs": [],
   "source": [
    "# !pip install imbalance-xgboost"
   ]
  },
  {
   "cell_type": "code",
   "execution_count": 3,
   "metadata": {
    "_cell_guid": "5d8fee34-f454-2642-8b06-ed719f0317e1"
   },
   "outputs": [],
   "source": [
    "# Load libraries\n",
    "import numpy as np\n",
    "import pandas as pd\n",
    "import sys\n",
    "from pandas import read_csv, set_option\n",
    "from sklearn.preprocessing import StandardScaler\n",
    "from sklearn.model_selection import train_test_split, KFold, cross_val_score, GridSearchCV, StratifiedKFold\n",
    "from sklearn.linear_model import LogisticRegression\n",
    "from sklearn.tree import DecisionTreeClassifier\n",
    "from sklearn.neighbors import KNeighborsClassifier\n",
    "from sklearn.discriminant_analysis import LinearDiscriminantAnalysis\n",
    "from sklearn.naive_bayes import GaussianNB\n",
    "from sklearn.svm import SVC\n",
    "from sklearn.neural_network import MLPClassifier\n",
    "import lightgbm as lgb\n",
    "from lightgbm import LGBMClassifier\n",
    "import xgboost as xgb\n",
    "import imxgboost\n",
    "from imxgboost.imbalance_xgb import imbalance_xgboost as imb_xgb\n",
    "from xgboost import XGBClassifier\n",
    "import catboost\n",
    "from catboost import CatBoostClassifier\n",
    "from sklearn.pipeline import Pipeline\n",
    "from sklearn.ensemble import AdaBoostClassifier, GradientBoostingClassifier, RandomForestClassifier, ExtraTreesClassifier\n",
    "from sklearn.metrics import classification_report, confusion_matrix, accuracy_score\n",
    "\n",
    "#Libraries for Deep Learning Models\n",
    "from keras.models import Sequential\n",
    "from keras.layers import Dense\n",
    "from keras.wrappers.scikit_learn import KerasClassifier\n",
    "from keras.optimizers import SGD\n",
    "\n",
    "#Libraries for Saving the Model\n",
    "from pickle import dump\n",
    "from pickle import load\n",
    "\n",
    "# Feature selection\n",
    "import sklearn\n",
    "from sklearn.feature_selection import SelectKBest\n",
    "from sklearn.feature_selection import chi2\n",
    "\n",
    "# Metrics\n",
    "from sklearn import metrics\n",
    "\n",
    "# Interpretation\n",
    "#import pandas_profiling as pp\n",
    "from matplotlib import pyplot\n",
    "from pandas.plotting import scatter_matrix\n",
    "import matplotlib.pyplot as plt\n",
    "import seaborn as sns\n",
    "import shap\n",
    "sns.set_theme(style=\"darkgrid\")"
   ]
  },
  {
   "cell_type": "code",
   "execution_count": 4,
   "metadata": {},
   "outputs": [
    {
     "name": "stdout",
     "output_type": "stream",
     "text": [
      "catboost  : 1.0.6\n",
      "lightgbm  : 3.3.2\n",
      "xgboost   : 1.6.1\n",
      "sklearn   : 1.1.2\n",
      "pandas    : 1.3.5\n",
      "numpy     : 1.21.5\n",
      "sys       : 3.8.13 (default, Mar 28 2022, 06:59:08) [MSC v.1916 64 bit (AMD64)]\n",
      "seaborn   : 0.11.2\n",
      "shap      : 0.41.0\n",
      "matplotlib: 3.5.3\n",
      "\n"
     ]
    }
   ],
   "source": [
    "# magics\n",
    "%matplotlib inline\n",
    "%load_ext autoreload\n",
    "%load_ext watermark\n",
    "%autoreload 2\n",
    "%watermark --iversions"
   ]
  },
  {
   "cell_type": "code",
   "execution_count": 5,
   "metadata": {},
   "outputs": [],
   "source": [
    "#Disable the warnings\n",
    "import warnings\n",
    "warnings.filterwarnings('ignore')"
   ]
  },
  {
   "cell_type": "markdown",
   "metadata": {},
   "source": [
    "<a id='1.2'></a>\n",
    "## 2.2. Loading the Data"
   ]
  },
  {
   "cell_type": "markdown",
   "metadata": {},
   "source": [
    "We load the data in this step.\n",
    "\n",
    "#### <font color='red'>Note : actual data (144MB) available from https://www.kaggle.com/mlg-ulb/creditcardfraud. You should load the full data in case you want to (instead of sample). </font> "
   ]
  },
  {
   "cell_type": "code",
   "execution_count": 7,
   "metadata": {
    "_cell_guid": "787e35f7-bf9e-0969-8d13-a54fa87f3519"
   },
   "outputs": [],
   "source": [
    "# load dataset\n",
    "dataset = read_csv('./input/creditcard_sample.csv')"
   ]
  },
  {
   "cell_type": "markdown",
   "metadata": {
    "_cell_guid": "df6a4523-b385-69ee-c933-592826d81431"
   },
   "source": [
    "<a id='2'></a>\n",
    "# 3. Exploratory Data Analysis"
   ]
  },
  {
   "cell_type": "markdown",
   "metadata": {},
   "source": [
    "<a id='2.1'></a>\n",
    "## 3.1. Descriptive Statistics"
   ]
  },
  {
   "cell_type": "code",
   "execution_count": 8,
   "metadata": {
    "_cell_guid": "52f85dc2-0f91-3c50-400e-ddc38bea966b"
   },
   "outputs": [
    {
     "data": {
      "text/plain": [
       "(99999, 31)"
      ]
     },
     "execution_count": 8,
     "metadata": {},
     "output_type": "execute_result"
    }
   ],
   "source": [
    "# shape\n",
    "dataset.shape"
   ]
  },
  {
   "cell_type": "code",
   "execution_count": 9,
   "metadata": {},
   "outputs": [
    {
     "data": {
      "text/html": [
       "<div>\n",
       "<style scoped>\n",
       "    .dataframe tbody tr th:only-of-type {\n",
       "        vertical-align: middle;\n",
       "    }\n",
       "\n",
       "    .dataframe tbody tr th {\n",
       "        vertical-align: top;\n",
       "    }\n",
       "\n",
       "    .dataframe thead th {\n",
       "        text-align: right;\n",
       "    }\n",
       "</style>\n",
       "<table border=\"1\" class=\"dataframe\">\n",
       "  <thead>\n",
       "    <tr style=\"text-align: right;\">\n",
       "      <th></th>\n",
       "      <th>Time</th>\n",
       "      <th>V1</th>\n",
       "      <th>V2</th>\n",
       "      <th>V3</th>\n",
       "      <th>V4</th>\n",
       "      <th>V5</th>\n",
       "      <th>V6</th>\n",
       "      <th>V7</th>\n",
       "      <th>V8</th>\n",
       "      <th>V9</th>\n",
       "      <th>...</th>\n",
       "      <th>V21</th>\n",
       "      <th>V22</th>\n",
       "      <th>V23</th>\n",
       "      <th>V24</th>\n",
       "      <th>V25</th>\n",
       "      <th>V26</th>\n",
       "      <th>V27</th>\n",
       "      <th>V28</th>\n",
       "      <th>Amount</th>\n",
       "      <th>Class</th>\n",
       "    </tr>\n",
       "  </thead>\n",
       "  <tbody>\n",
       "    <tr>\n",
       "      <th>0</th>\n",
       "      <td>0</td>\n",
       "      <td>-1.359807</td>\n",
       "      <td>-0.072781</td>\n",
       "      <td>2.536347</td>\n",
       "      <td>1.378155</td>\n",
       "      <td>-0.338321</td>\n",
       "      <td>0.462388</td>\n",
       "      <td>0.239599</td>\n",
       "      <td>0.098698</td>\n",
       "      <td>0.363787</td>\n",
       "      <td>...</td>\n",
       "      <td>-0.018307</td>\n",
       "      <td>0.277838</td>\n",
       "      <td>-0.110474</td>\n",
       "      <td>0.066928</td>\n",
       "      <td>0.128539</td>\n",
       "      <td>-0.189115</td>\n",
       "      <td>0.133558</td>\n",
       "      <td>-0.021053</td>\n",
       "      <td>149.62</td>\n",
       "      <td>0</td>\n",
       "    </tr>\n",
       "    <tr>\n",
       "      <th>1</th>\n",
       "      <td>0</td>\n",
       "      <td>1.191857</td>\n",
       "      <td>0.266151</td>\n",
       "      <td>0.166480</td>\n",
       "      <td>0.448154</td>\n",
       "      <td>0.060018</td>\n",
       "      <td>-0.082361</td>\n",
       "      <td>-0.078803</td>\n",
       "      <td>0.085102</td>\n",
       "      <td>-0.255425</td>\n",
       "      <td>...</td>\n",
       "      <td>-0.225775</td>\n",
       "      <td>-0.638672</td>\n",
       "      <td>0.101288</td>\n",
       "      <td>-0.339846</td>\n",
       "      <td>0.167170</td>\n",
       "      <td>0.125895</td>\n",
       "      <td>-0.008983</td>\n",
       "      <td>0.014724</td>\n",
       "      <td>2.69</td>\n",
       "      <td>0</td>\n",
       "    </tr>\n",
       "    <tr>\n",
       "      <th>2</th>\n",
       "      <td>1</td>\n",
       "      <td>-1.358354</td>\n",
       "      <td>-1.340163</td>\n",
       "      <td>1.773209</td>\n",
       "      <td>0.379780</td>\n",
       "      <td>-0.503198</td>\n",
       "      <td>1.800499</td>\n",
       "      <td>0.791461</td>\n",
       "      <td>0.247676</td>\n",
       "      <td>-1.514654</td>\n",
       "      <td>...</td>\n",
       "      <td>0.247998</td>\n",
       "      <td>0.771679</td>\n",
       "      <td>0.909412</td>\n",
       "      <td>-0.689281</td>\n",
       "      <td>-0.327642</td>\n",
       "      <td>-0.139097</td>\n",
       "      <td>-0.055353</td>\n",
       "      <td>-0.059752</td>\n",
       "      <td>378.66</td>\n",
       "      <td>0</td>\n",
       "    </tr>\n",
       "    <tr>\n",
       "      <th>3</th>\n",
       "      <td>1</td>\n",
       "      <td>-0.966272</td>\n",
       "      <td>-0.185226</td>\n",
       "      <td>1.792993</td>\n",
       "      <td>-0.863291</td>\n",
       "      <td>-0.010309</td>\n",
       "      <td>1.247203</td>\n",
       "      <td>0.237609</td>\n",
       "      <td>0.377436</td>\n",
       "      <td>-1.387024</td>\n",
       "      <td>...</td>\n",
       "      <td>-0.108300</td>\n",
       "      <td>0.005274</td>\n",
       "      <td>-0.190321</td>\n",
       "      <td>-1.175575</td>\n",
       "      <td>0.647376</td>\n",
       "      <td>-0.221929</td>\n",
       "      <td>0.062723</td>\n",
       "      <td>0.061458</td>\n",
       "      <td>123.50</td>\n",
       "      <td>0</td>\n",
       "    </tr>\n",
       "    <tr>\n",
       "      <th>4</th>\n",
       "      <td>2</td>\n",
       "      <td>-1.158233</td>\n",
       "      <td>0.877737</td>\n",
       "      <td>1.548718</td>\n",
       "      <td>0.403034</td>\n",
       "      <td>-0.407193</td>\n",
       "      <td>0.095921</td>\n",
       "      <td>0.592941</td>\n",
       "      <td>-0.270533</td>\n",
       "      <td>0.817739</td>\n",
       "      <td>...</td>\n",
       "      <td>-0.009431</td>\n",
       "      <td>0.798278</td>\n",
       "      <td>-0.137458</td>\n",
       "      <td>0.141267</td>\n",
       "      <td>-0.206010</td>\n",
       "      <td>0.502292</td>\n",
       "      <td>0.219422</td>\n",
       "      <td>0.215153</td>\n",
       "      <td>69.99</td>\n",
       "      <td>0</td>\n",
       "    </tr>\n",
       "  </tbody>\n",
       "</table>\n",
       "<p>5 rows × 31 columns</p>\n",
       "</div>"
      ],
      "text/plain": [
       "   Time        V1        V2        V3        V4        V5        V6        V7        V8        V9  \\\n",
       "0     0 -1.359807 -0.072781  2.536347  1.378155 -0.338321  0.462388  0.239599  0.098698  0.363787   \n",
       "1     0  1.191857  0.266151  0.166480  0.448154  0.060018 -0.082361 -0.078803  0.085102 -0.255425   \n",
       "2     1 -1.358354 -1.340163  1.773209  0.379780 -0.503198  1.800499  0.791461  0.247676 -1.514654   \n",
       "3     1 -0.966272 -0.185226  1.792993 -0.863291 -0.010309  1.247203  0.237609  0.377436 -1.387024   \n",
       "4     2 -1.158233  0.877737  1.548718  0.403034 -0.407193  0.095921  0.592941 -0.270533  0.817739   \n",
       "\n",
       "   ...       V21       V22       V23       V24       V25       V26       V27       V28  Amount  \\\n",
       "0  ... -0.018307  0.277838 -0.110474  0.066928  0.128539 -0.189115  0.133558 -0.021053  149.62   \n",
       "1  ... -0.225775 -0.638672  0.101288 -0.339846  0.167170  0.125895 -0.008983  0.014724    2.69   \n",
       "2  ...  0.247998  0.771679  0.909412 -0.689281 -0.327642 -0.139097 -0.055353 -0.059752  378.66   \n",
       "3  ... -0.108300  0.005274 -0.190321 -1.175575  0.647376 -0.221929  0.062723  0.061458  123.50   \n",
       "4  ... -0.009431  0.798278 -0.137458  0.141267 -0.206010  0.502292  0.219422  0.215153   69.99   \n",
       "\n",
       "   Class  \n",
       "0      0  \n",
       "1      0  \n",
       "2      0  \n",
       "3      0  \n",
       "4      0  \n",
       "\n",
       "[5 rows x 31 columns]"
      ]
     },
     "execution_count": 9,
     "metadata": {},
     "output_type": "execute_result"
    }
   ],
   "source": [
    "# peek at data\n",
    "set_option('display.width', 100)\n",
    "dataset.head(5)"
   ]
  },
  {
   "cell_type": "code",
   "execution_count": 10,
   "metadata": {
    "_cell_guid": "f36dd804-0c16-f0c9-05c9-d22b85a79e75"
   },
   "outputs": [
    {
     "data": {
      "text/plain": [
       "Time        int64\n",
       "V1        float64\n",
       "V2        float64\n",
       "V3        float64\n",
       "V4        float64\n",
       "V5        float64\n",
       "V6        float64\n",
       "V7        float64\n",
       "V8        float64\n",
       "V9        float64\n",
       "V10       float64\n",
       "V11       float64\n",
       "V12       float64\n",
       "V13       float64\n",
       "V14       float64\n",
       "V15       float64\n",
       "V16       float64\n",
       "V17       float64\n",
       "V18       float64\n",
       "V19       float64\n",
       "V20       float64\n",
       "V21       float64\n",
       "V22       float64\n",
       "V23       float64\n",
       "V24       float64\n",
       "V25       float64\n",
       "V26       float64\n",
       "V27       float64\n",
       "V28       float64\n",
       "Amount    float64\n",
       "Class       int64\n",
       "dtype: object"
      ]
     },
     "execution_count": 10,
     "metadata": {},
     "output_type": "execute_result"
    }
   ],
   "source": [
    "# types\n",
    "set_option('display.max_rows', 500)\n",
    "dataset.dtypes"
   ]
  },
  {
   "cell_type": "markdown",
   "metadata": {},
   "source": [
    "As shown in the results above, the entire data type is float, except Class which is integer, and the variable names aren't intuitive."
   ]
  },
  {
   "cell_type": "code",
   "execution_count": 11,
   "metadata": {
    "_cell_guid": "7bffeec0-5bbc-fffb-18f2-3da56b862ca3"
   },
   "outputs": [
    {
     "data": {
      "text/html": [
       "<div>\n",
       "<style scoped>\n",
       "    .dataframe tbody tr th:only-of-type {\n",
       "        vertical-align: middle;\n",
       "    }\n",
       "\n",
       "    .dataframe tbody tr th {\n",
       "        vertical-align: top;\n",
       "    }\n",
       "\n",
       "    .dataframe thead th {\n",
       "        text-align: right;\n",
       "    }\n",
       "</style>\n",
       "<table border=\"1\" class=\"dataframe\">\n",
       "  <thead>\n",
       "    <tr style=\"text-align: right;\">\n",
       "      <th></th>\n",
       "      <th>Time</th>\n",
       "      <th>V1</th>\n",
       "      <th>V2</th>\n",
       "      <th>V3</th>\n",
       "      <th>V4</th>\n",
       "      <th>V5</th>\n",
       "      <th>V6</th>\n",
       "      <th>V7</th>\n",
       "      <th>V8</th>\n",
       "      <th>V9</th>\n",
       "      <th>...</th>\n",
       "      <th>V21</th>\n",
       "      <th>V22</th>\n",
       "      <th>V23</th>\n",
       "      <th>V24</th>\n",
       "      <th>V25</th>\n",
       "      <th>V26</th>\n",
       "      <th>V27</th>\n",
       "      <th>V28</th>\n",
       "      <th>Amount</th>\n",
       "      <th>Class</th>\n",
       "    </tr>\n",
       "  </thead>\n",
       "  <tbody>\n",
       "    <tr>\n",
       "      <th>count</th>\n",
       "      <td>99999.000000</td>\n",
       "      <td>99999.000000</td>\n",
       "      <td>99999.000000</td>\n",
       "      <td>99999.000000</td>\n",
       "      <td>99999.000000</td>\n",
       "      <td>99999.000000</td>\n",
       "      <td>99999.000000</td>\n",
       "      <td>99999.000000</td>\n",
       "      <td>99999.000000</td>\n",
       "      <td>99999.000000</td>\n",
       "      <td>...</td>\n",
       "      <td>99999.000000</td>\n",
       "      <td>99999.000000</td>\n",
       "      <td>99999.000000</td>\n",
       "      <td>99999.000000</td>\n",
       "      <td>99999.000000</td>\n",
       "      <td>99999.000000</td>\n",
       "      <td>99999.000000</td>\n",
       "      <td>99999.000000</td>\n",
       "      <td>99999.000000</td>\n",
       "      <td>99999.000000</td>\n",
       "    </tr>\n",
       "    <tr>\n",
       "      <th>mean</th>\n",
       "      <td>42432.982130</td>\n",
       "      <td>-0.262096</td>\n",
       "      <td>-0.032374</td>\n",
       "      <td>0.676251</td>\n",
       "      <td>0.162603</td>\n",
       "      <td>-0.278507</td>\n",
       "      <td>0.094066</td>\n",
       "      <td>-0.108712</td>\n",
       "      <td>0.056009</td>\n",
       "      <td>-0.046529</td>\n",
       "      <td>...</td>\n",
       "      <td>-0.030852</td>\n",
       "      <td>-0.109079</td>\n",
       "      <td>-0.037027</td>\n",
       "      <td>0.008982</td>\n",
       "      <td>0.132193</td>\n",
       "      <td>0.026657</td>\n",
       "      <td>0.000606</td>\n",
       "      <td>0.001730</td>\n",
       "      <td>97.962094</td>\n",
       "      <td>0.002230</td>\n",
       "    </tr>\n",
       "    <tr>\n",
       "      <th>std</th>\n",
       "      <td>17044.825093</td>\n",
       "      <td>1.859057</td>\n",
       "      <td>1.656854</td>\n",
       "      <td>1.322888</td>\n",
       "      <td>1.349249</td>\n",
       "      <td>1.356376</td>\n",
       "      <td>1.301356</td>\n",
       "      <td>1.210925</td>\n",
       "      <td>1.207528</td>\n",
       "      <td>1.121255</td>\n",
       "      <td>...</td>\n",
       "      <td>0.718882</td>\n",
       "      <td>0.634301</td>\n",
       "      <td>0.632911</td>\n",
       "      <td>0.595255</td>\n",
       "      <td>0.441065</td>\n",
       "      <td>0.494541</td>\n",
       "      <td>0.393700</td>\n",
       "      <td>0.325159</td>\n",
       "      <td>264.624210</td>\n",
       "      <td>0.047171</td>\n",
       "    </tr>\n",
       "    <tr>\n",
       "      <th>min</th>\n",
       "      <td>0.000000</td>\n",
       "      <td>-56.407510</td>\n",
       "      <td>-72.715728</td>\n",
       "      <td>-33.680984</td>\n",
       "      <td>-5.172595</td>\n",
       "      <td>-42.147898</td>\n",
       "      <td>-26.160506</td>\n",
       "      <td>-31.764946</td>\n",
       "      <td>-73.216718</td>\n",
       "      <td>-9.283925</td>\n",
       "      <td>...</td>\n",
       "      <td>-34.830382</td>\n",
       "      <td>-10.933144</td>\n",
       "      <td>-44.807735</td>\n",
       "      <td>-2.836627</td>\n",
       "      <td>-10.295397</td>\n",
       "      <td>-2.534330</td>\n",
       "      <td>-9.390980</td>\n",
       "      <td>-9.617915</td>\n",
       "      <td>0.000000</td>\n",
       "      <td>0.000000</td>\n",
       "    </tr>\n",
       "    <tr>\n",
       "      <th>25%</th>\n",
       "      <td>33471.500000</td>\n",
       "      <td>-1.028101</td>\n",
       "      <td>-0.598711</td>\n",
       "      <td>0.176781</td>\n",
       "      <td>-0.711442</td>\n",
       "      <td>-0.898645</td>\n",
       "      <td>-0.647870</td>\n",
       "      <td>-0.600209</td>\n",
       "      <td>-0.137457</td>\n",
       "      <td>-0.698812</td>\n",
       "      <td>...</td>\n",
       "      <td>-0.224509</td>\n",
       "      <td>-0.531305</td>\n",
       "      <td>-0.176416</td>\n",
       "      <td>-0.323712</td>\n",
       "      <td>-0.131794</td>\n",
       "      <td>-0.325102</td>\n",
       "      <td>-0.062534</td>\n",
       "      <td>-0.005355</td>\n",
       "      <td>7.570000</td>\n",
       "      <td>0.000000</td>\n",
       "    </tr>\n",
       "    <tr>\n",
       "      <th>50%</th>\n",
       "      <td>44299.000000</td>\n",
       "      <td>-0.260556</td>\n",
       "      <td>0.078315</td>\n",
       "      <td>0.753991</td>\n",
       "      <td>0.192567</td>\n",
       "      <td>-0.314370</td>\n",
       "      <td>-0.157022</td>\n",
       "      <td>-0.069107</td>\n",
       "      <td>0.074130</td>\n",
       "      <td>-0.119105</td>\n",
       "      <td>...</td>\n",
       "      <td>-0.057669</td>\n",
       "      <td>-0.083855</td>\n",
       "      <td>-0.049239</td>\n",
       "      <td>0.064999</td>\n",
       "      <td>0.170104</td>\n",
       "      <td>-0.070347</td>\n",
       "      <td>0.009832</td>\n",
       "      <td>0.023318</td>\n",
       "      <td>26.310000</td>\n",
       "      <td>0.000000</td>\n",
       "    </tr>\n",
       "    <tr>\n",
       "      <th>75%</th>\n",
       "      <td>55851.000000</td>\n",
       "      <td>1.153327</td>\n",
       "      <td>0.735736</td>\n",
       "      <td>1.376333</td>\n",
       "      <td>1.032416</td>\n",
       "      <td>0.249733</td>\n",
       "      <td>0.486356</td>\n",
       "      <td>0.414667</td>\n",
       "      <td>0.360506</td>\n",
       "      <td>0.558226</td>\n",
       "      <td>...</td>\n",
       "      <td>0.119190</td>\n",
       "      <td>0.308337</td>\n",
       "      <td>0.081522</td>\n",
       "      <td>0.406281</td>\n",
       "      <td>0.419906</td>\n",
       "      <td>0.300683</td>\n",
       "      <td>0.083025</td>\n",
       "      <td>0.076568</td>\n",
       "      <td>89.000000</td>\n",
       "      <td>0.000000</td>\n",
       "    </tr>\n",
       "    <tr>\n",
       "      <th>max</th>\n",
       "      <td>67374.000000</td>\n",
       "      <td>1.960497</td>\n",
       "      <td>18.902453</td>\n",
       "      <td>4.226108</td>\n",
       "      <td>16.715537</td>\n",
       "      <td>34.801666</td>\n",
       "      <td>22.529298</td>\n",
       "      <td>36.677268</td>\n",
       "      <td>20.007208</td>\n",
       "      <td>10.392889</td>\n",
       "      <td>...</td>\n",
       "      <td>22.614889</td>\n",
       "      <td>10.503090</td>\n",
       "      <td>19.002942</td>\n",
       "      <td>4.014444</td>\n",
       "      <td>5.541598</td>\n",
       "      <td>3.517346</td>\n",
       "      <td>12.152401</td>\n",
       "      <td>33.847808</td>\n",
       "      <td>19656.530000</td>\n",
       "      <td>1.000000</td>\n",
       "    </tr>\n",
       "  </tbody>\n",
       "</table>\n",
       "<p>8 rows × 31 columns</p>\n",
       "</div>"
      ],
      "text/plain": [
       "               Time            V1            V2            V3            V4            V5  \\\n",
       "count  99999.000000  99999.000000  99999.000000  99999.000000  99999.000000  99999.000000   \n",
       "mean   42432.982130     -0.262096     -0.032374      0.676251      0.162603     -0.278507   \n",
       "std    17044.825093      1.859057      1.656854      1.322888      1.349249      1.356376   \n",
       "min        0.000000    -56.407510    -72.715728    -33.680984     -5.172595    -42.147898   \n",
       "25%    33471.500000     -1.028101     -0.598711      0.176781     -0.711442     -0.898645   \n",
       "50%    44299.000000     -0.260556      0.078315      0.753991      0.192567     -0.314370   \n",
       "75%    55851.000000      1.153327      0.735736      1.376333      1.032416      0.249733   \n",
       "max    67374.000000      1.960497     18.902453      4.226108     16.715537     34.801666   \n",
       "\n",
       "                 V6            V7            V8            V9  ...           V21           V22  \\\n",
       "count  99999.000000  99999.000000  99999.000000  99999.000000  ...  99999.000000  99999.000000   \n",
       "mean       0.094066     -0.108712      0.056009     -0.046529  ...     -0.030852     -0.109079   \n",
       "std        1.301356      1.210925      1.207528      1.121255  ...      0.718882      0.634301   \n",
       "min      -26.160506    -31.764946    -73.216718     -9.283925  ...    -34.830382    -10.933144   \n",
       "25%       -0.647870     -0.600209     -0.137457     -0.698812  ...     -0.224509     -0.531305   \n",
       "50%       -0.157022     -0.069107      0.074130     -0.119105  ...     -0.057669     -0.083855   \n",
       "75%        0.486356      0.414667      0.360506      0.558226  ...      0.119190      0.308337   \n",
       "max       22.529298     36.677268     20.007208     10.392889  ...     22.614889     10.503090   \n",
       "\n",
       "                V23           V24           V25           V26           V27           V28  \\\n",
       "count  99999.000000  99999.000000  99999.000000  99999.000000  99999.000000  99999.000000   \n",
       "mean      -0.037027      0.008982      0.132193      0.026657      0.000606      0.001730   \n",
       "std        0.632911      0.595255      0.441065      0.494541      0.393700      0.325159   \n",
       "min      -44.807735     -2.836627    -10.295397     -2.534330     -9.390980     -9.617915   \n",
       "25%       -0.176416     -0.323712     -0.131794     -0.325102     -0.062534     -0.005355   \n",
       "50%       -0.049239      0.064999      0.170104     -0.070347      0.009832      0.023318   \n",
       "75%        0.081522      0.406281      0.419906      0.300683      0.083025      0.076568   \n",
       "max       19.002942      4.014444      5.541598      3.517346     12.152401     33.847808   \n",
       "\n",
       "             Amount         Class  \n",
       "count  99999.000000  99999.000000  \n",
       "mean      97.962094      0.002230  \n",
       "std      264.624210      0.047171  \n",
       "min        0.000000      0.000000  \n",
       "25%        7.570000      0.000000  \n",
       "50%       26.310000      0.000000  \n",
       "75%       89.000000      0.000000  \n",
       "max    19656.530000      1.000000  \n",
       "\n",
       "[8 rows x 31 columns]"
      ]
     },
     "execution_count": 11,
     "metadata": {},
     "output_type": "execute_result"
    }
   ],
   "source": [
    "# describe data\n",
    "dataset.describe()"
   ]
  },
  {
   "cell_type": "markdown",
   "metadata": {},
   "source": [
    "Let us check the number of fraud vs. non-fraud cases in the data set."
   ]
  },
  {
   "cell_type": "code",
   "execution_count": 12,
   "metadata": {},
   "outputs": [
    {
     "name": "stdout",
     "output_type": "stream",
     "text": [
      "Not Fraud    99776\n",
      "Fraud          223\n",
      "Name: Class, dtype: int64\n"
     ]
    }
   ],
   "source": [
    "class_names = {0:'Not Fraud', 1:'Fraud'}\n",
    "print(dataset.Class.value_counts().rename(index = class_names))"
   ]
  },
  {
   "cell_type": "markdown",
   "metadata": {},
   "source": [
    "The dataset is unbalanced with most of the transactions being non-fraud."
   ]
  },
  {
   "cell_type": "markdown",
   "metadata": {},
   "source": [
    "<a id='2.2'></a>\n",
    "## 3.2. Data Visualization"
   ]
  },
  {
   "cell_type": "code",
   "execution_count": 13,
   "metadata": {},
   "outputs": [
    {
     "data": {
      "image/png": "[encoded data removed]",
      "text/plain": [
       "<Figure size 1200x1200 with 36 Axes>"
      ]
     },
     "metadata": {},
     "output_type": "display_data"
    }
   ],
   "source": [
    "# histograms\n",
    "dataset.hist(sharex=False, sharey=False, xlabelsize=1, ylabelsize=1, figsize=(12,12))\n",
    "pyplot.show()"
   ]
  },
  {
   "cell_type": "markdown",
   "metadata": {},
   "source": [
    "<a id='2.3'></a>\n",
    "## 3.3. Feature Importance"
   ]
  },
  {
   "cell_type": "code",
   "execution_count": 14,
   "metadata": {},
   "outputs": [
    {
     "name": "stdout",
     "output_type": "stream",
     "text": [
      "   Specs         Score\n",
      "17   V17  20657.815089\n",
      "14   V14  16227.609484\n",
      "3     V3  10383.968697\n",
      "12   V12   9644.179908\n",
      "10   V10   7909.706201\n",
      "16   V16   6829.652688\n",
      "7     V7   6157.563975\n",
      "11   V11   3567.597482\n",
      "4     V4   2840.799746\n",
      "18   V18   2632.036670\n"
     ]
    }
   ],
   "source": [
    "# find best 10 features\n",
    "bestfeatures = SelectKBest( k=10)\n",
    "bestfeatures\n",
    "Y= dataset[\"Class\"]\n",
    "X = dataset.loc[:, dataset.columns != 'Class']\n",
    "fit = bestfeatures.fit(X,Y)\n",
    "dfscores = pd.DataFrame(fit.scores_)\n",
    "dfcolumns = pd.DataFrame(X.columns)\n",
    "#concat two dataframes for better visualization \n",
    "featureScores = pd.concat([dfcolumns,dfscores],axis=1)\n",
    "featureScores.columns = ['Specs','Score']  #naming the dataframe columns\n",
    "print(featureScores.nlargest(10,'Score'))  #print 10 best features"
   ]
  },
  {
   "cell_type": "markdown",
   "metadata": {},
   "source": [
    "Distribution of most of the variables are highly skewed. However, given the variable names aren't known, we don't get much intuition from the plot."
   ]
  },
  {
   "cell_type": "code",
   "execution_count": 15,
   "metadata": {},
   "outputs": [],
   "source": [
    "def plot_feature(df, feature, outcome='target'):\n",
    "  fig, (ax1, ax2) = plt.subplots(1, 2, figsize=(12,6))\n",
    "  df.hist(feature, ax=ax1)\n",
    "  ax1.set_xlabel(feature)\n",
    "  ax1.set_title(f'Histogram for {feature}')\n",
    "  df.boxplot(feature, by=outcome, ax=ax2)\n",
    "  ax2.set_ylabel(feature)\n",
    "  ax2.set_title(f'{feature} grouped by Target')\n",
    "  plt.show();"
   ]
  },
  {
   "cell_type": "markdown",
   "metadata": {},
   "source": [
    "#### Plot distribution of top 3 features"
   ]
  },
  {
   "cell_type": "code",
   "execution_count": 16,
   "metadata": {},
   "outputs": [
    {
     "data": {
      "image/png": "[encoded data removed]",
      "text/plain": [
       "<Figure size 1200x600 with 2 Axes>"
      ]
     },
     "metadata": {},
     "output_type": "display_data"
    }
   ],
   "source": [
    "plot_feature(dataset, 'V17', outcome='Class')"
   ]
  },
  {
   "cell_type": "code",
   "execution_count": 17,
   "metadata": {},
   "outputs": [
    {
     "data": {
      "image/png": "[encoded data removed]",
      "text/plain": [
       "<Figure size 1200x600 with 2 Axes>"
      ]
     },
     "metadata": {},
     "output_type": "display_data"
    }
   ],
   "source": [
    "plot_feature(dataset, 'V14', outcome='Class')"
   ]
  },
  {
   "cell_type": "code",
   "execution_count": 18,
   "metadata": {},
   "outputs": [
    {
     "data": {
      "image/png": "[encoded data removed]",
      "text/plain": [
       "<Figure size 1200x600 with 2 Axes>"
      ]
     },
     "metadata": {},
     "output_type": "display_data"
    }
   ],
   "source": [
    "plot_feature(dataset, 'V3', outcome='Class')"
   ]
  },
  {
   "cell_type": "markdown",
   "metadata": {},
   "source": [
    "<a id='3'></a>\n",
    "## 4. Data Preparation"
   ]
  },
  {
   "cell_type": "markdown",
   "metadata": {},
   "source": [
    "<a id='3.1'></a>\n",
    "## 4.1. Data Cleaning"
   ]
  },
  {
   "cell_type": "code",
   "execution_count": 19,
   "metadata": {},
   "outputs": [
    {
     "name": "stdout",
     "output_type": "stream",
     "text": [
      "Null Values = False\n"
     ]
    }
   ],
   "source": [
    "#Checking for any null values and removing the null values'''\n",
    "print('Null Values =',dataset.isnull().values.any())"
   ]
  },
  {
   "cell_type": "markdown",
   "metadata": {},
   "source": [
    "There is no null in the data, and the data is already in the float format, so there is no need to clean or categorise the data"
   ]
  },
  {
   "cell_type": "markdown",
   "metadata": {},
   "source": [
    "<a id='4'></a>\n",
    "# 5. Evaluate Algorithms and Models"
   ]
  },
  {
   "cell_type": "markdown",
   "metadata": {},
   "source": [
    "<a id='4.1'></a>\n",
    "## 5.1. Train Test Split and Evaluation Metrics"
   ]
  },
  {
   "cell_type": "markdown",
   "metadata": {},
   "source": [
    "use f1 as it weights false-negative false-positives equally"
   ]
  },
  {
   "cell_type": "code",
   "execution_count": 20,
   "metadata": {},
   "outputs": [],
   "source": [
    "# split out validation dataset for the end\n",
    "Y= dataset[\"Class\"]\n",
    "X = dataset.loc[:, dataset.columns != 'Class']\n",
    "validation_size = 0.2\n",
    "seed = 7\n",
    "X_train, X_validation, Y_train, Y_validation = train_test_split(X, Y, test_size=validation_size, random_state=seed)\n",
    "scoring = 'recall' # 'f1_macro'"
   ]
  },
  {
   "cell_type": "markdown",
   "metadata": {},
   "source": [
    "<a id='4.2'></a>\n",
    "## 5.2 Weighted cost sensitive learning"
   ]
  },
  {
   "cell_type": "markdown",
   "metadata": {},
   "source": [
    "Applies cost sensitive learning as part of the algorithm.\n",
    "\n",
    "Instead of changing the distribution of data (ie. down or upsampling) we can adjust the cost of making mistakes.\n",
    "By adjusting the minority class in a cost-sensitive manner, we obtain a comparable reweighting.\n",
    "\n",
    "Directly set weights of minority class\n",
    "- There is a limit here.\n",
    "    - We put the weights on minority observations in the training dataset.\n",
    "    - That may not always generalize to the test dataset."
   ]
  },
  {
   "cell_type": "code",
   "execution_count": 21,
   "metadata": {},
   "outputs": [
    {
     "name": "stdout",
     "output_type": "stream",
     "text": [
      "ratio : 369\n"
     ]
    }
   ],
   "source": [
    "ratio = (len(Y_validation) - sum(Y_validation)) // sum(Y_validation)\n",
    "print(f'ratio : {ratio}')"
   ]
  },
  {
   "cell_type": "code",
   "execution_count": 22,
   "metadata": {},
   "outputs": [],
   "source": [
    "# weights for RandomForestClassifier\n",
    "weights = {0:1,\n",
    "           1:10 * ratio}"
   ]
  },
  {
   "cell_type": "code",
   "execution_count": 23,
   "metadata": {},
   "outputs": [],
   "source": [
    "# test options for classification\n",
    "num_folds = 5\n",
    "seed = 7"
   ]
  },
  {
   "cell_type": "code",
   "execution_count": 24,
   "metadata": {},
   "outputs": [],
   "source": [
    "# spot check some basic Classification algorithms\n",
    "#Given Data is huge, some of the slower classification algorithms are commented\n",
    "models = []\n",
    "# models.append(('LR', LogisticRegression()))\n",
    "# models.append(('LDA', LinearDiscriminantAnalysis()))\n",
    "# models.append(('KNN', KNeighborsClassifier()))\n",
    "# models.append(('CART', DecisionTreeClassifier()))\n",
    "# models.append(('NB', GaussianNB()))\n",
    "# models.append(('SVM', SVC()))\n",
    "# # Neural Network\n",
    "# models.append(('NN', MLPClassifier()))\n",
    "# #Ensemble Models \n",
    "# Boosting methods\n",
    "# models.append(('AB', AdaBoostClassifier()))\n",
    "# models.append(('GBM', GradientBoostingClassifier())) # n.b. slow\n",
    "# models.append(('lightgbm', LGBMClassifier()))\n",
    "models.append(('xgb', XGBClassifier()))\n",
    "models.append(('weightedxgb', XGBClassifier(scale_pos_weight=ratio)))\n",
    "# models.append(('catboost', CatBoostClassifier(verbose=False)))\n",
    "# # Bagging methods\n",
    "models.append(('RF', RandomForestClassifier())) # n.b. slow\n",
    "models.append(('weightedRF', RandomForestClassifier(class_weight=weights))) # n.b. slow\n",
    "# models.append(('ET', ExtraTreesClassifier()))"
   ]
  },
  {
   "cell_type": "code",
   "execution_count": null,
   "metadata": {},
   "outputs": [
    {
     "name": "stdout",
     "output_type": "stream",
     "text": [
      "xgb: 0.828164 mean (0.024057 std)\n",
      "weightedxgb: 0.834046 mean (0.025741 std)\n"
     ]
    }
   ],
   "source": [
    "results = []\n",
    "names = []\n",
    "for name, model in models:\n",
    "    kfold = StratifiedKFold(n_splits=num_folds, shuffle=True, random_state=seed)\n",
    "    cv_results = cross_val_score(model, X_train, Y_train, cv=kfold, scoring=scoring)\n",
    "    results.append(cv_results)\n",
    "    names.append(name)\n",
    "    msg = \"%s: %f mean (%f std)\" % (name, cv_results.mean(), cv_results.std())\n",
    "    print(msg)"
   ]
  },
  {
   "cell_type": "code",
   "execution_count": null,
   "metadata": {},
   "outputs": [],
   "source": [
    "# compare algorithms\n",
    "fig = pyplot.figure()\n",
    "fig.suptitle('Algorithm Comparison - recall')\n",
    "ax = fig.add_subplot(111)\n",
    "pyplot.boxplot(results)\n",
    "ax.set_xticklabels(names)\n",
    "fig.set_size_inches(8,4)\n",
    "pyplot.show()"
   ]
  },
  {
   "cell_type": "markdown",
   "metadata": {},
   "source": [
    "Weighting increases recall for xgb, but decreases recall when weighting applied to rf."
   ]
  },
  {
   "cell_type": "markdown",
   "metadata": {},
   "source": [
    "### 5.1.1 Check models"
   ]
  },
  {
   "cell_type": "markdown",
   "metadata": {},
   "source": [
    "#### xgb"
   ]
  },
  {
   "cell_type": "code",
   "execution_count": null,
   "metadata": {},
   "outputs": [],
   "source": [
    "xgb_model = XGBClassifier()\n",
    "xgb_model.fit(X_train, Y_train)\n",
    "xgb_predictions = xgb_model.predict(X_validation)"
   ]
  },
  {
   "cell_type": "code",
   "execution_count": null,
   "metadata": {},
   "outputs": [],
   "source": [
    "xgb_df = pd.DataFrame(classification_report(Y_validation, xgb_predictions, output_dict=True)).T\n",
    "xgb_df"
   ]
  },
  {
   "cell_type": "code",
   "execution_count": null,
   "metadata": {},
   "outputs": [],
   "source": [
    "df_cm = pd.DataFrame(confusion_matrix(Y_validation, xgb_predictions), columns=np.unique(Y_validation), index = np.unique(Y_validation))\n",
    "df_cm.index.name = 'Actual'\n",
    "df_cm.columns.name = 'Predicted'\n",
    "sns.heatmap(df_cm, cmap=\"Blues\", annot=True,annot_kws={\"size\": 16})# font size\n",
    "plt.show()"
   ]
  },
  {
   "cell_type": "markdown",
   "metadata": {},
   "source": [
    "#### weighted xgb"
   ]
  },
  {
   "cell_type": "code",
   "execution_count": null,
   "metadata": {},
   "outputs": [],
   "source": [
    "wxgb_model = XGBClassifier(scale_pos_weight=ratio)\n",
    "wxgb_model.fit(X_train, Y_train)\n",
    "wxgb_predictions = wxgb_model.predict(X_validation)"
   ]
  },
  {
   "cell_type": "code",
   "execution_count": null,
   "metadata": {},
   "outputs": [],
   "source": [
    "wxgb_df = pd.DataFrame(classification_report(Y_validation, wxgb_predictions, output_dict=True)).T\n",
    "wxgb_df"
   ]
  },
  {
   "cell_type": "code",
   "execution_count": null,
   "metadata": {},
   "outputs": [],
   "source": [
    "df_cm = pd.DataFrame(confusion_matrix(Y_validation, wxgb_predictions), columns=np.unique(Y_validation), index = np.unique(Y_validation))\n",
    "df_cm.index.name = 'Actual'\n",
    "df_cm.columns.name = 'Predicted'\n",
    "sns.heatmap(df_cm, cmap=\"Blues\", annot=True,annot_kws={\"size\": 16})# font size\n",
    "plt.show()"
   ]
  },
  {
   "cell_type": "markdown",
   "metadata": {},
   "source": [
    "<a id='4.3'></a>\n",
    "## 5.3. Imbalanced xgboost"
   ]
  },
  {
   "cell_type": "markdown",
   "metadata": {},
   "source": [
    "See: https://medium.com/visionwizard/understanding-focal-loss-a-quick-read-b914422913e7<br>\n",
    "also: https://pypi.org/project/imbalance-xgboost/"
   ]
  },
  {
   "cell_type": "code",
   "execution_count": null,
   "metadata": {},
   "outputs": [],
   "source": [
    "X_train_matrix = X_train.to_numpy()\n",
    "Y_train_matrix = Y_train.to_numpy()\n",
    "X_validation_matrix = X_validation.to_numpy()\n",
    "Y_validation_matrix = Y_validation.to_numpy()"
   ]
  },
  {
   "cell_type": "code",
   "execution_count": null,
   "metadata": {},
   "outputs": [],
   "source": [
    "xgboster_focal = imb_xgb(special_objective='focal')\n",
    "cv_focal_booster = GridSearchCV(xgboster_focal, {\"focal_gamma\":[1.0,1.5,2.0,2.5,3.0]})\n",
    "cv_focal_booster"
   ]
  },
  {
   "cell_type": "code",
   "execution_count": null,
   "metadata": {},
   "outputs": [],
   "source": [
    "cv_focal_booster.fit(X_train_matrix, Y_train_matrix)\n",
    "best = cv_focal_booster.best_estimator_\n",
    "print(f'Best Gamma {cv_focal_booster}')"
   ]
  },
  {
   "cell_type": "code",
   "execution_count": null,
   "metadata": {},
   "outputs": [],
   "source": [
    "imxgb_predictions = best.predict_determine(X_validation_matrix, y=None)"
   ]
  },
  {
   "cell_type": "code",
   "execution_count": null,
   "metadata": {},
   "outputs": [],
   "source": [
    "imxgb_df = pd.DataFrame(classification_report(Y_validation_matrix, imxgb_predictions, output_dict=True)).T\n",
    "imxgb_df"
   ]
  },
  {
   "cell_type": "code",
   "execution_count": null,
   "metadata": {},
   "outputs": [],
   "source": [
    "imxgbdf_cm = pd.DataFrame(confusion_matrix(Y_validation_matrix, imxgb_predictions), columns=np.unique(Y_validation), index = np.unique(Y_validation))\n",
    "imxgbdf_cm.index.name = 'Actual'\n",
    "imxgbdf_cm.columns.name = 'Predicted'\n",
    "sns.heatmap(imxgbdf_cm, cmap=\"Blues\", annot=True,annot_kws={\"size\": 16})# font size\n",
    "plt.show()"
   ]
  },
  {
   "cell_type": "markdown",
   "metadata": {},
   "source": [
    "__Conclusion__:\n",
    "\n",
    "Weighted xgboost performed the best."
   ]
  },
  {
   "cell_type": "code",
   "execution_count": null,
   "metadata": {},
   "outputs": [],
   "source": []
  },
  {
   "cell_type": "code",
   "execution_count": null,
   "metadata": {},
   "outputs": [],
   "source": []
  }
 ],
 "metadata": {
  "_change_revision": 206,
  "_is_fork": false,
  "kernelspec": {
   "display_name": "py38",
   "language": "python",
   "name": "py38"
  },
  "language_info": {
   "codemirror_mode": {
    "name": "ipython",
    "version": 3
   },
   "file_extension": ".py",
   "mimetype": "text/x-python",
   "name": "python",
   "nbconvert_exporter": "python",
   "pygments_lexer": "ipython3",
   "version": "3.8.13"
  }
 },
 "nbformat": 4,
 "nbformat_minor": 4
}
